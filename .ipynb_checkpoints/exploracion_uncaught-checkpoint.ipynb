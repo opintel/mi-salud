{
 "cells": [
  {
   "cell_type": "code",
   "execution_count": 2,
   "metadata": {
    "collapsed": true
   },
   "outputs": [],
   "source": [
    "import pandas as pd"
   ]
  },
  {
   "cell_type": "code",
   "execution_count": 3,
   "metadata": {},
   "outputs": [],
   "source": [
    "respuestas=pd.read_excel('/Users/pepe_opi/Downloads/mi_salud/results_export_964.xlsx')"
   ]
  },
  {
   "cell_type": "code",
   "execution_count": 4,
   "metadata": {},
   "outputs": [
    {
     "data": {
      "text/plain": [
       "Index(['Contact UUID', 'URN', 'Name', 'Groups',\n",
       "       'Response 9 (Category) - uncaught', 'Response 9 (Value) - uncaught',\n",
       "       'Response 9 (Text) - uncaught', 'Response 8 (Category) - uncaught',\n",
       "       'Response 8 (Value) - uncaught', 'Response 8 (Text) - uncaught',\n",
       "       'Response 10 (Category) - uncaught', 'Response 10 (Value) - uncaught',\n",
       "       'Response 10 (Text) - uncaught', 'Response 9 (Category) - uncaught.1',\n",
       "       'Response 9 (Value) - uncaught.1', 'Response 9 (Text) - uncaught.1',\n",
       "       'Response 11 (Category) - uncaught', 'Response 11 (Value) - uncaught',\n",
       "       'Response 11 (Text) - uncaught', 'Response 10 (Category) - uncaught.1',\n",
       "       'Response 10 (Value) - uncaught.1', 'Response 10 (Text) - uncaught.1',\n",
       "       'menu (Category) - uncaught', 'menu (Value) - uncaught',\n",
       "       'menu (Text) - uncaught', 'Response 11 (Category) - uncaught.1',\n",
       "       'Response 11 (Value) - uncaught.1', 'Response 11 (Text) - uncaught.1',\n",
       "       'respuesta_pregs (Category) - uncaught',\n",
       "       'respuesta_pregs (Value) - uncaught',\n",
       "       'respuesta_pregs (Text) - uncaught', 'menu_pd (Category) - uncaught',\n",
       "       'menu_pd (Value) - uncaught', 'menu_pd (Text) - uncaught',\n",
       "       'Response 12 (Category) - uncaught', 'Response 12 (Value) - uncaught',\n",
       "       'Response 12 (Text) - uncaught'],\n",
       "      dtype='object')"
      ]
     },
     "execution_count": 4,
     "metadata": {},
     "output_type": "execute_result"
    }
   ],
   "source": [
    "respuestas.columns\n"
   ]
  },
  {
   "cell_type": "code",
   "execution_count": 5,
   "metadata": {
    "collapsed": true
   },
   "outputs": [],
   "source": [
    "respuestas=respuestas[['Contact UUID', 'URN', 'Name', 'Groups',\n",
    "       'Response 9 (Category) - uncaught', 'Response 9 (Value) - uncaught',\n",
    "       'Response 9 (Text) - uncaught']]\n",
    "\n",
    "respuestas.columns=['id_contacto', 'urn', 'nombre', 'listas', 'uncaught_resp_9_cat',\n",
    "                    'uncaught_resp_9_val', 'uncaught_resp_9_text']"
   ]
  },
  {
   "cell_type": "code",
   "execution_count": 6,
   "metadata": {},
   "outputs": [
    {
     "data": {
      "text/html": [
       "<div>\n",
       "<style>\n",
       "    .dataframe thead tr:only-child th {\n",
       "        text-align: right;\n",
       "    }\n",
       "\n",
       "    .dataframe thead th {\n",
       "        text-align: left;\n",
       "    }\n",
       "\n",
       "    .dataframe tbody tr th {\n",
       "        vertical-align: top;\n",
       "    }\n",
       "</style>\n",
       "<table border=\"1\" class=\"dataframe\">\n",
       "  <thead>\n",
       "    <tr style=\"text-align: right;\">\n",
       "      <th></th>\n",
       "      <th>id_contacto</th>\n",
       "      <th>urn</th>\n",
       "      <th>nombre</th>\n",
       "      <th>listas</th>\n",
       "      <th>uncaught_resp_9_cat</th>\n",
       "      <th>uncaught_resp_9_val</th>\n",
       "      <th>uncaught_resp_9_text</th>\n",
       "    </tr>\n",
       "  </thead>\n",
       "  <tbody>\n",
       "    <tr>\n",
       "      <th>0</th>\n",
       "      <td>3bf0c4bb-d5db-4e0d-ab29-98a7ee6b2b6a</td>\n",
       "      <td>1104797289620477</td>\n",
       "      <td>NaN</td>\n",
       "      <td>ALL, PUERPERIUM, PUERPERIUM_MS, PUERPERIUM_MS_...</td>\n",
       "      <td>NaN</td>\n",
       "      <td>NaN</td>\n",
       "      <td>NaN</td>\n",
       "    </tr>\n",
       "    <tr>\n",
       "      <th>1</th>\n",
       "      <td>e7e51622-a160-4bb4-9b7d-785c0c2bfbc7</td>\n",
       "      <td>20999</td>\n",
       "      <td>NaN</td>\n",
       "      <td>NaN</td>\n",
       "      <td>Other</td>\n",
       "      <td>La solicitud de enviar el SMS por Cobrar a 552...</td>\n",
       "      <td>La solicitud de enviar el SMS por Cobrar a 552...</td>\n",
       "    </tr>\n",
       "    <tr>\n",
       "      <th>2</th>\n",
       "      <td>7ea8e04b-e8d0-4628-bf35-350a784d5e2f</td>\n",
       "      <td>+525559652925</td>\n",
       "      <td>pedro vallejo</td>\n",
       "      <td>ALL, ALTOPD</td>\n",
       "      <td>Emoji</td>\n",
       "      <td>🙅</td>\n",
       "      <td>🙅</td>\n",
       "    </tr>\n",
       "    <tr>\n",
       "      <th>3</th>\n",
       "      <td>3059e012-6fd3-445d-8da4-5fc36d45f8dc</td>\n",
       "      <td>1326847360726593</td>\n",
       "      <td>NaN</td>\n",
       "      <td>ALTOPD</td>\n",
       "      <td>NaN</td>\n",
       "      <td>NaN</td>\n",
       "      <td>NaN</td>\n",
       "    </tr>\n",
       "    <tr>\n",
       "      <th>4</th>\n",
       "      <td>42bf4e3f-a396-4eb7-a987-b76cba779e92</td>\n",
       "      <td>+527711780721</td>\n",
       "      <td>Rosy</td>\n",
       "      <td>ALL, ALTOPD</td>\n",
       "      <td>Other</td>\n",
       "      <td>Hola gordo</td>\n",
       "      <td>Hola gordo</td>\n",
       "    </tr>\n",
       "  </tbody>\n",
       "</table>\n",
       "</div>"
      ],
      "text/plain": [
       "                            id_contacto               urn         nombre  \\\n",
       "0  3bf0c4bb-d5db-4e0d-ab29-98a7ee6b2b6a  1104797289620477            NaN   \n",
       "1  e7e51622-a160-4bb4-9b7d-785c0c2bfbc7             20999            NaN   \n",
       "2  7ea8e04b-e8d0-4628-bf35-350a784d5e2f     +525559652925  pedro vallejo   \n",
       "3  3059e012-6fd3-445d-8da4-5fc36d45f8dc  1326847360726593            NaN   \n",
       "4  42bf4e3f-a396-4eb7-a987-b76cba779e92     +527711780721           Rosy   \n",
       "\n",
       "                                              listas uncaught_resp_9_cat  \\\n",
       "0  ALL, PUERPERIUM, PUERPERIUM_MS, PUERPERIUM_MS_...                 NaN   \n",
       "1                                                NaN               Other   \n",
       "2                                        ALL, ALTOPD               Emoji   \n",
       "3                                             ALTOPD                 NaN   \n",
       "4                                        ALL, ALTOPD               Other   \n",
       "\n",
       "                                 uncaught_resp_9_val  \\\n",
       "0                                                NaN   \n",
       "1  La solicitud de enviar el SMS por Cobrar a 552...   \n",
       "2                                                  🙅   \n",
       "3                                                NaN   \n",
       "4                                         Hola gordo   \n",
       "\n",
       "                                uncaught_resp_9_text  \n",
       "0                                                NaN  \n",
       "1  La solicitud de enviar el SMS por Cobrar a 552...  \n",
       "2                                                  🙅  \n",
       "3                                                NaN  \n",
       "4                                         Hola gordo  "
      ]
     },
     "execution_count": 6,
     "metadata": {},
     "output_type": "execute_result"
    }
   ],
   "source": [
    "respuestas.head()"
   ]
  },
  {
   "cell_type": "code",
   "execution_count": 7,
   "metadata": {},
   "outputs": [
    {
     "data": {
      "text/plain": [
       "Other            954\n",
       "Like-fb          452\n",
       "si               312\n",
       "Claro            226\n",
       "no               153\n",
       "gracias          136\n",
       "Ok                98\n",
       "Emoji             56\n",
       "Buenas noches     39\n",
       "Gracias           35\n",
       "Hasta luego        6\n",
       "Twitter image      5\n",
       "ok                 1\n",
       "Name: uncaught_resp_9_cat, dtype: int64"
      ]
     },
     "execution_count": 7,
     "metadata": {},
     "output_type": "execute_result"
    }
   ],
   "source": [
    "respuestas['uncaught_resp_9_cat'].value_counts()"
   ]
  },
  {
   "cell_type": "code",
   "execution_count": 8,
   "metadata": {},
   "outputs": [
    {
     "data": {
      "text/plain": [
       "https://t.co/rbsa5QOafg     1\n",
       "https://t.co/Waly9IfMui     1\n",
       "https://t.co/HouKMudLQc     1\n",
       "https://t.co/az6m6XXjoL     1\n",
       " https://t.co/8kYuMPNM3V    1\n",
       "Name: uncaught_resp_9_text, dtype: int64"
      ]
     },
     "execution_count": 8,
     "metadata": {},
     "output_type": "execute_result"
    }
   ],
   "source": [
    "respuestas.loc[respuestas['uncaught_resp_9_cat']=='Twitter image', 'uncaught_resp_9_text'].value_counts()"
   ]
  },
  {
   "cell_type": "code",
   "execution_count": 9,
   "metadata": {},
   "outputs": [
    {
     "data": {
      "text/plain": [
       "Buenas noches    23\n",
       "buenas noches    15\n",
       "Buenas Noches     1\n",
       "Name: uncaught_resp_9_val, dtype: int64"
      ]
     },
     "execution_count": 9,
     "metadata": {},
     "output_type": "execute_result"
    }
   ],
   "source": [
    "respuestas.loc[respuestas['uncaught_resp_9_cat']=='Buenas noches', 'uncaught_resp_9_val'].value_counts()"
   ]
  },
  {
   "cell_type": "code",
   "execution_count": 87,
   "metadata": {
    "collapsed": true
   },
   "outputs": [],
   "source": [
    "respuestas['uncaught_resp_9_text_wc'] = respuestas['uncaught_resp_9_text'].apply(lambda x: len(str(x).split(\" \")))\n",
    "\n"
   ]
  },
  {
   "cell_type": "code",
   "execution_count": 127,
   "metadata": {},
   "outputs": [
    {
     "data": {
      "text/plain": [
       "Other            954\n",
       "Like-fb          452\n",
       "si               312\n",
       "Claro            226\n",
       "no               153\n",
       "gracias          136\n",
       "Ok                98\n",
       "Emoji             56\n",
       "Buenas noches     39\n",
       "Gracias           35\n",
       "Hasta luego        6\n",
       "Twitter image      5\n",
       "ok                 1\n",
       "Name: uncaught_resp_9_cat, dtype: int64"
      ]
     },
     "execution_count": 127,
     "metadata": {},
     "output_type": "execute_result"
    }
   ],
   "source": [
    "respuestas['uncaught_resp_9_cat'].value_counts()"
   ]
  },
  {
   "cell_type": "code",
   "execution_count": 131,
   "metadata": {
    "collapsed": true
   },
   "outputs": [],
   "source": [
    "respuestas=respuestas.loc[~respuestas['uncaught_resp_9_cat'].isin(list(['Like-fb', 'Twitter image','Hasta luego'] ))]"
   ]
  },
  {
   "cell_type": "code",
   "execution_count": 138,
   "metadata": {
    "collapsed": true
   },
   "outputs": [],
   "source": [
    "respuestas=respuestas.loc[respuestas.uncaught_resp_9_text.notnull()]"
   ]
  },
  {
   "cell_type": "code",
   "execution_count": 139,
   "metadata": {},
   "outputs": [
    {
     "data": {
      "text/html": [
       "<div>\n",
       "<style>\n",
       "    .dataframe thead tr:only-child th {\n",
       "        text-align: right;\n",
       "    }\n",
       "\n",
       "    .dataframe thead th {\n",
       "        text-align: left;\n",
       "    }\n",
       "\n",
       "    .dataframe tbody tr th {\n",
       "        vertical-align: top;\n",
       "    }\n",
       "</style>\n",
       "<table border=\"1\" class=\"dataframe\">\n",
       "  <thead>\n",
       "    <tr style=\"text-align: right;\">\n",
       "      <th></th>\n",
       "      <th>id_contacto</th>\n",
       "      <th>urn</th>\n",
       "      <th>nombre</th>\n",
       "      <th>listas</th>\n",
       "      <th>uncaught_resp_9_cat</th>\n",
       "      <th>uncaught_resp_9_val</th>\n",
       "      <th>uncaught_resp_9_text</th>\n",
       "    </tr>\n",
       "  </thead>\n",
       "  <tbody>\n",
       "    <tr>\n",
       "      <th>1</th>\n",
       "      <td>e7e51622-a160-4bb4-9b7d-785c0c2bfbc7</td>\n",
       "      <td>20999</td>\n",
       "      <td>NaN</td>\n",
       "      <td>NaN</td>\n",
       "      <td>Other</td>\n",
       "      <td>La solicitud de enviar el SMS por Cobrar a 552...</td>\n",
       "      <td>la solicitud de enviar el sms por cobrar a 552...</td>\n",
       "    </tr>\n",
       "    <tr>\n",
       "      <th>2</th>\n",
       "      <td>7ea8e04b-e8d0-4628-bf35-350a784d5e2f</td>\n",
       "      <td>+525559652925</td>\n",
       "      <td>pedro vallejo</td>\n",
       "      <td>ALL, ALTOPD</td>\n",
       "      <td>Emoji</td>\n",
       "      <td>🙅</td>\n",
       "      <td></td>\n",
       "    </tr>\n",
       "    <tr>\n",
       "      <th>4</th>\n",
       "      <td>42bf4e3f-a396-4eb7-a987-b76cba779e92</td>\n",
       "      <td>+527711780721</td>\n",
       "      <td>Rosy</td>\n",
       "      <td>ALL, ALTOPD</td>\n",
       "      <td>Other</td>\n",
       "      <td>Hola gordo</td>\n",
       "      <td>hola gordo</td>\n",
       "    </tr>\n",
       "    <tr>\n",
       "      <th>5</th>\n",
       "      <td>95644138-5bec-48a2-9d87-a18fa01978d7</td>\n",
       "      <td>+525513627389</td>\n",
       "      <td>MiguelVilchis</td>\n",
       "      <td>ALL, ALTOPD</td>\n",
       "      <td>Gracias</td>\n",
       "      <td>gracias</td>\n",
       "      <td>si gracias</td>\n",
       "    </tr>\n",
       "    <tr>\n",
       "      <th>6</th>\n",
       "      <td>0ab70bd4-c6b7-4b0a-8440-18db8ebd5bae</td>\n",
       "      <td>1578880975479032</td>\n",
       "      <td>NaN</td>\n",
       "      <td>ALL, PUERPERIUM, PUERPERIUM_MS, PUERPERIUM_MS_...</td>\n",
       "      <td>no</td>\n",
       "      <td>No</td>\n",
       "      <td>no</td>\n",
       "    </tr>\n",
       "  </tbody>\n",
       "</table>\n",
       "</div>"
      ],
      "text/plain": [
       "                            id_contacto               urn         nombre  \\\n",
       "1  e7e51622-a160-4bb4-9b7d-785c0c2bfbc7             20999            NaN   \n",
       "2  7ea8e04b-e8d0-4628-bf35-350a784d5e2f     +525559652925  pedro vallejo   \n",
       "4  42bf4e3f-a396-4eb7-a987-b76cba779e92     +527711780721           Rosy   \n",
       "5  95644138-5bec-48a2-9d87-a18fa01978d7     +525513627389  MiguelVilchis   \n",
       "6  0ab70bd4-c6b7-4b0a-8440-18db8ebd5bae  1578880975479032            NaN   \n",
       "\n",
       "                                              listas uncaught_resp_9_cat  \\\n",
       "1                                                NaN               Other   \n",
       "2                                        ALL, ALTOPD               Emoji   \n",
       "4                                        ALL, ALTOPD               Other   \n",
       "5                                        ALL, ALTOPD             Gracias   \n",
       "6  ALL, PUERPERIUM, PUERPERIUM_MS, PUERPERIUM_MS_...                  no   \n",
       "\n",
       "                                 uncaught_resp_9_val  \\\n",
       "1  La solicitud de enviar el SMS por Cobrar a 552...   \n",
       "2                                                  🙅   \n",
       "4                                         Hola gordo   \n",
       "5                                            gracias   \n",
       "6                                                 No   \n",
       "\n",
       "                                uncaught_resp_9_text  \n",
       "1  la solicitud de enviar el sms por cobrar a 552...  \n",
       "2                                                     \n",
       "4                                         hola gordo  \n",
       "5                                         si gracias  \n",
       "6                                                 no  "
      ]
     },
     "execution_count": 139,
     "metadata": {},
     "output_type": "execute_result"
    }
   ],
   "source": [
    "respuestas.head()"
   ]
  },
  {
   "cell_type": "code",
   "execution_count": 132,
   "metadata": {},
   "outputs": [
    {
     "data": {
      "text/plain": [
       "Other            954\n",
       "si               312\n",
       "Claro            226\n",
       "no               153\n",
       "gracias          136\n",
       "Ok                98\n",
       "Emoji             56\n",
       "Buenas noches     39\n",
       "Gracias           35\n",
       "ok                 1\n",
       "Name: uncaught_resp_9_cat, dtype: int64"
      ]
     },
     "execution_count": 132,
     "metadata": {},
     "output_type": "execute_result"
    }
   ],
   "source": [
    "respuestas['uncaught_resp_9_cat'].value_counts()"
   ]
  },
  {
   "cell_type": "code",
   "execution_count": 99,
   "metadata": {
    "collapsed": true
   },
   "outputs": [],
   "source": [
    "import nltk as nltk"
   ]
  },
  {
   "cell_type": "code",
   "execution_count": 104,
   "metadata": {
    "collapsed": true
   },
   "outputs": [],
   "source": []
  },
  {
   "cell_type": "code",
   "execution_count": 140,
   "metadata": {
    "collapsed": true
   },
   "outputs": [],
   "source": [
    "respuestas['uncaught_resp_9_text']=respuestas['uncaught_resp_9_text'].str.lower()"
   ]
  },
  {
   "cell_type": "code",
   "execution_count": 141,
   "metadata": {
    "collapsed": true
   },
   "outputs": [],
   "source": [
    "respuestas['uncaught_resp_9_text']=respuestas['uncaught_resp_9_text'].str.replace('[^\\w\\s]','')"
   ]
  },
  {
   "cell_type": "code",
   "execution_count": 142,
   "metadata": {},
   "outputs": [
    {
     "data": {
      "text/plain": [
       "1    la solicitud de enviar el sms por cobrar a 552...\n",
       "2                                                     \n",
       "4                                           hola gordo\n",
       "5                                           si gracias\n",
       "6                                                   no\n",
       "Name: uncaught_resp_9_text, dtype: object"
      ]
     },
     "execution_count": 142,
     "metadata": {},
     "output_type": "execute_result"
    }
   ],
   "source": [
    "respuestas['uncaught_resp_9_text'].head()"
   ]
  },
  {
   "cell_type": "code",
   "execution_count": 143,
   "metadata": {},
   "outputs": [
    {
     "data": {
      "text/plain": [
       "1       solicitud enviar sms cobrar 5521817435 expirad...\n",
       "2                                                        \n",
       "4                                              hola gordo\n",
       "5                                              si gracias\n",
       "6                                                        \n",
       "12                                                       \n",
       "17                                                       \n",
       "21                                                       \n",
       "22      llame pude localizarte tramita linea tarjeta r...\n",
       "28                                           hola gracias\n",
       "32                                                     si\n",
       "35                                                     si\n",
       "38                                                     si\n",
       "45                                                  59508\n",
       "47                                                   bebe\n",
       "51                                                     si\n",
       "55                                                     si\n",
       "56                                                     si\n",
       "57                                                     si\n",
       "58                                                       \n",
       "61                                                     si\n",
       "63                                                       \n",
       "64                                                     si\n",
       "68                                                     si\n",
       "70      hola si cada integrante fotos bb seguido tomam...\n",
       "78                                             si gracias\n",
       "83                                                       \n",
       "92                                             ok gracias\n",
       "105     usuario 2471032511 envio mensaje saldo respond...\n",
       "114                                                  okay\n",
       "                              ...                        \n",
       "3004    buenas noches disculpe ustedes saben puedo rep...\n",
       "3005                                  puedp aser pregunta\n",
       "3007                                cuál horario atención\n",
       "3008                              buen día interesa saber\n",
       "3009                                              gracias\n",
       "3010                                              gracias\n",
       "3011    buenas tardes reportera 24 horas manera contac...\n",
       "3012                                  efectos cristal xfa\n",
       "3013    buena tarde espero hagan favor leerme contesta...\n",
       "3015                                                   ok\n",
       "3017    buenas tardes comunicando diversos centros sal...\n",
       "3018    hola buenas tardes quisiera comentarles caso a...\n",
       "3019                                              gracias\n",
       "3023    buena noche últimamente hija menor 7 años pres...\n",
       "3024                                cuál horario atención\n",
       "3026    ojalá contesteses lindo dios enterado luchando...\n",
       "3027                                              gracias\n",
       "3028                                              gracias\n",
       "3029    puedo pedir informes liberar cartilla veracruz...\n",
       "3030    polleria tira residuos grasa drenaje proboca r...\n",
       "3031                                cuál horario atención\n",
       "3033    buena tarde quisiera saber número puede denunc...\n",
       "3034                                    hola buenas tarde\n",
       "3035    diabetes tendre amputaciones entendido disbeti...\n",
       "3038    hola buenas tardes algún numero puedan atender...\n",
       "3039    comité estatal guanajuato mnspj added new vide...\n",
       "3040                                cuál horario atención\n",
       "3041    felicidades amigo mil bendiciones httpstco0kvk...\n",
       "3042                                cuál horario atención\n",
       "3044    buenos días disculpe información inseminación ...\n",
       "Name: uncaught_resp_9_text, Length: 2009, dtype: object"
      ]
     },
     "execution_count": 143,
     "metadata": {},
     "output_type": "execute_result"
    }
   ],
   "source": [
    "stop=nltk.corpus.stopwords.words(\"spanish\")\n",
    "respuestas['uncaught_resp_9_text'].apply(lambda x: \" \".join(x for x in x.split() if x not in stop))"
   ]
  },
  {
   "cell_type": "code",
   "execution_count": 150,
   "metadata": {},
   "outputs": [
    {
     "name": "stdout",
     "output_type": "stream",
     "text": [
      "de      1362\n",
      "la       646\n",
      "y        633\n",
      "que      619\n",
      "en       581\n",
      "el       514\n",
      "si       476\n",
      "no       445\n",
      "a        441\n",
      "para     346\n",
      "dtype: int64\n"
     ]
    }
   ],
   "source": [
    "freq = pd.Series(' '.join(respuestas['uncaught_resp_9_text']).split()).value_counts()[:10]\n",
    "print(freq)\n",
    "freq = list(freq.index)"
   ]
  },
  {
   "cell_type": "code",
   "execution_count": 151,
   "metadata": {
    "collapsed": true
   },
   "outputs": [],
   "source": [
    "respuestas['uncaught_resp_9_text']=respuestas['uncaught_resp_9_text'].apply(lambda x: \" \".join(x for x in x.split() if x not in freq))"
   ]
  },
  {
   "cell_type": "code",
   "execution_count": 174,
   "metadata": {
    "collapsed": true
   },
   "outputs": [],
   "source": [
    "respuestas=respuestas.loc[respuestas['uncaught_resp_9_text']!='']"
   ]
  },
  {
   "cell_type": "code",
   "execution_count": 175,
   "metadata": {},
   "outputs": [
    {
     "data": {
      "text/plain": [
       "1       solicitud enviar sms por cobrar 5521817435 ha ...\n",
       "4                                              hola gordo\n",
       "5                                                 gracias\n",
       "22      te llame pude localizarte tramita linea tu tar...\n",
       "28                                           hola gracias\n",
       "45                                                  59508\n",
       "47                                                mi bebe\n",
       "70      hola ya cada integrante tenemos fotos con bb s...\n",
       "78                                                gracias\n",
       "92                                             ok gracias\n",
       "105     usuario 2471032511 te envio un mensaje pero ti...\n",
       "114                                                  okay\n",
       "120                                                    ok\n",
       "133     te llame pude localizarte ultima oportunidad n...\n",
       "134     te llame pude localizarte 3000 mxn monedero li...\n",
       "135                             mi bebé esta deshidratado\n",
       "142                                   mensaje fuera flujo\n",
       "150                                           5m llegamos\n",
       "157     tienes saldo congelado recuperalo recargando 2...\n",
       "160                           por mi bebe estornuda mucho\n",
       "162                                               gracias\n",
       "187                                                    ok\n",
       "198                                         buenas noches\n",
       "200                                                    ok\n",
       "206                                               gracias\n",
       "215                                            ya me dijo\n",
       "217                                               gracias\n",
       "222                                                    ok\n",
       "227                                               mi bebe\n",
       "230                                                    ok\n",
       "                              ...                        \n",
       "3004    buenas noches disculpe ustedes saben donde pue...\n",
       "3005                              puedp aser una pregunta\n",
       "3007                             cuál es horario atención\n",
       "3008                           buen día me interesa saber\n",
       "3009                                              gracias\n",
       "3010                                              gracias\n",
       "3011    buenas tardes soy reportera 24 horas hay maner...\n",
       "3012                              efectos del cristal xfa\n",
       "3013    buena tarde espero me hagan favor leerme conte...\n",
       "3015                                                   ok\n",
       "3017    buenas tardes me he estado comunicando diverso...\n",
       "3018    hola buenas tardes quisiera comentarles un cas...\n",
       "3019                                              gracias\n",
       "3023    buena noche últimamente mi hija menor 7 años h...\n",
       "3024                             cuál es horario atención\n",
       "3026    ojalá contesteses muy lindo dios se ha enterad...\n",
       "3027                                              gracias\n",
       "3028                                              gracias\n",
       "3029    donde puedo pedir informes liberar mi cartilla...\n",
       "3030    polleria tira sus residuos grasa al drenaje pr...\n",
       "3031                             cuál es horario atención\n",
       "3033    buena tarde quisiera saber número se puede den...\n",
       "3034                                    hola buenas tarde\n",
       "3035    tengo diabetes cuando tendre las amputaciones ...\n",
       "3038    hola buenas tardes algún numero donde me pueda...\n",
       "3039    comité estatal guanajuato del mnspj added new ...\n",
       "3040                             cuál es horario atención\n",
       "3041    felicidades amigo mil bendiciones httpstco0kvk...\n",
       "3042                             cuál es horario atención\n",
       "3044    buenos días disculpe información inseminación ...\n",
       "Name: uncaught_resp_9_text, Length: 1547, dtype: object"
      ]
     },
     "execution_count": 175,
     "metadata": {},
     "output_type": "execute_result"
    }
   ],
   "source": [
    "respuestas['uncaught_resp_9_text']"
   ]
  },
  {
   "cell_type": "code",
   "execution_count": null,
   "metadata": {
    "collapsed": true
   },
   "outputs": [],
   "source": []
  }
 ],
 "metadata": {
  "kernelspec": {
   "display_name": "Python 3",
   "language": "python",
   "name": "python3"
  },
  "language_info": {
   "codemirror_mode": {
    "name": "ipython",
    "version": 3
   },
   "file_extension": ".py",
   "mimetype": "text/x-python",
   "name": "python",
   "nbconvert_exporter": "python",
   "pygments_lexer": "ipython3",
   "version": "3.6.3"
  }
 },
 "nbformat": 4,
 "nbformat_minor": 2
}

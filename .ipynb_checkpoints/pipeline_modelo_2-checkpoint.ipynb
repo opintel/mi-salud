{
 "cells": [
  {
   "cell_type": "code",
   "execution_count": 312,
   "metadata": {
    "collapsed": true
   },
   "outputs": [],
   "source": [
    "import pandas as pd\n",
    "import nltk as nltk\n",
    "from emoji import UNICODE_EMOJI\n",
    "import unicodedata as unicodedata\n",
    "import re\n",
    "from __future__ import print_function\n",
    "import os  # for os.path.basename\n",
    "from nltk.stem.snowball import SnowballStemmer\n",
    "from sklearn.feature_extraction.text import TfidfVectorizer\n",
    "\n",
    "import matplotlib.pyplot as plt\n",
    "import matplotlib as mpl\n",
    "\n",
    "from sklearn.manifold import MDS\n",
    "\n",
    "\n",
    "pd.set_option('display.max_rows', 500)\n",
    "pd.set_option('display.max_columns', 500)"
   ]
  },
  {
   "cell_type": "code",
   "execution_count": 313,
   "metadata": {
    "collapsed": true
   },
   "outputs": [],
   "source": [
    "respuestas=pd.read_excel('/Users/pepe_opi/Downloads/mi_salud/results_export_964.xlsx')"
   ]
  },
  {
   "cell_type": "code",
   "execution_count": 314,
   "metadata": {},
   "outputs": [
    {
     "data": {
      "text/html": [
       "<div>\n",
       "<style>\n",
       "    .dataframe thead tr:only-child th {\n",
       "        text-align: right;\n",
       "    }\n",
       "\n",
       "    .dataframe thead th {\n",
       "        text-align: left;\n",
       "    }\n",
       "\n",
       "    .dataframe tbody tr th {\n",
       "        vertical-align: top;\n",
       "    }\n",
       "</style>\n",
       "<table border=\"1\" class=\"dataframe\">\n",
       "  <thead>\n",
       "    <tr style=\"text-align: right;\">\n",
       "      <th></th>\n",
       "      <th>Contact UUID</th>\n",
       "      <th>URN</th>\n",
       "      <th>Name</th>\n",
       "      <th>Groups</th>\n",
       "      <th>Response 9 (Category) - uncaught</th>\n",
       "      <th>Response 9 (Value) - uncaught</th>\n",
       "      <th>Response 9 (Text) - uncaught</th>\n",
       "      <th>Response 8 (Category) - uncaught</th>\n",
       "      <th>Response 8 (Value) - uncaught</th>\n",
       "      <th>Response 8 (Text) - uncaught</th>\n",
       "      <th>Response 10 (Category) - uncaught</th>\n",
       "      <th>Response 10 (Value) - uncaught</th>\n",
       "      <th>Response 10 (Text) - uncaught</th>\n",
       "      <th>Response 9 (Category) - uncaught.1</th>\n",
       "      <th>Response 9 (Value) - uncaught.1</th>\n",
       "      <th>Response 9 (Text) - uncaught.1</th>\n",
       "      <th>Response 11 (Category) - uncaught</th>\n",
       "      <th>Response 11 (Value) - uncaught</th>\n",
       "      <th>Response 11 (Text) - uncaught</th>\n",
       "      <th>Response 10 (Category) - uncaught.1</th>\n",
       "      <th>Response 10 (Value) - uncaught.1</th>\n",
       "      <th>Response 10 (Text) - uncaught.1</th>\n",
       "      <th>menu (Category) - uncaught</th>\n",
       "      <th>menu (Value) - uncaught</th>\n",
       "      <th>menu (Text) - uncaught</th>\n",
       "      <th>Response 11 (Category) - uncaught.1</th>\n",
       "      <th>Response 11 (Value) - uncaught.1</th>\n",
       "      <th>Response 11 (Text) - uncaught.1</th>\n",
       "      <th>respuesta_pregs (Category) - uncaught</th>\n",
       "      <th>respuesta_pregs (Value) - uncaught</th>\n",
       "      <th>respuesta_pregs (Text) - uncaught</th>\n",
       "      <th>menu_pd (Category) - uncaught</th>\n",
       "      <th>menu_pd (Value) - uncaught</th>\n",
       "      <th>menu_pd (Text) - uncaught</th>\n",
       "      <th>Response 12 (Category) - uncaught</th>\n",
       "      <th>Response 12 (Value) - uncaught</th>\n",
       "      <th>Response 12 (Text) - uncaught</th>\n",
       "    </tr>\n",
       "  </thead>\n",
       "  <tbody>\n",
       "    <tr>\n",
       "      <th>0</th>\n",
       "      <td>3bf0c4bb-d5db-4e0d-ab29-98a7ee6b2b6a</td>\n",
       "      <td>1104797289620477</td>\n",
       "      <td>NaN</td>\n",
       "      <td>ALL, PUERPERIUM, PUERPERIUM_MS, PUERPERIUM_MS_...</td>\n",
       "      <td>NaN</td>\n",
       "      <td>NaN</td>\n",
       "      <td>NaN</td>\n",
       "      <td>NaN</td>\n",
       "      <td>NaN</td>\n",
       "      <td>NaN</td>\n",
       "      <td>NaN</td>\n",
       "      <td>NaN</td>\n",
       "      <td>NaN</td>\n",
       "      <td>NaN</td>\n",
       "      <td>NaN</td>\n",
       "      <td>NaN</td>\n",
       "      <td>NaN</td>\n",
       "      <td>NaN</td>\n",
       "      <td>NaN</td>\n",
       "      <td>NaN</td>\n",
       "      <td>NaN</td>\n",
       "      <td>NaN</td>\n",
       "      <td>NaN</td>\n",
       "      <td>NaN</td>\n",
       "      <td>NaN</td>\n",
       "      <td>NaN</td>\n",
       "      <td>NaN</td>\n",
       "      <td>NaN</td>\n",
       "      <td>NaN</td>\n",
       "      <td>NaN</td>\n",
       "      <td>NaN</td>\n",
       "      <td>NaN</td>\n",
       "      <td>NaN</td>\n",
       "      <td>NaN</td>\n",
       "      <td>NaN</td>\n",
       "      <td>NaN</td>\n",
       "      <td>NaN</td>\n",
       "    </tr>\n",
       "    <tr>\n",
       "      <th>1</th>\n",
       "      <td>e7e51622-a160-4bb4-9b7d-785c0c2bfbc7</td>\n",
       "      <td>20999</td>\n",
       "      <td>NaN</td>\n",
       "      <td>NaN</td>\n",
       "      <td>Other</td>\n",
       "      <td>La solicitud de enviar el SMS por Cobrar a 552...</td>\n",
       "      <td>La solicitud de enviar el SMS por Cobrar a 552...</td>\n",
       "      <td>Other</td>\n",
       "      <td>NaN</td>\n",
       "      <td>La solicitud de enviar el SMS por Cobrar a 552...</td>\n",
       "      <td>Other</td>\n",
       "      <td>La solicitud de enviar el SMS por Cobrar a 552...</td>\n",
       "      <td>La solicitud de enviar el SMS por Cobrar a 552...</td>\n",
       "      <td>No</td>\n",
       "      <td>no</td>\n",
       "      <td>Tu mensaje ha excedido el tiempo de respuesta ...</td>\n",
       "      <td>NaN</td>\n",
       "      <td>NaN</td>\n",
       "      <td>NaN</td>\n",
       "      <td>NaN</td>\n",
       "      <td>NaN</td>\n",
       "      <td>NaN</td>\n",
       "      <td>No</td>\n",
       "      <td>no</td>\n",
       "      <td>Tu mensaje ha excedido el tiempo de respuesta ...</td>\n",
       "      <td>NaN</td>\n",
       "      <td>NaN</td>\n",
       "      <td>NaN</td>\n",
       "      <td>NaN</td>\n",
       "      <td>NaN</td>\n",
       "      <td>NaN</td>\n",
       "      <td>seguridad</td>\n",
       "      <td>2</td>\n",
       "      <td>Tienes un SMSxCobrar esperando ser enviado a $...</td>\n",
       "      <td>NaN</td>\n",
       "      <td>NaN</td>\n",
       "      <td>NaN</td>\n",
       "    </tr>\n",
       "    <tr>\n",
       "      <th>2</th>\n",
       "      <td>7ea8e04b-e8d0-4628-bf35-350a784d5e2f</td>\n",
       "      <td>+525559652925</td>\n",
       "      <td>pedro vallejo</td>\n",
       "      <td>ALL, ALTOPD</td>\n",
       "      <td>Emoji</td>\n",
       "      <td>🙅</td>\n",
       "      <td>🙅</td>\n",
       "      <td>NaN</td>\n",
       "      <td>NaN</td>\n",
       "      <td>NaN</td>\n",
       "      <td>NaN</td>\n",
       "      <td>NaN</td>\n",
       "      <td>NaN</td>\n",
       "      <td>NaN</td>\n",
       "      <td>NaN</td>\n",
       "      <td>NaN</td>\n",
       "      <td>NaN</td>\n",
       "      <td>NaN</td>\n",
       "      <td>NaN</td>\n",
       "      <td>NaN</td>\n",
       "      <td>NaN</td>\n",
       "      <td>NaN</td>\n",
       "      <td>NaN</td>\n",
       "      <td>NaN</td>\n",
       "      <td>NaN</td>\n",
       "      <td>NaN</td>\n",
       "      <td>NaN</td>\n",
       "      <td>NaN</td>\n",
       "      <td>NaN</td>\n",
       "      <td>NaN</td>\n",
       "      <td>NaN</td>\n",
       "      <td>NaN</td>\n",
       "      <td>NaN</td>\n",
       "      <td>NaN</td>\n",
       "      <td>NaN</td>\n",
       "      <td>NaN</td>\n",
       "      <td>NaN</td>\n",
       "    </tr>\n",
       "    <tr>\n",
       "      <th>3</th>\n",
       "      <td>3059e012-6fd3-445d-8da4-5fc36d45f8dc</td>\n",
       "      <td>1326847360726593</td>\n",
       "      <td>NaN</td>\n",
       "      <td>ALTOPD</td>\n",
       "      <td>NaN</td>\n",
       "      <td>NaN</td>\n",
       "      <td>NaN</td>\n",
       "      <td>NaN</td>\n",
       "      <td>NaN</td>\n",
       "      <td>NaN</td>\n",
       "      <td>Other</td>\n",
       "      <td>Ya no quiero recibir mensajes</td>\n",
       "      <td>Ya no quiero recibir mensajes</td>\n",
       "      <td>No</td>\n",
       "      <td>No</td>\n",
       "      <td>No</td>\n",
       "      <td>NaN</td>\n",
       "      <td>NaN</td>\n",
       "      <td>NaN</td>\n",
       "      <td>NaN</td>\n",
       "      <td>NaN</td>\n",
       "      <td>NaN</td>\n",
       "      <td>NaN</td>\n",
       "      <td>NaN</td>\n",
       "      <td>NaN</td>\n",
       "      <td>NaN</td>\n",
       "      <td>NaN</td>\n",
       "      <td>NaN</td>\n",
       "      <td>NaN</td>\n",
       "      <td>NaN</td>\n",
       "      <td>NaN</td>\n",
       "      <td>NaN</td>\n",
       "      <td>NaN</td>\n",
       "      <td>NaN</td>\n",
       "      <td>NaN</td>\n",
       "      <td>NaN</td>\n",
       "      <td>NaN</td>\n",
       "    </tr>\n",
       "    <tr>\n",
       "      <th>4</th>\n",
       "      <td>42bf4e3f-a396-4eb7-a987-b76cba779e92</td>\n",
       "      <td>+527711780721</td>\n",
       "      <td>Rosy</td>\n",
       "      <td>ALL, ALTOPD</td>\n",
       "      <td>Other</td>\n",
       "      <td>Hola gordo</td>\n",
       "      <td>Hola gordo</td>\n",
       "      <td>con_nombre</td>\n",
       "      <td>Rosy</td>\n",
       "      <td>Hola gordo</td>\n",
       "      <td>Other</td>\n",
       "      <td>Hola gordo</td>\n",
       "      <td>Hola gordo</td>\n",
       "      <td>NaN</td>\n",
       "      <td>NaN</td>\n",
       "      <td>NaN</td>\n",
       "      <td>NaN</td>\n",
       "      <td>NaN</td>\n",
       "      <td>NaN</td>\n",
       "      <td>NaN</td>\n",
       "      <td>NaN</td>\n",
       "      <td>NaN</td>\n",
       "      <td>NaN</td>\n",
       "      <td>NaN</td>\n",
       "      <td>NaN</td>\n",
       "      <td>NaN</td>\n",
       "      <td>NaN</td>\n",
       "      <td>NaN</td>\n",
       "      <td>NaN</td>\n",
       "      <td>NaN</td>\n",
       "      <td>NaN</td>\n",
       "      <td>NaN</td>\n",
       "      <td>NaN</td>\n",
       "      <td>NaN</td>\n",
       "      <td>NaN</td>\n",
       "      <td>NaN</td>\n",
       "      <td>NaN</td>\n",
       "    </tr>\n",
       "  </tbody>\n",
       "</table>\n",
       "</div>"
      ],
      "text/plain": [
       "                           Contact UUID               URN           Name  \\\n",
       "0  3bf0c4bb-d5db-4e0d-ab29-98a7ee6b2b6a  1104797289620477            NaN   \n",
       "1  e7e51622-a160-4bb4-9b7d-785c0c2bfbc7             20999            NaN   \n",
       "2  7ea8e04b-e8d0-4628-bf35-350a784d5e2f     +525559652925  pedro vallejo   \n",
       "3  3059e012-6fd3-445d-8da4-5fc36d45f8dc  1326847360726593            NaN   \n",
       "4  42bf4e3f-a396-4eb7-a987-b76cba779e92     +527711780721           Rosy   \n",
       "\n",
       "                                              Groups  \\\n",
       "0  ALL, PUERPERIUM, PUERPERIUM_MS, PUERPERIUM_MS_...   \n",
       "1                                                NaN   \n",
       "2                                        ALL, ALTOPD   \n",
       "3                                             ALTOPD   \n",
       "4                                        ALL, ALTOPD   \n",
       "\n",
       "  Response 9 (Category) - uncaught  \\\n",
       "0                              NaN   \n",
       "1                            Other   \n",
       "2                            Emoji   \n",
       "3                              NaN   \n",
       "4                            Other   \n",
       "\n",
       "                       Response 9 (Value) - uncaught  \\\n",
       "0                                                NaN   \n",
       "1  La solicitud de enviar el SMS por Cobrar a 552...   \n",
       "2                                                  🙅   \n",
       "3                                                NaN   \n",
       "4                                         Hola gordo   \n",
       "\n",
       "                        Response 9 (Text) - uncaught  \\\n",
       "0                                                NaN   \n",
       "1  La solicitud de enviar el SMS por Cobrar a 552...   \n",
       "2                                                  🙅   \n",
       "3                                                NaN   \n",
       "4                                         Hola gordo   \n",
       "\n",
       "  Response 8 (Category) - uncaught Response 8 (Value) - uncaught  \\\n",
       "0                              NaN                           NaN   \n",
       "1                            Other                           NaN   \n",
       "2                              NaN                           NaN   \n",
       "3                              NaN                           NaN   \n",
       "4                       con_nombre                          Rosy   \n",
       "\n",
       "                        Response 8 (Text) - uncaught  \\\n",
       "0                                                NaN   \n",
       "1  La solicitud de enviar el SMS por Cobrar a 552...   \n",
       "2                                                NaN   \n",
       "3                                                NaN   \n",
       "4                                         Hola gordo   \n",
       "\n",
       "  Response 10 (Category) - uncaught  \\\n",
       "0                               NaN   \n",
       "1                             Other   \n",
       "2                               NaN   \n",
       "3                             Other   \n",
       "4                             Other   \n",
       "\n",
       "                      Response 10 (Value) - uncaught  \\\n",
       "0                                                NaN   \n",
       "1  La solicitud de enviar el SMS por Cobrar a 552...   \n",
       "2                                                NaN   \n",
       "3                      Ya no quiero recibir mensajes   \n",
       "4                                         Hola gordo   \n",
       "\n",
       "                       Response 10 (Text) - uncaught  \\\n",
       "0                                                NaN   \n",
       "1  La solicitud de enviar el SMS por Cobrar a 552...   \n",
       "2                                                NaN   \n",
       "3                      Ya no quiero recibir mensajes   \n",
       "4                                         Hola gordo   \n",
       "\n",
       "  Response 9 (Category) - uncaught.1 Response 9 (Value) - uncaught.1  \\\n",
       "0                                NaN                             NaN   \n",
       "1                                 No                              no   \n",
       "2                                NaN                             NaN   \n",
       "3                                 No                              No   \n",
       "4                                NaN                             NaN   \n",
       "\n",
       "                      Response 9 (Text) - uncaught.1  \\\n",
       "0                                                NaN   \n",
       "1  Tu mensaje ha excedido el tiempo de respuesta ...   \n",
       "2                                                NaN   \n",
       "3                                                 No   \n",
       "4                                                NaN   \n",
       "\n",
       "  Response 11 (Category) - uncaught Response 11 (Value) - uncaught  \\\n",
       "0                               NaN                            NaN   \n",
       "1                               NaN                            NaN   \n",
       "2                               NaN                            NaN   \n",
       "3                               NaN                            NaN   \n",
       "4                               NaN                            NaN   \n",
       "\n",
       "  Response 11 (Text) - uncaught Response 10 (Category) - uncaught.1  \\\n",
       "0                           NaN                                 NaN   \n",
       "1                           NaN                                 NaN   \n",
       "2                           NaN                                 NaN   \n",
       "3                           NaN                                 NaN   \n",
       "4                           NaN                                 NaN   \n",
       "\n",
       "  Response 10 (Value) - uncaught.1 Response 10 (Text) - uncaught.1  \\\n",
       "0                              NaN                             NaN   \n",
       "1                              NaN                             NaN   \n",
       "2                              NaN                             NaN   \n",
       "3                              NaN                             NaN   \n",
       "4                              NaN                             NaN   \n",
       "\n",
       "  menu (Category) - uncaught menu (Value) - uncaught  \\\n",
       "0                        NaN                     NaN   \n",
       "1                         No                      no   \n",
       "2                        NaN                     NaN   \n",
       "3                        NaN                     NaN   \n",
       "4                        NaN                     NaN   \n",
       "\n",
       "                              menu (Text) - uncaught  \\\n",
       "0                                                NaN   \n",
       "1  Tu mensaje ha excedido el tiempo de respuesta ...   \n",
       "2                                                NaN   \n",
       "3                                                NaN   \n",
       "4                                                NaN   \n",
       "\n",
       "  Response 11 (Category) - uncaught.1 Response 11 (Value) - uncaught.1  \\\n",
       "0                                 NaN                              NaN   \n",
       "1                                 NaN                              NaN   \n",
       "2                                 NaN                              NaN   \n",
       "3                                 NaN                              NaN   \n",
       "4                                 NaN                              NaN   \n",
       "\n",
       "  Response 11 (Text) - uncaught.1 respuesta_pregs (Category) - uncaught  \\\n",
       "0                             NaN                                   NaN   \n",
       "1                             NaN                                   NaN   \n",
       "2                             NaN                                   NaN   \n",
       "3                             NaN                                   NaN   \n",
       "4                             NaN                                   NaN   \n",
       "\n",
       "   respuesta_pregs (Value) - uncaught  respuesta_pregs (Text) - uncaught  \\\n",
       "0                                 NaN                                NaN   \n",
       "1                                 NaN                                NaN   \n",
       "2                                 NaN                                NaN   \n",
       "3                                 NaN                                NaN   \n",
       "4                                 NaN                                NaN   \n",
       "\n",
       "  menu_pd (Category) - uncaught menu_pd (Value) - uncaught  \\\n",
       "0                           NaN                        NaN   \n",
       "1                     seguridad                          2   \n",
       "2                           NaN                        NaN   \n",
       "3                           NaN                        NaN   \n",
       "4                           NaN                        NaN   \n",
       "\n",
       "                           menu_pd (Text) - uncaught  \\\n",
       "0                                                NaN   \n",
       "1  Tienes un SMSxCobrar esperando ser enviado a $...   \n",
       "2                                                NaN   \n",
       "3                                                NaN   \n",
       "4                                                NaN   \n",
       "\n",
       "  Response 12 (Category) - uncaught Response 12 (Value) - uncaught  \\\n",
       "0                               NaN                            NaN   \n",
       "1                               NaN                            NaN   \n",
       "2                               NaN                            NaN   \n",
       "3                               NaN                            NaN   \n",
       "4                               NaN                            NaN   \n",
       "\n",
       "  Response 12 (Text) - uncaught  \n",
       "0                           NaN  \n",
       "1                           NaN  \n",
       "2                           NaN  \n",
       "3                           NaN  \n",
       "4                           NaN  "
      ]
     },
     "execution_count": 314,
     "metadata": {},
     "output_type": "execute_result"
    }
   ],
   "source": [
    "respuestas.head()"
   ]
  },
  {
   "cell_type": "code",
   "execution_count": 315,
   "metadata": {
    "collapsed": true
   },
   "outputs": [],
   "source": [
    "respuestas=respuestas[['Contact UUID', 'URN', 'Name', 'Groups',\n",
    "       'Response 9 (Category) - uncaught', 'Response 9 (Value) - uncaught',\n",
    "       'Response 9 (Text) - uncaught']]\n",
    "\n",
    "respuestas.columns=['id_contacto', 'urn', 'nombre', 'listas', 'uncaught_resp_9_cat',\n",
    "                    'uncaught_resp_9_val', 'uncaught_resp_9_text']"
   ]
  },
  {
   "cell_type": "code",
   "execution_count": 316,
   "metadata": {},
   "outputs": [
    {
     "data": {
      "text/html": [
       "<div>\n",
       "<style>\n",
       "    .dataframe thead tr:only-child th {\n",
       "        text-align: right;\n",
       "    }\n",
       "\n",
       "    .dataframe thead th {\n",
       "        text-align: left;\n",
       "    }\n",
       "\n",
       "    .dataframe tbody tr th {\n",
       "        vertical-align: top;\n",
       "    }\n",
       "</style>\n",
       "<table border=\"1\" class=\"dataframe\">\n",
       "  <thead>\n",
       "    <tr style=\"text-align: right;\">\n",
       "      <th></th>\n",
       "      <th>id_contacto</th>\n",
       "      <th>urn</th>\n",
       "      <th>nombre</th>\n",
       "      <th>listas</th>\n",
       "      <th>uncaught_resp_9_cat</th>\n",
       "      <th>uncaught_resp_9_val</th>\n",
       "      <th>uncaught_resp_9_text</th>\n",
       "    </tr>\n",
       "  </thead>\n",
       "  <tbody>\n",
       "    <tr>\n",
       "      <th>0</th>\n",
       "      <td>3bf0c4bb-d5db-4e0d-ab29-98a7ee6b2b6a</td>\n",
       "      <td>1104797289620477</td>\n",
       "      <td>NaN</td>\n",
       "      <td>ALL, PUERPERIUM, PUERPERIUM_MS, PUERPERIUM_MS_...</td>\n",
       "      <td>NaN</td>\n",
       "      <td>NaN</td>\n",
       "      <td>NaN</td>\n",
       "    </tr>\n",
       "    <tr>\n",
       "      <th>1</th>\n",
       "      <td>e7e51622-a160-4bb4-9b7d-785c0c2bfbc7</td>\n",
       "      <td>20999</td>\n",
       "      <td>NaN</td>\n",
       "      <td>NaN</td>\n",
       "      <td>Other</td>\n",
       "      <td>La solicitud de enviar el SMS por Cobrar a 552...</td>\n",
       "      <td>La solicitud de enviar el SMS por Cobrar a 552...</td>\n",
       "    </tr>\n",
       "    <tr>\n",
       "      <th>2</th>\n",
       "      <td>7ea8e04b-e8d0-4628-bf35-350a784d5e2f</td>\n",
       "      <td>+525559652925</td>\n",
       "      <td>pedro vallejo</td>\n",
       "      <td>ALL, ALTOPD</td>\n",
       "      <td>Emoji</td>\n",
       "      <td>🙅</td>\n",
       "      <td>🙅</td>\n",
       "    </tr>\n",
       "    <tr>\n",
       "      <th>3</th>\n",
       "      <td>3059e012-6fd3-445d-8da4-5fc36d45f8dc</td>\n",
       "      <td>1326847360726593</td>\n",
       "      <td>NaN</td>\n",
       "      <td>ALTOPD</td>\n",
       "      <td>NaN</td>\n",
       "      <td>NaN</td>\n",
       "      <td>NaN</td>\n",
       "    </tr>\n",
       "    <tr>\n",
       "      <th>4</th>\n",
       "      <td>42bf4e3f-a396-4eb7-a987-b76cba779e92</td>\n",
       "      <td>+527711780721</td>\n",
       "      <td>Rosy</td>\n",
       "      <td>ALL, ALTOPD</td>\n",
       "      <td>Other</td>\n",
       "      <td>Hola gordo</td>\n",
       "      <td>Hola gordo</td>\n",
       "    </tr>\n",
       "  </tbody>\n",
       "</table>\n",
       "</div>"
      ],
      "text/plain": [
       "                            id_contacto               urn         nombre  \\\n",
       "0  3bf0c4bb-d5db-4e0d-ab29-98a7ee6b2b6a  1104797289620477            NaN   \n",
       "1  e7e51622-a160-4bb4-9b7d-785c0c2bfbc7             20999            NaN   \n",
       "2  7ea8e04b-e8d0-4628-bf35-350a784d5e2f     +525559652925  pedro vallejo   \n",
       "3  3059e012-6fd3-445d-8da4-5fc36d45f8dc  1326847360726593            NaN   \n",
       "4  42bf4e3f-a396-4eb7-a987-b76cba779e92     +527711780721           Rosy   \n",
       "\n",
       "                                              listas uncaught_resp_9_cat  \\\n",
       "0  ALL, PUERPERIUM, PUERPERIUM_MS, PUERPERIUM_MS_...                 NaN   \n",
       "1                                                NaN               Other   \n",
       "2                                        ALL, ALTOPD               Emoji   \n",
       "3                                             ALTOPD                 NaN   \n",
       "4                                        ALL, ALTOPD               Other   \n",
       "\n",
       "                                 uncaught_resp_9_val  \\\n",
       "0                                                NaN   \n",
       "1  La solicitud de enviar el SMS por Cobrar a 552...   \n",
       "2                                                  🙅   \n",
       "3                                                NaN   \n",
       "4                                         Hola gordo   \n",
       "\n",
       "                                uncaught_resp_9_text  \n",
       "0                                                NaN  \n",
       "1  La solicitud de enviar el SMS por Cobrar a 552...  \n",
       "2                                                  🙅  \n",
       "3                                                NaN  \n",
       "4                                         Hola gordo  "
      ]
     },
     "execution_count": 316,
     "metadata": {},
     "output_type": "execute_result"
    }
   ],
   "source": [
    "respuestas.head()"
   ]
  },
  {
   "cell_type": "code",
   "execution_count": 317,
   "metadata": {},
   "outputs": [
    {
     "data": {
      "text/plain": [
       "Other            954\n",
       "Like-fb          452\n",
       "si               312\n",
       "Claro            226\n",
       "no               153\n",
       "gracias          136\n",
       "Ok                98\n",
       "Emoji             56\n",
       "Buenas noches     39\n",
       "Gracias           35\n",
       "Hasta luego        6\n",
       "Twitter image      5\n",
       "ok                 1\n",
       "Name: uncaught_resp_9_cat, dtype: int64"
      ]
     },
     "execution_count": 317,
     "metadata": {},
     "output_type": "execute_result"
    }
   ],
   "source": [
    "respuestas['uncaught_resp_9_cat'].value_counts()"
   ]
  },
  {
   "cell_type": "code",
   "execution_count": 318,
   "metadata": {},
   "outputs": [
    {
     "data": {
      "text/plain": [
       "https://t.co/az6m6XXjoL     1\n",
       "https://t.co/rbsa5QOafg     1\n",
       "https://t.co/Waly9IfMui     1\n",
       " https://t.co/8kYuMPNM3V    1\n",
       "https://t.co/HouKMudLQc     1\n",
       "Name: uncaught_resp_9_text, dtype: int64"
      ]
     },
     "execution_count": 318,
     "metadata": {},
     "output_type": "execute_result"
    }
   ],
   "source": [
    "respuestas.loc[respuestas['uncaught_resp_9_cat']=='Twitter image', 'uncaught_resp_9_text'].value_counts()"
   ]
  },
  {
   "cell_type": "code",
   "execution_count": 319,
   "metadata": {},
   "outputs": [
    {
     "data": {
      "text/plain": [
       "Hasta luego            2\n",
       "hasta luego!           1\n",
       "Hasta luego gracias    1\n",
       "Hasta luego!           1\n",
       "HASTA LUEGO            1\n",
       "Name: uncaught_resp_9_text, dtype: int64"
      ]
     },
     "execution_count": 319,
     "metadata": {},
     "output_type": "execute_result"
    }
   ],
   "source": [
    "respuestas.loc[respuestas['uncaught_resp_9_cat']=='Hasta luego', 'uncaught_resp_9_text'].value_counts()"
   ]
  },
  {
   "cell_type": "code",
   "execution_count": 320,
   "metadata": {},
   "outputs": [
    {
     "data": {
      "text/plain": [
       "Other            954\n",
       "Like-fb          452\n",
       "si               312\n",
       "Claro            226\n",
       "no               153\n",
       "gracias          136\n",
       "Ok                98\n",
       "Emoji             56\n",
       "Buenas noches     39\n",
       "Gracias           35\n",
       "Hasta luego        6\n",
       "Twitter image      5\n",
       "ok                 1\n",
       "Name: uncaught_resp_9_cat, dtype: int64"
      ]
     },
     "execution_count": 320,
     "metadata": {},
     "output_type": "execute_result"
    }
   ],
   "source": [
    "respuestas['uncaught_resp_9_cat'].value_counts()"
   ]
  },
  {
   "cell_type": "markdown",
   "metadata": {},
   "source": [
    "## preprocesamiento"
   ]
  },
  {
   "cell_type": "code",
   "execution_count": 321,
   "metadata": {
    "collapsed": true
   },
   "outputs": [],
   "source": [
    "respuestas['categ_opi']=None"
   ]
  },
  {
   "cell_type": "code",
   "execution_count": 322,
   "metadata": {
    "collapsed": true
   },
   "outputs": [],
   "source": [
    "respuestas['categ_opi'].loc[respuestas['uncaught_resp_9_cat'].isin(list(['Like-fb', 'Twitter image','Hasta luego']))]=respuestas['uncaught_resp_9_cat'].loc[respuestas['uncaught_resp_9_cat'].isin(list(['Like-fb', 'Twitter image','Hasta luego']))]"
   ]
  },
  {
   "cell_type": "code",
   "execution_count": 323,
   "metadata": {
    "collapsed": true
   },
   "outputs": [],
   "source": [
    "nulos=respuestas.loc[respuestas.uncaught_resp_9_text.isnull()]\n",
    "respuestas=respuestas.loc[respuestas.uncaught_resp_9_text.notnull()]"
   ]
  },
  {
   "cell_type": "markdown",
   "metadata": {},
   "source": [
    "### Pasar a minúsculas"
   ]
  },
  {
   "cell_type": "code",
   "execution_count": 324,
   "metadata": {
    "collapsed": true
   },
   "outputs": [],
   "source": [
    "respuestas['uncaught_resp_9_text']=respuestas['uncaught_resp_9_text'].str.lower()"
   ]
  },
  {
   "cell_type": "markdown",
   "metadata": {},
   "source": [
    " ### Quitar leading y trailing spaces, quitar puntuacion"
   ]
  },
  {
   "cell_type": "code",
   "execution_count": 325,
   "metadata": {
    "collapsed": true
   },
   "outputs": [],
   "source": [
    "respuestas['uncaught_resp_9_text']=respuestas['uncaught_resp_9_text'].str.strip()"
   ]
  },
  {
   "cell_type": "code",
   "execution_count": 326,
   "metadata": {
    "collapsed": true
   },
   "outputs": [],
   "source": [
    "respuestas['uncaught_resp_9_text_wc'] = respuestas['uncaught_resp_9_text'].apply(lambda x: len(str(x).split(\" \")))\n",
    "respuestas['uncaught_resp_9_text_nchar'] = respuestas['uncaught_resp_9_text'].apply(lambda x: len(str(x)))"
   ]
  },
  {
   "cell_type": "code",
   "execution_count": 327,
   "metadata": {},
   "outputs": [
    {
     "name": "stderr",
     "output_type": "stream",
     "text": [
      "/Users/pepe_opi/anaconda3/lib/python3.6/site-packages/pandas/core/indexing.py:179: SettingWithCopyWarning: \n",
      "A value is trying to be set on a copy of a slice from a DataFrame\n",
      "\n",
      "See the caveats in the documentation: http://pandas.pydata.org/pandas-docs/stable/indexing.html#indexing-view-versus-copy\n",
      "  self._setitem_with_indexer(indexer, value)\n"
     ]
    }
   ],
   "source": [
    "respuestas['categ_opi'].loc[(respuestas['uncaught_resp_9_text'].str.count('\\\\?')==respuestas['uncaught_resp_9_text_nchar'])]='duda'"
   ]
  },
  {
   "cell_type": "code",
   "execution_count": 328,
   "metadata": {
    "collapsed": true
   },
   "outputs": [],
   "source": [
    "respuestas['uncaught_resp_9_text_mod']=respuestas['uncaught_resp_9_text'].str.replace('[^\\w\\s]','')"
   ]
  },
  {
   "cell_type": "code",
   "execution_count": 329,
   "metadata": {
    "collapsed": true
   },
   "outputs": [],
   "source": [
    "respuestas['uncaught_resp_9_text_mod']=respuestas['uncaught_resp_9_text_mod'].str.strip()"
   ]
  },
  {
   "cell_type": "code",
   "execution_count": 330,
   "metadata": {
    "collapsed": true
   },
   "outputs": [],
   "source": [
    "respuestas['uncaught_resp_9_text_wc'] = respuestas['uncaught_resp_9_text_mod'].apply(lambda x: len(str(x).split(\" \")))\n",
    "respuestas['uncaught_resp_9_text_nchar'] = respuestas['uncaught_resp_9_text_mod'].apply(lambda x: len(str(x)))"
   ]
  },
  {
   "cell_type": "markdown",
   "metadata": {},
   "source": [
    "### Capturar emojis"
   ]
  },
  {
   "cell_type": "markdown",
   "metadata": {},
   "source": [
    "Actualmente, si el mensaje contiene un emoji, es canalizado a la categoría Emoji. Este filtro debe ser más estricto, pues usualmente ese emoji es usado en un mensaje real"
   ]
  },
  {
   "cell_type": "code",
   "execution_count": 331,
   "metadata": {
    "collapsed": true
   },
   "outputs": [],
   "source": [
    "def is_emoji(s):\n",
    "    count = 0\n",
    "    for emoji in range(1, len(UNICODE_EMOJI)):\n",
    "        count += s.count(list(UNICODE_EMOJI.keys())[emoji])\n",
    "    return count"
   ]
  },
  {
   "cell_type": "code",
   "execution_count": 332,
   "metadata": {
    "collapsed": true
   },
   "outputs": [],
   "source": [
    "es_emoji=pd.DataFrame()\n",
    "for i in range(0, respuestas.shape[0]):\n",
    "    es=pd.DataFrame({'es':is_emoji(respuestas['uncaught_resp_9_text'].iloc[i])}, index=[0])\n",
    "    es_emoji=pd.concat([es_emoji, es], ignore_index=True)"
   ]
  },
  {
   "cell_type": "code",
   "execution_count": 333,
   "metadata": {
    "collapsed": true
   },
   "outputs": [],
   "source": [
    "respuestas=respuestas.reset_index(drop=True)"
   ]
  },
  {
   "cell_type": "code",
   "execution_count": 334,
   "metadata": {
    "collapsed": true
   },
   "outputs": [],
   "source": [
    "respuestas=pd.concat([respuestas, es_emoji], axis=1)"
   ]
  },
  {
   "cell_type": "code",
   "execution_count": 335,
   "metadata": {},
   "outputs": [
    {
     "name": "stderr",
     "output_type": "stream",
     "text": [
      "/Users/pepe_opi/anaconda3/lib/python3.6/site-packages/pandas/core/indexing.py:179: SettingWithCopyWarning: \n",
      "A value is trying to be set on a copy of a slice from a DataFrame\n",
      "\n",
      "See the caveats in the documentation: http://pandas.pydata.org/pandas-docs/stable/indexing.html#indexing-view-versus-copy\n",
      "  self._setitem_with_indexer(indexer, value)\n"
     ]
    }
   ],
   "source": [
    "respuestas['categ_opi'].loc[(respuestas.es>0) &\n",
    "                            (respuestas.uncaught_resp_9_text_mod=='')]='emoji'"
   ]
  },
  {
   "cell_type": "markdown",
   "metadata": {},
   "source": [
    "### Quitar emojis que quedan en el texto"
   ]
  },
  {
   "cell_type": "code",
   "execution_count": 336,
   "metadata": {
    "collapsed": true
   },
   "outputs": [],
   "source": [
    "def give_emoji_free_text(text):\n",
    "    allchars = [str for str in text]\n",
    "    emoji_list = [c for c in allchars if c in UNICODE_EMOJI]\n",
    "    clean_text = ' '.join([str for str in text.split() if not any(i in str for i in emoji_list)])\n",
    "    return clean_text"
   ]
  },
  {
   "cell_type": "code",
   "execution_count": 337,
   "metadata": {},
   "outputs": [
    {
     "name": "stderr",
     "output_type": "stream",
     "text": [
      "/Users/pepe_opi/anaconda3/lib/python3.6/site-packages/pandas/core/indexing.py:179: SettingWithCopyWarning: \n",
      "A value is trying to be set on a copy of a slice from a DataFrame\n",
      "\n",
      "See the caveats in the documentation: http://pandas.pydata.org/pandas-docs/stable/indexing.html#indexing-view-versus-copy\n",
      "  self._setitem_with_indexer(indexer, value)\n"
     ]
    }
   ],
   "source": [
    "for i in range(0, respuestas.shape[0]):\n",
    "    respuestas['uncaught_resp_9_text_mod'].iloc[i]=give_emoji_free_text(respuestas.uncaught_resp_9_text_mod.iloc[i])"
   ]
  },
  {
   "cell_type": "markdown",
   "metadata": {},
   "source": [
    "### Quitar  acentos"
   ]
  },
  {
   "cell_type": "code",
   "execution_count": 338,
   "metadata": {},
   "outputs": [
    {
     "name": "stderr",
     "output_type": "stream",
     "text": [
      "/Users/pepe_opi/anaconda3/lib/python3.6/site-packages/pandas/core/indexing.py:179: SettingWithCopyWarning: \n",
      "A value is trying to be set on a copy of a slice from a DataFrame\n",
      "\n",
      "See the caveats in the documentation: http://pandas.pydata.org/pandas-docs/stable/indexing.html#indexing-view-versus-copy\n",
      "  self._setitem_with_indexer(indexer, value)\n"
     ]
    }
   ],
   "source": [
    "respuestas['categ_opi'].loc[(respuestas.uncaught_resp_9_text_mod.str.contains('https')) &\n",
    "              (respuestas.uncaught_resp_9_text_wc==1) & (respuestas.categ_opi.isnull())]='spam'\n",
    "\n"
   ]
  },
  {
   "cell_type": "code",
   "execution_count": 339,
   "metadata": {},
   "outputs": [
    {
     "name": "stderr",
     "output_type": "stream",
     "text": [
      "/Users/pepe_opi/anaconda3/lib/python3.6/site-packages/pandas/core/indexing.py:179: SettingWithCopyWarning: \n",
      "A value is trying to be set on a copy of a slice from a DataFrame\n",
      "\n",
      "See the caveats in the documentation: http://pandas.pydata.org/pandas-docs/stable/indexing.html#indexing-view-versus-copy\n",
      "  self._setitem_with_indexer(indexer, value)\n"
     ]
    }
   ],
   "source": [
    "for i in range(0, respuestas.shape[0]):\n",
    "    respuestas['uncaught_resp_9_text_mod'].iloc[i]=unicodedata.normalize('NFD', respuestas['uncaught_resp_9_text_mod'].iloc[i]).encode('ascii', 'ignore').decode('utf-8')"
   ]
  },
  {
   "cell_type": "code",
   "execution_count": 340,
   "metadata": {},
   "outputs": [
    {
     "name": "stderr",
     "output_type": "stream",
     "text": [
      "/Users/pepe_opi/anaconda3/lib/python3.6/site-packages/pandas/core/indexing.py:179: SettingWithCopyWarning: \n",
      "A value is trying to be set on a copy of a slice from a DataFrame\n",
      "\n",
      "See the caveats in the documentation: http://pandas.pydata.org/pandas-docs/stable/indexing.html#indexing-view-versus-copy\n",
      "  self._setitem_with_indexer(indexer, value)\n"
     ]
    }
   ],
   "source": [
    "respuestas['categ_opi'].loc[(respuestas.uncaught_resp_9_text_mod.str.contains('si|sii')) &\n",
    "                            (respuestas.uncaught_resp_9_text_nchar==2)]='si'"
   ]
  },
  {
   "cell_type": "code",
   "execution_count": 341,
   "metadata": {},
   "outputs": [
    {
     "name": "stderr",
     "output_type": "stream",
     "text": [
      "/Users/pepe_opi/anaconda3/lib/python3.6/site-packages/pandas/core/indexing.py:179: SettingWithCopyWarning: \n",
      "A value is trying to be set on a copy of a slice from a DataFrame\n",
      "\n",
      "See the caveats in the documentation: http://pandas.pydata.org/pandas-docs/stable/indexing.html#indexing-view-versus-copy\n",
      "  self._setitem_with_indexer(indexer, value)\n"
     ]
    }
   ],
   "source": [
    "respuestas['categ_opi'].loc[(respuestas.uncaught_resp_9_text_mod.str.contains('no|noo')) &\n",
    "                            (respuestas.uncaught_resp_9_text_nchar==2)]='no'"
   ]
  },
  {
   "cell_type": "code",
   "execution_count": 342,
   "metadata": {},
   "outputs": [
    {
     "name": "stderr",
     "output_type": "stream",
     "text": [
      "/Users/pepe_opi/anaconda3/lib/python3.6/site-packages/pandas/core/indexing.py:179: SettingWithCopyWarning: \n",
      "A value is trying to be set on a copy of a slice from a DataFrame\n",
      "\n",
      "See the caveats in the documentation: http://pandas.pydata.org/pandas-docs/stable/indexing.html#indexing-view-versus-copy\n",
      "  self._setitem_with_indexer(indexer, value)\n"
     ]
    }
   ],
   "source": [
    "respuestas['categ_opi'].loc[(respuestas.uncaught_resp_9_text_mod.str.contains('gracias')) &\n",
    "               (respuestas.uncaught_resp_9_text_wc==1) ]='gracias'"
   ]
  },
  {
   "cell_type": "code",
   "execution_count": 343,
   "metadata": {},
   "outputs": [
    {
     "name": "stderr",
     "output_type": "stream",
     "text": [
      "/Users/pepe_opi/anaconda3/lib/python3.6/site-packages/pandas/core/indexing.py:179: SettingWithCopyWarning: \n",
      "A value is trying to be set on a copy of a slice from a DataFrame\n",
      "\n",
      "See the caveats in the documentation: http://pandas.pydata.org/pandas-docs/stable/indexing.html#indexing-view-versus-copy\n",
      "  self._setitem_with_indexer(indexer, value)\n"
     ]
    }
   ],
   "source": [
    "respuestas['categ_opi'].loc[(respuestas.uncaught_resp_9_text_mod.str.contains('ok|ook|okk')) & (respuestas.uncaught_resp_9_text_wc==1) &\n",
    "              (respuestas['categ_opi'].isnull())]='ok'"
   ]
  },
  {
   "cell_type": "code",
   "execution_count": 344,
   "metadata": {},
   "outputs": [
    {
     "name": "stderr",
     "output_type": "stream",
     "text": [
      "/Users/pepe_opi/anaconda3/lib/python3.6/site-packages/pandas/core/indexing.py:179: SettingWithCopyWarning: \n",
      "A value is trying to be set on a copy of a slice from a DataFrame\n",
      "\n",
      "See the caveats in the documentation: http://pandas.pydata.org/pandas-docs/stable/indexing.html#indexing-view-versus-copy\n",
      "  self._setitem_with_indexer(indexer, value)\n"
     ]
    }
   ],
   "source": [
    "respuestas['categ_opi'].loc[(respuestas.uncaught_resp_9_text_mod.str.contains('hola')) &\n",
    "              (respuestas.uncaught_resp_9_text_wc<=2) &\n",
    "              (respuestas.categ_opi.isnull())]='hola'\n",
    "respuestas['categ_opi'].loc[(respuestas.uncaught_resp_9_text_mod.str.contains('hola|buenas tardes|buenas noches|buenos dias')) &\n",
    "              (respuestas.uncaught_resp_9_text_wc<=4) &\n",
    "              (respuestas.categ_opi.isnull())]='hola'\n",
    "respuestas['categ_opi'].loc[(respuestas.uncaught_resp_9_text_mod.str.contains('gracias')) &\n",
    "              (respuestas.uncaught_resp_9_text_wc<=5) &\n",
    "              (respuestas.categ_opi.isnull())]='gracias'\n",
    "respuestas['categ_opi'].loc[(respuestas.uncaught_resp_9_text_mod.str.contains('horario')) &\n",
    "               (respuestas.uncaught_resp_9_text_mod.str.contains('atencion')) &\n",
    "              (respuestas.categ_opi.isnull())]='pregunta_horario'\n",
    "\n",
    "respuestas['categ_opi'].loc[(respuestas.uncaught_resp_9_text_mod.str.contains('numero')) &\n",
    "               (respuestas.uncaught_resp_9_text_mod.str.contains('telefono')) &\n",
    "               (respuestas.uncaught_resp_9_text_wc<10) &\n",
    "              (respuestas.categ_opi.isnull())]='pregunta_telefono'\n",
    "\n",
    "respuestas.categ_opi.loc[respuestas.uncaught_resp_9_text_mod.str.contains('added') &\n",
    "              respuestas.categ_opi.isnull()]='spam'"
   ]
  },
  {
   "cell_type": "code",
   "execution_count": 345,
   "metadata": {
    "collapsed": true
   },
   "outputs": [],
   "source": [
    "x_train=pd.read_csv('/Users/pepe_opi/Documents/GIT/mi-salud/datos/muestra_2')"
   ]
  },
  {
   "cell_type": "code",
   "execution_count": 346,
   "metadata": {
    "collapsed": true
   },
   "outputs": [],
   "source": [
    "#x_train.reset_index(drop=True).sample(100).to_csv('muestra_1')\n",
    "#x_train.reset_index(drop=True).sample(100).to_csv('muestra_2')"
   ]
  },
  {
   "cell_type": "code",
   "execution_count": 347,
   "metadata": {
    "collapsed": true
   },
   "outputs": [],
   "source": [
    "x_target=x_train.categ\n",
    "x_train=x_train.mensaje"
   ]
  },
  {
   "cell_type": "code",
   "execution_count": 348,
   "metadata": {
    "collapsed": true
   },
   "outputs": [],
   "source": [
    "stop=nltk.corpus.stopwords.words(\"spanish\")"
   ]
  },
  {
   "cell_type": "code",
   "execution_count": 349,
   "metadata": {
    "collapsed": true
   },
   "outputs": [],
   "source": [
    "stemmer = SnowballStemmer(\"spanish\")\n",
    "\n",
    "def tokenize_and_stem(text):\n",
    "    # first tokenize by sentence, then by word to ensure that punctuation is caught as it's own token\n",
    "    tokens = [word for sent in nltk.sent_tokenize(text) for word in nltk.word_tokenize(sent)]\n",
    "    filtered_tokens = []\n",
    "    # filter out any tokens not containing letters (e.g., numeric tokens, raw punctuation)\n",
    "    for token in tokens:\n",
    "        if re.search('[a-zA-Z]', token):\n",
    "            filtered_tokens.append(token)\n",
    "    stems = [stemmer.stem(t) for t in filtered_tokens]\n",
    "    return stems\n",
    "\n",
    "\n",
    "def tokenize_only(text):\n",
    "    # first tokenize by sentence, then by word to ensure that punctuation is caught as it's own token\n",
    "    tokens = [word.lower() for sent in nltk.sent_tokenize(text) for word in nltk.word_tokenize(sent)]\n",
    "    filtered_tokens = []\n",
    "    # filter out any tokens not containing letters (e.g., numeric tokens, raw punctuation)\n",
    "    for token in tokens:\n",
    "        if re.search('[a-zA-Z]', token):\n",
    "            filtered_tokens.append(token)\n",
    "    return filtered_tokens"
   ]
  },
  {
   "cell_type": "code",
   "execution_count": 350,
   "metadata": {
    "collapsed": true
   },
   "outputs": [],
   "source": [
    "totalvocab_stemmed = []\n",
    "totalvocab_tokenized = []\n",
    "lista_fin=list()\n",
    "for i in x_train:\n",
    "    allwords_stemmed = tokenize_and_stem(i) #for each item in 'synopses', tokenize/stem\n",
    "    totalvocab_stemmed.extend(allwords_stemmed) #extend the 'totalvocab_stemmed' list\n",
    "    allwords_tokenized = tokenize_only(i)\n",
    "    totalvocab_tokenized.extend(allwords_tokenized)"
   ]
  },
  {
   "cell_type": "code",
   "execution_count": 351,
   "metadata": {},
   "outputs": [
    {
     "name": "stdout",
     "output_type": "stream",
     "text": [
      "CPU times: user 147 ms, sys: 6.58 ms, total: 154 ms\n",
      "Wall time: 151 ms\n",
      "(100, 2720)\n"
     ]
    }
   ],
   "source": [
    "\n",
    "#define vectorizer parameters\n",
    "tfidf_vectorizer = TfidfVectorizer(use_idf=True, tokenizer=tokenize_and_stem,\n",
    "                                 ngram_range=(1,2))\n",
    "\n",
    "%time tfidf_matrix = tfidf_vectorizer.fit_transform(x_train) #fit the vectorizer to synopses\n",
    "\n",
    "print(tfidf_matrix.shape)"
   ]
  },
  {
   "cell_type": "code",
   "execution_count": 352,
   "metadata": {
    "collapsed": true
   },
   "outputs": [],
   "source": [
    "from sklearn.naive_bayes import MultinomialNB\n",
    "clf = MultinomialNB().fit(tfidf_matrix, x_target)\n",
    "\n"
   ]
  },
  {
   "cell_type": "code",
   "execution_count": 306,
   "metadata": {
    "collapsed": true
   },
   "outputs": [],
   "source": [
    "test=respuestas.uncaught_resp_9_text_mod.loc[respuestas.categ_opi.isnull()]\n"
   ]
  },
  {
   "cell_type": "code",
   "execution_count": 307,
   "metadata": {
    "collapsed": true
   },
   "outputs": [],
   "source": [
    "tfidf_matrix_test = tfidf_vectorizer.transform(test)\n",
    "\n"
   ]
  },
  {
   "cell_type": "code",
   "execution_count": 308,
   "metadata": {},
   "outputs": [
    {
     "data": {
      "text/plain": [
       "5    992\n",
       "6      1\n",
       "Name: 0, dtype: int64"
      ]
     },
     "execution_count": 308,
     "metadata": {},
     "output_type": "execute_result"
    }
   ],
   "source": [
    "pd.DataFrame(clf.predict(tfidf_matrix_test))[0].value_counts()\n",
    "\n"
   ]
  },
  {
   "cell_type": "code",
   "execution_count": 309,
   "metadata": {},
   "outputs": [
    {
     "data": {
      "text/plain": [
       "1144    hello i am contacting from the uk i would like...\n",
       "Name: uncaught_resp_9_text_mod, dtype: object"
      ]
     },
     "execution_count": 309,
     "metadata": {},
     "output_type": "execute_result"
    }
   ],
   "source": [
    "test.loc[clf.predict(tfidf_matrix_test)==6]"
   ]
  },
  {
   "cell_type": "code",
   "execution_count": 310,
   "metadata": {
    "collapsed": true
   },
   "outputs": [],
   "source": [
    "terms = tfidf_vectorizer.get_feature_names()"
   ]
  }
 ],
 "metadata": {
  "kernelspec": {
   "display_name": "Python 3",
   "language": "python",
   "name": "python3"
  },
  "language_info": {
   "codemirror_mode": {
    "name": "ipython",
    "version": 3
   },
   "file_extension": ".py",
   "mimetype": "text/x-python",
   "name": "python",
   "nbconvert_exporter": "python",
   "pygments_lexer": "ipython3",
   "version": "3.6.3"
  }
 },
 "nbformat": 4,
 "nbformat_minor": 2
}

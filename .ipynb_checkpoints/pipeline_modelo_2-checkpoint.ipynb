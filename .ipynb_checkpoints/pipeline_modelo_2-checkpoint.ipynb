{
 "cells": [
  {
   "cell_type": "code",
   "execution_count": 1,
   "metadata": {},
   "outputs": [
    {
     "name": "stdout",
     "output_type": "stream",
     "text": [
      "[NbConvertApp] Converting notebook script_reglas.ipynb to script\n",
      "[NbConvertApp] Writing 4295 bytes to script_reglas.py\n"
     ]
    }
   ],
   "source": [
    "import pandas as pd\n",
    "import script_reglas\n",
    "\n",
    "import nltk as nltk\n",
    "from emoji import UNICODE_EMOJI\n",
    "import unicodedata as unicodedata\n",
    "import re\n",
    "from __future__ import print_function\n",
    "from nltk.stem.snowball import SnowballStemmer\n",
    "from sklearn.feature_extraction.text import TfidfVectorizer\n",
    "import numpy as np\n",
    "\n",
    "from sklearn.naive_bayes import MultinomialNB\n",
    "from xgboost.sklearn import XGBClassifier\n",
    "from sklearn.ensemble import GradientBoostingClassifier, RandomForestClassifier\n",
    "from sklearn.svm import SVC, LinearSVC\n",
    "from sklearn.decomposition import TruncatedSVD\n",
    "from joblib import Parallel, delayed\n",
    "from sklearn.metrics import f1_score\n",
    "\n",
    "pd.set_option('display.max_rows', 500)\n",
    "pd.set_option('display.max_columns', 500)"
   ]
  },
  {
   "cell_type": "code",
   "execution_count": 2,
   "metadata": {
    "scrolled": true
   },
   "outputs": [],
   "source": [
    "respuestas=pd.read_excel('s3://presidencia-mi-salud/processed/results_export_964.xlsx', encoding='utf-8')"
   ]
  },
  {
   "cell_type": "code",
   "execution_count": 3,
   "metadata": {},
   "outputs": [],
   "source": [
    "respuestas=respuestas[['Contact UUID', 'URN', 'Name', 'Groups', 'Response 9 (Text) - uncaught']]\n",
    "respuestas.columns=['id_contacto', 'urn', 'nombre_contacto', 'listas', 'texto']"
   ]
  },
  {
   "cell_type": "code",
   "execution_count": 4,
   "metadata": {},
   "outputs": [],
   "source": [
    "categoria_reglas=pd.DataFrame()\n",
    "for i in range(0, respuestas.shape[0]):\n",
    "    respuesta_regla=pd.DataFrame(script_reglas.procesa_reglas(str(respuestas['texto'].iloc[i])), index=[i])\n",
    "    categoria_reglas=pd.concat([categoria_reglas, respuesta_regla])\n",
    "respuestas=pd.concat([respuestas[['id_contacto', 'urn', 'nombre_contacto', 'listas']],\n",
    "                      categoria_reglas], axis=1)"
   ]
  },
  {
   "cell_type": "code",
   "execution_count": 5,
   "metadata": {},
   "outputs": [
    {
     "name": "stdout",
     "output_type": "stream",
     "text": [
      "(3045, 9)\n",
      "(2472, 9)\n"
     ]
    }
   ],
   "source": [
    "print(respuestas.shape)\n",
    "respuestas=respuestas.loc[respuestas.texto!='nan']\n",
    "print(respuestas.shape)"
   ]
  },
  {
   "cell_type": "code",
   "execution_count": 6,
   "metadata": {
    "scrolled": true
   },
   "outputs": [
    {
     "data": {
      "text/plain": [
       "modelo           974\n",
       "like-fb          480\n",
       "si               309\n",
       "gracias          184\n",
       "hola             136\n",
       "no               114\n",
       "informacion       96\n",
       "ok                95\n",
       "emoji             36\n",
       "spam              23\n",
       "twitter-image     13\n",
       "hasta luego        6\n",
       "pregunta           4\n",
       "aborto             2\n",
       "Name: result, dtype: int64"
      ]
     },
     "execution_count": 6,
     "metadata": {},
     "output_type": "execute_result"
    }
   ],
   "source": [
    "respuestas.result.value_counts()"
   ]
  },
  {
   "cell_type": "code",
   "execution_count": 7,
   "metadata": {},
   "outputs": [],
   "source": [
    "etiquetado=pd.read_csv('s3://presidencia-mi-salud/processed/clasificacion_misalud.csv')"
   ]
  },
  {
   "cell_type": "code",
   "execution_count": 8,
   "metadata": {},
   "outputs": [
    {
     "name": "stdout",
     "output_type": "stream",
     "text": [
      "(2472, 11)\n"
     ]
    }
   ],
   "source": [
    "respuestas_etiquetas=pd.merge(respuestas, etiquetado[['id_contacto', 'categ_opi', 'Clasificacion final']],how='left',\n",
    "                              on=['id_contacto'])\n",
    "print(respuestas_etiquetas.shape)"
   ]
  },
  {
   "cell_type": "code",
   "execution_count": 9,
   "metadata": {},
   "outputs": [],
   "source": [
    "respuestas_etiquetas.columns=['id_contacto', 'urn', 'nombre_contacto', 'listas', 'cc', 'result',\n",
    "       'texto', 'texto_proc', 'wc', 'categ_opi', 'categ_final']"
   ]
  },
  {
   "cell_type": "code",
   "execution_count": 10,
   "metadata": {},
   "outputs": [],
   "source": [
    "respuestas_etiquetas=respuestas_etiquetas.loc[respuestas_etiquetas.result=='modelo']"
   ]
  },
  {
   "cell_type": "code",
   "execution_count": 11,
   "metadata": {
    "scrolled": true
   },
   "outputs": [
    {
     "data": {
      "text/html": [
       "<div>\n",
       "<style scoped>\n",
       "    .dataframe tbody tr th:only-of-type {\n",
       "        vertical-align: middle;\n",
       "    }\n",
       "\n",
       "    .dataframe tbody tr th {\n",
       "        vertical-align: top;\n",
       "    }\n",
       "\n",
       "    .dataframe thead th {\n",
       "        text-align: right;\n",
       "    }\n",
       "</style>\n",
       "<table border=\"1\" class=\"dataframe\">\n",
       "  <thead>\n",
       "    <tr style=\"text-align: right;\">\n",
       "      <th>categ_opi</th>\n",
       "      <th>emergencia</th>\n",
       "      <th>informacion</th>\n",
       "      <th>nacimiento</th>\n",
       "      <th>otra</th>\n",
       "      <th>otra_queja</th>\n",
       "      <th>pregunta</th>\n",
       "      <th>pregunta_busca trabajo</th>\n",
       "      <th>respuesta</th>\n",
       "      <th>All</th>\n",
       "    </tr>\n",
       "    <tr>\n",
       "      <th>categ_final</th>\n",
       "      <th></th>\n",
       "      <th></th>\n",
       "      <th></th>\n",
       "      <th></th>\n",
       "      <th></th>\n",
       "      <th></th>\n",
       "      <th></th>\n",
       "      <th></th>\n",
       "      <th></th>\n",
       "    </tr>\n",
       "  </thead>\n",
       "  <tbody>\n",
       "    <tr>\n",
       "      <th>cancelar</th>\n",
       "      <td>0</td>\n",
       "      <td>0</td>\n",
       "      <td>1</td>\n",
       "      <td>0</td>\n",
       "      <td>0</td>\n",
       "      <td>0</td>\n",
       "      <td>0</td>\n",
       "      <td>4</td>\n",
       "      <td>5</td>\n",
       "    </tr>\n",
       "    <tr>\n",
       "      <th>emergencia</th>\n",
       "      <td>5</td>\n",
       "      <td>1</td>\n",
       "      <td>0</td>\n",
       "      <td>0</td>\n",
       "      <td>1</td>\n",
       "      <td>0</td>\n",
       "      <td>0</td>\n",
       "      <td>0</td>\n",
       "      <td>7</td>\n",
       "    </tr>\n",
       "    <tr>\n",
       "      <th>informacion</th>\n",
       "      <td>0</td>\n",
       "      <td>42</td>\n",
       "      <td>0</td>\n",
       "      <td>4</td>\n",
       "      <td>0</td>\n",
       "      <td>0</td>\n",
       "      <td>0</td>\n",
       "      <td>2</td>\n",
       "      <td>48</td>\n",
       "    </tr>\n",
       "    <tr>\n",
       "      <th>nacimiento</th>\n",
       "      <td>0</td>\n",
       "      <td>0</td>\n",
       "      <td>7</td>\n",
       "      <td>0</td>\n",
       "      <td>0</td>\n",
       "      <td>0</td>\n",
       "      <td>0</td>\n",
       "      <td>0</td>\n",
       "      <td>7</td>\n",
       "    </tr>\n",
       "    <tr>\n",
       "      <th>otra</th>\n",
       "      <td>0</td>\n",
       "      <td>0</td>\n",
       "      <td>0</td>\n",
       "      <td>267</td>\n",
       "      <td>1</td>\n",
       "      <td>0</td>\n",
       "      <td>0</td>\n",
       "      <td>3</td>\n",
       "      <td>271</td>\n",
       "    </tr>\n",
       "    <tr>\n",
       "      <th>otra_queja</th>\n",
       "      <td>0</td>\n",
       "      <td>0</td>\n",
       "      <td>0</td>\n",
       "      <td>0</td>\n",
       "      <td>140</td>\n",
       "      <td>3</td>\n",
       "      <td>1</td>\n",
       "      <td>1</td>\n",
       "      <td>145</td>\n",
       "    </tr>\n",
       "    <tr>\n",
       "      <th>otra_registro</th>\n",
       "      <td>0</td>\n",
       "      <td>0</td>\n",
       "      <td>0</td>\n",
       "      <td>0</td>\n",
       "      <td>0</td>\n",
       "      <td>0</td>\n",
       "      <td>0</td>\n",
       "      <td>7</td>\n",
       "      <td>7</td>\n",
       "    </tr>\n",
       "    <tr>\n",
       "      <th>pregunta</th>\n",
       "      <td>0</td>\n",
       "      <td>21</td>\n",
       "      <td>0</td>\n",
       "      <td>2</td>\n",
       "      <td>1</td>\n",
       "      <td>309</td>\n",
       "      <td>3</td>\n",
       "      <td>1</td>\n",
       "      <td>337</td>\n",
       "    </tr>\n",
       "    <tr>\n",
       "      <th>pregunta_busca trabajo</th>\n",
       "      <td>0</td>\n",
       "      <td>0</td>\n",
       "      <td>0</td>\n",
       "      <td>1</td>\n",
       "      <td>0</td>\n",
       "      <td>0</td>\n",
       "      <td>57</td>\n",
       "      <td>0</td>\n",
       "      <td>58</td>\n",
       "    </tr>\n",
       "    <tr>\n",
       "      <th>pregunta_medica</th>\n",
       "      <td>4</td>\n",
       "      <td>3</td>\n",
       "      <td>0</td>\n",
       "      <td>1</td>\n",
       "      <td>0</td>\n",
       "      <td>9</td>\n",
       "      <td>0</td>\n",
       "      <td>1</td>\n",
       "      <td>18</td>\n",
       "    </tr>\n",
       "    <tr>\n",
       "      <th>respuesta</th>\n",
       "      <td>0</td>\n",
       "      <td>2</td>\n",
       "      <td>5</td>\n",
       "      <td>0</td>\n",
       "      <td>0</td>\n",
       "      <td>1</td>\n",
       "      <td>0</td>\n",
       "      <td>63</td>\n",
       "      <td>71</td>\n",
       "    </tr>\n",
       "    <tr>\n",
       "      <th>All</th>\n",
       "      <td>9</td>\n",
       "      <td>69</td>\n",
       "      <td>13</td>\n",
       "      <td>275</td>\n",
       "      <td>143</td>\n",
       "      <td>322</td>\n",
       "      <td>61</td>\n",
       "      <td>82</td>\n",
       "      <td>974</td>\n",
       "    </tr>\n",
       "  </tbody>\n",
       "</table>\n",
       "</div>"
      ],
      "text/plain": [
       "categ_opi               emergencia  informacion  nacimiento  otra  otra_queja  \\\n",
       "categ_final                                                                     \n",
       "cancelar                         0            0           1     0           0   \n",
       "emergencia                       5            1           0     0           1   \n",
       "informacion                      0           42           0     4           0   \n",
       "nacimiento                       0            0           7     0           0   \n",
       "otra                             0            0           0   267           1   \n",
       "otra_queja                       0            0           0     0         140   \n",
       "otra_registro                    0            0           0     0           0   \n",
       "pregunta                         0           21           0     2           1   \n",
       "pregunta_busca trabajo           0            0           0     1           0   \n",
       "pregunta_medica                  4            3           0     1           0   \n",
       "respuesta                        0            2           5     0           0   \n",
       "All                              9           69          13   275         143   \n",
       "\n",
       "categ_opi               pregunta  pregunta_busca trabajo  respuesta  All  \n",
       "categ_final                                                               \n",
       "cancelar                       0                       0          4    5  \n",
       "emergencia                     0                       0          0    7  \n",
       "informacion                    0                       0          2   48  \n",
       "nacimiento                     0                       0          0    7  \n",
       "otra                           0                       0          3  271  \n",
       "otra_queja                     3                       1          1  145  \n",
       "otra_registro                  0                       0          7    7  \n",
       "pregunta                     309                       3          1  337  \n",
       "pregunta_busca trabajo         0                      57          0   58  \n",
       "pregunta_medica                9                       0          1   18  \n",
       "respuesta                      1                       0         63   71  \n",
       "All                          322                      61         82  974  "
      ]
     },
     "execution_count": 11,
     "metadata": {},
     "output_type": "execute_result"
    }
   ],
   "source": [
    "respuestas_etiquetas.categ_final.loc[respuestas_etiquetas.categ_final.isnull()]=respuestas_etiquetas.categ_opi.loc[respuestas_etiquetas.categ_final.isnull()]\n",
    "\n",
    "pd.crosstab(respuestas_etiquetas.categ_final.fillna('missing').astype(str),\n",
    "            respuestas_etiquetas.categ_opi.fillna('missing').astype(str), margins=True).to_csv('compara_etiquetas.csv')\n",
    "\n",
    "pd.crosstab(respuestas_etiquetas.categ_final.fillna('missing').astype(str),\n",
    "            respuestas_etiquetas.categ_opi.fillna('missing').astype(str), margins=True)"
   ]
  },
  {
   "cell_type": "code",
   "execution_count": 12,
   "metadata": {},
   "outputs": [
    {
     "name": "stderr",
     "output_type": "stream",
     "text": [
      "/home/pepe/miniconda3/lib/python3.6/site-packages/pandas/core/indexing.py:194: SettingWithCopyWarning: \n",
      "A value is trying to be set on a copy of a slice from a DataFrame\n",
      "\n",
      "See the caveats in the documentation: http://pandas.pydata.org/pandas-docs/stable/indexing.html#indexing-view-versus-copy\n",
      "  self._setitem_with_indexer(indexer, value)\n"
     ]
    }
   ],
   "source": [
    "respuestas_etiquetas.categ_final.loc[(respuestas_etiquetas.categ_final=='cancelar')]='respuesta'\n",
    "respuestas_etiquetas.categ_final.loc[(respuestas_etiquetas.categ_final=='otra_registro')]='otra'\n"
   ]
  },
  {
   "cell_type": "code",
   "execution_count": 13,
   "metadata": {},
   "outputs": [
    {
     "name": "stderr",
     "output_type": "stream",
     "text": [
      "/home/pepe/miniconda3/lib/python3.6/site-packages/pandas/core/indexing.py:194: SettingWithCopyWarning: \n",
      "A value is trying to be set on a copy of a slice from a DataFrame\n",
      "\n",
      "See the caveats in the documentation: http://pandas.pydata.org/pandas-docs/stable/indexing.html#indexing-view-versus-copy\n",
      "  self._setitem_with_indexer(indexer, value)\n"
     ]
    }
   ],
   "source": [
    "respuestas_etiquetas.categ_final.loc[(respuestas_etiquetas.texto=='¿Cómo saben que estoy triste?')]='otra'\n"
   ]
  },
  {
   "cell_type": "code",
   "execution_count": 14,
   "metadata": {},
   "outputs": [
    {
     "data": {
      "text/html": [
       "<div>\n",
       "<style scoped>\n",
       "    .dataframe tbody tr th:only-of-type {\n",
       "        vertical-align: middle;\n",
       "    }\n",
       "\n",
       "    .dataframe tbody tr th {\n",
       "        vertical-align: top;\n",
       "    }\n",
       "\n",
       "    .dataframe thead th {\n",
       "        text-align: right;\n",
       "    }\n",
       "</style>\n",
       "<table border=\"1\" class=\"dataframe\">\n",
       "  <thead>\n",
       "    <tr style=\"text-align: right;\">\n",
       "      <th>categ_opi</th>\n",
       "      <th>emergencia</th>\n",
       "      <th>informacion</th>\n",
       "      <th>nacimiento</th>\n",
       "      <th>otra</th>\n",
       "      <th>otra_queja</th>\n",
       "      <th>pregunta</th>\n",
       "      <th>pregunta_busca trabajo</th>\n",
       "      <th>respuesta</th>\n",
       "      <th>All</th>\n",
       "    </tr>\n",
       "    <tr>\n",
       "      <th>categ_final</th>\n",
       "      <th></th>\n",
       "      <th></th>\n",
       "      <th></th>\n",
       "      <th></th>\n",
       "      <th></th>\n",
       "      <th></th>\n",
       "      <th></th>\n",
       "      <th></th>\n",
       "      <th></th>\n",
       "    </tr>\n",
       "  </thead>\n",
       "  <tbody>\n",
       "    <tr>\n",
       "      <th>emergencia</th>\n",
       "      <td>5</td>\n",
       "      <td>0</td>\n",
       "      <td>0</td>\n",
       "      <td>0</td>\n",
       "      <td>1</td>\n",
       "      <td>0</td>\n",
       "      <td>0</td>\n",
       "      <td>0</td>\n",
       "      <td>6</td>\n",
       "    </tr>\n",
       "    <tr>\n",
       "      <th>informacion</th>\n",
       "      <td>0</td>\n",
       "      <td>42</td>\n",
       "      <td>0</td>\n",
       "      <td>4</td>\n",
       "      <td>0</td>\n",
       "      <td>0</td>\n",
       "      <td>0</td>\n",
       "      <td>2</td>\n",
       "      <td>48</td>\n",
       "    </tr>\n",
       "    <tr>\n",
       "      <th>nacimiento</th>\n",
       "      <td>0</td>\n",
       "      <td>0</td>\n",
       "      <td>7</td>\n",
       "      <td>0</td>\n",
       "      <td>0</td>\n",
       "      <td>0</td>\n",
       "      <td>0</td>\n",
       "      <td>0</td>\n",
       "      <td>7</td>\n",
       "    </tr>\n",
       "    <tr>\n",
       "      <th>otra</th>\n",
       "      <td>0</td>\n",
       "      <td>1</td>\n",
       "      <td>0</td>\n",
       "      <td>267</td>\n",
       "      <td>1</td>\n",
       "      <td>0</td>\n",
       "      <td>0</td>\n",
       "      <td>10</td>\n",
       "      <td>279</td>\n",
       "    </tr>\n",
       "    <tr>\n",
       "      <th>otra_queja</th>\n",
       "      <td>0</td>\n",
       "      <td>0</td>\n",
       "      <td>0</td>\n",
       "      <td>0</td>\n",
       "      <td>140</td>\n",
       "      <td>3</td>\n",
       "      <td>1</td>\n",
       "      <td>1</td>\n",
       "      <td>145</td>\n",
       "    </tr>\n",
       "    <tr>\n",
       "      <th>pregunta</th>\n",
       "      <td>0</td>\n",
       "      <td>21</td>\n",
       "      <td>0</td>\n",
       "      <td>2</td>\n",
       "      <td>1</td>\n",
       "      <td>309</td>\n",
       "      <td>3</td>\n",
       "      <td>1</td>\n",
       "      <td>337</td>\n",
       "    </tr>\n",
       "    <tr>\n",
       "      <th>pregunta_busca trabajo</th>\n",
       "      <td>0</td>\n",
       "      <td>0</td>\n",
       "      <td>0</td>\n",
       "      <td>1</td>\n",
       "      <td>0</td>\n",
       "      <td>0</td>\n",
       "      <td>57</td>\n",
       "      <td>0</td>\n",
       "      <td>58</td>\n",
       "    </tr>\n",
       "    <tr>\n",
       "      <th>pregunta_medica</th>\n",
       "      <td>4</td>\n",
       "      <td>3</td>\n",
       "      <td>0</td>\n",
       "      <td>1</td>\n",
       "      <td>0</td>\n",
       "      <td>9</td>\n",
       "      <td>0</td>\n",
       "      <td>1</td>\n",
       "      <td>18</td>\n",
       "    </tr>\n",
       "    <tr>\n",
       "      <th>respuesta</th>\n",
       "      <td>0</td>\n",
       "      <td>2</td>\n",
       "      <td>6</td>\n",
       "      <td>0</td>\n",
       "      <td>0</td>\n",
       "      <td>1</td>\n",
       "      <td>0</td>\n",
       "      <td>67</td>\n",
       "      <td>76</td>\n",
       "    </tr>\n",
       "    <tr>\n",
       "      <th>All</th>\n",
       "      <td>9</td>\n",
       "      <td>69</td>\n",
       "      <td>13</td>\n",
       "      <td>275</td>\n",
       "      <td>143</td>\n",
       "      <td>322</td>\n",
       "      <td>61</td>\n",
       "      <td>82</td>\n",
       "      <td>974</td>\n",
       "    </tr>\n",
       "  </tbody>\n",
       "</table>\n",
       "</div>"
      ],
      "text/plain": [
       "categ_opi               emergencia  informacion  nacimiento  otra  otra_queja  \\\n",
       "categ_final                                                                     \n",
       "emergencia                       5            0           0     0           1   \n",
       "informacion                      0           42           0     4           0   \n",
       "nacimiento                       0            0           7     0           0   \n",
       "otra                             0            1           0   267           1   \n",
       "otra_queja                       0            0           0     0         140   \n",
       "pregunta                         0           21           0     2           1   \n",
       "pregunta_busca trabajo           0            0           0     1           0   \n",
       "pregunta_medica                  4            3           0     1           0   \n",
       "respuesta                        0            2           6     0           0   \n",
       "All                              9           69          13   275         143   \n",
       "\n",
       "categ_opi               pregunta  pregunta_busca trabajo  respuesta  All  \n",
       "categ_final                                                               \n",
       "emergencia                     0                       0          0    6  \n",
       "informacion                    0                       0          2   48  \n",
       "nacimiento                     0                       0          0    7  \n",
       "otra                           0                       0         10  279  \n",
       "otra_queja                     3                       1          1  145  \n",
       "pregunta                     309                       3          1  337  \n",
       "pregunta_busca trabajo         0                      57          0   58  \n",
       "pregunta_medica                9                       0          1   18  \n",
       "respuesta                      1                       0         67   76  \n",
       "All                          322                      61         82  974  "
      ]
     },
     "execution_count": 14,
     "metadata": {},
     "output_type": "execute_result"
    }
   ],
   "source": [
    "\n",
    "pd.crosstab(respuestas_etiquetas.categ_final.fillna('missing').astype(str),\n",
    "            respuestas_etiquetas.categ_opi.fillna('missing').astype(str), margins=True)"
   ]
  },
  {
   "cell_type": "code",
   "execution_count": 15,
   "metadata": {},
   "outputs": [],
   "source": [
    "map_fac=pd.factorize(respuestas_etiquetas.categ_final)[1]\n",
    "respuestas_etiquetas.categ_final=pd.factorize(respuestas_etiquetas.categ_final)[0]\n",
    "respuestas_etiquetas.categ_opi=respuestas_etiquetas.categ_final"
   ]
  },
  {
   "cell_type": "code",
   "execution_count": 16,
   "metadata": {},
   "outputs": [],
   "source": [
    "label_map={0:'otra',\n",
    "          1:'informacion',\n",
    "          2: 'nacimiento',\n",
    "          3: 'respuesta',\n",
    "          4: 'emergencia',\n",
    "          5: 'pregunta',\n",
    "          6: 'pregunta_busca trabajo',\n",
    "          7: 'otra_queja',\n",
    "          8: 'pregunta_medica'}"
   ]
  },
  {
   "cell_type": "code",
   "execution_count": 17,
   "metadata": {},
   "outputs": [],
   "source": [
    "respuestas_etiquetas.categ_opi=respuestas_etiquetas.categ_final.map(label_map)"
   ]
  },
  {
   "cell_type": "markdown",
   "metadata": {},
   "source": [
    "## preprocesamiento"
   ]
  },
  {
   "cell_type": "code",
   "execution_count": 18,
   "metadata": {},
   "outputs": [],
   "source": [
    "respuestas_etiquetas['texto_proc']=respuestas_etiquetas['texto'].str.lower()"
   ]
  },
  {
   "cell_type": "markdown",
   "metadata": {},
   "source": [
    " ### Quitar leading y trailing spaces, quitar puntuacion"
   ]
  },
  {
   "cell_type": "code",
   "execution_count": 19,
   "metadata": {},
   "outputs": [],
   "source": [
    "respuestas_etiquetas['texto_proc']=respuestas_etiquetas['texto_proc'].str.strip()"
   ]
  },
  {
   "cell_type": "code",
   "execution_count": 20,
   "metadata": {},
   "outputs": [],
   "source": [
    "respuestas_etiquetas['n_interrogacion']=respuestas_etiquetas['texto_proc'].str.count('\\\\?')>0"
   ]
  },
  {
   "cell_type": "code",
   "execution_count": 21,
   "metadata": {},
   "outputs": [],
   "source": [
    "respuestas_etiquetas['texto_proc']=respuestas_etiquetas['texto_proc'].str.replace('[^\\w\\s]','')"
   ]
  },
  {
   "cell_type": "code",
   "execution_count": 22,
   "metadata": {},
   "outputs": [],
   "source": [
    "respuestas_etiquetas['texto_proc']=respuestas_etiquetas['texto_proc'].str.strip()"
   ]
  },
  {
   "cell_type": "markdown",
   "metadata": {},
   "source": [
    "### Capturar emojis"
   ]
  },
  {
   "cell_type": "code",
   "execution_count": 23,
   "metadata": {},
   "outputs": [
    {
     "name": "stdout",
     "output_type": "stream",
     "text": [
      "True\n"
     ]
    }
   ],
   "source": [
    "es_emoji=pd.DataFrame()\n",
    "for i in range(0, respuestas_etiquetas.shape[0]):\n",
    "    es=pd.DataFrame({'es':script_reglas.is_emoji(respuestas_etiquetas['texto'].iloc[i])}, index=[0])\n",
    "    es_emoji=pd.concat([es_emoji, es], ignore_index=True)\n",
    "print(es_emoji.shape[0]==respuestas_etiquetas.shape[0])"
   ]
  },
  {
   "cell_type": "code",
   "execution_count": 24,
   "metadata": {},
   "outputs": [],
   "source": [
    "respuestas_etiquetas=respuestas_etiquetas.reset_index(drop=True)"
   ]
  },
  {
   "cell_type": "code",
   "execution_count": 25,
   "metadata": {},
   "outputs": [],
   "source": [
    "respuestas_etiquetas=pd.concat([respuestas_etiquetas, es_emoji], axis=1)"
   ]
  },
  {
   "cell_type": "markdown",
   "metadata": {},
   "source": [
    "### Quitar emojis que quedan en el texto"
   ]
  },
  {
   "cell_type": "code",
   "execution_count": 26,
   "metadata": {},
   "outputs": [],
   "source": [
    "sinemojis=pd.DataFrame()\n",
    "for i in range(0, respuestas_etiquetas.shape[0]):\n",
    "    sinemojis_i=script_reglas.give_emoji_free_text(respuestas_etiquetas.texto_proc.iloc[i])\n",
    "    sinemojis_i=pd.DataFrame({'texto':sinemojis_i}, index=[i])\n",
    "    sinemojis=pd.concat([sinemojis, sinemojis_i])\n",
    "respuestas_etiquetas['texto_proc']=sinemojis"
   ]
  },
  {
   "cell_type": "markdown",
   "metadata": {},
   "source": [
    "### Quitar  acentos"
   ]
  },
  {
   "cell_type": "code",
   "execution_count": 27,
   "metadata": {},
   "outputs": [],
   "source": [
    "sinacentos=pd.DataFrame()\n",
    "for i in range(0, respuestas_etiquetas.shape[0]):\n",
    "    sinacentos_i=unicodedata.normalize('NFD', respuestas_etiquetas['texto_proc'].iloc[i]).encode('ascii', 'ignore').decode('utf-8')\n",
    "    sinacentos_i=pd.DataFrame({'texto':sinacentos_i}, index=[i])\n",
    "    sinacentos=pd.concat([sinacentos, sinacentos_i])\n",
    "respuestas_etiquetas['texto_proc']=sinacentos"
   ]
  },
  {
   "cell_type": "code",
   "execution_count": 28,
   "metadata": {},
   "outputs": [],
   "source": [
    "respuestas_etiquetas.texto_proc=respuestas_etiquetas.texto_proc.str.replace('ola|\\n|buena noche|buenos dias|buenos dia|buen dia|buenas noches|buenas tardes|buenas tarde|buen dia|bien dia|buena tardes|buena tarde|saludos|hola', '')"
   ]
  },
  {
   "cell_type": "markdown",
   "metadata": {},
   "source": [
    "### Procesar dummy de  listas"
   ]
  },
  {
   "cell_type": "code",
   "execution_count": 29,
   "metadata": {},
   "outputs": [],
   "source": [
    "respuestas_etiquetas.listas=respuestas_etiquetas.listas.str.lower()\n",
    "respuestas_etiquetas.listas=respuestas_etiquetas.listas.str.replace(',', '')\n",
    "respuestas_etiquetas.listas=respuestas_etiquetas.listas.str.replace('con fecha', 'con_fecha')\n",
    "respuestas_etiquetas.listas=respuestas_etiquetas.listas.str.replace('2 años', '2_anios')"
   ]
  },
  {
   "cell_type": "code",
   "execution_count": 30,
   "metadata": {},
   "outputs": [],
   "source": [
    "respuestas_etiquetas.listas=respuestas_etiquetas.listas.str.lower()\n",
    "respuestas_etiquetas.listas=respuestas_etiquetas.listas.str.replace(',', '')\n",
    "respuestas_etiquetas.listas=respuestas_etiquetas.listas.str.replace('con fecha', 'con_fecha')\n",
    "respuestas_etiquetas.listas=respuestas_etiquetas.listas.str.replace('2 años', '2_anios')\n",
    "\n",
    "prueba_listas=respuestas_etiquetas.listas.str.split(expand=True)\n",
    "lista=[pd.get_dummies(prueba_listas[col]) for col in prueba_listas]\n",
    "\n",
    "for i in range(0, len(lista)):\n",
    "    lista[i]['indice'] = lista[i].index\n",
    "lista=pd.concat(lista, ignore_index=True)\n",
    "prueba_listas=lista.groupby('indice', as_index=True).agg('sum')"
   ]
  },
  {
   "cell_type": "markdown",
   "metadata": {},
   "source": [
    "Eliminar listas con pocas personas"
   ]
  },
  {
   "cell_type": "code",
   "execution_count": 31,
   "metadata": {
    "scrolled": true
   },
   "outputs": [],
   "source": [
    "prueba_listas=prueba_listas[prueba_listas.sum()[~(prueba_listas.sum()<=3)].keys()]"
   ]
  },
  {
   "cell_type": "markdown",
   "metadata": {},
   "source": [
    "### TF-DF"
   ]
  },
  {
   "cell_type": "code",
   "execution_count": 32,
   "metadata": {},
   "outputs": [],
   "source": [
    "stop=nltk.corpus.stopwords.words(\"spanish\")"
   ]
  },
  {
   "cell_type": "code",
   "execution_count": 33,
   "metadata": {},
   "outputs": [],
   "source": [
    "for i in range(0, np.shape(stop)[0]):\n",
    "    stop[i]=unicodedata.normalize('NFD', stop[i]).encode('ascii', 'ignore').decode('utf-8')"
   ]
  },
  {
   "cell_type": "code",
   "execution_count": 34,
   "metadata": {},
   "outputs": [],
   "source": [
    "stemmer = SnowballStemmer(\"spanish\")\n",
    "\n",
    "def tokenize_and_stem(text):\n",
    "    # first tokenize by sentence, then by word to ensure that punctuation is caught as it's own token\n",
    "    tokens = [word for sent in nltk.sent_tokenize(text) for word in nltk.word_tokenize(sent)]\n",
    "    filtered_tokens = []\n",
    "    # filter out any tokens not containing letters (e.g., numeric tokens, raw punctuation)\n",
    "    for token in tokens:\n",
    "        if re.search('[a-zA-Z]', token):\n",
    "            filtered_tokens.append(token)\n",
    "    stems = [stemmer.stem(t) for t in filtered_tokens]\n",
    "    return stems\n",
    "\n",
    "\n",
    "def tokenize_only(text):\n",
    "    # first tokenize by sentence, then by word to ensure that punctuation is caught as it's own token\n",
    "    tokens = [word.lower() for sent in nltk.sent_tokenize(text) for word in nltk.word_tokenize(sent)]\n",
    "    filtered_tokens = []\n",
    "    # filter out any tokens not containing letters (e.g., numeric tokens, raw punctuation)\n",
    "    for token in tokens:\n",
    "        if re.search('[a-zA-Z]', token):\n",
    "            filtered_tokens.append(token)\n",
    "    return filtered_tokens"
   ]
  },
  {
   "cell_type": "code",
   "execution_count": 35,
   "metadata": {},
   "outputs": [],
   "source": [
    "stemmed=pd.DataFrame()\n",
    "for i in range(0, respuestas_etiquetas.shape[0]):\n",
    "    stemmed_i=' '.join(tokenize_and_stem(respuestas_etiquetas.texto_proc[i]))\n",
    "    stemmed_i=pd.DataFrame({'texto':stemmed_i}, index=[i])\n",
    "    stemmed=pd.concat([stemmed, stemmed_i])\n",
    "respuestas_etiquetas['texto_proc_stem']=stemmed"
   ]
  },
  {
   "cell_type": "code",
   "execution_count": 36,
   "metadata": {},
   "outputs": [],
   "source": [
    "#respuestas_etiquetas=respuestas_etiquetas.loc[respuestas_etiquetas.texto_proc.ravel()!='']"
   ]
  },
  {
   "cell_type": "code",
   "execution_count": 37,
   "metadata": {},
   "outputs": [
    {
     "data": {
      "text/plain": [
       "(974, 361)"
      ]
     },
     "execution_count": 37,
     "metadata": {},
     "output_type": "execute_result"
    }
   ],
   "source": [
    "from sklearn.feature_extraction.text import TfidfVectorizer\n",
    "tfidf = TfidfVectorizer(sublinear_tf=True, min_df=0.006, norm='l2', encoding='utf-8', ngram_range=([1, 1]),\n",
    "                        stop_words=stop)\n",
    "features = tfidf.fit_transform(respuestas_etiquetas.texto_proc)\n",
    "labels = respuestas_etiquetas.categ_opi\n",
    "features.shape"
   ]
  },
  {
   "cell_type": "code",
   "execution_count": 46,
   "metadata": {
    "scrolled": true
   },
   "outputs": [
    {
     "data": {
      "text/plain": [
       "(974, 538)"
      ]
     },
     "execution_count": 46,
     "metadata": {},
     "output_type": "execute_result"
    }
   ],
   "source": [
    "from sklearn.feature_extraction.text import TfidfVectorizer\n",
    "tfidf = TfidfVectorizer(sublinear_tf=True, min_df=0.006, norm='l2', encoding='utf-8', ngram_range=([1, 2]),\n",
    "                        stop_words=stop)\n",
    "features_stem = tfidf.fit_transform(respuestas_etiquetas.texto_proc_stem)\n",
    "labels = respuestas_etiquetas.categ_final\n",
    "features_stem.shape"
   ]
  },
  {
   "cell_type": "code",
   "execution_count": 47,
   "metadata": {},
   "outputs": [],
   "source": [
    "x_target=respuestas_etiquetas.categ_opi\n",
    "x_train=respuestas_etiquetas.texto_proc_stem"
   ]
  },
  {
   "cell_type": "code",
   "execution_count": 48,
   "metadata": {},
   "outputs": [],
   "source": [
    "totalvocab_stemmed = []\n",
    "totalvocab_tokenized = []\n",
    "lista_fin=list()\n",
    "for i in x_train:\n",
    "    allwords_stemmed = tokenize_and_stem(i) #for each item in 'synopses', tokenize/stem\n",
    "    totalvocab_stemmed.extend(allwords_stemmed) #extend the 'totalvocab_stemmed' list\n",
    "    allwords_tokenized = tokenize_only(i)\n",
    "    totalvocab_tokenized.extend(allwords_tokenized)"
   ]
  },
  {
   "cell_type": "code",
   "execution_count": 50,
   "metadata": {
    "scrolled": true
   },
   "outputs": [
    {
     "name": "stdout",
     "output_type": "stream",
     "text": [
      "# '0':\n",
      "  . Most correlated unigrams:\n",
      ". nacional\n",
      ". llam\n",
      ". oficin\n",
      ". escuel\n",
      ". extension\n",
      "  . Most correlated bigrams:\n",
      ". analisis confirm\n",
      ". porqu antibiot\n",
      ". bols trabaj\n",
      ". asi com\n",
      ". algun numer\n",
      "  . Most correlated trigrams:\n",
      ". \n",
      "# '1':\n",
      "  . Most correlated unigrams:\n",
      ". ofrec\n",
      ". habl\n",
      ". pais\n",
      ". pagin\n",
      ". embaraz\n",
      "  . Most correlated bigrams:\n",
      ". contr bacteri\n",
      ". baj preci\n",
      ". informacion porqu\n",
      ". men lech\n",
      ". campan vacunacion\n",
      "  . Most correlated trigrams:\n",
      ". \n",
      "# '2':\n",
      "  . Most correlated unigrams:\n",
      ". person\n",
      ". dias\n",
      ". may\n",
      ". nadi\n",
      ". atend\n",
      "  . Most correlated bigrams:\n",
      ". jug yogur\n",
      ". contr bacteri\n",
      ". ningun product\n",
      ". disculp podri\n",
      ". much graci\n",
      "  . Most correlated trigrams:\n",
      ". \n",
      "# '3':\n",
      "  . Most correlated unigrams:\n",
      ". porfavor\n",
      ". inform\n",
      ". doctor\n",
      ". nadi\n",
      ". enfermeri\n",
      "  . Most correlated bigrams:\n",
      ". ningun product\n",
      ". disculp podri\n",
      ". much graci\n",
      ". deb pas\n",
      ". com pued\n",
      "  . Most correlated trigrams:\n",
      ". \n",
      "# '4':\n",
      "  . Most correlated unigrams:\n",
      ". per\n",
      ". atend\n",
      ". motiv\n",
      ". dolor\n",
      ". gratuit\n",
      "  . Most correlated bigrams:\n",
      ". acud par\n",
      ". compr ningun\n",
      ". antibiot contr\n",
      ". ped inform\n",
      ". informacion sobr\n",
      "  . Most correlated trigrams:\n",
      ". \n",
      "# '5':\n",
      "  . Most correlated unigrams:\n",
      ". ayud\n",
      ". may\n",
      ". ir\n",
      ". person\n",
      ". nombr\n",
      "  . Most correlated bigrams:\n",
      ". much men\n",
      ". graci esper\n",
      ". person vend\n",
      ". much graci\n",
      ". disculp podri\n",
      "  . Most correlated trigrams:\n",
      ". \n",
      "# '6':\n",
      "  . Most correlated unigrams:\n",
      ". anos\n",
      ". da\n",
      ". dad\n",
      ". part\n",
      ". atiend\n",
      "  . Most correlated bigrams:\n",
      ". ningun product\n",
      ". habr vacun\n",
      ". baj preci\n",
      ". par solicit\n",
      ". ciud mexic\n",
      "  . Most correlated trigrams:\n",
      ". \n",
      "# '7':\n",
      "  . Most correlated unigrams:\n",
      ". pod\n",
      ". ayer\n",
      ". medic\n",
      ". conoc\n",
      ". mexic\n",
      "  . Most correlated bigrams:\n",
      ". dond pued\n",
      ". apoy par\n",
      ". hac anos\n",
      ". bacteri salmonell\n",
      ". confirm tra\n",
      "  . Most correlated trigrams:\n",
      ". \n",
      "# '8':\n",
      "  . Most correlated unigrams:\n",
      ". ciert\n",
      ". copi\n",
      ". ahi\n",
      ". nac\n",
      ". pag\n",
      "  . Most correlated bigrams:\n",
      ". jug yogur\n",
      ". numer telefon\n",
      ". par sal\n",
      ". famili tuy\n",
      ". dond pued\n",
      "  . Most correlated trigrams:\n",
      ". \n"
     ]
    }
   ],
   "source": [
    "from sklearn.feature_selection import chi2\n",
    "\n",
    "N = 5\n",
    "for category_id in sorted(respuestas_etiquetas.categ_final.unique()):\n",
    "  features_chi2 = chi2(features, labels == category_id)\n",
    "  indices = np.argsort(features_chi2[0])\n",
    "  feature_names = np.array(tfidf.get_feature_names())[indices]\n",
    "  unigrams = [v for v in feature_names if len(v.split(' ')) == 1]\n",
    "  bigrams = [v for v in feature_names if len(v.split(' ')) == 2]\n",
    "  trigrams = [v for v in feature_names if len(v.split(' ')) == 3]\n",
    "  print(\"# '{}':\".format(category_id))\n",
    "  print(\"  . Most correlated unigrams:\\n. {}\".format('\\n. '.join(unigrams[-N:])))\n",
    "  print(\"  . Most correlated bigrams:\\n. {}\".format('\\n. '.join(bigrams[-N:])))\n",
    "  print(\"  . Most correlated trigrams:\\n. {}\".format('\\n. '.join(trigrams[-N:])))"
   ]
  },
  {
   "cell_type": "markdown",
   "metadata": {},
   "source": [
    "### Pruebas número de factores"
   ]
  },
  {
   "cell_type": "code",
   "execution_count": 41,
   "metadata": {},
   "outputs": [],
   "source": [
    "from sklearn.random_projection import SparseRandomProjection\n",
    "from sklearn.decomposition import TruncatedSVD\n",
    "from sklearn.model_selection import cross_val_predict\n",
    "#import umap\n",
    "import matplotlib.pyplot as plt\n",
    "import seaborn as sns\n",
    "#sns.set(context='notebook', style='white', rc={'figure.figsize':(20,20)})\n"
   ]
  },
  {
   "cell_type": "code",
   "execution_count": 66,
   "metadata": {},
   "outputs": [],
   "source": [
    "labs=x_target.factorize()[1]\n",
    "x_target=x_target.factorize()[0]"
   ]
  },
  {
   "cell_type": "code",
   "execution_count": 58,
   "metadata": {},
   "outputs": [
    {
     "data": {
      "text/plain": [
       "(973, 361)"
      ]
     },
     "execution_count": 58,
     "metadata": {},
     "output_type": "execute_result"
    }
   ],
   "source": [
    "\n",
    "\n"
   ]
  },
  {
   "cell_type": "code",
   "execution_count": 84,
   "metadata": {},
   "outputs": [],
   "source": [
    "features_i=features[0].toarray()\n",
    "features_menos_i=np.delete(features.toarray(), (0), axis=0)\n",
    "pca=TruncatedSVD(n_components=33)\n",
    "pca=pca.fit(features_menos_i)\n",
    "features_i=pca.transform(features_i)\n",
    "features_menos_i=pca.transform(features_menos_i)\n",
    "Xall=pd.DataFrame(features_menos_i)\n",
    "clasificador=RandomForestClassifier()\n",
    "loo_predict_proba=pd.DataFrame()\n",
    "X_i=pd.DataFrame(features_i).transpose()\n",
    "Xall_one_out=Xall\n",
    "x_target_one_out=pd.DataFrame(x_target).drop(0)\n",
    "clasificador=clasificador.fit(X=Xall_one_out,y=x_target_one_out[0].ravel())\n",
    "#pred=clasificador.predict(X_i.ravel())"
   ]
  },
  {
   "cell_type": "code",
   "execution_count": 89,
   "metadata": {},
   "outputs": [
    {
     "data": {
      "text/html": [
       "<div>\n",
       "<style scoped>\n",
       "    .dataframe tbody tr th:only-of-type {\n",
       "        vertical-align: middle;\n",
       "    }\n",
       "\n",
       "    .dataframe tbody tr th {\n",
       "        vertical-align: top;\n",
       "    }\n",
       "\n",
       "    .dataframe thead th {\n",
       "        text-align: right;\n",
       "    }\n",
       "</style>\n",
       "<table border=\"1\" class=\"dataframe\">\n",
       "  <thead>\n",
       "    <tr style=\"text-align: right;\">\n",
       "      <th></th>\n",
       "      <th>0</th>\n",
       "    </tr>\n",
       "  </thead>\n",
       "  <tbody>\n",
       "    <tr>\n",
       "      <th>0</th>\n",
       "      <td>0.081333</td>\n",
       "    </tr>\n",
       "    <tr>\n",
       "      <th>1</th>\n",
       "      <td>-0.025394</td>\n",
       "    </tr>\n",
       "    <tr>\n",
       "      <th>2</th>\n",
       "      <td>-0.055897</td>\n",
       "    </tr>\n",
       "    <tr>\n",
       "      <th>3</th>\n",
       "      <td>-0.053566</td>\n",
       "    </tr>\n",
       "    <tr>\n",
       "      <th>4</th>\n",
       "      <td>-0.011170</td>\n",
       "    </tr>\n",
       "    <tr>\n",
       "      <th>5</th>\n",
       "      <td>-0.086625</td>\n",
       "    </tr>\n",
       "    <tr>\n",
       "      <th>6</th>\n",
       "      <td>-0.024273</td>\n",
       "    </tr>\n",
       "    <tr>\n",
       "      <th>7</th>\n",
       "      <td>-0.035615</td>\n",
       "    </tr>\n",
       "    <tr>\n",
       "      <th>8</th>\n",
       "      <td>0.099660</td>\n",
       "    </tr>\n",
       "    <tr>\n",
       "      <th>9</th>\n",
       "      <td>-0.046535</td>\n",
       "    </tr>\n",
       "    <tr>\n",
       "      <th>10</th>\n",
       "      <td>0.115617</td>\n",
       "    </tr>\n",
       "    <tr>\n",
       "      <th>11</th>\n",
       "      <td>-0.032179</td>\n",
       "    </tr>\n",
       "    <tr>\n",
       "      <th>12</th>\n",
       "      <td>0.056793</td>\n",
       "    </tr>\n",
       "    <tr>\n",
       "      <th>13</th>\n",
       "      <td>0.005442</td>\n",
       "    </tr>\n",
       "    <tr>\n",
       "      <th>14</th>\n",
       "      <td>-0.042670</td>\n",
       "    </tr>\n",
       "    <tr>\n",
       "      <th>15</th>\n",
       "      <td>0.013888</td>\n",
       "    </tr>\n",
       "    <tr>\n",
       "      <th>16</th>\n",
       "      <td>0.006239</td>\n",
       "    </tr>\n",
       "    <tr>\n",
       "      <th>17</th>\n",
       "      <td>0.250380</td>\n",
       "    </tr>\n",
       "    <tr>\n",
       "      <th>18</th>\n",
       "      <td>0.064411</td>\n",
       "    </tr>\n",
       "    <tr>\n",
       "      <th>19</th>\n",
       "      <td>-0.016745</td>\n",
       "    </tr>\n",
       "    <tr>\n",
       "      <th>20</th>\n",
       "      <td>-0.005123</td>\n",
       "    </tr>\n",
       "    <tr>\n",
       "      <th>21</th>\n",
       "      <td>-0.089245</td>\n",
       "    </tr>\n",
       "    <tr>\n",
       "      <th>22</th>\n",
       "      <td>0.109422</td>\n",
       "    </tr>\n",
       "    <tr>\n",
       "      <th>23</th>\n",
       "      <td>-0.003104</td>\n",
       "    </tr>\n",
       "    <tr>\n",
       "      <th>24</th>\n",
       "      <td>0.021721</td>\n",
       "    </tr>\n",
       "    <tr>\n",
       "      <th>25</th>\n",
       "      <td>0.000488</td>\n",
       "    </tr>\n",
       "    <tr>\n",
       "      <th>26</th>\n",
       "      <td>0.001423</td>\n",
       "    </tr>\n",
       "    <tr>\n",
       "      <th>27</th>\n",
       "      <td>-0.046658</td>\n",
       "    </tr>\n",
       "    <tr>\n",
       "      <th>28</th>\n",
       "      <td>0.029234</td>\n",
       "    </tr>\n",
       "    <tr>\n",
       "      <th>29</th>\n",
       "      <td>0.051174</td>\n",
       "    </tr>\n",
       "    <tr>\n",
       "      <th>30</th>\n",
       "      <td>-0.030889</td>\n",
       "    </tr>\n",
       "    <tr>\n",
       "      <th>31</th>\n",
       "      <td>0.082931</td>\n",
       "    </tr>\n",
       "    <tr>\n",
       "      <th>32</th>\n",
       "      <td>0.035669</td>\n",
       "    </tr>\n",
       "  </tbody>\n",
       "</table>\n",
       "</div>"
      ],
      "text/plain": [
       "           0\n",
       "0   0.081333\n",
       "1  -0.025394\n",
       "2  -0.055897\n",
       "3  -0.053566\n",
       "4  -0.011170\n",
       "5  -0.086625\n",
       "6  -0.024273\n",
       "7  -0.035615\n",
       "8   0.099660\n",
       "9  -0.046535\n",
       "10  0.115617\n",
       "11 -0.032179\n",
       "12  0.056793\n",
       "13  0.005442\n",
       "14 -0.042670\n",
       "15  0.013888\n",
       "16  0.006239\n",
       "17  0.250380\n",
       "18  0.064411\n",
       "19 -0.016745\n",
       "20 -0.005123\n",
       "21 -0.089245\n",
       "22  0.109422\n",
       "23 -0.003104\n",
       "24  0.021721\n",
       "25  0.000488\n",
       "26  0.001423\n",
       "27 -0.046658\n",
       "28  0.029234\n",
       "29  0.051174\n",
       "30 -0.030889\n",
       "31  0.082931\n",
       "32  0.035669"
      ]
     },
     "execution_count": 89,
     "metadata": {},
     "output_type": "execute_result"
    }
   ],
   "source": [
    "X_i"
   ]
  },
  {
   "cell_type": "code",
   "execution_count": 124,
   "metadata": {},
   "outputs": [],
   "source": [
    "def loo(i, a):\n",
    "    features_i=features[i].toarray()\n",
    "    features_menos_i=np.delete(features.toarray(), (i), axis=0)\n",
    "    pca=TruncatedSVD(n_components=a)\n",
    "    pca=pca.fit(features_menos_i)\n",
    "    features_i=pca.transform(features_i)\n",
    "    features_menos_i=pca.transform(features_menos_i)\n",
    "    Xall=pd.DataFrame(features_menos_i)\n",
    "    clasificador=RandomForestClassifier()\n",
    "    loo_predict_proba=pd.DataFrame()\n",
    "    X_i=pd.DataFrame(features_i)\n",
    "    Xall_one_out=Xall\n",
    "    x_target_one_out=pd.DataFrame(x_target).drop(i)\n",
    "    clasificador=XGBClassifier()\n",
    "    clasificador=clasificador.fit(X=Xall_one_out,y=x_target_one_out[0].ravel())\n",
    "    pred=clasificador.predict(X_i)\n",
    "    pred_proba=clasificador.predict_proba(X_i)\n",
    "    loo_predict_proba_i=pd.concat([pd.DataFrame(respuestas_etiquetas.loc[i]).transpose(),\n",
    "                                      pd.DataFrame(pred, index=[i]), pd.DataFrame(pred_proba, index=[i]),\n",
    "                                     ], axis=1)\n",
    "    loo_predict_proba=pd.concat([loo_predict_proba, loo_predict_proba_i])\n",
    "    return(loo_predict_proba)"
   ]
  },
  {
   "cell_type": "code",
   "execution_count": 125,
   "metadata": {},
   "outputs": [],
   "source": [
    "from datetime import datetime"
   ]
  },
  {
   "cell_type": "code",
   "execution_count": 129,
   "metadata": {},
   "outputs": [
    {
     "name": "stdout",
     "output_type": "stream",
     "text": [
      "5\n",
      "\n",
      "   n_loadings  precision tiempo_entrenamiento\n",
      "5           5   0.457906      00:00:50.862731\n",
      "6\n",
      "\n",
      "   n_loadings  precision tiempo_entrenamiento\n",
      "6           6   0.466119      00:00:57.598032\n",
      "7\n",
      "\n",
      "   n_loadings  precision tiempo_entrenamiento\n",
      "7           7    0.48152      00:01:05.110506\n",
      "8\n",
      "\n",
      "   n_loadings  precision tiempo_entrenamiento\n",
      "8           8   0.475359      00:01:11.634430\n",
      "9\n",
      "\n",
      "   n_loadings  precision tiempo_entrenamiento\n",
      "9           9    0.48768      00:01:17.628628\n",
      "10\n",
      "\n",
      "    n_loadings  precision tiempo_entrenamiento\n",
      "10          10    0.51848      00:01:24.082070\n",
      "11\n",
      "\n",
      "    n_loadings  precision tiempo_entrenamiento\n",
      "11          11   0.522587      00:01:30.379279\n",
      "12\n",
      "\n",
      "    n_loadings  precision tiempo_entrenamiento\n",
      "12          12   0.542094      00:01:36.851680\n",
      "13\n",
      "\n",
      "    n_loadings  precision tiempo_entrenamiento\n",
      "13          13   0.522587      00:01:43.163151\n",
      "14\n",
      "\n",
      "    n_loadings  precision tiempo_entrenamiento\n",
      "14          14   0.527721      00:01:49.435166\n",
      "15\n",
      "\n",
      "    n_loadings  precision tiempo_entrenamiento\n",
      "15          15   0.514374      00:01:56.083098\n",
      "16\n",
      "\n",
      "    n_loadings  precision tiempo_entrenamiento\n",
      "16          16   0.523614      00:02:02.530606\n",
      "17\n",
      "\n",
      "    n_loadings  precision tiempo_entrenamiento\n",
      "17          17   0.540041      00:02:10.567814\n",
      "18\n",
      "\n",
      "    n_loadings  precision tiempo_entrenamiento\n",
      "18          18   0.510267      00:02:16.797943\n",
      "19\n",
      "\n",
      "    n_loadings  precision tiempo_entrenamiento\n",
      "19          19   0.520534      00:02:23.298945\n",
      "20\n",
      "\n",
      "    n_loadings  precision tiempo_entrenamiento\n",
      "20          20   0.525667      00:02:29.670845\n",
      "21\n",
      "\n",
      "    n_loadings  precision tiempo_entrenamiento\n",
      "21          21   0.524641      00:02:36.197177\n",
      "22\n",
      "\n",
      "    n_loadings  precision tiempo_entrenamiento\n",
      "22          22   0.523614      00:02:42.340947\n",
      "23\n",
      "\n",
      "    n_loadings  precision tiempo_entrenamiento\n",
      "23          23   0.529774      00:02:48.798092\n",
      "24\n",
      "\n",
      "    n_loadings  precision tiempo_entrenamiento\n",
      "24          24   0.526694      00:02:55.105721\n",
      "25\n",
      "\n",
      "    n_loadings  precision tiempo_entrenamiento\n",
      "25          25   0.541068      00:03:00.746711\n",
      "26\n",
      "\n",
      "    n_loadings  precision tiempo_entrenamiento\n",
      "26          26   0.528747      00:03:06.362648\n",
      "27\n",
      "\n",
      "    n_loadings  precision tiempo_entrenamiento\n",
      "27          27   0.534908      00:03:12.773339\n",
      "28\n",
      "\n",
      "    n_loadings  precision tiempo_entrenamiento\n",
      "28          28   0.529774      00:03:18.767360\n",
      "29\n",
      "\n",
      "    n_loadings  precision tiempo_entrenamiento\n",
      "29          29   0.528747      00:03:25.500692\n",
      "30\n",
      "\n",
      "    n_loadings  precision tiempo_entrenamiento\n",
      "30          30   0.530801      00:03:31.915497\n",
      "31\n",
      "\n",
      "    n_loadings  precision tiempo_entrenamiento\n",
      "31          31   0.541068      00:03:38.577638\n",
      "32\n",
      "\n",
      "    n_loadings  precision tiempo_entrenamiento\n",
      "32          32   0.545175      00:03:44.865052\n",
      "33\n",
      "\n",
      "    n_loadings  precision tiempo_entrenamiento\n",
      "33          33   0.536961      00:03:50.675253\n",
      "34\n",
      "\n",
      "    n_loadings  precision tiempo_entrenamiento\n",
      "34          34   0.530801      00:03:57.029277\n",
      "35\n",
      "\n",
      "    n_loadings  precision tiempo_entrenamiento\n",
      "35          35   0.539014      00:04:03.487755\n",
      "36\n",
      "\n",
      "    n_loadings  precision tiempo_entrenamiento\n",
      "36          36   0.537988      00:04:09.822376\n",
      "37\n",
      "\n",
      "    n_loadings  precision tiempo_entrenamiento\n",
      "37          37   0.547228      00:04:16.395191\n",
      "38\n",
      "\n",
      "    n_loadings  precision tiempo_entrenamiento\n",
      "38          38   0.534908      00:04:22.462849\n",
      "39\n",
      "\n",
      "    n_loadings  precision tiempo_entrenamiento\n",
      "39          39   0.541068      00:04:29.434733\n",
      "40\n",
      "\n",
      "    n_loadings  precision tiempo_entrenamiento\n",
      "40          40   0.534908      00:04:35.676813\n",
      "41\n",
      "\n",
      "    n_loadings  precision tiempo_entrenamiento\n",
      "41          41   0.539014      00:04:42.051031\n",
      "42\n",
      "\n",
      "    n_loadings  precision tiempo_entrenamiento\n",
      "42          42   0.539014      00:04:48.119440\n",
      "43\n",
      "\n",
      "    n_loadings  precision tiempo_entrenamiento\n",
      "43          43   0.524641      00:04:54.321205\n",
      "44\n",
      "\n",
      "    n_loadings  precision tiempo_entrenamiento\n",
      "44          44   0.541068      00:05:00.997938\n",
      "45\n",
      "\n",
      "    n_loadings  precision tiempo_entrenamiento\n",
      "45          45   0.526694      00:05:07.687152\n",
      "46\n",
      "\n",
      "    n_loadings  precision tiempo_entrenamiento\n",
      "46          46   0.531828      00:05:13.679425\n",
      "47\n",
      "\n",
      "    n_loadings  precision tiempo_entrenamiento\n",
      "47          47   0.542094      00:05:20.345301\n",
      "48\n",
      "\n",
      "    n_loadings  precision tiempo_entrenamiento\n",
      "48          48   0.534908      00:05:26.882595\n",
      "49\n",
      "\n",
      "    n_loadings  precision tiempo_entrenamiento\n",
      "49          49   0.532854      00:05:32.435526\n",
      "50\n",
      "\n",
      "    n_loadings  precision tiempo_entrenamiento\n",
      "50          50   0.536961      00:05:38.973944\n",
      "51\n",
      "\n",
      "    n_loadings  precision tiempo_entrenamiento\n",
      "51          51   0.540041      00:05:45.314593\n",
      "52\n",
      "\n",
      "    n_loadings  precision tiempo_entrenamiento\n",
      "52          52   0.539014      00:05:52.709010\n",
      "53\n",
      "\n",
      "    n_loadings  precision tiempo_entrenamiento\n",
      "53          53   0.529774      00:06:01.078884\n",
      "54\n",
      "\n",
      "    n_loadings  precision tiempo_entrenamiento\n",
      "54          54   0.540041      00:06:07.364388\n",
      "55\n",
      "\n",
      "    n_loadings  precision tiempo_entrenamiento\n",
      "55          55   0.541068      00:06:14.265913\n",
      "56\n",
      "\n",
      "    n_loadings  precision tiempo_entrenamiento\n",
      "56          56   0.540041      00:06:20.097731\n",
      "57\n",
      "\n",
      "    n_loadings  precision tiempo_entrenamiento\n",
      "57          57   0.533881      00:06:24.502835\n",
      "58\n",
      "\n",
      "    n_loadings  precision tiempo_entrenamiento\n",
      "58          58   0.528747      00:06:29.595886\n",
      "59\n",
      "\n",
      "    n_loadings  precision tiempo_entrenamiento\n",
      "59          59   0.520534      00:06:35.613158\n",
      "60\n",
      "\n",
      "    n_loadings  precision tiempo_entrenamiento\n",
      "60          60   0.537988      00:06:42.408862\n",
      "61\n",
      "\n",
      "    n_loadings  precision tiempo_entrenamiento\n",
      "61          61   0.543121      00:06:48.878390\n",
      "62\n",
      "\n",
      "    n_loadings  precision tiempo_entrenamiento\n",
      "62          62   0.542094      00:06:54.884625\n",
      "63\n",
      "\n",
      "    n_loadings  precision tiempo_entrenamiento\n",
      "63          63   0.521561      00:07:02.803814\n",
      "64\n",
      "\n",
      "    n_loadings  precision tiempo_entrenamiento\n",
      "64          64   0.536961      00:07:07.425376\n",
      "65\n",
      "\n",
      "    n_loadings  precision tiempo_entrenamiento\n",
      "65          65   0.536961      00:07:14.078050\n",
      "66\n",
      "\n",
      "    n_loadings  precision tiempo_entrenamiento\n",
      "66          66   0.534908      00:07:20.214456\n",
      "67\n",
      "\n",
      "    n_loadings  precision tiempo_entrenamiento\n",
      "67          67   0.533881      00:07:27.091989\n",
      "68\n",
      "\n",
      "    n_loadings  precision tiempo_entrenamiento\n",
      "68          68   0.530801      00:07:34.137919\n",
      "69\n",
      "\n",
      "    n_loadings  precision tiempo_entrenamiento\n",
      "69          69   0.536961      00:07:39.603095\n",
      "70\n",
      "\n",
      "    n_loadings  precision tiempo_entrenamiento\n",
      "70          70   0.543121      00:07:45.514762\n",
      "71\n",
      "\n",
      "    n_loadings  precision tiempo_entrenamiento\n",
      "71          71   0.533881      00:07:52.740815\n",
      "72\n",
      "\n",
      "    n_loadings  precision tiempo_entrenamiento\n",
      "72          72   0.537988      00:08:01.248696\n",
      "73\n",
      "\n",
      "    n_loadings  precision tiempo_entrenamiento\n",
      "73          73   0.543121      00:08:10.066814\n",
      "74\n",
      "\n",
      "    n_loadings  precision tiempo_entrenamiento\n",
      "74          74   0.530801      00:08:16.437828\n",
      "75\n",
      "\n",
      "    n_loadings  precision tiempo_entrenamiento\n",
      "75          75   0.536961      00:08:21.401284\n",
      "76\n",
      "\n",
      "    n_loadings  precision tiempo_entrenamiento\n",
      "76          76   0.541068      00:08:24.542296\n",
      "77\n",
      "\n",
      "    n_loadings  precision tiempo_entrenamiento\n",
      "77          77   0.536961      00:08:32.027220\n",
      "78\n",
      "\n",
      "    n_loadings  precision tiempo_entrenamiento\n",
      "78          78   0.542094      00:08:39.725070\n",
      "79\n",
      "\n",
      "    n_loadings  precision tiempo_entrenamiento\n",
      "79          79   0.536961      00:08:48.494203\n",
      "80\n",
      "\n",
      "    n_loadings  precision tiempo_entrenamiento\n",
      "80          80   0.533881      00:08:54.935874\n",
      "81\n",
      "\n",
      "    n_loadings  precision tiempo_entrenamiento\n",
      "81          81   0.531828      00:08:57.769945\n",
      "82\n",
      "\n",
      "    n_loadings  precision tiempo_entrenamiento\n",
      "82          82   0.540041      00:09:01.930117\n",
      "83\n",
      "\n",
      "    n_loadings  precision tiempo_entrenamiento\n",
      "83          83   0.532854      00:09:10.099733\n",
      "84\n",
      "\n",
      "    n_loadings  precision tiempo_entrenamiento\n",
      "84          84   0.540041      00:09:16.783029\n",
      "85\n",
      "\n",
      "    n_loadings  precision tiempo_entrenamiento\n",
      "85          85   0.529774      00:09:22.268802\n",
      "86\n",
      "\n",
      "    n_loadings  precision tiempo_entrenamiento\n",
      "86          86   0.534908      00:09:27.745560\n",
      "87\n",
      "\n",
      "    n_loadings  precision tiempo_entrenamiento\n",
      "87          87   0.539014      00:09:35.654159\n",
      "88\n",
      "\n",
      "    n_loadings  precision tiempo_entrenamiento\n",
      "88          88   0.548255      00:09:41.770137\n"
     ]
    },
    {
     "name": "stdout",
     "output_type": "stream",
     "text": [
      "89\n",
      "\n",
      "    n_loadings  precision tiempo_entrenamiento\n",
      "89          89   0.539014      00:09:47.840572\n",
      "90\n",
      "\n",
      "    n_loadings  precision tiempo_entrenamiento\n",
      "90          90   0.532854      00:09:55.041334\n",
      "91\n",
      "\n",
      "    n_loadings  precision tiempo_entrenamiento\n",
      "91          91   0.544148      00:10:00.587464\n",
      "92\n",
      "\n",
      "    n_loadings  precision tiempo_entrenamiento\n",
      "92          92   0.531828      00:10:06.647482\n",
      "93\n",
      "\n",
      "    n_loadings  precision tiempo_entrenamiento\n",
      "93          93   0.535934      00:10:13.053006\n",
      "94\n",
      "\n",
      "    n_loadings  precision tiempo_entrenamiento\n",
      "94          94   0.534908      00:10:17.843122\n",
      "95\n",
      "\n",
      "    n_loadings  precision tiempo_entrenamiento\n",
      "95          95   0.546201      00:10:27.236054\n",
      "96\n",
      "\n",
      "    n_loadings  precision tiempo_entrenamiento\n",
      "96          96   0.533881      00:10:32.151069\n",
      "97\n",
      "\n",
      "    n_loadings  precision tiempo_entrenamiento\n",
      "97          97   0.533881      00:10:39.592383\n",
      "98\n",
      "\n",
      "    n_loadings  precision tiempo_entrenamiento\n",
      "98          98   0.541068      00:10:44.709012\n",
      "99\n",
      "\n",
      "    n_loadings  precision tiempo_entrenamiento\n",
      "99          99   0.531828      00:10:51.358512\n"
     ]
    }
   ],
   "source": [
    "precision=pd.DataFrame()\n",
    "\n",
    "for a in range(5, 100):\n",
    "    inicio=datetime.now()\n",
    "    loo_predict_proba=Parallel(n_jobs=-1)(delayed(loo)(i, a) for i in respuestas_etiquetas.index)\n",
    "\n",
    "    fin=datetime.now()\n",
    "\n",
    "    loo_predict_proba=pd.concat(loo_predict_proba)\n",
    "\n",
    "    loo_predict_proba.columns=['id_contacto', 'urn', 'nombre_contacto', 'listas', 'cc', 'result', 'texto',\n",
    "                  'texto_proc', 'wc', 'categ_opi', 'categ_final', 'n_interrogacion', 'es',\n",
    "    'pred_loo', 0, 1, 2, 3, 4, 5, 6, 7, 8]\n",
    "\n",
    "    precision_i=f1_score(y_pred=loo_predict_proba['pred_loo'],y_true= x_target, average='micro')\n",
    "    print(str(a)+ '\\n')\n",
    "    precision_i=pd.DataFrame({'precision':precision_i,\n",
    "                  'tiempo_entrenamiento':(fin-inicio),'n_loadings':a}, index=[a])\n",
    "    precision=pd.concat([precision, precision_i],)\n",
    "    precision.to_csv('precision_loadings.csv')\n",
    "    print(precision_i)"
   ]
  },
  {
   "cell_type": "code",
   "execution_count": 132,
   "metadata": {},
   "outputs": [
    {
     "data": {
      "image/png": "[encoded data removed]",
      "text/plain": [
       "<Figure size 432x288 with 1 Axes>"
      ]
     },
     "metadata": {},
     "output_type": "display_data"
    },
    {
     "data": {
      "image/png": "[encoded data removed]",
      "text/plain": [
       "<Figure size 432x288 with 1 Axes>"
      ]
     },
     "metadata": {},
     "output_type": "display_data"
    }
   ],
   "source": [
    "plt.plot(precision.n_loadings, precision.precision)\n",
    "plt.show()\n",
    "plt.plot(precision.n_loadings, precision.tiempo_entrenamiento)\n",
    "plt.show()"
   ]
  },
  {
   "cell_type": "code",
   "execution_count": 146,
   "metadata": {},
   "outputs": [
    {
     "name": "stdout",
     "output_type": "stream",
     "text": [
      "0:03:52.995486\n"
     ]
    }
   ],
   "source": [
    "pca=TruncatedSVD(n_components=33)\n",
    "Xall=pca.fit_transform(features)\n",
    "Xall=pd.DataFrame(Xall)\n",
    "\n",
    "inicio=datetime.now()\n",
    "\n",
    "loo_predict_proba=Parallel(n_jobs=-1)(delayed(loo)(i, 33) for i in respuestas_etiquetas.index)\n",
    "\n",
    "fin=datetime.now()\n",
    "\n",
    "print(fin-inicio)\n",
    "\n",
    "   # print(str(i)+ ' ' +\n",
    "   #       loo_predict_proba_i[[0, 1, 2, 3, 4, 5, 6, 7, 8]].idxmax(axis=1).astype(str)[i]+ ' ' +\n",
    "   #       loo_predict_proba_i.categ_final.astype(str)[i] + ' '+loo_predict_proba_i.texto.astype(str)[i])"
   ]
  },
  {
   "cell_type": "code",
   "execution_count": 147,
   "metadata": {},
   "outputs": [],
   "source": [
    "loo_predict_proba=pd.concat(loo_predict_proba)"
   ]
  },
  {
   "cell_type": "code",
   "execution_count": 148,
   "metadata": {},
   "outputs": [
    {
     "data": {
      "text/plain": [
       "Index([    'id_contacto',             'urn', 'nombre_contacto',\n",
       "                'listas',              'cc',          'result',\n",
       "                 'texto',      'texto_proc',              'wc',\n",
       "             'categ_opi',     'categ_final', 'n_interrogacion',\n",
       "                    'es',                 0,                 0,\n",
       "                       1,                 2,                 3,\n",
       "                       4,                 5,                 6,\n",
       "                       7,                 8],\n",
       "      dtype='object')"
      ]
     },
     "execution_count": 148,
     "metadata": {},
     "output_type": "execute_result"
    }
   ],
   "source": [
    "loo_predict_proba.columns"
   ]
  },
  {
   "cell_type": "code",
   "execution_count": 149,
   "metadata": {},
   "outputs": [
    {
     "data": {
      "text/plain": [
       "0.5451745379876797"
      ]
     },
     "execution_count": 149,
     "metadata": {},
     "output_type": "execute_result"
    }
   ],
   "source": [
    "loo_predict_proba.columns=['id_contacto', 'urn', 'nombre_contacto', 'listas', 'cc', 'result', 'texto',\n",
    "                  'texto_proc', 'wc', 'categ_opi', 'categ_final', 'n_interrogacion', 'es',\n",
    "'pred_loo', 0, 1, 2, 3, 4, 5, 6, 7, 8]\n",
    "\n",
    "(loo_predict_proba['pred_loo']==x_target).mean()\n"
   ]
  },
  {
   "cell_type": "code",
   "execution_count": 152,
   "metadata": {},
   "outputs": [
    {
     "name": "stdout",
     "output_type": "stream",
     "text": [
      "0.3585891677650054\n"
     ]
    },
    {
     "name": "stderr",
     "output_type": "stream",
     "text": [
      "/home/pepe/miniconda3/lib/python3.6/site-packages/sklearn/metrics/classification.py:1135: UndefinedMetricWarning: F-score is ill-defined and being set to 0.0 in labels with no predicted samples.\n",
      "  'precision', 'predicted', average, warn_for)\n"
     ]
    }
   ],
   "source": [
    "precision=f1_score(y_pred=loo_predict_proba['pred_loo'],y_true= x_target, average='macro')\n",
    "print(precision)"
   ]
  },
  {
   "cell_type": "code",
   "execution_count": 154,
   "metadata": {},
   "outputs": [
    {
     "data": {
      "text/html": [
       "<div>\n",
       "<style scoped>\n",
       "    .dataframe tbody tr th:only-of-type {\n",
       "        vertical-align: middle;\n",
       "    }\n",
       "\n",
       "    .dataframe tbody tr th {\n",
       "        vertical-align: top;\n",
       "    }\n",
       "\n",
       "    .dataframe thead th {\n",
       "        text-align: right;\n",
       "    }\n",
       "</style>\n",
       "<table border=\"1\" class=\"dataframe\">\n",
       "  <thead>\n",
       "    <tr style=\"text-align: right;\">\n",
       "      <th>col_0</th>\n",
       "      <th>0</th>\n",
       "      <th>1</th>\n",
       "      <th>2</th>\n",
       "      <th>3</th>\n",
       "      <th>4</th>\n",
       "      <th>5</th>\n",
       "      <th>6</th>\n",
       "      <th>7</th>\n",
       "      <th>8</th>\n",
       "    </tr>\n",
       "    <tr>\n",
       "      <th>pred_loo</th>\n",
       "      <th></th>\n",
       "      <th></th>\n",
       "      <th></th>\n",
       "      <th></th>\n",
       "      <th></th>\n",
       "      <th></th>\n",
       "      <th></th>\n",
       "      <th></th>\n",
       "      <th></th>\n",
       "    </tr>\n",
       "  </thead>\n",
       "  <tbody>\n",
       "    <tr>\n",
       "      <th>0</th>\n",
       "      <td>168</td>\n",
       "      <td>17</td>\n",
       "      <td>1</td>\n",
       "      <td>68</td>\n",
       "      <td>1</td>\n",
       "      <td>54</td>\n",
       "      <td>8</td>\n",
       "      <td>28</td>\n",
       "      <td>11</td>\n",
       "    </tr>\n",
       "    <tr>\n",
       "      <th>1</th>\n",
       "      <td>2</td>\n",
       "      <td>6</td>\n",
       "      <td>0</td>\n",
       "      <td>0</td>\n",
       "      <td>0</td>\n",
       "      <td>4</td>\n",
       "      <td>1</td>\n",
       "      <td>3</td>\n",
       "      <td>0</td>\n",
       "    </tr>\n",
       "    <tr>\n",
       "      <th>2</th>\n",
       "      <td>0</td>\n",
       "      <td>0</td>\n",
       "      <td>6</td>\n",
       "      <td>0</td>\n",
       "      <td>1</td>\n",
       "      <td>2</td>\n",
       "      <td>0</td>\n",
       "      <td>0</td>\n",
       "      <td>0</td>\n",
       "    </tr>\n",
       "    <tr>\n",
       "      <th>3</th>\n",
       "      <td>4</td>\n",
       "      <td>0</td>\n",
       "      <td>0</td>\n",
       "      <td>3</td>\n",
       "      <td>0</td>\n",
       "      <td>2</td>\n",
       "      <td>0</td>\n",
       "      <td>0</td>\n",
       "      <td>1</td>\n",
       "    </tr>\n",
       "    <tr>\n",
       "      <th>5</th>\n",
       "      <td>82</td>\n",
       "      <td>22</td>\n",
       "      <td>0</td>\n",
       "      <td>3</td>\n",
       "      <td>3</td>\n",
       "      <td>254</td>\n",
       "      <td>24</td>\n",
       "      <td>38</td>\n",
       "      <td>6</td>\n",
       "    </tr>\n",
       "    <tr>\n",
       "      <th>6</th>\n",
       "      <td>4</td>\n",
       "      <td>0</td>\n",
       "      <td>0</td>\n",
       "      <td>0</td>\n",
       "      <td>0</td>\n",
       "      <td>2</td>\n",
       "      <td>21</td>\n",
       "      <td>3</td>\n",
       "      <td>0</td>\n",
       "    </tr>\n",
       "    <tr>\n",
       "      <th>7</th>\n",
       "      <td>19</td>\n",
       "      <td>3</td>\n",
       "      <td>0</td>\n",
       "      <td>1</td>\n",
       "      <td>1</td>\n",
       "      <td>18</td>\n",
       "      <td>4</td>\n",
       "      <td>73</td>\n",
       "      <td>0</td>\n",
       "    </tr>\n",
       "    <tr>\n",
       "      <th>8</th>\n",
       "      <td>0</td>\n",
       "      <td>0</td>\n",
       "      <td>0</td>\n",
       "      <td>1</td>\n",
       "      <td>0</td>\n",
       "      <td>1</td>\n",
       "      <td>0</td>\n",
       "      <td>0</td>\n",
       "      <td>0</td>\n",
       "    </tr>\n",
       "  </tbody>\n",
       "</table>\n",
       "</div>"
      ],
      "text/plain": [
       "col_0       0   1  2   3  4    5   6   7   8\n",
       "pred_loo                                    \n",
       "0         168  17  1  68  1   54   8  28  11\n",
       "1           2   6  0   0  0    4   1   3   0\n",
       "2           0   0  6   0  1    2   0   0   0\n",
       "3           4   0  0   3  0    2   0   0   1\n",
       "5          82  22  0   3  3  254  24  38   6\n",
       "6           4   0  0   0  0    2  21   3   0\n",
       "7          19   3  0   1  1   18   4  73   0\n",
       "8           0   0  0   1  0    1   0   0   0"
      ]
     },
     "execution_count": 154,
     "metadata": {},
     "output_type": "execute_result"
    }
   ],
   "source": [
    "pd.crosstab(loo_predict_proba['pred_loo'], x_target)"
   ]
  },
  {
   "cell_type": "code",
   "execution_count": 155,
   "metadata": {},
   "outputs": [],
   "source": [
    "respuestas_etiquetas['n_interrogacion']=respuestas_etiquetas['n_interrogacion'].astype(int)"
   ]
  },
  {
   "cell_type": "code",
   "execution_count": 252,
   "metadata": {
    "collapsed": true
   },
   "outputs": [],
   "source": [
    "\n",
    "prueba_ensamble=pd.concat([respuestas_etiquetas[['wc', 'es', 'n_interrogacion']],\n",
    "                           Xall_test], ignore_index=False, axis=1)"
   ]
  },
  {
   "cell_type": "code",
   "execution_count": null,
   "metadata": {
    "collapsed": true
   },
   "outputs": [],
   "source": []
  },
  {
   "cell_type": "markdown",
   "metadata": {},
   "source": [
    "### FEATURES DE FLUJOS"
   ]
  },
  {
   "cell_type": "code",
   "execution_count": 51,
   "metadata": {},
   "outputs": [],
   "source": [
    "flujos=pd.read_csv('s3://presidencia-mi-salud/processed/flujos_peticiones.csv')"
   ]
  },
  {
   "cell_type": "code",
   "execution_count": 52,
   "metadata": {},
   "outputs": [
    {
     "data": {
      "text/html": [
       "<div>\n",
       "<style scoped>\n",
       "    .dataframe tbody tr th:only-of-type {\n",
       "        vertical-align: middle;\n",
       "    }\n",
       "\n",
       "    .dataframe tbody tr th {\n",
       "        vertical-align: top;\n",
       "    }\n",
       "\n",
       "    .dataframe thead th {\n",
       "        text-align: right;\n",
       "    }\n",
       "</style>\n",
       "<table border=\"1\" class=\"dataframe\">\n",
       "  <thead>\n",
       "    <tr style=\"text-align: right;\">\n",
       "      <th></th>\n",
       "      <th>Unnamed: 0</th>\n",
       "      <th>contact_uuid</th>\n",
       "      <th>flujo_penultimo</th>\n",
       "      <th>flujo_ultimo</th>\n",
       "      <th>nombre</th>\n",
       "      <th>penultimo_tmstmp</th>\n",
       "      <th>texto</th>\n",
       "      <th>ultimo_tmstmp</th>\n",
       "    </tr>\n",
       "  </thead>\n",
       "  <tbody>\n",
       "    <tr>\n",
       "      <th>0</th>\n",
       "      <td>0</td>\n",
       "      <td>3bf0c4bb-d5db-4e0d-ab29-98a7ee6b2b6a</td>\n",
       "      <td>b_consejo_w22_d3</td>\n",
       "      <td>b_development_w22_d4</td>\n",
       "      <td>NaN</td>\n",
       "      <td>2018-08-07T16:02:20.331086Z</td>\n",
       "      <td>NaN</td>\n",
       "      <td>2018-08-08T14:10:16.479863Z</td>\n",
       "    </tr>\n",
       "    <tr>\n",
       "      <th>1</th>\n",
       "      <td>1</td>\n",
       "      <td>e7e51622-a160-4bb4-9b7d-785c0c2bfbc7</td>\n",
       "      <td>uncaught</td>\n",
       "      <td>miAlta_General</td>\n",
       "      <td>NaN</td>\n",
       "      <td>2018-03-23T18:14:42.214452Z</td>\n",
       "      <td>La solicitud de enviar el SMS por Cobrar a 552...</td>\n",
       "      <td>2018-03-23T18:14:42.955021Z</td>\n",
       "    </tr>\n",
       "    <tr>\n",
       "      <th>2</th>\n",
       "      <td>2</td>\n",
       "      <td>7ea8e04b-e8d0-4628-bf35-350a784d5e2f</td>\n",
       "      <td>Fin_SMS</td>\n",
       "      <td>prueba_fb</td>\n",
       "      <td>pedro vallejo</td>\n",
       "      <td>2018-05-17T18:31:38.123141Z</td>\n",
       "      <td>🙅</td>\n",
       "      <td>2018-06-19T18:32:13.198465Z</td>\n",
       "    </tr>\n",
       "    <tr>\n",
       "      <th>3</th>\n",
       "      <td>3</td>\n",
       "      <td>3059e012-6fd3-445d-8da4-5fc36d45f8dc</td>\n",
       "      <td>b_concerns_w4_d4</td>\n",
       "      <td>cancelar_misalud</td>\n",
       "      <td>NaN</td>\n",
       "      <td>2018-03-02T15:01:46.787861Z</td>\n",
       "      <td>NaN</td>\n",
       "      <td>2018-03-02T16:25:41.512518Z</td>\n",
       "    </tr>\n",
       "    <tr>\n",
       "      <th>4</th>\n",
       "      <td>4</td>\n",
       "      <td>42bf4e3f-a396-4eb7-a987-b76cba779e92</td>\n",
       "      <td>b_nutrition_w78_d4</td>\n",
       "      <td>prueba_fb</td>\n",
       "      <td>Rosy</td>\n",
       "      <td>2018-06-18T14:00:10.181403Z</td>\n",
       "      <td>Hola gordo</td>\n",
       "      <td>2018-06-19T18:32:13.198465Z</td>\n",
       "    </tr>\n",
       "  </tbody>\n",
       "</table>\n",
       "</div>"
      ],
      "text/plain": [
       "   Unnamed: 0                          contact_uuid     flujo_penultimo  \\\n",
       "0           0  3bf0c4bb-d5db-4e0d-ab29-98a7ee6b2b6a    b_consejo_w22_d3   \n",
       "1           1  e7e51622-a160-4bb4-9b7d-785c0c2bfbc7            uncaught   \n",
       "2           2  7ea8e04b-e8d0-4628-bf35-350a784d5e2f             Fin_SMS   \n",
       "3           3  3059e012-6fd3-445d-8da4-5fc36d45f8dc    b_concerns_w4_d4   \n",
       "4           4  42bf4e3f-a396-4eb7-a987-b76cba779e92  b_nutrition_w78_d4   \n",
       "\n",
       "           flujo_ultimo         nombre             penultimo_tmstmp  \\\n",
       "0  b_development_w22_d4            NaN  2018-08-07T16:02:20.331086Z   \n",
       "1        miAlta_General            NaN  2018-03-23T18:14:42.214452Z   \n",
       "2             prueba_fb  pedro vallejo  2018-05-17T18:31:38.123141Z   \n",
       "3      cancelar_misalud            NaN  2018-03-02T15:01:46.787861Z   \n",
       "4             prueba_fb           Rosy  2018-06-18T14:00:10.181403Z   \n",
       "\n",
       "                                               texto  \\\n",
       "0                                                NaN   \n",
       "1  La solicitud de enviar el SMS por Cobrar a 552...   \n",
       "2                                                  🙅   \n",
       "3                                                NaN   \n",
       "4                                         Hola gordo   \n",
       "\n",
       "                 ultimo_tmstmp  \n",
       "0  2018-08-08T14:10:16.479863Z  \n",
       "1  2018-03-23T18:14:42.955021Z  \n",
       "2  2018-06-19T18:32:13.198465Z  \n",
       "3  2018-03-02T16:25:41.512518Z  \n",
       "4  2018-06-19T18:32:13.198465Z  "
      ]
     },
     "execution_count": 52,
     "metadata": {},
     "output_type": "execute_result"
    }
   ],
   "source": [
    "flujos.head()"
   ]
  },
  {
   "cell_type": "code",
   "execution_count": 53,
   "metadata": {},
   "outputs": [],
   "source": [
    "\n",
    "flujos=flujos[['contact_uuid', 'flujo_penultimo', 'flujo_ultimo', 'ultimo_tmstmp','penultimo_tmstmp' ]]"
   ]
  },
  {
   "cell_type": "code",
   "execution_count": 56,
   "metadata": {},
   "outputs": [],
   "source": [
    "flujos.ultimo_tmstmp=flujos.ultimo_tmstmp.str.replace('Z|T', ' ')\n",
    "flujos.penultimo_tmstmp=flujos.penultimo_tmstmp.str.replace('Z|T', ' ')\n",
    "\n",
    "flujos.penultimo_tmstmp=flujos.penultimo_tmstmp.str.strip()\n",
    "flujos.ultimo_tmstmp=flujos.ultimo_tmstmp.str.strip()\n",
    "from datetime import datetime\n",
    "for i in range(0, flujos.shape[0]):\n",
    "    if  (flujos.ultimo_tmstmp[i] is np.nan) == False:\n",
    "        flujos.ultimo_tmstmp[i]=datetime.strptime(flujos.ultimo_tmstmp[i],\n",
    "                  \"%Y-%m-%d %H:%M:%S.%f\")\n",
    "    else: \n",
    "        flujos.ultimo_tmstmp[i]=None\n",
    "    if  (flujos.penultimo_tmstmp[i] is np.nan) == False:\n",
    "        flujos.penultimo_tmstmp[i]=datetime.strptime(flujos.penultimo_tmstmp[i],\n",
    "                  \"%Y-%m-%d %H:%M:%S.%f\")\n",
    "    else: \n",
    "        flujos.penultimo_tmstmp[i]=None"
   ]
  },
  {
   "cell_type": "code",
   "execution_count": 57,
   "metadata": {},
   "outputs": [],
   "source": [
    "flujos['delta']=flujos.ultimo_tmstmp-flujos.penultimo_tmstmp\n"
   ]
  },
  {
   "cell_type": "code",
   "execution_count": 58,
   "metadata": {},
   "outputs": [],
   "source": [
    "delta_horas=pd.DataFrame()\n",
    "for i in range(0, flujos.shape[0]):\n",
    "    dias=flujos.delta[i].days\n",
    "    dias=dias*24\n",
    "    horas=dias+flujos.delta[i].seconds/3600\n",
    "    horas=pd.DataFrame({'delta_horas':horas}, index=[i])\n",
    "    delta_horas=pd.concat([delta_horas, horas])\n",
    "    "
   ]
  },
  {
   "cell_type": "code",
   "execution_count": 59,
   "metadata": {},
   "outputs": [],
   "source": [
    "flujos=pd.concat([flujos, delta_horas], axis=1)"
   ]
  },
  {
   "cell_type": "code",
   "execution_count": 60,
   "metadata": {},
   "outputs": [],
   "source": [
    "horas_ultimos=pd.DataFrame()\n",
    "for i in range(0, flujos.shape[0]):\n",
    "    hora_ultimo=int(flujos.ultimo_tmstmp[i].strftime('%H'))\n",
    "    hora_ultimo=pd.DataFrame({'hora_ultimo':hora_ultimo}, index=[i])\n",
    "    horas_ultimos=pd.concat([horas_ultimos, hora_ultimo])\n",
    "flujos=pd.concat([flujos, horas_ultimos], axis=1)   "
   ]
  },
  {
   "cell_type": "code",
   "execution_count": 61,
   "metadata": {},
   "outputs": [],
   "source": [
    "flujos=flujos[['contact_uuid', 'flujo_penultimo','flujo_ultimo', 'delta_horas', 'hora_ultimo']]\n",
    "flujos.columns=['id_contacto', 'flujo_penultimo','flujo_ultimo', 'delta_horas', 'hora_ultimo']"
   ]
  },
  {
   "cell_type": "code",
   "execution_count": 62,
   "metadata": {},
   "outputs": [],
   "source": [
    "respuestas_etiquetas=pd.merge(flujos, respuestas_etiquetas, how='inner',on='id_contacto' )"
   ]
  },
  {
   "cell_type": "code",
   "execution_count": null,
   "metadata": {},
   "outputs": [],
   "source": []
  },
  {
   "cell_type": "code",
   "execution_count": 94,
   "metadata": {},
   "outputs": [
    {
     "name": "stdout",
     "output_type": "stream",
     "text": [
      "CPU times: user 1.94 s, sys: 20 ms, total: 1.96 s\n",
      "Wall time: 1.38 s\n"
     ]
    },
    {
     "name": "stderr",
     "output_type": "stream",
     "text": [
      "/home/pepe/miniconda3/lib/python3.6/site-packages/sklearn/svm/base.py:218: ConvergenceWarning: Solver terminated early (max_iter=10000).  Consider pre-processing your data with StandardScaler or MinMaxScaler.\n",
      "  % self.max_iter, ConvergenceWarning)\n"
     ]
    }
   ],
   "source": [
    "df_extra=respuestas_etiquetas[['wc', 'hora_ultimo']]\n",
    "i=1\n",
    "a=33\n",
    "\n",
    "df_extra_orig=df_extra\n",
    "features_i=features_stem[i].toarray()\n",
    "features_menos_i=np.delete(features_stem.toarray(), (i), axis=0)\n",
    "pca=TruncatedSVD(n_components=a)\n",
    "pca=pca.fit(features_menos_i)\n",
    "features_i=pca.transform(features_i)\n",
    "features_menos_i=pca.transform(features_menos_i)\n",
    "features_i=pd.concat([pd.DataFrame(features_i, index=[i]),pd.DataFrame(df_extra.loc[i]).transpose()], axis=1)\n",
    "Xall=pd.DataFrame(features_menos_i)\n",
    "    \n",
    "    \n",
    "    \n",
    "Xall=pd.concat([Xall,pd.DataFrame(df_extra_orig.drop(i).reset_index(drop=True))],axis=1)\n",
    "loo_predict_proba=pd.DataFrame()\n",
    "\n",
    "features_i.head()\n",
    "X_i=features_i\n",
    "Xall_one_out=Xall\n",
    "x_target_one_out=pd.DataFrame(x_target).drop(i)\n",
    "clasificador=SVC(kernel='poly', probability=True, max_iter=10000)\n",
    "\n",
    "%time clasificador=clasificador.fit(X=Xall_one_out,y=x_target_one_out[0].ravel())"
   ]
  },
  {
   "cell_type": "code",
   "execution_count": 103,
   "metadata": {},
   "outputs": [],
   "source": [
    "def loo_masvar(i, a, df_extra):\n",
    "    df_extra_orig=df_extra\n",
    "    features_i=features_stem[i].toarray()\n",
    "    features_menos_i=np.delete(features_stem.toarray(), (i), axis=0)\n",
    "    pca=TruncatedSVD(n_components=a)\n",
    "    pca=pca.fit(features_menos_i)\n",
    "    features_i=pca.transform(features_i)\n",
    "    features_menos_i=pca.transform(features_menos_i)\n",
    "    features_i=pd.concat([pd.DataFrame(features_i, index=[i]),pd.DataFrame(df_extra.loc[i]).transpose()], axis=1)\n",
    "    Xall=pd.DataFrame(features_menos_i)\n",
    "    \n",
    "    \n",
    "    \n",
    "    Xall=pd.concat([Xall,pd.DataFrame(df_extra_orig.drop(i).reset_index(drop=True))],axis=1)\n",
    "    loo_predict_proba=pd.DataFrame()\n",
    "\n",
    "    features_i.head()\n",
    "    X_i=features_i\n",
    "    Xall_one_out=Xall\n",
    "    x_target_one_out=pd.DataFrame(x_target).drop(i)\n",
    "    clasificador=XGBClassifier(metrics='auc')\n",
    "    \n",
    "    clasificador=clasificador.fit(X=Xall_one_out,y=x_target_one_out[0].ravel())\n",
    "    pred=clasificador.predict(X_i)\n",
    "    pred_proba=clasificador.predict_proba(X_i)\n",
    "    loo_predict_proba_i=pd.concat([pd.DataFrame(respuestas_etiquetas.loc[i]).transpose(),\n",
    "                                          pd.DataFrame(pred, index=[i]), pd.DataFrame(pred_proba, index=[i]),\n",
    "                                         ], axis=1)\n",
    "    loo_predict_proba=pd.concat([loo_predict_proba, loo_predict_proba_i])\n",
    "    return(loo_predict_proba)"
   ]
  },
  {
   "cell_type": "code",
   "execution_count": 104,
   "metadata": {},
   "outputs": [
    {
     "name": "stdout",
     "output_type": "stream",
     "text": [
      "0:04:10.846607\n"
     ]
    }
   ],
   "source": [
    "inicio=datetime.now()\n",
    "\n",
    "loo_predict_proba=Parallel(n_jobs=-1)(delayed(loo_masvar)(i, 33,respuestas_etiquetas[['wc', 'hora_ultimo']] ) for i in respuestas_etiquetas.index)\n",
    "\n",
    "fin=datetime.now()\n",
    "\n",
    "print(fin-inicio)"
   ]
  },
  {
   "cell_type": "code",
   "execution_count": 105,
   "metadata": {},
   "outputs": [
    {
     "data": {
      "text/html": [
       "<div>\n",
       "<style scoped>\n",
       "    .dataframe tbody tr th:only-of-type {\n",
       "        vertical-align: middle;\n",
       "    }\n",
       "\n",
       "    .dataframe tbody tr th {\n",
       "        vertical-align: top;\n",
       "    }\n",
       "\n",
       "    .dataframe thead th {\n",
       "        text-align: right;\n",
       "    }\n",
       "</style>\n",
       "<table border=\"1\" class=\"dataframe\">\n",
       "  <thead>\n",
       "    <tr style=\"text-align: right;\">\n",
       "      <th></th>\n",
       "      <th>id_contacto</th>\n",
       "      <th>flujo_penultimo</th>\n",
       "      <th>flujo_ultimo</th>\n",
       "      <th>delta_horas</th>\n",
       "      <th>hora_ultimo</th>\n",
       "      <th>urn</th>\n",
       "      <th>nombre_contacto</th>\n",
       "      <th>listas</th>\n",
       "      <th>cc</th>\n",
       "      <th>result</th>\n",
       "      <th>texto</th>\n",
       "      <th>texto_proc</th>\n",
       "      <th>wc</th>\n",
       "      <th>categ_opi</th>\n",
       "      <th>categ_final</th>\n",
       "      <th>n_interrogacion</th>\n",
       "      <th>es</th>\n",
       "      <th>texto_proc_stem</th>\n",
       "      <th>0</th>\n",
       "      <th>0</th>\n",
       "      <th>1</th>\n",
       "      <th>2</th>\n",
       "      <th>3</th>\n",
       "      <th>4</th>\n",
       "      <th>5</th>\n",
       "      <th>6</th>\n",
       "      <th>7</th>\n",
       "      <th>8</th>\n",
       "    </tr>\n",
       "  </thead>\n",
       "  <tbody>\n",
       "    <tr>\n",
       "      <th>0</th>\n",
       "      <td>e7e51622-a160-4bb4-9b7d-785c0c2bfbc7</td>\n",
       "      <td>uncaught</td>\n",
       "      <td>miAlta_General</td>\n",
       "      <td>0</td>\n",
       "      <td>18</td>\n",
       "      <td>20999</td>\n",
       "      <td>NaN</td>\n",
       "      <td>NaN</td>\n",
       "      <td>144</td>\n",
       "      <td>modelo</td>\n",
       "      <td>La solicitud de enviar el SMS por Cobrar a 552...</td>\n",
       "      <td>la solicitud de enviar el sms por cobrar a 552...</td>\n",
       "      <td>24</td>\n",
       "      <td>otra</td>\n",
       "      <td>0</td>\n",
       "      <td>False</td>\n",
       "      <td>0</td>\n",
       "      <td>la solicitud de envi el sms por cobr a ha expi...</td>\n",
       "      <td>0</td>\n",
       "      <td>0.742994</td>\n",
       "      <td>0.067803</td>\n",
       "      <td>0.001326</td>\n",
       "      <td>0.024899</td>\n",
       "      <td>0.001362</td>\n",
       "      <td>0.132738</td>\n",
       "      <td>0.002136</td>\n",
       "      <td>0.022798</td>\n",
       "      <td>0.003944</td>\n",
       "    </tr>\n",
       "  </tbody>\n",
       "</table>\n",
       "</div>"
      ],
      "text/plain": [
       "                            id_contacto flujo_penultimo    flujo_ultimo  \\\n",
       "0  e7e51622-a160-4bb4-9b7d-785c0c2bfbc7        uncaught  miAlta_General   \n",
       "\n",
       "  delta_horas hora_ultimo    urn nombre_contacto listas   cc  result  \\\n",
       "0           0          18  20999             NaN    NaN  144  modelo   \n",
       "\n",
       "                                               texto  \\\n",
       "0  La solicitud de enviar el SMS por Cobrar a 552...   \n",
       "\n",
       "                                          texto_proc  wc categ_opi  \\\n",
       "0  la solicitud de enviar el sms por cobrar a 552...  24      otra   \n",
       "\n",
       "  categ_final n_interrogacion es  \\\n",
       "0           0           False  0   \n",
       "\n",
       "                                     texto_proc_stem  0         0         1  \\\n",
       "0  la solicitud de envi el sms por cobr a ha expi...  0  0.742994  0.067803   \n",
       "\n",
       "          2         3         4         5         6         7         8  \n",
       "0  0.001326  0.024899  0.001362  0.132738  0.002136  0.022798  0.003944  "
      ]
     },
     "execution_count": 105,
     "metadata": {},
     "output_type": "execute_result"
    }
   ],
   "source": [
    "loo_predict_proba[0]"
   ]
  },
  {
   "cell_type": "code",
   "execution_count": 106,
   "metadata": {},
   "outputs": [
    {
     "name": "stdout",
     "output_type": "stream",
     "text": [
      "0.5770020533880903\n"
     ]
    }
   ],
   "source": [
    "loo_predict_proba=pd.concat(loo_predict_proba)\n",
    "loo_predict_proba.columns=[    'id_contacto', 'flujo_penultimo',    'flujo_ultimo',\n",
    "           'delta_horas',     'hora_ultimo',             'urn',\n",
    "       'nombre_contacto',          'listas',              'cc',\n",
    "                'result',           'texto',      'texto_proc',\n",
    "                    'wc',       'categ_opi',     'categ_final',\n",
    "       'n_interrogacion',              'es',             'texto_proc_stem',    'pred_loo',\n",
    "                       0,                 1,                 2,\n",
    "                       3,                 4,                 5,\n",
    "                       6,                 7,                 8]\n",
    "\n",
    "precision=f1_score(y_pred=loo_predict_proba['pred_loo'],y_true= x_target, average='micro')\n",
    "print(precision)"
   ]
  },
  {
   "cell_type": "code",
   "execution_count": 108,
   "metadata": {},
   "outputs": [
    {
     "name": "stdout",
     "output_type": "stream",
     "text": [
      "0.433858221465935\n"
     ]
    },
    {
     "name": "stderr",
     "output_type": "stream",
     "text": [
      "/home/pepe/miniconda3/lib/python3.6/site-packages/sklearn/metrics/classification.py:1135: UndefinedMetricWarning: F-score is ill-defined and being set to 0.0 in labels with no predicted samples.\n",
      "  'precision', 'predicted', average, warn_for)\n"
     ]
    }
   ],
   "source": [
    "precision=f1_score(y_pred=loo_predict_proba['pred_loo'],y_true= x_target, average='macro')\n",
    "print(precision)"
   ]
  },
  {
   "cell_type": "code",
   "execution_count": 109,
   "metadata": {},
   "outputs": [
    {
     "data": {
      "text/plain": [
       "{0: 'otra',\n",
       " 1: 'informacion',\n",
       " 2: 'nacimiento',\n",
       " 3: 'respuesta',\n",
       " 4: 'emergencia',\n",
       " 5: 'pregunta',\n",
       " 6: 'pregunta_busca trabajo',\n",
       " 7: 'otra_queja',\n",
       " 8: 'pregunta_medica'}"
      ]
     },
     "execution_count": 109,
     "metadata": {},
     "output_type": "execute_result"
    }
   ],
   "source": [
    "label_map"
   ]
  },
  {
   "cell_type": "code",
   "execution_count": 111,
   "metadata": {},
   "outputs": [],
   "source": [
    "loo_predict_proba['pred_loo']=loo_predict_proba['pred_loo'].map(label_map)"
   ]
  },
  {
   "cell_type": "code",
   "execution_count": 112,
   "metadata": {},
   "outputs": [],
   "source": [
    "loo_predict_proba.to_csv('./datos/prueba_loo_58_acc.csv')"
   ]
  },
  {
   "cell_type": "code",
   "execution_count": 113,
   "metadata": {},
   "outputs": [
    {
     "data": {
      "text/html": [
       "<div>\n",
       "<style scoped>\n",
       "    .dataframe tbody tr th:only-of-type {\n",
       "        vertical-align: middle;\n",
       "    }\n",
       "\n",
       "    .dataframe tbody tr th {\n",
       "        vertical-align: top;\n",
       "    }\n",
       "\n",
       "    .dataframe thead th {\n",
       "        text-align: right;\n",
       "    }\n",
       "</style>\n",
       "<table border=\"1\" class=\"dataframe\">\n",
       "  <thead>\n",
       "    <tr style=\"text-align: right;\">\n",
       "      <th>pred_loo</th>\n",
       "      <th>informacion</th>\n",
       "      <th>nacimiento</th>\n",
       "      <th>otra</th>\n",
       "      <th>otra_queja</th>\n",
       "      <th>pregunta</th>\n",
       "      <th>pregunta_busca trabajo</th>\n",
       "      <th>pregunta_medica</th>\n",
       "      <th>respuesta</th>\n",
       "    </tr>\n",
       "    <tr>\n",
       "      <th>categ_opi</th>\n",
       "      <th></th>\n",
       "      <th></th>\n",
       "      <th></th>\n",
       "      <th></th>\n",
       "      <th></th>\n",
       "      <th></th>\n",
       "      <th></th>\n",
       "      <th></th>\n",
       "    </tr>\n",
       "  </thead>\n",
       "  <tbody>\n",
       "    <tr>\n",
       "      <th>emergencia</th>\n",
       "      <td>0</td>\n",
       "      <td>1</td>\n",
       "      <td>2</td>\n",
       "      <td>2</td>\n",
       "      <td>1</td>\n",
       "      <td>0</td>\n",
       "      <td>0</td>\n",
       "      <td>0</td>\n",
       "    </tr>\n",
       "    <tr>\n",
       "      <th>informacion</th>\n",
       "      <td>9</td>\n",
       "      <td>0</td>\n",
       "      <td>13</td>\n",
       "      <td>1</td>\n",
       "      <td>24</td>\n",
       "      <td>0</td>\n",
       "      <td>0</td>\n",
       "      <td>1</td>\n",
       "    </tr>\n",
       "    <tr>\n",
       "      <th>nacimiento</th>\n",
       "      <td>0</td>\n",
       "      <td>6</td>\n",
       "      <td>1</td>\n",
       "      <td>0</td>\n",
       "      <td>0</td>\n",
       "      <td>0</td>\n",
       "      <td>0</td>\n",
       "      <td>0</td>\n",
       "    </tr>\n",
       "    <tr>\n",
       "      <th>otra</th>\n",
       "      <td>4</td>\n",
       "      <td>0</td>\n",
       "      <td>142</td>\n",
       "      <td>13</td>\n",
       "      <td>78</td>\n",
       "      <td>4</td>\n",
       "      <td>1</td>\n",
       "      <td>37</td>\n",
       "    </tr>\n",
       "    <tr>\n",
       "      <th>otra_queja</th>\n",
       "      <td>0</td>\n",
       "      <td>0</td>\n",
       "      <td>31</td>\n",
       "      <td>75</td>\n",
       "      <td>38</td>\n",
       "      <td>1</td>\n",
       "      <td>0</td>\n",
       "      <td>0</td>\n",
       "    </tr>\n",
       "    <tr>\n",
       "      <th>pregunta</th>\n",
       "      <td>3</td>\n",
       "      <td>0</td>\n",
       "      <td>55</td>\n",
       "      <td>11</td>\n",
       "      <td>262</td>\n",
       "      <td>5</td>\n",
       "      <td>0</td>\n",
       "      <td>1</td>\n",
       "    </tr>\n",
       "    <tr>\n",
       "      <th>pregunta_busca trabajo</th>\n",
       "      <td>2</td>\n",
       "      <td>0</td>\n",
       "      <td>10</td>\n",
       "      <td>3</td>\n",
       "      <td>27</td>\n",
       "      <td>16</td>\n",
       "      <td>0</td>\n",
       "      <td>0</td>\n",
       "    </tr>\n",
       "    <tr>\n",
       "      <th>pregunta_medica</th>\n",
       "      <td>0</td>\n",
       "      <td>0</td>\n",
       "      <td>7</td>\n",
       "      <td>2</td>\n",
       "      <td>9</td>\n",
       "      <td>0</td>\n",
       "      <td>0</td>\n",
       "      <td>0</td>\n",
       "    </tr>\n",
       "    <tr>\n",
       "      <th>respuesta</th>\n",
       "      <td>0</td>\n",
       "      <td>0</td>\n",
       "      <td>22</td>\n",
       "      <td>2</td>\n",
       "      <td>0</td>\n",
       "      <td>0</td>\n",
       "      <td>0</td>\n",
       "      <td>52</td>\n",
       "    </tr>\n",
       "  </tbody>\n",
       "</table>\n",
       "</div>"
      ],
      "text/plain": [
       "pred_loo                informacion  nacimiento  otra  otra_queja  pregunta  \\\n",
       "categ_opi                                                                     \n",
       "emergencia                        0           1     2           2         1   \n",
       "informacion                       9           0    13           1        24   \n",
       "nacimiento                        0           6     1           0         0   \n",
       "otra                              4           0   142          13        78   \n",
       "otra_queja                        0           0    31          75        38   \n",
       "pregunta                          3           0    55          11       262   \n",
       "pregunta_busca trabajo            2           0    10           3        27   \n",
       "pregunta_medica                   0           0     7           2         9   \n",
       "respuesta                         0           0    22           2         0   \n",
       "\n",
       "pred_loo                pregunta_busca trabajo  pregunta_medica  respuesta  \n",
       "categ_opi                                                                   \n",
       "emergencia                                   0                0          0  \n",
       "informacion                                  0                0          1  \n",
       "nacimiento                                   0                0          0  \n",
       "otra                                         4                1         37  \n",
       "otra_queja                                   1                0          0  \n",
       "pregunta                                     5                0          1  \n",
       "pregunta_busca trabajo                      16                0          0  \n",
       "pregunta_medica                              0                0          0  \n",
       "respuesta                                    0                0         52  "
      ]
     },
     "execution_count": 113,
     "metadata": {},
     "output_type": "execute_result"
    }
   ],
   "source": [
    "pd.crosstab(loo_predict_proba['categ_opi'],loo_predict_proba['pred_loo'] )"
   ]
  },
  {
   "cell_type": "markdown",
   "metadata": {},
   "source": [
    "El modelo sólo está clasificando como \"información\" si dice algo de números de teléfono y son frases cortas\n",
    "\n",
    "Los nacimientos sí los clasifica bien por la palabra \"mi bebé\". El único que no cachó fue uno que dijo \"ya tiv ami bb\""
   ]
  },
  {
   "cell_type": "code",
   "execution_count": 116,
   "metadata": {},
   "outputs": [
    {
     "data": {
      "text/html": [
       "<div>\n",
       "<style scoped>\n",
       "    .dataframe tbody tr th:only-of-type {\n",
       "        vertical-align: middle;\n",
       "    }\n",
       "\n",
       "    .dataframe tbody tr th {\n",
       "        vertical-align: top;\n",
       "    }\n",
       "\n",
       "    .dataframe thead th {\n",
       "        text-align: right;\n",
       "    }\n",
       "</style>\n",
       "<table border=\"1\" class=\"dataframe\">\n",
       "  <thead>\n",
       "    <tr style=\"text-align: right;\">\n",
       "      <th></th>\n",
       "      <th>flujo_penultimo</th>\n",
       "      <th>flujo_ultimo</th>\n",
       "      <th>delta_horas</th>\n",
       "      <th>hora_ultimo</th>\n",
       "      <th>texto</th>\n",
       "      <th>texto_proc</th>\n",
       "      <th>texto_proc_stem</th>\n",
       "      <th>wc</th>\n",
       "      <th>categ_opi</th>\n",
       "      <th>pred_loo</th>\n",
       "    </tr>\n",
       "  </thead>\n",
       "  <tbody>\n",
       "    <tr>\n",
       "      <th>8</th>\n",
       "      <td>MiAlerta_explica</td>\n",
       "      <td>prueba_fb</td>\n",
       "      <td>332.421</td>\n",
       "      <td>18</td>\n",
       "      <td>Mi bebé esta deshidratado</td>\n",
       "      <td>mi bebe esta deshidratado</td>\n",
       "      <td>mi beb esta deshidrat</td>\n",
       "      <td>4</td>\n",
       "      <td>emergencia</td>\n",
       "      <td>nacimiento</td>\n",
       "    </tr>\n",
       "    <tr>\n",
       "      <th>615</th>\n",
       "      <td>NaN</td>\n",
       "      <td>uncaught</td>\n",
       "      <td>NaN</td>\n",
       "      <td>15</td>\n",
       "      <td>Estoy muy preocupada, tengo un sobrino en urge...</td>\n",
       "      <td>estoy muy preocupada tengo un sobrino en urgen...</td>\n",
       "      <td>estoy muy preocup teng un sobrin en urgenci de...</td>\n",
       "      <td>82</td>\n",
       "      <td>emergencia</td>\n",
       "      <td>otra</td>\n",
       "    </tr>\n",
       "    <tr>\n",
       "      <th>802</th>\n",
       "      <td>uncaught</td>\n",
       "      <td>miAlta_General</td>\n",
       "      <td>0.000277778</td>\n",
       "      <td>12</td>\n",
       "      <td>Buenos días, disculpen no sé si aquí me puedan...</td>\n",
       "      <td>disculpen no se si aqui me puedan ayudar o ha...</td>\n",
       "      <td>disculp no se si aqui me pued ayud o hac algo ...</td>\n",
       "      <td>117</td>\n",
       "      <td>emergencia</td>\n",
       "      <td>otra_queja</td>\n",
       "    </tr>\n",
       "    <tr>\n",
       "      <th>918</th>\n",
       "      <td>uncaught</td>\n",
       "      <td>miAltaCorto_1</td>\n",
       "      <td>0.00888889</td>\n",
       "      <td>6</td>\n",
       "      <td>Buen día estoy solicitando ayuda urgente está ...</td>\n",
       "      <td>estoy solicitando ayuda urgente esta hospital...</td>\n",
       "      <td>estoy solicit ayud urgent esta hospitaliz mi h...</td>\n",
       "      <td>117</td>\n",
       "      <td>emergencia</td>\n",
       "      <td>otra_queja</td>\n",
       "    </tr>\n",
       "    <tr>\n",
       "      <th>920</th>\n",
       "      <td>uncaught</td>\n",
       "      <td>miAlta_General</td>\n",
       "      <td>0</td>\n",
       "      <td>20</td>\n",
       "      <td>Hola, urge atención para un adulto mayor con p...</td>\n",
       "      <td>urge atencion para un adulto mayor con posibl...</td>\n",
       "      <td>urge atencion par un adult mayor con posibl de...</td>\n",
       "      <td>23</td>\n",
       "      <td>emergencia</td>\n",
       "      <td>pregunta</td>\n",
       "    </tr>\n",
       "    <tr>\n",
       "      <th>953</th>\n",
       "      <td>uncaught</td>\n",
       "      <td>miAlta_General</td>\n",
       "      <td>0.000277778</td>\n",
       "      <td>21</td>\n",
       "      <td>Tengo un niño que convulsionó en el hospital R...</td>\n",
       "      <td>tengo un nino que convulsiono en el hospital r...</td>\n",
       "      <td>teng un nin que convulsion en el hospital rub ...</td>\n",
       "      <td>17</td>\n",
       "      <td>emergencia</td>\n",
       "      <td>otra</td>\n",
       "    </tr>\n",
       "  </tbody>\n",
       "</table>\n",
       "</div>"
      ],
      "text/plain": [
       "      flujo_penultimo    flujo_ultimo  delta_horas hora_ultimo  \\\n",
       "8    MiAlerta_explica       prueba_fb      332.421          18   \n",
       "615               NaN        uncaught          NaN          15   \n",
       "802          uncaught  miAlta_General  0.000277778          12   \n",
       "918          uncaught   miAltaCorto_1   0.00888889           6   \n",
       "920          uncaught  miAlta_General            0          20   \n",
       "953          uncaught  miAlta_General  0.000277778          21   \n",
       "\n",
       "                                                 texto  \\\n",
       "8                           Mi bebé esta deshidratado    \n",
       "615  Estoy muy preocupada, tengo un sobrino en urge...   \n",
       "802  Buenos días, disculpen no sé si aquí me puedan...   \n",
       "918  Buen día estoy solicitando ayuda urgente está ...   \n",
       "920  Hola, urge atención para un adulto mayor con p...   \n",
       "953  Tengo un niño que convulsionó en el hospital R...   \n",
       "\n",
       "                                            texto_proc  \\\n",
       "8                            mi bebe esta deshidratado   \n",
       "615  estoy muy preocupada tengo un sobrino en urgen...   \n",
       "802   disculpen no se si aqui me puedan ayudar o ha...   \n",
       "918   estoy solicitando ayuda urgente esta hospital...   \n",
       "920   urge atencion para un adulto mayor con posibl...   \n",
       "953  tengo un nino que convulsiono en el hospital r...   \n",
       "\n",
       "                                       texto_proc_stem   wc   categ_opi  \\\n",
       "8                                mi beb esta deshidrat    4  emergencia   \n",
       "615  estoy muy preocup teng un sobrin en urgenci de...   82  emergencia   \n",
       "802  disculp no se si aqui me pued ayud o hac algo ...  117  emergencia   \n",
       "918  estoy solicit ayud urgent esta hospitaliz mi h...  117  emergencia   \n",
       "920  urge atencion par un adult mayor con posibl de...   23  emergencia   \n",
       "953  teng un nin que convulsion en el hospital rub ...   17  emergencia   \n",
       "\n",
       "       pred_loo  \n",
       "8    nacimiento  \n",
       "615        otra  \n",
       "802  otra_queja  \n",
       "918  otra_queja  \n",
       "920    pregunta  \n",
       "953        otra  "
      ]
     },
     "execution_count": 116,
     "metadata": {},
     "output_type": "execute_result"
    }
   ],
   "source": [
    "loo_predict_proba[['flujo_penultimo', 'flujo_ultimo',\n",
    "                   'delta_horas', 'hora_ultimo',\n",
    "                   'texto', 'texto_proc', 'texto_proc_stem', 'wc',\n",
    "                   'categ_opi',\n",
    "                   'pred_loo']].loc[(loo_predict_proba['categ_opi']=='emergencia') &\n",
    "                                   (loo_predict_proba['categ_opi']!=loo_predict_proba['pred_loo'])]"
   ]
  },
  {
   "cell_type": "code",
   "execution_count": 117,
   "metadata": {},
   "outputs": [
    {
     "name": "stderr",
     "output_type": "stream",
     "text": [
      "/home/pepe/miniconda3/lib/python3.6/site-packages/pandas/core/indexing.py:194: SettingWithCopyWarning: \n",
      "A value is trying to be set on a copy of a slice from a DataFrame\n",
      "\n",
      "See the caveats in the documentation: http://pandas.pydata.org/pandas-docs/stable/indexing.html#indexing-view-versus-copy\n",
      "  self._setitem_with_indexer(indexer, value)\n"
     ]
    }
   ],
   "source": [
    "loo_predict_proba['pred_loo_mod']=loo_predict_proba['pred_loo']\n",
    "loo_predict_proba['pred_loo_mod'].loc[loo_predict_proba['pred_loo_mod']=='otra_queja']='otra'\n",
    "loo_predict_proba['pred_loo_mod'].loc[loo_predict_proba['pred_loo_mod']=='pregunta_busca trabajo']='pregunta'\n",
    "\n",
    "loo_predict_proba['categ_opi_mod']=loo_predict_proba['categ_opi']\n",
    "loo_predict_proba['categ_opi_mod'].loc[loo_predict_proba['categ_opi_mod']=='otra_queja']='otra'\n",
    "loo_predict_proba['categ_opi_mod'].loc[loo_predict_proba['categ_opi_mod']=='pregunta_busca trabajo']='pregunta'"
   ]
  },
  {
   "cell_type": "code",
   "execution_count": 120,
   "metadata": {},
   "outputs": [
    {
     "name": "stdout",
     "output_type": "stream",
     "text": [
      "0.5770020533880903\n"
     ]
    }
   ],
   "source": [
    "precision=f1_score(y_pred=loo_predict_proba['pred_loo'],y_true= loo_predict_proba['categ_opi'], average='micro')\n",
    "print(precision)"
   ]
  },
  {
   "cell_type": "code",
   "execution_count": 119,
   "metadata": {},
   "outputs": [
    {
     "name": "stdout",
     "output_type": "stream",
     "text": [
      "0.6550308008213552\n"
     ]
    }
   ],
   "source": [
    "precision=f1_score(y_pred=loo_predict_proba['pred_loo_mod'],y_true= loo_predict_proba['categ_opi_mod'], average='micro')\n",
    "print(precision)"
   ]
  },
  {
   "cell_type": "code",
   "execution_count": 296,
   "metadata": {},
   "outputs": [
    {
     "data": {
      "text/html": [
       "<div>\n",
       "<style scoped>\n",
       "    .dataframe tbody tr th:only-of-type {\n",
       "        vertical-align: middle;\n",
       "    }\n",
       "\n",
       "    .dataframe tbody tr th {\n",
       "        vertical-align: top;\n",
       "    }\n",
       "\n",
       "    .dataframe thead th {\n",
       "        text-align: right;\n",
       "    }\n",
       "</style>\n",
       "<table border=\"1\" class=\"dataframe\">\n",
       "  <thead>\n",
       "    <tr style=\"text-align: right;\">\n",
       "      <th>categ_opi</th>\n",
       "      <th>emergencia</th>\n",
       "      <th>informacion</th>\n",
       "      <th>nacimiento</th>\n",
       "      <th>otra</th>\n",
       "      <th>otra_queja</th>\n",
       "      <th>pregunta</th>\n",
       "      <th>pregunta_busca trabajo</th>\n",
       "      <th>pregunta_medica</th>\n",
       "      <th>respuesta</th>\n",
       "    </tr>\n",
       "    <tr>\n",
       "      <th>pred_loo</th>\n",
       "      <th></th>\n",
       "      <th></th>\n",
       "      <th></th>\n",
       "      <th></th>\n",
       "      <th></th>\n",
       "      <th></th>\n",
       "      <th></th>\n",
       "      <th></th>\n",
       "      <th></th>\n",
       "    </tr>\n",
       "  </thead>\n",
       "  <tbody>\n",
       "    <tr>\n",
       "      <th>emergencia</th>\n",
       "      <td>0</td>\n",
       "      <td>0</td>\n",
       "      <td>0</td>\n",
       "      <td>0</td>\n",
       "      <td>0</td>\n",
       "      <td>1</td>\n",
       "      <td>0</td>\n",
       "      <td>0</td>\n",
       "      <td>0</td>\n",
       "    </tr>\n",
       "    <tr>\n",
       "      <th>informacion</th>\n",
       "      <td>0</td>\n",
       "      <td>8</td>\n",
       "      <td>0</td>\n",
       "      <td>2</td>\n",
       "      <td>1</td>\n",
       "      <td>2</td>\n",
       "      <td>1</td>\n",
       "      <td>0</td>\n",
       "      <td>0</td>\n",
       "    </tr>\n",
       "    <tr>\n",
       "      <th>nacimiento</th>\n",
       "      <td>1</td>\n",
       "      <td>0</td>\n",
       "      <td>4</td>\n",
       "      <td>0</td>\n",
       "      <td>0</td>\n",
       "      <td>1</td>\n",
       "      <td>0</td>\n",
       "      <td>0</td>\n",
       "      <td>0</td>\n",
       "    </tr>\n",
       "    <tr>\n",
       "      <th>otra</th>\n",
       "      <td>0</td>\n",
       "      <td>17</td>\n",
       "      <td>1</td>\n",
       "      <td>138</td>\n",
       "      <td>29</td>\n",
       "      <td>44</td>\n",
       "      <td>7</td>\n",
       "      <td>9</td>\n",
       "      <td>24</td>\n",
       "    </tr>\n",
       "    <tr>\n",
       "      <th>otra_queja</th>\n",
       "      <td>2</td>\n",
       "      <td>1</td>\n",
       "      <td>0</td>\n",
       "      <td>22</td>\n",
       "      <td>72</td>\n",
       "      <td>25</td>\n",
       "      <td>5</td>\n",
       "      <td>1</td>\n",
       "      <td>1</td>\n",
       "    </tr>\n",
       "    <tr>\n",
       "      <th>pregunta</th>\n",
       "      <td>3</td>\n",
       "      <td>20</td>\n",
       "      <td>2</td>\n",
       "      <td>80</td>\n",
       "      <td>38</td>\n",
       "      <td>256</td>\n",
       "      <td>24</td>\n",
       "      <td>8</td>\n",
       "      <td>3</td>\n",
       "    </tr>\n",
       "    <tr>\n",
       "      <th>pregunta_busca trabajo</th>\n",
       "      <td>0</td>\n",
       "      <td>0</td>\n",
       "      <td>0</td>\n",
       "      <td>3</td>\n",
       "      <td>3</td>\n",
       "      <td>6</td>\n",
       "      <td>21</td>\n",
       "      <td>0</td>\n",
       "      <td>0</td>\n",
       "    </tr>\n",
       "    <tr>\n",
       "      <th>pregunta_medica</th>\n",
       "      <td>0</td>\n",
       "      <td>0</td>\n",
       "      <td>0</td>\n",
       "      <td>1</td>\n",
       "      <td>1</td>\n",
       "      <td>1</td>\n",
       "      <td>0</td>\n",
       "      <td>0</td>\n",
       "      <td>0</td>\n",
       "    </tr>\n",
       "    <tr>\n",
       "      <th>respuesta</th>\n",
       "      <td>0</td>\n",
       "      <td>2</td>\n",
       "      <td>0</td>\n",
       "      <td>33</td>\n",
       "      <td>1</td>\n",
       "      <td>1</td>\n",
       "      <td>0</td>\n",
       "      <td>0</td>\n",
       "      <td>48</td>\n",
       "    </tr>\n",
       "  </tbody>\n",
       "</table>\n",
       "</div>"
      ],
      "text/plain": [
       "categ_opi               emergencia  informacion  nacimiento  otra  otra_queja  \\\n",
       "pred_loo                                                                        \n",
       "emergencia                       0            0           0     0           0   \n",
       "informacion                      0            8           0     2           1   \n",
       "nacimiento                       1            0           4     0           0   \n",
       "otra                             0           17           1   138          29   \n",
       "otra_queja                       2            1           0    22          72   \n",
       "pregunta                         3           20           2    80          38   \n",
       "pregunta_busca trabajo           0            0           0     3           3   \n",
       "pregunta_medica                  0            0           0     1           1   \n",
       "respuesta                        0            2           0    33           1   \n",
       "\n",
       "categ_opi               pregunta  pregunta_busca trabajo  pregunta_medica  \\\n",
       "pred_loo                                                                    \n",
       "emergencia                     1                       0                0   \n",
       "informacion                    2                       1                0   \n",
       "nacimiento                     1                       0                0   \n",
       "otra                          44                       7                9   \n",
       "otra_queja                    25                       5                1   \n",
       "pregunta                     256                      24                8   \n",
       "pregunta_busca trabajo         6                      21                0   \n",
       "pregunta_medica                1                       0                0   \n",
       "respuesta                      1                       0                0   \n",
       "\n",
       "categ_opi               respuesta  \n",
       "pred_loo                           \n",
       "emergencia                      0  \n",
       "informacion                     0  \n",
       "nacimiento                      0  \n",
       "otra                           24  \n",
       "otra_queja                      1  \n",
       "pregunta                        3  \n",
       "pregunta_busca trabajo          0  \n",
       "pregunta_medica                 0  \n",
       "respuesta                      48  "
      ]
     },
     "execution_count": 296,
     "metadata": {},
     "output_type": "execute_result"
    }
   ],
   "source": [
    "pd.crosstab(loo_predict_proba['pred_loo'].map(label_map), loo_predict_proba['categ_opi'])"
   ]
  },
  {
   "cell_type": "code",
   "execution_count": 275,
   "metadata": {
    "scrolled": true
   },
   "outputs": [
    {
     "data": {
      "text/plain": [
       "<matplotlib.axes._subplots.AxesSubplot at 0x7fef00898ac8>"
      ]
     },
     "execution_count": 275,
     "metadata": {},
     "output_type": "execute_result"
    },
    {
     "data": {
      "image/png": "[encoded data removed]",
      "text/plain": [
       "<Figure size 432x288 with 1 Axes>"
      ]
     },
     "metadata": {},
     "output_type": "display_data"
    }
   ],
   "source": [
    "df_extra=respuestas_etiquetas[['delta_horas', 'wc']]\n",
    "\n",
    "features_menos_i=features.toarray()\n",
    "pca=TruncatedSVD(n_components=a)\n",
    "pca=pca.fit(features_menos_i)\n",
    "features_menos_i=pca.transform(features_menos_i)\n",
    "Xall=pd.DataFrame(features_menos_i)\n",
    "Xall=pd.concat([Xall,pd.DataFrame(df_extra.reset_index(drop=True))],axis=1)\n",
    "\n",
    "\n",
    "clasificador=XGBClassifier()\n",
    "clasificador=clasificador.fit(X=Xall,y=x_target)\n",
    "\n",
    "from xgboost import plot_importance\n",
    "\n",
    "plot_importance(clasificador)"
   ]
  },
  {
   "cell_type": "code",
   "execution_count": 157,
   "metadata": {},
   "outputs": [
    {
     "name": "stderr",
     "output_type": "stream",
     "text": [
      "/home/pepe/miniconda3/lib/python3.6/site-packages/pandas/core/indexing.py:194: SettingWithCopyWarning: \n",
      "A value is trying to be set on a copy of a slice from a DataFrame\n",
      "\n",
      "See the caveats in the documentation: http://pandas.pydata.org/pandas-docs/stable/indexing.html#indexing-view-versus-copy\n",
      "  self._setitem_with_indexer(indexer, value)\n"
     ]
    }
   ],
   "source": [
    "loo_predict_proba['pred_loo_mod']=loo_predict_proba['pred_loo']\n",
    "loo_predict_proba['pred_loo_mod'].loc[loo_predict_proba['pred_loo_mod']=='otra_queja']='otra'\n",
    "loo_predict_proba['pred_loo_mod'].loc[loo_predict_proba['pred_loo_mod']=='pregunta_busca trabajo']='pregunta'\n",
    "\n",
    "loo_predict_proba['categ_opi_mod']=loo_predict_proba['categ_opi']\n",
    "loo_predict_proba['categ_opi_mod'].loc[loo_predict_proba['categ_opi_mod']=='otra_queja']='otra'\n",
    "loo_predict_proba['categ_opi_mod'].loc[loo_predict_proba['categ_opi_mod']=='pregunta_busca trabajo']='pregunta'\n"
   ]
  },
  {
   "cell_type": "code",
   "execution_count": 158,
   "metadata": {},
   "outputs": [
    {
     "data": {
      "text/html": [
       "<div>\n",
       "<style scoped>\n",
       "    .dataframe tbody tr th:only-of-type {\n",
       "        vertical-align: middle;\n",
       "    }\n",
       "\n",
       "    .dataframe tbody tr th {\n",
       "        vertical-align: top;\n",
       "    }\n",
       "\n",
       "    .dataframe thead th {\n",
       "        text-align: right;\n",
       "    }\n",
       "</style>\n",
       "<table border=\"1\" class=\"dataframe\">\n",
       "  <thead>\n",
       "    <tr style=\"text-align: right;\">\n",
       "      <th>categ_opi_mod</th>\n",
       "      <th>emergencia</th>\n",
       "      <th>informacion</th>\n",
       "      <th>nacimiento</th>\n",
       "      <th>otra</th>\n",
       "      <th>pregunta</th>\n",
       "      <th>pregunta_medica</th>\n",
       "      <th>respuesta</th>\n",
       "    </tr>\n",
       "    <tr>\n",
       "      <th>pred_loo_mod</th>\n",
       "      <th></th>\n",
       "      <th></th>\n",
       "      <th></th>\n",
       "      <th></th>\n",
       "      <th></th>\n",
       "      <th></th>\n",
       "      <th></th>\n",
       "    </tr>\n",
       "  </thead>\n",
       "  <tbody>\n",
       "    <tr>\n",
       "      <th>informacion</th>\n",
       "      <td>0</td>\n",
       "      <td>6</td>\n",
       "      <td>0</td>\n",
       "      <td>1</td>\n",
       "      <td>5</td>\n",
       "      <td>0</td>\n",
       "      <td>0</td>\n",
       "    </tr>\n",
       "    <tr>\n",
       "      <th>nacimiento</th>\n",
       "      <td>1</td>\n",
       "      <td>0</td>\n",
       "      <td>6</td>\n",
       "      <td>0</td>\n",
       "      <td>2</td>\n",
       "      <td>0</td>\n",
       "      <td>0</td>\n",
       "    </tr>\n",
       "    <tr>\n",
       "      <th>otra</th>\n",
       "      <td>1</td>\n",
       "      <td>19</td>\n",
       "      <td>0</td>\n",
       "      <td>291</td>\n",
       "      <td>78</td>\n",
       "      <td>7</td>\n",
       "      <td>65</td>\n",
       "    </tr>\n",
       "    <tr>\n",
       "      <th>pregunta</th>\n",
       "      <td>4</td>\n",
       "      <td>21</td>\n",
       "      <td>0</td>\n",
       "      <td>128</td>\n",
       "      <td>307</td>\n",
       "      <td>10</td>\n",
       "      <td>1</td>\n",
       "    </tr>\n",
       "    <tr>\n",
       "      <th>pregunta_medica</th>\n",
       "      <td>0</td>\n",
       "      <td>0</td>\n",
       "      <td>0</td>\n",
       "      <td>1</td>\n",
       "      <td>2</td>\n",
       "      <td>0</td>\n",
       "      <td>1</td>\n",
       "    </tr>\n",
       "    <tr>\n",
       "      <th>respuesta</th>\n",
       "      <td>0</td>\n",
       "      <td>2</td>\n",
       "      <td>1</td>\n",
       "      <td>3</td>\n",
       "      <td>1</td>\n",
       "      <td>1</td>\n",
       "      <td>9</td>\n",
       "    </tr>\n",
       "  </tbody>\n",
       "</table>\n",
       "</div>"
      ],
      "text/plain": [
       "categ_opi_mod    emergencia  informacion  nacimiento  otra  pregunta  \\\n",
       "pred_loo_mod                                                           \n",
       "informacion               0            6           0     1         5   \n",
       "nacimiento                1            0           6     0         2   \n",
       "otra                      1           19           0   291        78   \n",
       "pregunta                  4           21           0   128       307   \n",
       "pregunta_medica           0            0           0     1         2   \n",
       "respuesta                 0            2           1     3         1   \n",
       "\n",
       "categ_opi_mod    pregunta_medica  respuesta  \n",
       "pred_loo_mod                                 \n",
       "informacion                    0          0  \n",
       "nacimiento                     0          0  \n",
       "otra                           7         65  \n",
       "pregunta                      10          1  \n",
       "pregunta_medica                0          1  \n",
       "respuesta                      1          9  "
      ]
     },
     "execution_count": 158,
     "metadata": {},
     "output_type": "execute_result"
    }
   ],
   "source": [
    "pd.crosstab(loo_predict_proba['pred_loo_mod'],loo_predict_proba['categ_opi_mod'] )"
   ]
  },
  {
   "cell_type": "code",
   "execution_count": 160,
   "metadata": {},
   "outputs": [
    {
     "name": "stdout",
     "output_type": "stream",
     "text": [
      "0.635523613963039\n"
     ]
    }
   ],
   "source": [
    "precision=f1_score(y_pred=loo_predict_proba['pred_loo_mod'],y_true= loo_predict_proba['categ_opi_mod'], average='micro')\n",
    "print(precision)"
   ]
  },
  {
   "cell_type": "markdown",
   "metadata": {},
   "source": [
    "### AGREGA DELTA TIEMPO"
   ]
  },
  {
   "cell_type": "code",
   "execution_count": 161,
   "metadata": {},
   "outputs": [
    {
     "ename": "NameError",
     "evalue": "name 'flujos' is not defined",
     "output_type": "error",
     "traceback": [
      "\u001b[0;31m---------------------------------------------------------------------------\u001b[0m",
      "\u001b[0;31mNameError\u001b[0m                                 Traceback (most recent call last)",
      "\u001b[0;32m<ipython-input-161-0ee569f44021>\u001b[0m in \u001b[0;36m<module>\u001b[0;34m()\u001b[0m\n\u001b[1;32m      5\u001b[0m                            Xall], ignore_index=False, axis=1)\n\u001b[1;32m      6\u001b[0m \u001b[0;34m\u001b[0m\u001b[0m\n\u001b[0;32m----> 7\u001b[0;31m \u001b[0mXall\u001b[0m\u001b[0;34m=\u001b[0m\u001b[0mpd\u001b[0m\u001b[0;34m.\u001b[0m\u001b[0mmerge\u001b[0m\u001b[0;34m(\u001b[0m\u001b[0mXall\u001b[0m\u001b[0;34m,\u001b[0m \u001b[0mflujos\u001b[0m\u001b[0;34m,\u001b[0m \u001b[0mon\u001b[0m\u001b[0;34m=\u001b[0m\u001b[0;34m'id_contacto'\u001b[0m\u001b[0;34m,\u001b[0m \u001b[0mhow\u001b[0m\u001b[0;34m=\u001b[0m\u001b[0;34m'left'\u001b[0m\u001b[0;34m)\u001b[0m\u001b[0;34m.\u001b[0m\u001b[0mdrop\u001b[0m\u001b[0;34m(\u001b[0m\u001b[0;34m[\u001b[0m\u001b[0;34m'hora_ultimo'\u001b[0m\u001b[0;34m,\u001b[0m\u001b[0;34m'flujo_penultimo'\u001b[0m\u001b[0;34m,\u001b[0m\u001b[0;34m'flujo_ultimo'\u001b[0m\u001b[0;34m,\u001b[0m\u001b[0;34m'id_contacto'\u001b[0m\u001b[0;34m]\u001b[0m\u001b[0;34m,\u001b[0m \u001b[0maxis\u001b[0m\u001b[0;34m=\u001b[0m\u001b[0;36m1\u001b[0m\u001b[0;34m)\u001b[0m\u001b[0;34m\u001b[0m\u001b[0m\n\u001b[0m\u001b[1;32m      8\u001b[0m \u001b[0;34m\u001b[0m\u001b[0m\n\u001b[1;32m      9\u001b[0m \u001b[0mprint\u001b[0m\u001b[0;34m(\u001b[0m\u001b[0mXall\u001b[0m\u001b[0;34m.\u001b[0m\u001b[0mhead\u001b[0m\u001b[0;34m(\u001b[0m\u001b[0;34m)\u001b[0m\u001b[0;34m)\u001b[0m\u001b[0;34m\u001b[0m\u001b[0m\n",
      "\u001b[0;31mNameError\u001b[0m: name 'flujos' is not defined"
     ]
    }
   ],
   "source": [
    "pca=TruncatedSVD(n_components=33)\n",
    "Xall=pca.fit_transform(features)\n",
    "Xall=pd.DataFrame(Xall)\n",
    "Xall=pd.concat([respuestas_etiquetas[['id_contacto', 'wc', 'es', 'n_interrogacion']],\n",
    "                           Xall], ignore_index=False, axis=1)\n",
    "\n",
    "Xall=pd.merge(Xall, flujos, on='id_contacto', how='left').drop(['hora_ultimo','flujo_penultimo','flujo_ultimo','id_contacto'], axis=1)\n",
    "\n",
    "print(Xall.head())"
   ]
  },
  {
   "cell_type": "code",
   "execution_count": 693,
   "metadata": {},
   "outputs": [
    {
     "name": "stdout",
     "output_type": "stream",
     "text": [
      "0:14:33.886326\n"
     ]
    }
   ],
   "source": [
    "inicio=datetime.now()\n",
    "\n",
    "loo_predict_proba=Parallel(n_jobs=-1)(delayed(loo)(i) for i in respuestas_etiquetas.index)\n",
    "\n",
    "fin=datetime.now()\n",
    "\n",
    "print(fin-inicio)"
   ]
  },
  {
   "cell_type": "code",
   "execution_count": 614,
   "metadata": {
    "collapsed": true
   },
   "outputs": [],
   "source": [
    "Xall=prueba_ensamble"
   ]
  },
  {
   "cell_type": "code",
   "execution_count": 615,
   "metadata": {
    "collapsed": true
   },
   "outputs": [],
   "source": []
  },
  {
   "cell_type": "code",
   "execution_count": 589,
   "metadata": {},
   "outputs": [
    {
     "name": "stdout",
     "output_type": "stream",
     "text": [
      "1.01 s ± 29 ms per loop (mean ± std. dev. of 7 runs, 1 loop each)\n",
      "16.233333333333334\n"
     ]
    }
   ],
   "source": [
    "%timeit loo()\n",
    "print(respuestas_etiquetas.shape[0]/60)\n",
    "\n",
    "\n",
    "\n"
   ]
  },
  {
   "cell_type": "code",
   "execution_count": 616,
   "metadata": {},
   "outputs": [
    {
     "name": "stdout",
     "output_type": "stream",
     "text": [
      "0:06:51.205857\n"
     ]
    }
   ],
   "source": [
    "inicio=datetime.now()\n",
    "\n",
    "loo_predict_proba=Parallel(n_jobs=-1)(delayed(loo)(i) for i in respuestas_etiquetas.index)\n",
    "\n",
    "fin=datetime.now()\n",
    "\n",
    "print(fin-inicio)"
   ]
  },
  {
   "cell_type": "code",
   "execution_count": 617,
   "metadata": {
    "collapsed": true
   },
   "outputs": [],
   "source": [
    "loo_predict_proba=pd.concat(loo_predict_proba)"
   ]
  },
  {
   "cell_type": "code",
   "execution_count": 618,
   "metadata": {
    "collapsed": true
   },
   "outputs": [],
   "source": [
    "clasificador =XGBClassifier(random_state=13212)\n",
    "clasificador=clasificador.fit(X=Xall,y=x_target)"
   ]
  },
  {
   "cell_type": "code",
   "execution_count": 619,
   "metadata": {},
   "outputs": [
    {
     "data": {
      "image/png": "[encoded data removed]",
      "text/plain": [
       "<matplotlib.figure.Figure at 0x10ac5eeb8>"
      ]
     },
     "metadata": {},
     "output_type": "display_data"
    }
   ],
   "source": [
    "#from xgboost import plot_importance\n",
    "plot_importance(clasificador)\n",
    "plt.show()\n"
   ]
  },
  {
   "cell_type": "code",
   "execution_count": 620,
   "metadata": {},
   "outputs": [
    {
     "data": {
      "text/plain": [
       "0.48151950718685832"
      ]
     },
     "execution_count": 620,
     "metadata": {},
     "output_type": "execute_result"
    }
   ],
   "source": [
    "loo_predict_proba.columns=['id_contacto', 'urn', 'nombre_contacto', 'listas', 'cc', 'result', 'texto',\n",
    "                  'texto_proc', 'wc', 'categ_opi', 'categ_final', 'n_interrogacion', 'es', 'pred_cval',\n",
    "'pred_loo', 0, 1, 2, 3, 4, 5, 6, 7, 8]\n",
    "sum(loo_predict_proba['pred_loo']==loo_predict_proba['categ_opi'])/loo_predict_proba.shape[0]"
   ]
  },
  {
   "cell_type": "code",
   "execution_count": null,
   "metadata": {
    "collapsed": true
   },
   "outputs": [],
   "source": [
    "tfidf_matrix_test = tfidf.transform(test)\n",
    "\n"
   ]
  },
  {
   "cell_type": "code",
   "execution_count": null,
   "metadata": {
    "collapsed": true
   },
   "outputs": [],
   "source": []
  },
  {
   "cell_type": "code",
   "execution_count": null,
   "metadata": {
    "collapsed": true
   },
   "outputs": [],
   "source": [
    "print(clf.predict(tfidf.transform([' '.join(tokenize_and_stem('busco trabajo adjunto mi cv estudie enfermeria hay vacantes'))])))"
   ]
  },
  {
   "cell_type": "code",
   "execution_count": null,
   "metadata": {
    "collapsed": true
   },
   "outputs": [],
   "source": [
    "pd.DataFrame(clf.predict(features))[0].value_counts()\n",
    "\n"
   ]
  },
  {
   "cell_type": "code",
   "execution_count": null,
   "metadata": {
    "collapsed": true
   },
   "outputs": [],
   "source": [
    "test.loc[clf.predict(features)=='informacion']"
   ]
  },
  {
   "cell_type": "code",
   "execution_count": null,
   "metadata": {
    "collapsed": true
   },
   "outputs": [],
   "source": [
    "terms = tfidf_vectorizer.get_feature_names()"
   ]
  }
 ],
 "metadata": {
  "kernelspec": {
   "display_name": "Python 3",
   "language": "python",
   "name": "python3"
  },
  "language_info": {
   "codemirror_mode": {
    "name": "ipython",
    "version": 3
   },
   "file_extension": ".py",
   "mimetype": "text/x-python",
   "name": "python",
   "nbconvert_exporter": "python",
   "pygments_lexer": "ipython3",
   "version": "3.6.5"
  }
 },
 "nbformat": 4,
 "nbformat_minor": 2
}

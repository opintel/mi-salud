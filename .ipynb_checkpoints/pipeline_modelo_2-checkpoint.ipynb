{
 "cells": [
  {
   "cell_type": "code",
   "execution_count": 18,
   "metadata": {},
   "outputs": [],
   "source": [
    "import pandas as pd\n",
    "import script_reglas\n",
    "\n",
    "import nltk as nltk\n",
    "from emoji import UNICODE_EMOJI\n",
    "import unicodedata as unicodedata\n",
    "import re\n",
    "from __future__ import print_function\n",
    "import os  # for os.path.basename\n",
    "from nltk.stem.snowball import SnowballStemmer\n",
    "from sklearn.feature_extraction.text import TfidfVectorizer\n",
    "import numpy as np\n",
    "import matplotlib.pyplot as plt\n",
    "import matplotlib as mpl\n",
    "\n",
    "from sklearn.manifold import MDS\n",
    "\n",
    "pd.set_option('display.max_rows', 500)\n",
    "pd.set_option('display.max_columns', 500)"
   ]
  },
  {
   "cell_type": "code",
   "execution_count": 2,
   "metadata": {},
   "outputs": [
    {
     "name": "stdout",
     "output_type": "stream",
     "text": [
      "comparacion.csv         etiquetado_pepe.csv     flujos_peticiones.csv\r\n",
      "etiquetado.csv          exploracion             results_export_964.xlsx\r\n"
     ]
    }
   ],
   "source": [
    "! ls ./datos/\n"
   ]
  },
  {
   "cell_type": "code",
   "execution_count": 3,
   "metadata": {
    "scrolled": true
   },
   "outputs": [],
   "source": [
    "respuestas=pd.read_excel('./datos/results_export_964.xlsx', encoding='utf-8')"
   ]
  },
  {
   "cell_type": "code",
   "execution_count": 4,
   "metadata": {
    "collapsed": true
   },
   "outputs": [],
   "source": [
    "respuestas=respuestas[['Contact UUID', 'URN', 'Name', 'Groups', 'Response 9 (Text) - uncaught']]\n",
    "respuestas.columns=['id_contacto', 'urn', 'nombre_contacto', 'listas', 'texto']"
   ]
  },
  {
   "cell_type": "code",
   "execution_count": 6,
   "metadata": {},
   "outputs": [
    {
     "ename": "IndexError",
     "evalue": "single positional indexer is out-of-bounds",
     "output_type": "error",
     "traceback": [
      "\u001b[0;31m---------------------------------------------------------------------------\u001b[0m",
      "\u001b[0;31mIndexError\u001b[0m                                Traceback (most recent call last)",
      "\u001b[0;32m<ipython-input-6-b4b7ef298b9a>\u001b[0m in \u001b[0;36m<module>\u001b[0;34m()\u001b[0m\n\u001b[1;32m      1\u001b[0m \u001b[0mcategoria_reglas\u001b[0m\u001b[0;34m=\u001b[0m\u001b[0mpd\u001b[0m\u001b[0;34m.\u001b[0m\u001b[0mDataFrame\u001b[0m\u001b[0;34m(\u001b[0m\u001b[0;34m)\u001b[0m\u001b[0;34m\u001b[0m\u001b[0m\n\u001b[1;32m      2\u001b[0m \u001b[0;32mfor\u001b[0m \u001b[0mi\u001b[0m \u001b[0;32min\u001b[0m \u001b[0mrange\u001b[0m\u001b[0;34m(\u001b[0m\u001b[0;36m0\u001b[0m\u001b[0;34m,\u001b[0m \u001b[0mrespuestas\u001b[0m\u001b[0;34m.\u001b[0m\u001b[0mshape\u001b[0m\u001b[0;34m[\u001b[0m\u001b[0;36m0\u001b[0m\u001b[0;34m]\u001b[0m\u001b[0;34m+\u001b[0m\u001b[0;36m1\u001b[0m\u001b[0;34m)\u001b[0m\u001b[0;34m:\u001b[0m\u001b[0;34m\u001b[0m\u001b[0m\n\u001b[0;32m----> 3\u001b[0;31m     \u001b[0mrespuesta_regla\u001b[0m\u001b[0;34m=\u001b[0m\u001b[0mpd\u001b[0m\u001b[0;34m.\u001b[0m\u001b[0mDataFrame\u001b[0m\u001b[0;34m(\u001b[0m\u001b[0mscript_reglas\u001b[0m\u001b[0;34m.\u001b[0m\u001b[0mprocesa_reglas\u001b[0m\u001b[0;34m(\u001b[0m\u001b[0mstr\u001b[0m\u001b[0;34m(\u001b[0m\u001b[0mrespuestas\u001b[0m\u001b[0;34m[\u001b[0m\u001b[0;34m'texto'\u001b[0m\u001b[0;34m]\u001b[0m\u001b[0;34m.\u001b[0m\u001b[0miloc\u001b[0m\u001b[0;34m[\u001b[0m\u001b[0mi\u001b[0m\u001b[0;34m]\u001b[0m\u001b[0;34m)\u001b[0m\u001b[0;34m)\u001b[0m\u001b[0;34m,\u001b[0m \u001b[0mindex\u001b[0m\u001b[0;34m=\u001b[0m\u001b[0;34m[\u001b[0m\u001b[0mi\u001b[0m\u001b[0;34m]\u001b[0m\u001b[0;34m)\u001b[0m\u001b[0;34m\u001b[0m\u001b[0m\n\u001b[0m\u001b[1;32m      4\u001b[0m     \u001b[0mcategoria_reglas\u001b[0m\u001b[0;34m=\u001b[0m\u001b[0mpd\u001b[0m\u001b[0;34m.\u001b[0m\u001b[0mconcat\u001b[0m\u001b[0;34m(\u001b[0m\u001b[0;34m[\u001b[0m\u001b[0mcategoria_reglas\u001b[0m\u001b[0;34m,\u001b[0m \u001b[0mrespuesta_regla\u001b[0m\u001b[0;34m]\u001b[0m\u001b[0;34m)\u001b[0m\u001b[0;34m\u001b[0m\u001b[0m\n\u001b[1;32m      5\u001b[0m \u001b[0;31m#respuestas=pd.concat([respuestas, categoria_reglas], axis=1)\u001b[0m\u001b[0;34m\u001b[0m\u001b[0;34m\u001b[0m\u001b[0m\n",
      "\u001b[0;32m~/anaconda3/lib/python3.6/site-packages/pandas/core/indexing.py\u001b[0m in \u001b[0;36m__getitem__\u001b[0;34m(self, key)\u001b[0m\n\u001b[1;32m   1326\u001b[0m         \u001b[0;32melse\u001b[0m\u001b[0;34m:\u001b[0m\u001b[0;34m\u001b[0m\u001b[0m\n\u001b[1;32m   1327\u001b[0m             \u001b[0mkey\u001b[0m \u001b[0;34m=\u001b[0m \u001b[0mcom\u001b[0m\u001b[0;34m.\u001b[0m\u001b[0m_apply_if_callable\u001b[0m\u001b[0;34m(\u001b[0m\u001b[0mkey\u001b[0m\u001b[0;34m,\u001b[0m \u001b[0mself\u001b[0m\u001b[0;34m.\u001b[0m\u001b[0mobj\u001b[0m\u001b[0;34m)\u001b[0m\u001b[0;34m\u001b[0m\u001b[0m\n\u001b[0;32m-> 1328\u001b[0;31m             \u001b[0;32mreturn\u001b[0m \u001b[0mself\u001b[0m\u001b[0;34m.\u001b[0m\u001b[0m_getitem_axis\u001b[0m\u001b[0;34m(\u001b[0m\u001b[0mkey\u001b[0m\u001b[0;34m,\u001b[0m \u001b[0maxis\u001b[0m\u001b[0;34m=\u001b[0m\u001b[0;36m0\u001b[0m\u001b[0;34m)\u001b[0m\u001b[0;34m\u001b[0m\u001b[0m\n\u001b[0m\u001b[1;32m   1329\u001b[0m \u001b[0;34m\u001b[0m\u001b[0m\n\u001b[1;32m   1330\u001b[0m     \u001b[0;32mdef\u001b[0m \u001b[0m_is_scalar_access\u001b[0m\u001b[0;34m(\u001b[0m\u001b[0mself\u001b[0m\u001b[0;34m,\u001b[0m \u001b[0mkey\u001b[0m\u001b[0;34m)\u001b[0m\u001b[0;34m:\u001b[0m\u001b[0;34m\u001b[0m\u001b[0m\n",
      "\u001b[0;32m~/anaconda3/lib/python3.6/site-packages/pandas/core/indexing.py\u001b[0m in \u001b[0;36m_getitem_axis\u001b[0;34m(self, key, axis)\u001b[0m\n\u001b[1;32m   1747\u001b[0m \u001b[0;34m\u001b[0m\u001b[0m\n\u001b[1;32m   1748\u001b[0m             \u001b[0;31m# validate the location\u001b[0m\u001b[0;34m\u001b[0m\u001b[0;34m\u001b[0m\u001b[0m\n\u001b[0;32m-> 1749\u001b[0;31m             \u001b[0mself\u001b[0m\u001b[0;34m.\u001b[0m\u001b[0m_is_valid_integer\u001b[0m\u001b[0;34m(\u001b[0m\u001b[0mkey\u001b[0m\u001b[0;34m,\u001b[0m \u001b[0maxis\u001b[0m\u001b[0;34m)\u001b[0m\u001b[0;34m\u001b[0m\u001b[0m\n\u001b[0m\u001b[1;32m   1750\u001b[0m \u001b[0;34m\u001b[0m\u001b[0m\n\u001b[1;32m   1751\u001b[0m             \u001b[0;32mreturn\u001b[0m \u001b[0mself\u001b[0m\u001b[0;34m.\u001b[0m\u001b[0m_get_loc\u001b[0m\u001b[0;34m(\u001b[0m\u001b[0mkey\u001b[0m\u001b[0;34m,\u001b[0m \u001b[0maxis\u001b[0m\u001b[0;34m=\u001b[0m\u001b[0maxis\u001b[0m\u001b[0;34m)\u001b[0m\u001b[0;34m\u001b[0m\u001b[0m\n",
      "\u001b[0;32m~/anaconda3/lib/python3.6/site-packages/pandas/core/indexing.py\u001b[0m in \u001b[0;36m_is_valid_integer\u001b[0;34m(self, key, axis)\u001b[0m\n\u001b[1;32m   1636\u001b[0m         \u001b[0ml\u001b[0m \u001b[0;34m=\u001b[0m \u001b[0mlen\u001b[0m\u001b[0;34m(\u001b[0m\u001b[0max\u001b[0m\u001b[0;34m)\u001b[0m\u001b[0;34m\u001b[0m\u001b[0m\n\u001b[1;32m   1637\u001b[0m         \u001b[0;32mif\u001b[0m \u001b[0mkey\u001b[0m \u001b[0;34m>=\u001b[0m \u001b[0ml\u001b[0m \u001b[0;32mor\u001b[0m \u001b[0mkey\u001b[0m \u001b[0;34m<\u001b[0m \u001b[0;34m-\u001b[0m\u001b[0ml\u001b[0m\u001b[0;34m:\u001b[0m\u001b[0;34m\u001b[0m\u001b[0m\n\u001b[0;32m-> 1638\u001b[0;31m             \u001b[0;32mraise\u001b[0m \u001b[0mIndexError\u001b[0m\u001b[0;34m(\u001b[0m\u001b[0;34m\"single positional indexer is out-of-bounds\"\u001b[0m\u001b[0;34m)\u001b[0m\u001b[0;34m\u001b[0m\u001b[0m\n\u001b[0m\u001b[1;32m   1639\u001b[0m         \u001b[0;32mreturn\u001b[0m \u001b[0;32mTrue\u001b[0m\u001b[0;34m\u001b[0m\u001b[0m\n\u001b[1;32m   1640\u001b[0m \u001b[0;34m\u001b[0m\u001b[0m\n",
      "\u001b[0;31mIndexError\u001b[0m: single positional indexer is out-of-bounds"
     ]
    }
   ],
   "source": [
    "categoria_reglas=pd.DataFrame()\n",
    "for i in range(0, respuestas.shape[0]):\n",
    "    respuesta_regla=pd.DataFrame(script_reglas.procesa_reglas(str(respuestas['texto'].iloc[i])), index=[i])\n",
    "    categoria_reglas=pd.concat([categoria_reglas, respuesta_regla])\n",
    "respuestas=pd.concat([respuestas, categoria_reglas], axis=1)"
   ]
  },
  {
   "cell_type": "code",
   "execution_count": 15,
   "metadata": {},
   "outputs": [],
   "source": [
    "respuestas=respuestas.loc[respuestas.texto!='nan']"
   ]
  },
  {
   "cell_type": "code",
   "execution_count": 16,
   "metadata": {
    "scrolled": true
   },
   "outputs": [
    {
     "data": {
      "text/plain": [
       "modelo           932\n",
       "like-fb          480\n",
       "si               309\n",
       "gracias          184\n",
       "hola             136\n",
       "no               114\n",
       "informacion       96\n",
       "ok                95\n",
       "twitter-image     57\n",
       "emoji             36\n",
       "spam              23\n",
       "hasta luego        6\n",
       "pregunta           4\n",
       "Name: result, dtype: int64"
      ]
     },
     "execution_count": 16,
     "metadata": {},
     "output_type": "execute_result"
    }
   ],
   "source": [
    "respuestas.result.value_counts()"
   ]
  },
  {
   "cell_type": "code",
   "execution_count": 27,
   "metadata": {},
   "outputs": [
    {
     "data": {
      "text/plain": [
       "Secretaria de Salud informa: que NO se debe comprar ningún producto de la marca Alpura: ni jugos, ni yogures ni mucho menos LECHES, porque se les ha hecho  analisis  y se confirmo que traen la bacteria Salmonella, los analisis dieron positivo. Debemos pasar la informacion porque los antibioticos contra esa bacteria estan escasos. Y las personas ya estan vendiendo esos productos a bajos precios para salir de ellos..\\nCopia y difunde esto puede salvar la vida de un familiar tuyo. pasalo                                                                                                                                                                                 3\n",
       "Hola, Les escribimos desde Fundación https://t.co/1gdudkqCiq , una organización sin fines de lucro cuya misión es fortalecer la democracia y reducir la desigualdad en América Latina,  para compartirles una iniciativa que puede ser de interés para su institución. Se trata de https://t.co/tyUYIuyhMC ,  un proyecto que entrega herramientas metodológicas de incidencia y  facilitación para impulsar cambios en América Latina.  Estamos invitando a participar a jóvenes de la función pública y  liderazgos emergentes de organizaciones sociales y academia que se  dediquen de manera constante a combatir la violencia en cualquiera de  sus dimens                          1\n",
       "Hola,\\n\\n¿Nos pueden ayudar a compartir esta invitación? Es para participar en el “Reto MANOS LIMPIAS”\\n\\nEstamos seguros de que @SSalud_mx y todos los hospitales federales están listos para participar con actividades\\n\\nhttps://t.co/cyt8fuNxNT\\n\\nSaludos!\\n\\nLuis Antonio \\n@Sepsis_Mx                                                                                                                                                                                                                                                                                                                                                                                             1\n",
       "Cancer https://t.co/40UWLbqbbG                                                                                                                                                                                                                                                                                                                                                                                                                                                                                                                                                                                                                                                            1\n",
       " https://t.co/8kYuMPNM3V                                                                                                                                                                                                                                                                                                                                                                                                                                                                                                                                                                                                                                                                  1\n",
       "https://t.co/Waly9IfMui                                                                                                                                                                                                                                                                                                                                                                                                                                                                                                                                                                                                                                                                   1\n",
       "Porfavor hay un gran problema en San Pancho Nayarit . Hace tres semanas hay un lago y tambien un rio de septico abierto. Todos calles Birmania y atras de hospital tienen septico tapado. Con sancuros y mosques esta es perfecto por typhoid y malaria y dengue. No hay un oficina de aqua no mas y wes dicho que es resposibilidad de la gente en la calle. Tambien no recogan Basura . Entonces hay nuevos bebes que estan enfermas. Quien va ayudar.. Gracias para escuchando.                                                                                                                                                                                                        1\n",
       "Hola buenas tardes  quisiera comentarles un caso que le acabó de pasar a mi mamá aquí en San Jose De Ure bueno acá la eps comfacor  en convenio con la clínica bijao y el hospital de ure tienen una sola disputa y los pacientes son los mas afectados mi mamá sufre del azúcar y por lo tanto necesitaba realizarse la prueba para ver en cuanto la tenía en la clínica no hay los recursos para realizar dicha prueba y la enviaron al hospital y obviamente se negaron a realizarsela porque esta afiliada a confacor nos toco vivir un momento muy incómodo porque fueron muy groceros y no atendieron a mi mamá ni en la secretaria de salud de acá no nos                          1\n",
       "Foto de Tigre https://t.co/b4RbH8y9lI                                                                                                                                                                                                                                                                                                                                                                                                                                                                                                                                                                                                                                                     1\n",
       "También quisiera saber si colocan el implante anticonceptivo                                                                                                                                                                                                                                                                                                                                                                                                                                                                                                                                                                                                                              1\n",
       "La lista la encontré aquí https://t.co/MZGHwrPK3H                                                                                                                                                                                                                                                                                                                                                                                                                                                                                                                                                                                                                                         1\n",
       "Se solicita su apoyo para conseguir reclusmyn para un menor que se encuentra hospitalizado en Chiapas https://t.co/09zoYjngfk                                                                                                                                                                                                                                                                                                                                                                                                                                                                                                                                                             1\n",
       "Buen día ...  Sólo para preguntar a qué instancia puedo acudir ya que tengo un problema de salud  con mi niña  a  causa de unos gatos que vienen a ser sus necesidades a mi casa y ya se le platico ala dueña y pues hasta malas palabras recibí sabiendo que los gatos son de ellos y no se hacen cargo de los destrozos que viene. Hacer igual con la basura y sinabro la puerta se meten a comer lo que encuentran ya no sé qué hacer porque hasta este punto de tener enfermedades infecciosas tiene mi niña xk no puede ni jugar fuera debido ala popo que estos animales a dieron dejan ojalá me pudieran orientar para poder hacer algo                                            1\n",
       "Medicina personalizada: Nuevas oportunidades para la práctica médica. Dr. Gerardo Jiménez Sánchez NO TE LO PIERDAS te esperamos en el WTC de la CDMX o síguela desde cualquier lugar la transmisión en vivo inscríbete en https://t.co/lZ50EsCWwj https://t.co/y5IbN1tnHh                                                                                                                                                                                                                                                                                                                                                                                                                 1\n",
       "Disculpe quería saber si era cierto Secretaria de Salud informa: que NO se debe comprar ningún producto de la marca Alpura: ni jugos, ni yogures ni mucho menos LECHES, porque se les ha hecho  analisis  y se confirmo que traen la bacteria Salmonella, los analisis dieron positivo. Debemos pasar la informacion porque los antibioticos contra esa bacteria estan escasos. Y las personas ya estan vendiendo esos productos a bajos precios para salir de ellos..\\nCopia y difunde esto puede salvar la vida de un familiar tuyo. pasalo                                                                                                                                             1\n",
       "https://t.co/q3JrSxJiBE                                                                                                                                                                                                                                                                                                                                                                                                                                                                                                                                                                                                                                                                   1\n",
       "Anónimo por favor aver si pueden mandar jente a checar un comedor en la planta de DAIMLER saltillo ubicada en Derramadero es lo ke nos dan de comer y más ke nos kegamos no nos hacen caso https://t.co/ttOqLzUpZS                                                                                                                                                                                                                                                                                                                                                                                                                                                                        1\n",
       "Buenas tardes, quisiera checar la información de los documentos necesarios para la importación de productos cosméticos y están teniendo problemas en la página web.  Podría hacerme llegar esta información vía correo electrónico o por algún otro medio? \\n\\nSaludo,                                                                                                                                                                                                                                                                                                                                                                                                                    1\n",
       "quien puede atender este daño ambiental y foco de infecciones para la población.  https://t.co/UDbzDqazQ1                                                                                                                                                                                                                                                                                                                                                                                                                                                                                                                                                                                 1\n",
       "https://t.co/az6m6XXjoL                                                                                                                                                                                                                                                                                                                                                                                                                                                                                                                                                                                                                                                                   1\n",
       "felicidades amigo y mil bendiciones https://t.co/0kVKWmXMwC                                                                                                                                                                                                                                                                                                                                                                                                                                                                                                                                                                                                                               1\n",
       "Secretaria de Salud informa: que NO se debe comprar ningún producto de la marca Alpura: ni jugos, ni yogures ni mucho menos LECHES, porque se les ha hecho  analisis  y se confirmo que traen la bacteria Salmonella, los analisis dieron positivo. Debemos pasar la informacion porque los antibioticos contra esa bacteria estan escasos. Y las personas ya estan vendiendo esos productos a bajos precios para salir de ellos..\\nCopia y difunde esto puede salvar la vida de un familiar tuyo. pasalo\\n\\nRecibí este mensaje y por el alto consumo fe leche que hay en mi casa quisiera saber que tan cierto es. Podrán carne una respuesta.                                          1\n",
       "Buen día, me presento para proponerme para hacer alianza y promover temas de salud en las escuelas. Favor de contestarme con quién ponernos en contacto. Gracias. https://t.co/Ide3HwHdfv                                                                                                                                                                                                                                                                                                                                                                                                                                                                                                 1\n",
       "buen dia, me puden ayudar a confirmar si este mensaje que circula es verdadero?? Secretaria de Salud informa: que NO se debe comprar ningún producto de la marca Alpura: ni jugos, ni yogures ni mucho menos LECHES, porque se les ha hecho  analisis  y se confirmo que traen la bacteria Salmonella, los analisis dieron positivo. Debemos pasar la informacion porque los antibioticos contra esa bacteria estan escasos. Y las personas ya estan vendiendo esos productos a bajos precios para salir de ellos..\\nCopia y difunde esto puede salvar la vida de un familiar tuyo. pasalo                                                                                                1\n",
       "https://t.co/ujNLNuAQfm                                                                                                                                                                                                                                                                                                                                                                                                                                                                                                                                                                                                                                                                   1\n",
       "Pastillas anticonceptivas                                                                                                                                                                                                                                                                                                                                                                                                                                                                                                                                                                                                                                                                 1\n",
       "Su apoyo en Hospital Nacional Homeopático no hay nadie en informes y comentan que la persona que atiende se encuentra desayunando que es una constante y que por lo menos una hora dura su desayuno                                                                                                                                                                                                                                                                                                                                                                                                                                                                                       1\n",
       "https://t.co/uY2y4Iswv0                                                                                                                                                                                                                                                                                                                                                                                                                                                                                                                                                                                                                                                                   1\n",
       "Mi nombre es Mónica Murcia con cc 1076659523                     Desde el dia 22 marzo estoy solicitando a la eps compensar asignación de cita por ginecología y colposcopia mi caso esta radicado ante la superintendencia nacional de salud como riesgo de vida,  por que soy una persona con diagnostico de vhp grado dos alto con riesgo a cancer.  La eps ha cerrado mis quejas indicando que tengo autorización para valoracion en 6 meses tiempo que se cumpliría en junio según ellos. Las autorizaciones que tengo son de octubre donde el medico tratante me dio autorizaciónes para el mes de abril. Anexo documentos para verificación.  Solícito ge                          1\n",
       "Disculpen me toco hacer un trabajo de la secretaria de salud \\n\\nMe podrian ayudar \\nDandome informacion de cuando se creo en que nos ayuda \\nPorfavor \\nGracias                                                                                                                                                                                                                                                                                                                                                                                                                                                                                                                          1\n",
       "Secretaria de Salud informa: que NO se debe comprar ningún producto de la marca Alpura: ni jugos, ni yogures ni mucho menos LECHES, porque se les ha hecho  analisis  y se confirmo que traen la bacteria Salmonella, los analisis dieron positivo. Debemos pasar la informacion porque los antibioticos contra esa bacteria estan escasos. Y las personas ya estan vendiendo esos productos a bajos precios para salir de ellos..Copia y difunde esto puede salvar la vida de un familiar tuyo. pasalo                                                                                                                                                                                   1\n",
       "Visita mi sitio web https://t.co/mx746Wrza3                                                                                                                                                                                                                                                                                                                                                                                                                                                                                                                                                                                                                                               1\n",
       "Hola,  Buenas tardes, dónde se depositan las jeringuillas utilizadas por pacientes diabéticos que generan en sus hogares?                                                                                                                                                                                                                                                                                                                                                                                                                                                                                                                                                                 1\n",
       "https://t.co/rbsa5QOafg                                                                                                                                                                                                                                                                                                                                                                                                                                                                                                                                                                                                                                                                   1\n",
       "https://t.co/HouKMudLQc                                                                                                                                                                                                                                                                                                                                                                                                                                                                                                                                                                                                                                                                   1\n",
       "Buenas noches esto anda circulando en algunas redes que hay de cierto\\nSecretaria de Salud informa: que NO se debe comprar ningún producto de la marca Alpura: ni jugos, ni yogures ni mucho menos LECHES, porque se les ha hecho  analisis  y se confirmo que traen la bacteria Salmonella, los analisis dieron positivo. Debemos pasar la informacion porque los antibioticos contra esa bacteria estan escasos. Y las personas ya estan vendiendo esos productos a bajos precios para salir de ellos..\\nCopia y difunde esto puede salvar la vida de un familiar tuyo. pasalo                                                                                                          1\n",
       "Promobolsa.  Impactos publicitarios\\n\\nSomos Promobolsa una empresa con 30 años de experiencia dedicada a la fabricación y comercialización de bolsas de papel y de plástico entre otros empaques publicitarios, la intención es que más que ser una opción de ser proveedores, queremos ser una herramienta funcional que le ofrezca calidad y contribuya al compromiso de su empresa.\\n\\nFabricamos:\\n•\\tBolsas de Papel (Extensos materiales y medidas)\\n•\\tBolsas de plástico\\n•\\tBolsas Ecológicas ( Non Woven )\\n•\\tBolsa para Carbón (Cocidos, o con base cuadrada)\\n•\\tCajas publicitarias\\n•\\tPorta trajes\\n•\\tListones con tu Marca\\n•\\tPapel China Personalizado\\n•\\tSobres    1\n",
       "Hola, buenas tardes, me gustaría saber si en el hospital de la mujer en Puebla puedo hacer una consulta para planificación familiar en específico para saber sobre métodos anticonceptivos, si es así como podría tener acceso a la consulta y también me gustaría saber si hay algún costó por la consulta o por la aplicación de métodos anticonceptivos, de antemano muchas gracias por su atención.                                                                                                                                                                                                                                                                                   1\n",
       "Si eres diabético puedes donar sangre?                                                                                                                                                                                                                                                                                                                                                                                                                                                                                                                                                                                                                                                    1\n",
       "Buenos dias disculpe donde puedo reportar un estabelcimiento donde venden comida pero tiene una plaga de ratas y de vario tipo de insectos. Es que es un riesgo para los que consumen los productos de ese lugar de echo es una casa particular \\nLes dejo los datos de el lugar \\nCalle Guadalajara # 104 Col. Nuevo milenio conocida como el ranchito 2 en Guadalupe nuevo león \\nHay venden tacos gorditas y burritos y la vdd la higiene no es la adecuadad                                                                                                                                                                                                                           1\n",
       "En grupos de WhatsApp están pasando un anuncio que dice esto: Secretaria de Salud informa: que NO se debe comprar ningún producto de la marca Alpura: ni jugos, ni yogures ni mucho menos LECHES, porque se les ha hecho  analisis  y se confirmo que traen la bacteria Salmonella, los analisis dieron positivo. Debemos pasar la informacion porque los antibioticos contra esa bacteria estan escasos. Y las personas ya estan vendiendo esos productos a bajos precios para salir de ellos..\\nCopia y difunde esto puede salvar la vida de un familiar tuyo. pasalo                                                                                                                   1\n",
       "Buenas tardes.  Es cierto que el huevo de gallina ahora se debe comercializar en plástico, tanto conos como cajas?                                                                                                                                                                                                                                                                                                                                                                                                                                                                                                                                                                        1\n",
       "A quien Corresponda: medíante este espacio, pedimos sea reinstalada la Dra. Mara Medeiros en su plaza laboral de Investigador.  Se ha cometido un atropello   A sus derechos como profesionista y Médico Responsable y Ético                                                                                                                                                                                                                                                                                                                                                                                                                                                              1\n",
       "Hola buenas tardes, soy medico pasante de la facultad de medicina, en el área de comunicación social. El motivo de mi mensaje es preguntar sobre si existe una pagina de la secretaria de salud, donde pueda consultar los correos de los directores del hospital infantil, hospital Juárez, hospital de la mujer, hospital homeopático y el hospital psiquiátrico ?? Esto con el fin de proporcionales de manera electrónica la gaceta de la facultad de medicina de la UNAM. Muchas gracias                                                                                                                                                                                             1\n",
       "Hola buenas tardes, solo quería preguntar si manejan colores específicos para identificar algunos temas como buenos habitos, anticonceptivos, adicciones, etc...                                                                                                                                                                                                                                                                                                                                                                                                                                                                                                                          1\n",
       "Tengo diabetes, cuando tendre las amputaciones? Tengo entendido que los disbeticos tarde o temprano les amputan una pierna 😫😩😞                                                                                                                                                                                                                                                                                                                                                                                                                                                                                                                                                            1\n",
       "https://t.co/qFJrTja4GB                                                                                                                                                                                                                                                                                                                                                                                                                                                                                                                                                                                                                                                                   1\n",
       "Buen día. Están enviando un mensaje en WhatsApp y quisiera nos ayuden a saber si es verídico. Quiero pensar q si no lo han reportado es porque es falso.\\n\\nSecretaria de Salud informa: que NO se debe comprar ningún producto de la marca Alpura: ni jugos, ni yogures ni mucho menos LECHES, porque se les ha hecho  analisis  y se confirmo que traen la bacteria Salmonella, los analisis dieron positivo. Debemos pasar la informacion porque los antibioticos contra esa bacteria estan escasos. Y las personas ya estan vendiendo esos productos a bajos precios para salir de ellos..\\nCopia y difunde esto puede salvar la vida de un familiar tuyo.                            1\n",
       "EN DÓNDE SE UBICA EL OIC DE LA https://t.co/g5g569esVN SALUD? SALUDOS!!!                                                                                                                                                                                                                                                                                                                                                                                                                                                                                                                                                                                                                  1\n",
       "https://t.co/1beQNpsR5q                                                                                                                                                                                                                                                                                                                                                                                                                                                                                                                                                                                                                                                                   1\n",
       "https://t.co/WP23UnUBBT                                                                                                                                                                                                                                                                                                                                                                                                                                                                                                                                                                                                                                                                   1\n",
       "Reminder - By registering (free) with https://t.co/c3xgBPVQpU  your account will be credited with 50 FREE job adverts.                                                                                                                                                                                                                                                                                                                                                                                                                                                                                                                                                                    1\n",
       " https://t.co/q7b6OU1xsu                                                                                                                                                                                                                                                                                                                                                                                                                                                                                                                                                                                                                                                                  1\n",
       "@Tu_IMSS ayer le pusieron la diálisis a mi hermano en un cuartucho porque no había quirófano en dónde pongo mi queja??? Se encuentra lleno de líquido https://t.co/CY6tIffHl6                                                                                                                                                                                                                                                                                                                                                                                                                                                                                                             1\n",
       "https://t.co/eXMJSo6lGZ                                                                                                                                                                                                                                                                                                                                                                                                                                                                                                                                                                                                                                                                   1\n",
       "Name: texto, dtype: int64"
      ]
     },
     "execution_count": 27,
     "metadata": {},
     "output_type": "execute_result"
    }
   ],
   "source": [
    "respuestas.texto.loc[respuestas.result=='twitter-image'].value_counts()"
   ]
  },
  {
   "cell_type": "code",
   "execution_count": 79,
   "metadata": {
    "scrolled": true
   },
   "outputs": [
    {
     "data": {
      "text/plain": [
       "(3333,)"
      ]
     },
     "execution_count": 79,
     "metadata": {},
     "output_type": "execute_result"
    }
   ],
   "source": [
    "np.shape(array_para_modelo)"
   ]
  },
  {
   "cell_type": "code",
   "execution_count": 66,
   "metadata": {},
   "outputs": [
    {
     "data": {
      "text/plain": [
       "array(['modelo', 'nan', 'nan', '1', '3',\n",
       "       'f60ed04c-49af-4d7a-82e2-9a0c7d08fe8e', '+525529070118', 'ALTOPD'],\n",
       "      dtype='<U36')"
      ]
     },
     "execution_count": 66,
     "metadata": {},
     "output_type": "execute_result"
    }
   ],
   "source": [
    "\n",
    "resultado_reglas=np.array([resultado_reglas[i] for i in nombres])"
   ]
  },
  {
   "cell_type": "code",
   "execution_count": 58,
   "metadata": {},
   "outputs": [
    {
     "data": {
      "text/plain": [
       "array({'result': 'modelo', 'texto': 'nan', 'texto_proc': 'nan', 'wc': 1, 'cc': 3, 'id_contacto': 'f60ed04c-49af-4d7a-82e2-9a0c7d08fe8e', 'urn': '+525529070118', 'listas': 'ALTOPD'}, dtype=object)"
      ]
     },
     "execution_count": 58,
     "metadata": {},
     "output_type": "execute_result"
    }
   ],
   "source": [
    "resultado_reglas"
   ]
  },
  {
   "cell_type": "code",
   "execution_count": 36,
   "metadata": {},
   "outputs": [
    {
     "ename": "KeyboardInterrupt",
     "evalue": "",
     "output_type": "error",
     "traceback": [
      "\u001b[0;31m---------------------------------------------------------------------------\u001b[0m",
      "\u001b[0;31mKeyboardInterrupt\u001b[0m                         Traceback (most recent call last)",
      "\u001b[0;32m<ipython-input-36-1b737c4f5814>\u001b[0m in \u001b[0;36m<module>\u001b[0;34m()\u001b[0m\n\u001b[1;32m      1\u001b[0m \u001b[0;32mfor\u001b[0m \u001b[0mi\u001b[0m \u001b[0;32min\u001b[0m \u001b[0mrespuestas\u001b[0m\u001b[0;34m:\u001b[0m\u001b[0;34m\u001b[0m\u001b[0m\n\u001b[0;32m----> 2\u001b[0;31m     \u001b[0mresultado_reglas\u001b[0m\u001b[0;34m=\u001b[0m\u001b[0mscript_reglas\u001b[0m\u001b[0;34m.\u001b[0m\u001b[0mprocesa_reglas\u001b[0m\u001b[0;34m(\u001b[0m\u001b[0mstr\u001b[0m\u001b[0;34m(\u001b[0m\u001b[0mi\u001b[0m\u001b[0;34m[\u001b[0m\u001b[0;36m4\u001b[0m\u001b[0;34m]\u001b[0m\u001b[0;34m)\u001b[0m\u001b[0;34m)\u001b[0m\u001b[0;34m\u001b[0m\u001b[0m\n\u001b[0m\u001b[1;32m      3\u001b[0m     resultado_reglas=resultado_reglas.update({'id_contacto':i[0],\n\u001b[1;32m      4\u001b[0m                              \u001b[0;34m'urn'\u001b[0m\u001b[0;34m:\u001b[0m\u001b[0mi\u001b[0m\u001b[0;34m[\u001b[0m\u001b[0;36m1\u001b[0m\u001b[0;34m]\u001b[0m\u001b[0;34m,\u001b[0m\u001b[0;34m\u001b[0m\u001b[0m\n\u001b[1;32m      5\u001b[0m                             'listas':i[3]})\n",
      "\u001b[0;32m~/Documents/GIT/mi-salud/script_reglas.py\u001b[0m in \u001b[0;36mprocesa_reglas\u001b[0;34m(texto)\u001b[0m\n\u001b[1;32m     79\u001b[0m     \u001b[0;31m#print('wc: '+ str(wc))\u001b[0m\u001b[0;34m\u001b[0m\u001b[0;34m\u001b[0m\u001b[0m\n\u001b[1;32m     80\u001b[0m \u001b[0;34m\u001b[0m\u001b[0m\n\u001b[0;32m---> 81\u001b[0;31m     \u001b[0memojis\u001b[0m\u001b[0;34m=\u001b[0m\u001b[0mis_emoji\u001b[0m\u001b[0;34m(\u001b[0m\u001b[0mtexto\u001b[0m\u001b[0;34m)\u001b[0m \u001b[0;31m#Conteo de emojis\u001b[0m\u001b[0;34m\u001b[0m\u001b[0m\n\u001b[0m\u001b[1;32m     82\u001b[0m     \u001b[0;31m#print('conteo de emojis: '+ str(emojis))\u001b[0m\u001b[0;34m\u001b[0m\u001b[0;34m\u001b[0m\u001b[0m\n\u001b[1;32m     83\u001b[0m \u001b[0;34m\u001b[0m\u001b[0m\n",
      "\u001b[0;32m~/Documents/GIT/mi-salud/script_reglas.py\u001b[0m in \u001b[0;36mis_emoji\u001b[0;34m(s)\u001b[0m\n\u001b[1;32m     22\u001b[0m     \u001b[0mcount\u001b[0m \u001b[0;34m=\u001b[0m \u001b[0;36m0\u001b[0m\u001b[0;34m\u001b[0m\u001b[0m\n\u001b[1;32m     23\u001b[0m     \u001b[0;32mfor\u001b[0m \u001b[0memoji\u001b[0m \u001b[0;32min\u001b[0m \u001b[0mrange\u001b[0m\u001b[0;34m(\u001b[0m\u001b[0;36m1\u001b[0m\u001b[0;34m,\u001b[0m \u001b[0mlen\u001b[0m\u001b[0;34m(\u001b[0m\u001b[0mUNICODE_EMOJI\u001b[0m\u001b[0;34m)\u001b[0m\u001b[0;34m)\u001b[0m\u001b[0;34m:\u001b[0m\u001b[0;34m\u001b[0m\u001b[0m\n\u001b[0;32m---> 24\u001b[0;31m         \u001b[0mcount\u001b[0m \u001b[0;34m+=\u001b[0m \u001b[0ms\u001b[0m\u001b[0;34m.\u001b[0m\u001b[0mcount\u001b[0m\u001b[0;34m(\u001b[0m\u001b[0mlist\u001b[0m\u001b[0;34m(\u001b[0m\u001b[0mUNICODE_EMOJI\u001b[0m\u001b[0;34m.\u001b[0m\u001b[0mkeys\u001b[0m\u001b[0;34m(\u001b[0m\u001b[0;34m)\u001b[0m\u001b[0;34m)\u001b[0m\u001b[0;34m[\u001b[0m\u001b[0memoji\u001b[0m\u001b[0;34m]\u001b[0m\u001b[0;34m)\u001b[0m\u001b[0;34m\u001b[0m\u001b[0m\n\u001b[0m\u001b[1;32m     25\u001b[0m     \u001b[0;32mreturn\u001b[0m \u001b[0mcount\u001b[0m\u001b[0;34m\u001b[0m\u001b[0m\n\u001b[1;32m     26\u001b[0m \u001b[0;34m\u001b[0m\u001b[0m\n",
      "\u001b[0;31mKeyboardInterrupt\u001b[0m: "
     ]
    }
   ],
   "source": [
    "for i in respuestas:\n",
    "    resultado_reglas=script_reglas.procesa_reglas(str(i[4]))\n",
    "    resultado_reglas.update({'id_contacto':i[0],\n",
    "                             'urn':i[1], \n",
    "                            'listas':i[3]})\n",
    "    "
   ]
  },
  {
   "cell_type": "code",
   "execution_count": 40,
   "metadata": {},
   "outputs": [
    {
     "name": "stdout",
     "output_type": "stream",
     "text": [
      "None\n"
     ]
    }
   ],
   "source": [
    "print(resultado_reglas)"
   ]
  },
  {
   "cell_type": "code",
   "execution_count": null,
   "metadata": {
    "collapsed": true
   },
   "outputs": [],
   "source": []
  },
  {
   "cell_type": "code",
   "execution_count": null,
   "metadata": {
    "collapsed": true
   },
   "outputs": [],
   "source": []
  },
  {
   "cell_type": "code",
   "execution_count": null,
   "metadata": {
    "collapsed": true
   },
   "outputs": [],
   "source": []
  },
  {
   "cell_type": "code",
   "execution_count": null,
   "metadata": {
    "collapsed": true
   },
   "outputs": [],
   "source": []
  },
  {
   "cell_type": "code",
   "execution_count": null,
   "metadata": {
    "collapsed": true
   },
   "outputs": [],
   "source": []
  },
  {
   "cell_type": "code",
   "execution_count": null,
   "metadata": {
    "collapsed": true
   },
   "outputs": [],
   "source": []
  },
  {
   "cell_type": "code",
   "execution_count": null,
   "metadata": {
    "collapsed": true
   },
   "outputs": [],
   "source": []
  },
  {
   "cell_type": "code",
   "execution_count": 5,
   "metadata": {},
   "outputs": [],
   "source": [
    "label_map={1:'emergencia',\n",
    "          2:'informacion',\n",
    "          3: 'nacimiento',\n",
    "          4: 'respuesta',\n",
    "          5: 'pregunta',\n",
    "          6: 'otra',\n",
    "          7: 'pregunta_busca trabajo',\n",
    "          8: 'otra_queja'}"
   ]
  },
  {
   "cell_type": "code",
   "execution_count": 21,
   "metadata": {},
   "outputs": [],
   "source": [
    "#compara[['uncaught_resp_9_text', 'Clasificacion', 'categ_opi']]"
   ]
  },
  {
   "cell_type": "code",
   "execution_count": 9,
   "metadata": {
    "scrolled": true
   },
   "outputs": [
    {
     "data": {
      "text/html": [
       "<div>\n",
       "<style>\n",
       "    .dataframe thead tr:only-child th {\n",
       "        text-align: right;\n",
       "    }\n",
       "\n",
       "    .dataframe thead th {\n",
       "        text-align: left;\n",
       "    }\n",
       "\n",
       "    .dataframe tbody tr th {\n",
       "        vertical-align: top;\n",
       "    }\n",
       "</style>\n",
       "<table border=\"1\" class=\"dataframe\">\n",
       "  <thead>\n",
       "    <tr style=\"text-align: right;\">\n",
       "      <th>categ_opi</th>\n",
       "      <th>emergencia</th>\n",
       "      <th>informacion</th>\n",
       "      <th>nacimiento</th>\n",
       "      <th>otra</th>\n",
       "      <th>otra_queja</th>\n",
       "      <th>pregunta</th>\n",
       "      <th>pregunta_busca trabajo</th>\n",
       "      <th>respuesta</th>\n",
       "      <th>All</th>\n",
       "    </tr>\n",
       "    <tr>\n",
       "      <th>Clasificacion</th>\n",
       "      <th></th>\n",
       "      <th></th>\n",
       "      <th></th>\n",
       "      <th></th>\n",
       "      <th></th>\n",
       "      <th></th>\n",
       "      <th></th>\n",
       "      <th></th>\n",
       "      <th></th>\n",
       "    </tr>\n",
       "  </thead>\n",
       "  <tbody>\n",
       "    <tr>\n",
       "      <th>emergencia</th>\n",
       "      <td>5</td>\n",
       "      <td>0</td>\n",
       "      <td>0</td>\n",
       "      <td>0</td>\n",
       "      <td>0</td>\n",
       "      <td>0</td>\n",
       "      <td>0</td>\n",
       "      <td>0</td>\n",
       "      <td>5</td>\n",
       "    </tr>\n",
       "    <tr>\n",
       "      <th>informacion</th>\n",
       "      <td>0</td>\n",
       "      <td>37</td>\n",
       "      <td>0</td>\n",
       "      <td>4</td>\n",
       "      <td>0</td>\n",
       "      <td>0</td>\n",
       "      <td>0</td>\n",
       "      <td>4</td>\n",
       "      <td>45</td>\n",
       "    </tr>\n",
       "    <tr>\n",
       "      <th>nacimiento</th>\n",
       "      <td>0</td>\n",
       "      <td>0</td>\n",
       "      <td>3</td>\n",
       "      <td>0</td>\n",
       "      <td>0</td>\n",
       "      <td>0</td>\n",
       "      <td>0</td>\n",
       "      <td>0</td>\n",
       "      <td>3</td>\n",
       "    </tr>\n",
       "    <tr>\n",
       "      <th>otra</th>\n",
       "      <td>1</td>\n",
       "      <td>29</td>\n",
       "      <td>10</td>\n",
       "      <td>269</td>\n",
       "      <td>126</td>\n",
       "      <td>17</td>\n",
       "      <td>8</td>\n",
       "      <td>78</td>\n",
       "      <td>538</td>\n",
       "    </tr>\n",
       "    <tr>\n",
       "      <th>pregunta</th>\n",
       "      <td>4</td>\n",
       "      <td>3</td>\n",
       "      <td>0</td>\n",
       "      <td>4</td>\n",
       "      <td>16</td>\n",
       "      <td>303</td>\n",
       "      <td>53</td>\n",
       "      <td>0</td>\n",
       "      <td>383</td>\n",
       "    </tr>\n",
       "    <tr>\n",
       "      <th>All</th>\n",
       "      <td>10</td>\n",
       "      <td>69</td>\n",
       "      <td>13</td>\n",
       "      <td>277</td>\n",
       "      <td>142</td>\n",
       "      <td>320</td>\n",
       "      <td>61</td>\n",
       "      <td>82</td>\n",
       "      <td>974</td>\n",
       "    </tr>\n",
       "  </tbody>\n",
       "</table>\n",
       "</div>"
      ],
      "text/plain": [
       "categ_opi      emergencia  informacion  nacimiento  otra  otra_queja  \\\n",
       "Clasificacion                                                          \n",
       "emergencia              5            0           0     0           0   \n",
       "informacion             0           37           0     4           0   \n",
       "nacimiento              0            0           3     0           0   \n",
       "otra                    1           29          10   269         126   \n",
       "pregunta                4            3           0     4          16   \n",
       "All                    10           69          13   277         142   \n",
       "\n",
       "categ_opi      pregunta  pregunta_busca trabajo  respuesta  All  \n",
       "Clasificacion                                                    \n",
       "emergencia            0                       0          0    5  \n",
       "informacion           0                       0          4   45  \n",
       "nacimiento            0                       0          0    3  \n",
       "otra                 17                       8         78  538  \n",
       "pregunta            303                      53          0  383  \n",
       "All                 320                      61         82  974  "
      ]
     },
     "execution_count": 9,
     "metadata": {},
     "output_type": "execute_result"
    }
   ],
   "source": [
    "pd.crosstab(compara.Clasificacion, compara.categ_opi, margins=True)\n",
    "\n"
   ]
  },
  {
   "cell_type": "code",
   "execution_count": 177,
   "metadata": {},
   "outputs": [],
   "source": [
    "#compara.uncaught_resp_9_text.loc[(compara.Clasificacion=='pregunta')].ravel()"
   ]
  },
  {
   "cell_type": "code",
   "execution_count": 194,
   "metadata": {},
   "outputs": [
    {
     "data": {
      "text/plain": [
       "array([ 'hola me gustaría saber en dónde puedo poner una queda, ya que se le negó el servicio de atención a mi mamá en dos hospitales',\n",
       "       '@[173076059407762:274:secretaría de salud] no has respondido a mi pregunta respecto a  porque si hay actualmente una problemática y riesgo de sarampión existe carencia de las vacunas para prevención???',\n",
       "       'buen día\\n\\ntengo dudas sobre una denuncia pertinente. \\n\\nmis vecinos tienen aves de corral sin los debidos requerimientos sobre salubridad, generan cucarachas y otras plagas, además de que el ruido es insoportable. \\nquisiera hacer una denuncia pero desconozco dónde o cómo hacer el trámite para que los revise salubridad, ya que de igual forma, utilizan el domicilio como bodega de desechos de verdulería y el aroma es insoportable.',\n",
       "       'buenas noches, soy de tijuana, me interesa saber en donde puedo reportar a una persona  con tuberculosis, el está conciente de su enfermedad y sin importarle se encuentra todos los días en la salida del transporte público, donde siempre hay personas y niños, incluso personas vendiendo comida, y si me preocupa esta situación  espero una respuesta gracias.',\n",
       "       'buen día ...  sólo para preguntar a qué instancia puedo acudir ya que tengo un problema de salud  con mi niña  a  causa de unos gatos que vienen a ser sus necesidades a mi casa y ya se le platico ala dueña y pues hasta malas palabras recibí sabiendo que los gatos son de ellos y no se hacen cargo de los destrozos que viene. hacer igual con la basura y sinabro la puerta se meten a comer lo que encuentran ya no sé qué hacer porque hasta este punto de tener enfermedades infecciosas tiene mi niña xk no puede ni jugar fuera debido ala popo que estos animales a dieron dejan ojalá me pudieran orientar para poder hacer algo',\n",
       "       'ya de esto tiene mas de dos meses y diario desde temprano es la misma situación y nosotros ya tenemos cefaleas, nauseas, ojos irritados... y la mercancia ya con olor ahumado.',\n",
       "       'hola buenos días oye donde puedo denunciar malos manejos ijienicos',\n",
       "       'buenos dias disculpe donde puedo reportar un estabelcimiento donde venden comida pero tiene una plaga de ratas y de vario tipo de insectos. es que es un riesgo para los que consumen los productos de ese lugar de echo es una casa particular \\nles dejo los datos de el lugar \\ncalle guadalajara # 104 col. nuevo milenio conocida como el ranchito 2 en guadalupe nuevo león \\nhay venden tacos gorditas y burritos y la vdd la higiene no es la adecuadad',\n",
       "       'buenas noches. vender sangre es un delito, cierto? en donde se puede denunciar?',\n",
       "       'buenos dias por que se esta obligando alas personas con prospera aque se le agan el papanicolao por que no dejan  que lo yraigan de otra parte',\n",
       "       'dónde podré poner una queja de salubridad',\n",
       "       'buenos días, disculpen no sé si aquí me puedan ayudar o hacer algo. llevo dos días tratando de que me atiendan en un centro de salud, porque estoy embarazada y el vigilante me ha negado el servicio que porque \"ya no tienen fichas\", no puedo creer que a las 7 am ya no puedan atenderme. \\nnecesito la atención para mí, y mi bebé y el señor que no me quiso dar su nombre sólo se burlaba de mi, diciendo que fuera más temprano. lamentablemente no tengo quien me acompañe y debo ir sola, las calles son demasiado riesgosas a muy temprana hora. \\n¿qué sugerencia me dan? ¿a dónde puedo acudir y que sí me brinden el servicio?',\n",
       "       'hola buenas tardes aquí puedo reportar una doctora q me está negando el servicio medici',\n",
       "       'buenas noches quería preguntar si no es peligroso que vendan las pastillitas acxion que es un medicamento controlado por facebook?',\n",
       "       'buenas tardes, ¿donde puedo poner la denuncia de la falta de higiene en un restaurant?',\n",
       "       'hola buenas tardes  quisiera comentarles un caso que le acabó de pasar a mi mamá aquí en san jose de ure bueno acá la eps comfacor  en convenio con la clínica bijao y el hospital de ure tienen una sola disputa y los pacientes son los mas afectados mi mamá sufre del azúcar y por lo tanto necesitaba realizarse la prueba para ver en cuanto la tenía en la clínica no hay los recursos para realizar dicha prueba y la enviaron al hospital y obviamente se negaron a realizarsela porque esta afiliada a confacor nos toco vivir un momento muy incómodo porque fueron muy groceros y no atendieron a mi mamá ni en la secretaria de salud de acá no nos'], dtype=object)"
      ]
     },
     "execution_count": 194,
     "metadata": {},
     "output_type": "execute_result"
    }
   ],
   "source": [
    "compara.uncaught_resp_9_text.loc[(compara.Clasificacion=='pregunta') &\n",
    "                                 (compara.categ_opi==8)].ravel()"
   ]
  },
  {
   "cell_type": "code",
   "execution_count": 4,
   "metadata": {
    "scrolled": true
   },
   "outputs": [
    {
     "data": {
      "text/html": [
       "<div>\n",
       "<style>\n",
       "    .dataframe thead tr:only-child th {\n",
       "        text-align: right;\n",
       "    }\n",
       "\n",
       "    .dataframe thead th {\n",
       "        text-align: left;\n",
       "    }\n",
       "\n",
       "    .dataframe tbody tr th {\n",
       "        vertical-align: top;\n",
       "    }\n",
       "</style>\n",
       "<table border=\"1\" class=\"dataframe\">\n",
       "  <thead>\n",
       "    <tr style=\"text-align: right;\">\n",
       "      <th></th>\n",
       "      <th>id_contacto</th>\n",
       "      <th>urn</th>\n",
       "      <th>nombre</th>\n",
       "      <th>listas</th>\n",
       "      <th>uncaught_resp_9_cat</th>\n",
       "      <th>uncaught_resp_9_val</th>\n",
       "      <th>uncaught_resp_9_text</th>\n",
       "      <th>categ_opi</th>\n",
       "      <th>uncaught_resp_9_text_wc</th>\n",
       "      <th>uncaught_resp_9_text_nchar</th>\n",
       "      <th>uncaught_resp_9_text_mod</th>\n",
       "      <th>es</th>\n",
       "    </tr>\n",
       "  </thead>\n",
       "  <tbody>\n",
       "    <tr>\n",
       "      <th>0</th>\n",
       "      <td>e7e51622-a160-4bb4-9b7d-785c0c2bfbc7</td>\n",
       "      <td>20999</td>\n",
       "      <td>NaN</td>\n",
       "      <td>NaN</td>\n",
       "      <td>Other</td>\n",
       "      <td>La solicitud de enviar el SMS por Cobrar a 552...</td>\n",
       "      <td>la solicitud de enviar el sms por cobrar a 552...</td>\n",
       "      <td>6</td>\n",
       "      <td>24</td>\n",
       "      <td>144</td>\n",
       "      <td>la solicitud de enviar el sms por cobrar a 552...</td>\n",
       "      <td>0</td>\n",
       "    </tr>\n",
       "    <tr>\n",
       "      <th>1</th>\n",
       "      <td>313822ff-7541-4db6-8fe1-a252363000ab</td>\n",
       "      <td>522461582793</td>\n",
       "      <td>sarahi</td>\n",
       "      <td>ALL, ALTOPD</td>\n",
       "      <td>no</td>\n",
       "      <td>no</td>\n",
       "      <td>te llame y no pude localizarte. tramita en lin...</td>\n",
       "      <td>6</td>\n",
       "      <td>24</td>\n",
       "      <td>135</td>\n",
       "      <td>te llame y no pude localizarte tramita en line...</td>\n",
       "      <td>0</td>\n",
       "    </tr>\n",
       "    <tr>\n",
       "      <th>2</th>\n",
       "      <td>86962a26-c021-4606-8986-893834ad83bd</td>\n",
       "      <td>524271210385</td>\n",
       "      <td>NaN</td>\n",
       "      <td>ALL, ALTOPD</td>\n",
       "      <td>Other</td>\n",
       "      <td>59508</td>\n",
       "      <td>59508</td>\n",
       "      <td>4</td>\n",
       "      <td>1</td>\n",
       "      <td>5</td>\n",
       "      <td>59508</td>\n",
       "      <td>0</td>\n",
       "    </tr>\n",
       "    <tr>\n",
       "      <th>3</th>\n",
       "      <td>84b7624f-261d-44b4-83ba-6fade1a44c3a</td>\n",
       "      <td>524271654479</td>\n",
       "      <td>NaN</td>\n",
       "      <td>ALL, ALTOPD</td>\n",
       "      <td>Other</td>\n",
       "      <td>Mi bebe</td>\n",
       "      <td>mi bebe</td>\n",
       "      <td>3</td>\n",
       "      <td>2</td>\n",
       "      <td>7</td>\n",
       "      <td>mi bebe</td>\n",
       "      <td>0</td>\n",
       "    </tr>\n",
       "    <tr>\n",
       "      <th>4</th>\n",
       "      <td>e083b2ea-6e2d-410c-b5a4-8067a818d485</td>\n",
       "      <td>522411259330</td>\n",
       "      <td>NaN</td>\n",
       "      <td>ALL, ALTOPD</td>\n",
       "      <td>Gracias</td>\n",
       "      <td>gracias</td>\n",
       "      <td>hola si ya cada integrante tenemos fotos con l...</td>\n",
       "      <td>3</td>\n",
       "      <td>18</td>\n",
       "      <td>99</td>\n",
       "      <td>hola si ya cada integrante tenemos fotos con l...</td>\n",
       "      <td>0</td>\n",
       "    </tr>\n",
       "  </tbody>\n",
       "</table>\n",
       "</div>"
      ],
      "text/plain": [
       "                            id_contacto           urn  nombre       listas  \\\n",
       "0  e7e51622-a160-4bb4-9b7d-785c0c2bfbc7         20999     NaN          NaN   \n",
       "1  313822ff-7541-4db6-8fe1-a252363000ab  522461582793  sarahi  ALL, ALTOPD   \n",
       "2  86962a26-c021-4606-8986-893834ad83bd  524271210385     NaN  ALL, ALTOPD   \n",
       "3  84b7624f-261d-44b4-83ba-6fade1a44c3a  524271654479     NaN  ALL, ALTOPD   \n",
       "4  e083b2ea-6e2d-410c-b5a4-8067a818d485  522411259330     NaN  ALL, ALTOPD   \n",
       "\n",
       "  uncaught_resp_9_cat                                uncaught_resp_9_val  \\\n",
       "0               Other  La solicitud de enviar el SMS por Cobrar a 552...   \n",
       "1                  no                                                 no   \n",
       "2               Other                                              59508   \n",
       "3               Other                                            Mi bebe   \n",
       "4             Gracias                                            gracias   \n",
       "\n",
       "                                uncaught_resp_9_text  categ_opi  \\\n",
       "0  la solicitud de enviar el sms por cobrar a 552...          6   \n",
       "1  te llame y no pude localizarte. tramita en lin...          6   \n",
       "2                                              59508          4   \n",
       "3                                            mi bebe          3   \n",
       "4  hola si ya cada integrante tenemos fotos con l...          3   \n",
       "\n",
       "   uncaught_resp_9_text_wc  uncaught_resp_9_text_nchar  \\\n",
       "0                       24                         144   \n",
       "1                       24                         135   \n",
       "2                        1                           5   \n",
       "3                        2                           7   \n",
       "4                       18                          99   \n",
       "\n",
       "                            uncaught_resp_9_text_mod  es  \n",
       "0  la solicitud de enviar el sms por cobrar a 552...   0  \n",
       "1  te llame y no pude localizarte tramita en line...   0  \n",
       "2                                              59508   0  \n",
       "3                                            mi bebe   0  \n",
       "4  hola si ya cada integrante tenemos fotos con l...   0  "
      ]
     },
     "execution_count": 4,
     "metadata": {},
     "output_type": "execute_result"
    }
   ],
   "source": [
    "respuestas.head()"
   ]
  },
  {
   "cell_type": "code",
   "execution_count": 5,
   "metadata": {},
   "outputs": [
    {
     "data": {
      "text/plain": [
       "5    458\n",
       "6    201\n",
       "8    139\n",
       "4     84\n",
       "7     60\n",
       "1     26\n",
       "3     13\n",
       "2     12\n",
       "Name: categ_opi, dtype: int64"
      ]
     },
     "execution_count": 5,
     "metadata": {},
     "output_type": "execute_result"
    }
   ],
   "source": [
    "respuestas.categ_opi.value_counts()"
   ]
  },
  {
   "cell_type": "markdown",
   "metadata": {},
   "source": [
    "## preprocesamiento"
   ]
  },
  {
   "cell_type": "code",
   "execution_count": 6,
   "metadata": {
    "collapsed": true
   },
   "outputs": [],
   "source": [
    "respuestas['uncaught_resp_9_text_mod']=respuestas['uncaught_resp_9_text'].str.lower()"
   ]
  },
  {
   "cell_type": "markdown",
   "metadata": {},
   "source": [
    " ### Quitar leading y trailing spaces, quitar puntuacion"
   ]
  },
  {
   "cell_type": "code",
   "execution_count": 7,
   "metadata": {
    "collapsed": true
   },
   "outputs": [],
   "source": [
    "respuestas['uncaught_resp_9_text_mod']=respuestas['uncaught_resp_9_text_mod'].str.strip()"
   ]
  },
  {
   "cell_type": "code",
   "execution_count": 8,
   "metadata": {
    "collapsed": true
   },
   "outputs": [],
   "source": [
    "respuestas['uncaught_resp_9_text_wc'] = respuestas['uncaught_resp_9_text_mod'].apply(lambda x: len(str(x).split(\" \")))\n",
    "respuestas['uncaught_resp_9_text_nchar'] = respuestas['uncaught_resp_9_text_mod'].apply(lambda x: len(str(x)))"
   ]
  },
  {
   "cell_type": "code",
   "execution_count": 9,
   "metadata": {},
   "outputs": [],
   "source": [
    "respuestas['uncaught_resp_9_interrogacion']=respuestas['uncaught_resp_9_text'].str.count('\\\\?')>0"
   ]
  },
  {
   "cell_type": "code",
   "execution_count": 10,
   "metadata": {
    "collapsed": true
   },
   "outputs": [],
   "source": [
    "respuestas['uncaught_resp_9_text_mod']=respuestas['uncaught_resp_9_text_mod'].str.replace('[^\\w\\s]','')"
   ]
  },
  {
   "cell_type": "code",
   "execution_count": 11,
   "metadata": {
    "collapsed": true
   },
   "outputs": [],
   "source": [
    "respuestas['uncaught_resp_9_text_mod']=respuestas['uncaught_resp_9_text_mod'].str.strip()"
   ]
  },
  {
   "cell_type": "markdown",
   "metadata": {},
   "source": [
    "### Capturar emojis"
   ]
  },
  {
   "cell_type": "markdown",
   "metadata": {},
   "source": [
    "Actualmente, si el mensaje contiene un emoji, es canalizado a la categoría Emoji. Este filtro debe ser más estricto, pues usualmente ese emoji es usado en un mensaje real"
   ]
  },
  {
   "cell_type": "code",
   "execution_count": 12,
   "metadata": {
    "collapsed": true
   },
   "outputs": [],
   "source": [
    "def is_emoji(s):\n",
    "    count = 0\n",
    "    for emoji in range(1, len(UNICODE_EMOJI)):\n",
    "        count += s.count(list(UNICODE_EMOJI.keys())[emoji])\n",
    "    return count"
   ]
  },
  {
   "cell_type": "code",
   "execution_count": 13,
   "metadata": {
    "collapsed": true
   },
   "outputs": [],
   "source": [
    "es_emoji=pd.DataFrame()\n",
    "for i in range(0, respuestas.shape[0]):\n",
    "    es=pd.DataFrame({'es':is_emoji(respuestas['uncaught_resp_9_text'].iloc[i])}, index=[0])\n",
    "    es_emoji=pd.concat([es_emoji, es], ignore_index=True)"
   ]
  },
  {
   "cell_type": "code",
   "execution_count": 14,
   "metadata": {
    "collapsed": true
   },
   "outputs": [],
   "source": [
    "respuestas=respuestas.reset_index(drop=True)"
   ]
  },
  {
   "cell_type": "code",
   "execution_count": 15,
   "metadata": {
    "collapsed": true
   },
   "outputs": [],
   "source": [
    "respuestas=pd.concat([respuestas, es_emoji], axis=1)"
   ]
  },
  {
   "cell_type": "markdown",
   "metadata": {},
   "source": [
    "### Quitar emojis que quedan en el texto"
   ]
  },
  {
   "cell_type": "code",
   "execution_count": 16,
   "metadata": {
    "collapsed": true
   },
   "outputs": [],
   "source": [
    "def give_emoji_free_text(text):\n",
    "    allchars = [str for str in text]\n",
    "    emoji_list = [c for c in allchars if c in UNICODE_EMOJI]\n",
    "    clean_text = ' '.join([str for str in text.split() if not any(i in str for i in emoji_list)])\n",
    "    return clean_text"
   ]
  },
  {
   "cell_type": "code",
   "execution_count": 17,
   "metadata": {},
   "outputs": [],
   "source": [
    "for i in range(0, respuestas.shape[0]):\n",
    "    respuestas['uncaught_resp_9_text_mod'].iloc[i]=give_emoji_free_text(respuestas.uncaught_resp_9_text_mod.iloc[i])"
   ]
  },
  {
   "cell_type": "markdown",
   "metadata": {},
   "source": [
    "### Quitar  acentos"
   ]
  },
  {
   "cell_type": "code",
   "execution_count": 18,
   "metadata": {},
   "outputs": [],
   "source": [
    "sinacentos=pd.DataFrame()\n",
    "for i in range(0, respuestas.shape[0]):\n",
    "    sinacentos_i=unicodedata.normalize('NFD', respuestas['uncaught_resp_9_text_mod'].iloc[i]).encode('ascii', 'ignore').decode('utf-8')\n",
    "    sinacentos_i=pd.DataFrame({'texto':sinacentos_i}, index=[i])\n",
    "    sinacentos=pd.concat([sinacentos, sinacentos_i])"
   ]
  },
  {
   "cell_type": "code",
   "execution_count": 19,
   "metadata": {},
   "outputs": [],
   "source": [
    "respuestas['uncaught_resp_9_text_mod']=sinacentos"
   ]
  },
  {
   "cell_type": "code",
   "execution_count": 20,
   "metadata": {},
   "outputs": [],
   "source": [
    "respuestas.uncaught_resp_9_text_mod=respuestas.uncaught_resp_9_text_mod.str.replace('ola|\\n|buena noche|buenos dias|buen dia|buenas noches|buenas tardes|buen dia|buena tardes|hola', '')"
   ]
  },
  {
   "cell_type": "markdown",
   "metadata": {},
   "source": [
    "### Procesar dummy de  listas"
   ]
  },
  {
   "cell_type": "code",
   "execution_count": 21,
   "metadata": {},
   "outputs": [],
   "source": [
    "respuestas.listas=respuestas.listas.str.lower()\n",
    "respuestas.listas=respuestas.listas.str.replace(',', '')\n",
    "respuestas.listas=respuestas.listas.str.replace('con fecha', 'con_fecha')\n",
    "respuestas.listas=respuestas.listas.str.replace('2 años', '2_anios')"
   ]
  },
  {
   "cell_type": "code",
   "execution_count": 23,
   "metadata": {},
   "outputs": [],
   "source": [
    "respuestas.listas=respuestas.listas.str.lower()\n",
    "respuestas.listas=respuestas.listas.str.replace(',', '')\n",
    "respuestas.listas=respuestas.listas.str.replace('con fecha', 'con_fecha')\n",
    "respuestas.listas=respuestas.listas.str.replace('2 años', '2_anios')\n",
    "\n",
    "prueba_listas=respuestas.listas.str.split(expand=True)\n",
    "lista=[pd.get_dummies(prueba_listas[col]) for col in prueba_listas]\n",
    "\n",
    "for i in range(0, len(lista)):\n",
    "    lista[i]['indice'] = lista[i].index\n",
    "lista=pd.concat(lista, ignore_index=True)\n",
    "prueba_listas=lista.groupby('indice', as_index=True).agg('sum')"
   ]
  },
  {
   "cell_type": "markdown",
   "metadata": {},
   "source": [
    "### TF-DF"
   ]
  },
  {
   "cell_type": "code",
   "execution_count": 26,
   "metadata": {
    "collapsed": true
   },
   "outputs": [],
   "source": [
    "stop=nltk.corpus.stopwords.words(\"spanish\")"
   ]
  },
  {
   "cell_type": "code",
   "execution_count": 27,
   "metadata": {
    "collapsed": true
   },
   "outputs": [],
   "source": [
    "for i in range(0, np.shape(stop)[0]):\n",
    "    stop[i]=unicodedata.normalize('NFD', stop[i]).encode('ascii', 'ignore').decode('utf-8')"
   ]
  },
  {
   "cell_type": "code",
   "execution_count": null,
   "metadata": {
    "collapsed": true
   },
   "outputs": [],
   "source": [
    "stemmer = SnowballStemmer(\"spanish\")\n",
    "\n",
    "def tokenize_and_stem(text):\n",
    "    # first tokenize by sentence, then by word to ensure that punctuation is caught as it's own token\n",
    "    tokens = [word for sent in nltk.sent_tokenize(text) for word in nltk.word_tokenize(sent)]\n",
    "    filtered_tokens = []\n",
    "    # filter out any tokens not containing letters (e.g., numeric tokens, raw punctuation)\n",
    "    for token in tokens:\n",
    "        if re.search('[a-zA-Z]', token):\n",
    "            filtered_tokens.append(token)\n",
    "    stems = [stemmer.stem(t) for t in filtered_tokens]\n",
    "    return stems\n",
    "\n",
    "\n",
    "def tokenize_only(text):\n",
    "    # first tokenize by sentence, then by word to ensure that punctuation is caught as it's own token\n",
    "    tokens = [word.lower() for sent in nltk.sent_tokenize(text) for word in nltk.word_tokenize(sent)]\n",
    "    filtered_tokens = []\n",
    "    # filter out any tokens not containing letters (e.g., numeric tokens, raw punctuation)\n",
    "    for token in tokens:\n",
    "        if re.search('[a-zA-Z]', token):\n",
    "            filtered_tokens.append(token)\n",
    "    return filtered_tokens"
   ]
  },
  {
   "cell_type": "code",
   "execution_count": 28,
   "metadata": {},
   "outputs": [
    {
     "data": {
      "text/plain": [
       "(993, 540)"
      ]
     },
     "execution_count": 28,
     "metadata": {},
     "output_type": "execute_result"
    }
   ],
   "source": [
    "from sklearn.feature_extraction.text import TfidfVectorizer\n",
    "tfidf = TfidfVectorizer(sublinear_tf=True, min_df=5, norm='l2', encoding='utf-8', ngram_range=([1, 2]),\n",
    "                        stop_words=stop)\n",
    "features = tfidf.fit_transform(respuestas.uncaught_resp_9_text_mod).toarray()\n",
    "labels = respuestas.categ_opi\n",
    "features.shape"
   ]
  },
  {
   "cell_type": "code",
   "execution_count": 56,
   "metadata": {},
   "outputs": [],
   "source": [
    "raros=prueba_listas.sum().loc[prueba_listas.sum()<3].index"
   ]
  },
  {
   "cell_type": "code",
   "execution_count": 54,
   "metadata": {},
   "outputs": [
    {
     "data": {
      "text/plain": [
       "indice\n",
       "0      0.0\n",
       "1      0.0\n",
       "2      0.0\n",
       "3      0.0\n",
       "4      0.0\n",
       "5      0.0\n",
       "6      0.0\n",
       "7      0.0\n",
       "8      0.0\n",
       "9      0.0\n",
       "10     0.0\n",
       "11     0.0\n",
       "12     0.0\n",
       "13     0.0\n",
       "14     0.0\n",
       "15     1.0\n",
       "16     2.0\n",
       "17     0.0\n",
       "18     0.0\n",
       "19     0.0\n",
       "20     0.0\n",
       "21     0.0\n",
       "22     0.0\n",
       "23     0.0\n",
       "24     0.0\n",
       "25     0.0\n",
       "26     0.0\n",
       "27     0.0\n",
       "28     1.0\n",
       "29     0.0\n",
       "30     0.0\n",
       "31     0.0\n",
       "32     0.0\n",
       "33     0.0\n",
       "34     0.0\n",
       "35     1.0\n",
       "36     0.0\n",
       "37     1.0\n",
       "38     0.0\n",
       "39     0.0\n",
       "40     0.0\n",
       "41     0.0\n",
       "42     0.0\n",
       "43     0.0\n",
       "44     1.0\n",
       "45     0.0\n",
       "46     0.0\n",
       "47     0.0\n",
       "48     0.0\n",
       "49     0.0\n",
       "50     0.0\n",
       "51     0.0\n",
       "52     0.0\n",
       "53     0.0\n",
       "54     0.0\n",
       "55     0.0\n",
       "56     0.0\n",
       "57     0.0\n",
       "58     0.0\n",
       "59     0.0\n",
       "60     0.0\n",
       "61     0.0\n",
       "62     0.0\n",
       "63     0.0\n",
       "64     0.0\n",
       "65     0.0\n",
       "66     0.0\n",
       "67     0.0\n",
       "68     0.0\n",
       "69     0.0\n",
       "70     0.0\n",
       "71     0.0\n",
       "72     0.0\n",
       "73     0.0\n",
       "74     0.0\n",
       "75     0.0\n",
       "76     0.0\n",
       "77     0.0\n",
       "78     0.0\n",
       "79     0.0\n",
       "80     0.0\n",
       "81     0.0\n",
       "82     0.0\n",
       "83     0.0\n",
       "84     0.0\n",
       "85     0.0\n",
       "86     0.0\n",
       "87     0.0\n",
       "88     0.0\n",
       "89     0.0\n",
       "90     0.0\n",
       "91     0.0\n",
       "92     0.0\n",
       "93     0.0\n",
       "94     0.0\n",
       "95     0.0\n",
       "96     0.0\n",
       "97     0.0\n",
       "98     0.0\n",
       "99     0.0\n",
       "100    0.0\n",
       "101    0.0\n",
       "102    0.0\n",
       "103    0.0\n",
       "104    0.0\n",
       "105    0.0\n",
       "106    0.0\n",
       "107    0.0\n",
       "108    0.0\n",
       "109    0.0\n",
       "110    0.0\n",
       "111    0.0\n",
       "112    0.0\n",
       "113    0.0\n",
       "114    0.0\n",
       "115    0.0\n",
       "116    0.0\n",
       "117    0.0\n",
       "118    0.0\n",
       "119    0.0\n",
       "120    0.0\n",
       "121    0.0\n",
       "122    0.0\n",
       "123    0.0\n",
       "124    0.0\n",
       "125    0.0\n",
       "126    0.0\n",
       "127    0.0\n",
       "128    1.0\n",
       "129    0.0\n",
       "130    0.0\n",
       "131    0.0\n",
       "132    0.0\n",
       "133    0.0\n",
       "134    0.0\n",
       "135    0.0\n",
       "136    0.0\n",
       "137    0.0\n",
       "138    0.0\n",
       "139    0.0\n",
       "140    0.0\n",
       "141    0.0\n",
       "142    0.0\n",
       "143    0.0\n",
       "144    0.0\n",
       "145    0.0\n",
       "146    0.0\n",
       "147    0.0\n",
       "148    0.0\n",
       "149    0.0\n",
       "150    0.0\n",
       "151    0.0\n",
       "152    0.0\n",
       "153    0.0\n",
       "154    0.0\n",
       "155    0.0\n",
       "156    0.0\n",
       "157    0.0\n",
       "158    0.0\n",
       "159    0.0\n",
       "160    0.0\n",
       "161    0.0\n",
       "162    0.0\n",
       "163    0.0\n",
       "164    0.0\n",
       "165    0.0\n",
       "166    0.0\n",
       "167    0.0\n",
       "168    0.0\n",
       "169    0.0\n",
       "170    0.0\n",
       "171    0.0\n",
       "172    0.0\n",
       "173    0.0\n",
       "174    0.0\n",
       "175    0.0\n",
       "176    0.0\n",
       "177    0.0\n",
       "178    0.0\n",
       "179    1.0\n",
       "180    0.0\n",
       "181    0.0\n",
       "182    0.0\n",
       "183    0.0\n",
       "184    0.0\n",
       "185    0.0\n",
       "186    0.0\n",
       "187    0.0\n",
       "188    0.0\n",
       "189    0.0\n",
       "190    0.0\n",
       "191    0.0\n",
       "192    0.0\n",
       "193    0.0\n",
       "194    0.0\n",
       "195    0.0\n",
       "196    0.0\n",
       "197    0.0\n",
       "198    0.0\n",
       "199    0.0\n",
       "200    0.0\n",
       "201    0.0\n",
       "202    0.0\n",
       "203    0.0\n",
       "204    0.0\n",
       "205    0.0\n",
       "206    0.0\n",
       "207    0.0\n",
       "208    0.0\n",
       "209    0.0\n",
       "210    0.0\n",
       "211    0.0\n",
       "212    0.0\n",
       "213    0.0\n",
       "214    0.0\n",
       "215    0.0\n",
       "216    0.0\n",
       "217    0.0\n",
       "218    0.0\n",
       "219    0.0\n",
       "220    0.0\n",
       "221    0.0\n",
       "222    0.0\n",
       "223    0.0\n",
       "224    0.0\n",
       "225    0.0\n",
       "226    0.0\n",
       "227    0.0\n",
       "228    0.0\n",
       "229    0.0\n",
       "230    0.0\n",
       "231    0.0\n",
       "232    0.0\n",
       "233    0.0\n",
       "234    0.0\n",
       "235    0.0\n",
       "236    0.0\n",
       "237    0.0\n",
       "238    0.0\n",
       "239    0.0\n",
       "240    0.0\n",
       "241    0.0\n",
       "242    0.0\n",
       "243    0.0\n",
       "244    0.0\n",
       "245    0.0\n",
       "246    0.0\n",
       "247    0.0\n",
       "248    0.0\n",
       "249    0.0\n",
       "      ... \n",
       "743    0.0\n",
       "744    0.0\n",
       "745    0.0\n",
       "746    0.0\n",
       "747    0.0\n",
       "748    0.0\n",
       "749    0.0\n",
       "750    0.0\n",
       "751    0.0\n",
       "752    0.0\n",
       "753    0.0\n",
       "754    0.0\n",
       "755    0.0\n",
       "756    0.0\n",
       "757    0.0\n",
       "758    0.0\n",
       "759    0.0\n",
       "760    0.0\n",
       "761    0.0\n",
       "762    0.0\n",
       "763    0.0\n",
       "764    0.0\n",
       "765    0.0\n",
       "766    0.0\n",
       "767    0.0\n",
       "768    0.0\n",
       "769    0.0\n",
       "770    0.0\n",
       "771    0.0\n",
       "772    0.0\n",
       "773    0.0\n",
       "774    0.0\n",
       "775    0.0\n",
       "776    0.0\n",
       "777    0.0\n",
       "778    0.0\n",
       "779    0.0\n",
       "780    0.0\n",
       "781    0.0\n",
       "782    0.0\n",
       "783    0.0\n",
       "784    0.0\n",
       "785    0.0\n",
       "786    0.0\n",
       "787    0.0\n",
       "788    0.0\n",
       "789    0.0\n",
       "790    0.0\n",
       "791    0.0\n",
       "792    0.0\n",
       "793    0.0\n",
       "794    0.0\n",
       "795    0.0\n",
       "796    0.0\n",
       "797    0.0\n",
       "798    0.0\n",
       "799    0.0\n",
       "800    0.0\n",
       "801    0.0\n",
       "802    0.0\n",
       "803    0.0\n",
       "804    0.0\n",
       "805    0.0\n",
       "806    0.0\n",
       "807    0.0\n",
       "808    0.0\n",
       "809    0.0\n",
       "810    0.0\n",
       "811    0.0\n",
       "812    0.0\n",
       "813    0.0\n",
       "814    0.0\n",
       "815    0.0\n",
       "816    0.0\n",
       "817    0.0\n",
       "818    0.0\n",
       "819    0.0\n",
       "820    0.0\n",
       "821    0.0\n",
       "822    0.0\n",
       "823    0.0\n",
       "824    0.0\n",
       "825    0.0\n",
       "826    0.0\n",
       "827    0.0\n",
       "828    0.0\n",
       "829    0.0\n",
       "830    0.0\n",
       "831    0.0\n",
       "832    0.0\n",
       "833    0.0\n",
       "834    0.0\n",
       "835    0.0\n",
       "836    0.0\n",
       "837    0.0\n",
       "838    0.0\n",
       "839    0.0\n",
       "840    0.0\n",
       "841    0.0\n",
       "842    0.0\n",
       "843    0.0\n",
       "844    0.0\n",
       "845    0.0\n",
       "846    0.0\n",
       "847    0.0\n",
       "848    0.0\n",
       "849    0.0\n",
       "850    0.0\n",
       "851    0.0\n",
       "852    0.0\n",
       "853    0.0\n",
       "854    0.0\n",
       "855    0.0\n",
       "856    0.0\n",
       "857    0.0\n",
       "858    0.0\n",
       "859    0.0\n",
       "860    0.0\n",
       "861    0.0\n",
       "862    0.0\n",
       "863    0.0\n",
       "864    0.0\n",
       "865    0.0\n",
       "866    0.0\n",
       "867    0.0\n",
       "868    0.0\n",
       "869    0.0\n",
       "870    0.0\n",
       "871    0.0\n",
       "872    0.0\n",
       "873    0.0\n",
       "874    0.0\n",
       "875    0.0\n",
       "876    0.0\n",
       "877    0.0\n",
       "878    0.0\n",
       "879    0.0\n",
       "880    0.0\n",
       "881    0.0\n",
       "882    0.0\n",
       "883    0.0\n",
       "884    0.0\n",
       "885    0.0\n",
       "886    0.0\n",
       "887    0.0\n",
       "888    0.0\n",
       "889    0.0\n",
       "890    0.0\n",
       "891    0.0\n",
       "892    0.0\n",
       "893    0.0\n",
       "894    0.0\n",
       "895    0.0\n",
       "896    0.0\n",
       "897    0.0\n",
       "898    0.0\n",
       "899    0.0\n",
       "900    0.0\n",
       "901    0.0\n",
       "902    0.0\n",
       "903    0.0\n",
       "904    0.0\n",
       "905    0.0\n",
       "906    0.0\n",
       "907    0.0\n",
       "908    0.0\n",
       "909    0.0\n",
       "910    0.0\n",
       "911    0.0\n",
       "912    0.0\n",
       "913    0.0\n",
       "914    0.0\n",
       "915    0.0\n",
       "916    0.0\n",
       "917    0.0\n",
       "918    0.0\n",
       "919    0.0\n",
       "920    0.0\n",
       "921    0.0\n",
       "922    0.0\n",
       "923    0.0\n",
       "924    0.0\n",
       "925    0.0\n",
       "926    0.0\n",
       "927    0.0\n",
       "928    0.0\n",
       "929    0.0\n",
       "930    0.0\n",
       "931    0.0\n",
       "932    0.0\n",
       "933    0.0\n",
       "934    0.0\n",
       "935    0.0\n",
       "936    0.0\n",
       "937    0.0\n",
       "938    0.0\n",
       "939    0.0\n",
       "940    0.0\n",
       "941    0.0\n",
       "942    0.0\n",
       "943    0.0\n",
       "944    0.0\n",
       "945    0.0\n",
       "946    0.0\n",
       "947    0.0\n",
       "948    0.0\n",
       "949    0.0\n",
       "950    0.0\n",
       "951    0.0\n",
       "952    0.0\n",
       "953    0.0\n",
       "954    0.0\n",
       "955    0.0\n",
       "956    0.0\n",
       "957    0.0\n",
       "958    0.0\n",
       "959    0.0\n",
       "960    0.0\n",
       "961    0.0\n",
       "962    0.0\n",
       "963    0.0\n",
       "964    0.0\n",
       "965    0.0\n",
       "966    0.0\n",
       "967    0.0\n",
       "968    0.0\n",
       "969    0.0\n",
       "970    0.0\n",
       "971    0.0\n",
       "972    0.0\n",
       "973    0.0\n",
       "974    0.0\n",
       "975    0.0\n",
       "976    0.0\n",
       "977    0.0\n",
       "978    0.0\n",
       "979    0.0\n",
       "980    0.0\n",
       "981    0.0\n",
       "982    0.0\n",
       "983    0.0\n",
       "984    0.0\n",
       "985    0.0\n",
       "986    0.0\n",
       "987    0.0\n",
       "988    0.0\n",
       "989    0.0\n",
       "990    0.0\n",
       "991    0.0\n",
       "992    0.0\n",
       "Length: 993, dtype: float64"
      ]
     },
     "execution_count": 54,
     "metadata": {},
     "output_type": "execute_result"
    }
   ],
   "source": [
    "#prueba_listas['otros']=prueba_listas[prueba_listas.sum().loc[prueba_listas.sum()<3].index].sum(axis=1)\n",
    "prueba_listas[raros3].index].sum(axis=1)"
   ]
  },
  {
   "cell_type": "code",
   "execution_count": 33,
   "metadata": {},
   "outputs": [
    {
     "data": {
      "text/plain": [
       "array([ 0.        ,  0.        ,  0.        ,  0.        ,  0.        ,\n",
       "        0.        ,  0.        ,  0.        ,  0.        ,  0.        ,\n",
       "        0.        ,  0.        ,  0.        ,  0.        ,  0.        ,\n",
       "        0.        ,  0.        ,  0.        ,  0.        ,  0.        ,\n",
       "        0.        ,  0.        ,  0.        ,  0.        ,  0.        ,\n",
       "        0.        ,  0.        ,  0.        ,  0.        ,  0.        ,\n",
       "        0.        ,  0.        ,  0.        ,  0.        ,  0.        ,\n",
       "        0.        ,  0.        ,  0.        ,  0.        ,  0.        ,\n",
       "        0.        ,  0.        ,  0.        ,  0.6260965 ,  0.        ,\n",
       "        0.        ,  0.        ,  0.        ,  0.        ,  0.        ,\n",
       "        0.        ,  0.        ,  0.        ,  0.        ,  0.        ,\n",
       "        0.        ,  0.        ,  0.        ,  0.        ,  0.        ,\n",
       "        0.        ,  0.        ,  0.        ,  0.        ,  0.        ,\n",
       "        0.        ,  0.        ,  0.        ,  0.        ,  0.        ,\n",
       "        0.        ,  0.        ,  0.        ,  0.        ,  0.        ,\n",
       "        0.        ,  0.        ,  0.        ,  0.        ,  0.        ,\n",
       "        0.        ,  0.        ,  0.        ,  0.        ,  0.        ,\n",
       "        0.        ,  0.        ,  0.        ,  0.        ,  0.        ,\n",
       "        0.        ,  0.        ,  0.        ,  0.        ,  0.        ,\n",
       "        0.        ,  0.        ,  0.        ,  0.        ,  0.        ,\n",
       "        0.        ,  0.        ,  0.        ,  0.        ,  0.        ,\n",
       "        0.        ,  0.        ,  0.        ,  0.        ,  0.        ,\n",
       "        0.        ,  0.        ,  0.        ,  0.        ,  0.        ,\n",
       "        0.        ,  0.        ,  0.        ,  0.        ,  0.        ,\n",
       "        0.        ,  0.        ,  0.        ,  0.        ,  0.        ,\n",
       "        0.        ,  0.        ,  0.        ,  0.        ,  0.        ,\n",
       "        0.        ,  0.        ,  0.        ,  0.        ,  0.        ,\n",
       "        0.        ,  0.        ,  0.        ,  0.        ,  0.        ,\n",
       "        0.        ,  0.        ,  0.        ,  0.        ,  0.        ,\n",
       "        0.        ,  0.        ,  0.        ,  0.        ,  0.        ,\n",
       "        0.        ,  0.        ,  0.        ,  0.        ,  0.        ,\n",
       "        0.        ,  0.        ,  0.        ,  0.        ,  0.        ,\n",
       "        0.        ,  0.        ,  0.        ,  0.        ,  0.        ,\n",
       "        0.        ,  0.        ,  0.        ,  0.        ,  0.        ,\n",
       "        0.        ,  0.        ,  0.        ,  0.        ,  0.        ,\n",
       "        0.        ,  0.        ,  0.        ,  0.        ,  0.        ,\n",
       "        0.        ,  0.        ,  0.        ,  0.        ,  0.        ,\n",
       "        0.        ,  0.        ,  0.        ,  0.        ,  0.        ,\n",
       "        0.        ,  0.        ,  0.        ,  0.        ,  0.        ,\n",
       "        0.        ,  0.        ,  0.        ,  0.        ,  0.        ,\n",
       "        0.        ,  0.        ,  0.        ,  0.        ,  0.        ,\n",
       "        0.        ,  0.        ,  0.        ,  0.        ,  0.        ,\n",
       "        0.        ,  0.        ,  0.        ,  0.        ,  0.        ,\n",
       "        0.        ,  0.        ,  0.        ,  0.        ,  0.        ,\n",
       "        0.        ,  0.        ,  0.        ,  0.        ,  0.        ,\n",
       "        0.        ,  0.        ,  0.        ,  0.        ,  0.        ,\n",
       "        0.        ,  0.        ,  0.        ,  0.        ,  0.        ,\n",
       "        0.        ,  0.        ,  0.        ,  0.        ,  0.        ,\n",
       "        0.        ,  0.        ,  0.        ,  0.        ,  0.        ,\n",
       "        0.        ,  0.        ,  0.        ,  0.        ,  0.        ,\n",
       "        0.        ,  0.        ,  0.        ,  0.        ,  0.        ,\n",
       "        0.        ,  0.        ,  0.        ,  0.        ,  0.        ,\n",
       "        0.        ,  0.        ,  0.        ,  0.        ,  0.        ,\n",
       "        0.        ,  0.        ,  0.        ,  0.        ,  0.        ,\n",
       "        0.        ,  0.        ,  0.        ,  0.        ,  0.        ,\n",
       "        0.        ,  0.        ,  0.        ,  0.        ,  0.        ,\n",
       "        0.        ,  0.        ,  0.        ,  0.        ,  0.        ,\n",
       "        0.        ,  0.        ,  0.        ,  0.        ,  0.        ,\n",
       "        0.        ,  0.        ,  0.        ,  0.        ,  0.        ,\n",
       "        0.        ,  0.        ,  0.        ,  0.        ,  0.        ,\n",
       "        0.        ,  0.        ,  0.        ,  0.        ,  0.        ,\n",
       "        0.        ,  0.        ,  0.        ,  0.        ,  0.        ,\n",
       "        0.        ,  0.        ,  0.        ,  0.        ,  0.        ,\n",
       "        0.        ,  0.        ,  0.        ,  0.        ,  0.        ,\n",
       "        0.        ,  0.        ,  0.        ,  0.        ,  0.        ,\n",
       "        0.        ,  0.        ,  0.        ,  0.        ,  0.        ,\n",
       "        0.        ,  0.        ,  0.        ,  0.        ,  0.        ,\n",
       "        0.        ,  0.        ,  0.        ,  0.        ,  0.        ,\n",
       "        0.        ,  0.        ,  0.        ,  0.        ,  0.        ,\n",
       "        0.        ,  0.        ,  0.        ,  0.        ,  0.        ,\n",
       "        0.        ,  0.        ,  0.        ,  0.        ,  0.        ,\n",
       "        0.        ,  0.        ,  0.        ,  0.        ,  0.        ,\n",
       "        0.        ,  0.        ,  0.        ,  0.        ,  0.        ,\n",
       "        0.        ,  0.        ,  0.        ,  0.        ,  0.        ,\n",
       "        0.        ,  0.        ,  0.        ,  0.        ,  0.        ,\n",
       "        0.        ,  0.        ,  0.        ,  0.        ,  0.        ,\n",
       "        0.        ,  0.        ,  0.        ,  0.        ,  0.        ,\n",
       "        0.        ,  0.        ,  0.        ,  0.        ,  0.77974558,\n",
       "        0.        ,  0.        ,  0.        ,  0.        ,  0.        ,\n",
       "        0.        ,  0.        ,  0.        ,  0.        ,  0.        ,\n",
       "        0.        ,  0.        ,  0.        ,  0.        ,  0.        ,\n",
       "        0.        ,  0.        ,  0.        ,  0.        ,  0.        ,\n",
       "        0.        ,  0.        ,  0.        ,  0.        ,  0.        ,\n",
       "        0.        ,  0.        ,  0.        ,  0.        ,  0.        ,\n",
       "        0.        ,  0.        ,  0.        ,  0.        ,  0.        ,\n",
       "        0.        ,  0.        ,  0.        ,  0.        ,  0.        ,\n",
       "        0.        ,  0.        ,  0.        ,  0.        ,  0.        ,\n",
       "        0.        ,  0.        ,  0.        ,  0.        ,  0.        ,\n",
       "        0.        ,  0.        ,  0.        ,  0.        ,  0.        ,\n",
       "        0.        ,  0.        ,  0.        ,  0.        ,  0.        ,\n",
       "        0.        ,  0.        ,  0.        ,  0.        ,  0.        ,\n",
       "        0.        ,  0.        ,  0.        ,  0.        ,  0.        ,\n",
       "        0.        ,  0.        ,  0.        ,  0.        ,  0.        ,\n",
       "        0.        ,  0.        ,  0.        ,  0.        ,  0.        ,\n",
       "        0.        ,  0.        ,  0.        ,  0.        ,  0.        ,\n",
       "        0.        ,  0.        ,  0.        ,  0.        ,  0.        ,\n",
       "        0.        ,  0.        ,  0.        ,  0.        ,  0.        ,\n",
       "        0.        ,  0.        ,  0.        ,  0.        ,  0.        ,\n",
       "        0.        ,  0.        ,  0.        ,  0.        ,  0.        ,\n",
       "        0.        ,  0.        ,  0.        ,  0.        ,  0.        ,\n",
       "        0.        ,  0.        ,  0.        ,  0.        ,  0.        ,\n",
       "        0.        ,  0.        ,  0.        ,  0.        ,  0.        ,\n",
       "        0.        ,  0.        ,  0.        ,  0.        ,  0.        ,\n",
       "        0.        ,  0.        ,  0.        ,  0.        ,  0.        ,\n",
       "        0.        ,  0.        ,  0.        ,  0.        ,  0.        ,\n",
       "        0.        ,  0.        ,  0.        ,  0.        ,  0.        ,\n",
       "        0.        ,  0.        ,  0.        ,  0.        ,  0.        ,\n",
       "        0.        ,  0.        ,  0.        ,  0.        ,  0.        ])"
      ]
     },
     "execution_count": 33,
     "metadata": {},
     "output_type": "execute_result"
    }
   ],
   "source": [
    "features[1]"
   ]
  },
  {
   "cell_type": "code",
   "execution_count": null,
   "metadata": {
    "collapsed": true
   },
   "outputs": [],
   "source": []
  },
  {
   "cell_type": "code",
   "execution_count": 23,
   "metadata": {},
   "outputs": [],
   "source": [
    "x_target=respuestas.categ_opi\n",
    "x_train=respuestas.uncaught_resp_9_text_mod"
   ]
  },
  {
   "cell_type": "code",
   "execution_count": 28,
   "metadata": {
    "collapsed": true
   },
   "outputs": [],
   "source": []
  },
  {
   "cell_type": "code",
   "execution_count": 29,
   "metadata": {
    "collapsed": true
   },
   "outputs": [],
   "source": [
    "totalvocab_stemmed = []\n",
    "totalvocab_tokenized = []\n",
    "lista_fin=list()\n",
    "for i in x_train:\n",
    "    allwords_stemmed = tokenize_and_stem(i) #for each item in 'synopses', tokenize/stem\n",
    "    totalvocab_stemmed.extend(allwords_stemmed) #extend the 'totalvocab_stemmed' list\n",
    "    allwords_tokenized = tokenize_only(i)\n",
    "    totalvocab_tokenized.extend(allwords_tokenized)"
   ]
  },
  {
   "cell_type": "code",
   "execution_count": 63,
   "metadata": {},
   "outputs": [
    {
     "data": {
      "text/plain": [
       "(993, 540)"
      ]
     },
     "execution_count": 63,
     "metadata": {},
     "output_type": "execute_result"
    }
   ],
   "source": []
  },
  {
   "cell_type": "code",
   "execution_count": 64,
   "metadata": {},
   "outputs": [
    {
     "name": "stdout",
     "output_type": "stream",
     "text": [
      "# '1':\n",
      "  . Most correlated unigrams:\n",
      ". sangre\n",
      ". cirugia\n",
      ". urgente\n",
      ". normal\n",
      ". bebe\n",
      "  . Most correlated bigrams:\n",
      ". seguro popular\n",
      ". podrian decir\n",
      ". hospital general\n",
      ". puedo hacer\n",
      ". espero respuesta\n",
      "# '2':\n",
      "  . Most correlated unigrams:\n",
      ". via\n",
      ". registro\n",
      ". saben\n",
      ". pido\n",
      ". mensajes\n",
      "  . Most correlated bigrams:\n",
      ". seguro popular\n",
      ". gustaria saber\n",
      ". vacuna hepatitis\n",
      ". quisiera saber\n",
      ". secretaria salud\n",
      "# '3':\n",
      "  . Most correlated unigrams:\n",
      ". llama\n",
      ". hijos\n",
      ". ami\n",
      ". nacio\n",
      ". bebe\n",
      "  . Most correlated bigrams:\n",
      ". seguro popular\n",
      ". gustaria saber\n",
      ". vacuna hepatitis\n",
      ". quisiera saber\n",
      ". secretaria salud\n",
      "# '4':\n",
      "  . Most correlated unigrams:\n",
      ". darme\n",
      ". voy\n",
      ". excelente\n",
      ". mujer\n",
      ". alta\n",
      "  . Most correlated bigrams:\n",
      ". seguro popular\n",
      ". gustaria saber\n",
      ". vacuna hepatitis\n",
      ". quisiera saber\n",
      ". secretaria salud\n",
      "# '5':\n",
      "  . Most correlated unigrams:\n",
      ". vacunacion\n",
      ". vacunas\n",
      ". saber\n",
      ". vacuna\n",
      ". hepatitis\n",
      "  . Most correlated bigrams:\n",
      ". bolsa trabajo\n",
      ". seguro popular\n",
      ". puedo conseguir\n",
      ". quisiera saber\n",
      ". vacuna hepatitis\n",
      "# '6':\n",
      "  . Most correlated unigrams:\n",
      ". what\n",
      ". marca\n",
      ". sms\n",
      ". is\n",
      ". mensaje\n",
      "  . Most correlated bigrams:\n",
      ". informacion antibioticos\n",
      ". jugos yogures\n",
      ". hecho analisis\n",
      ". leches hecho\n",
      ". salud informa\n",
      "# '7':\n",
      "  . Most correlated unigrams:\n",
      ". enfermera\n",
      ". enfermeria\n",
      ". curriculum\n",
      ". trabajo\n",
      ". bolsa\n",
      "  . Most correlated bigrams:\n",
      ". secretaria salud\n",
      ". puedo acudir\n",
      ". dar informacion\n",
      ". correo electronico\n",
      ". bolsa trabajo\n",
      "# '8':\n",
      "  . Most correlated unigrams:\n",
      ". casa\n",
      ". queja\n",
      ". calle\n",
      ". denuncia\n",
      ". reportar\n",
      "  . Most correlated bigrams:\n",
      ". dos meses\n",
      ". vacuna hepatitis\n",
      ". dia hoy\n",
      ". quiero reportar\n",
      ". puedo reportar\n"
     ]
    }
   ],
   "source": [
    "from sklearn.feature_selection import chi2\n",
    "\n",
    "N = 5\n",
    "for category_id in sorted(respuestas.categ_opi.unique()):\n",
    "  features_chi2 = chi2(features, labels == category_id)\n",
    "  indices = np.argsort(features_chi2[0])\n",
    "  feature_names = np.array(tfidf.get_feature_names())[indices]\n",
    "  unigrams = [v for v in feature_names if len(v.split(' ')) == 1]\n",
    "  bigrams = [v for v in feature_names if len(v.split(' ')) == 2]\n",
    "  print(\"# '{}':\".format(category_id))\n",
    "  print(\"  . Most correlated unigrams:\\n. {}\".format('\\n. '.join(unigrams[-N:])))\n",
    "  print(\"  . Most correlated bigrams:\\n. {}\".format('\\n. '.join(bigrams[-N:])))"
   ]
  },
  {
   "cell_type": "code",
   "execution_count": 100,
   "metadata": {},
   "outputs": [],
   "source": [
    "from sklearn.decomposition import TruncatedSVD\n",
    "\n",
    "pca = TruncatedSVD(n_components = 20)\n",
    "Xall = pca.fit_transform(features)\n",
    "\n",
    "Xall=pd.DataFrame(Xall)"
   ]
  },
  {
   "cell_type": "code",
   "execution_count": 104,
   "metadata": {},
   "outputs": [],
   "source": [
    "pd.concat([Xall, respuestas[['uncaught_resp_9_text', 'uncaught_resp_9_text_wc',\n",
    "                            'listas', 'es', 'uncaught_resp_9_interrogacion', 'categ_opi']]], axis=1).to_csv('./datos/exploracion')"
   ]
  },
  {
   "cell_type": "code",
   "execution_count": 65,
   "metadata": {
    "collapsed": true
   },
   "outputs": [],
   "source": [
    "from sklearn.naive_bayes import MultinomialNB\n",
    "clf = MultinomialNB().fit(features, x_target)\n",
    "\n"
   ]
  },
  {
   "cell_type": "code",
   "execution_count": 66,
   "metadata": {
    "collapsed": true
   },
   "outputs": [],
   "source": [
    "test=respuestas.uncaught_resp_9_text_mod"
   ]
  },
  {
   "cell_type": "code",
   "execution_count": 67,
   "metadata": {},
   "outputs": [],
   "source": [
    "tfidf_matrix_test = tfidf.transform(test)\n",
    "\n"
   ]
  },
  {
   "cell_type": "code",
   "execution_count": 82,
   "metadata": {},
   "outputs": [
    {
     "name": "stdout",
     "output_type": "stream",
     "text": [
      "[5]\n"
     ]
    }
   ],
   "source": [
    "print(clf.predict(tfidf.transform(['mi bebe ya nacio se llama sebastiana'])))"
   ]
  },
  {
   "cell_type": "code",
   "execution_count": 68,
   "metadata": {},
   "outputs": [
    {
     "data": {
      "text/plain": [
       "5    823\n",
       "6     85\n",
       "8     71\n",
       "7     14\n",
       "Name: 0, dtype: int64"
      ]
     },
     "execution_count": 68,
     "metadata": {},
     "output_type": "execute_result"
    }
   ],
   "source": [
    "pd.DataFrame(clf.predict(features))[0].value_counts()\n",
    "\n"
   ]
  },
  {
   "cell_type": "code",
   "execution_count": 69,
   "metadata": {},
   "outputs": [
    {
     "data": {
      "text/plain": [
       "109     soy de cd juarezsoy nutriologa y megustaria a...\n",
       "113                                     bolsa de trabajo\n",
       "130    una pregunta para ver la bolsa de trabajo que ...\n",
       "185      quisiera saber si hay alguna bolsa de trabaj...\n",
       "193     que tal estara abierta la bolsa de trabajo en...\n",
       "204      me podria decir si esta habierta la bolsa de...\n",
       "276     tienen vacantes de enfermeria para mexicali o...\n",
       "398    buena tarde licenciad es un gusto poder saluda...\n",
       "440        tienen abierta bolsa de trabajo soy enfermero\n",
       "451     para informacion de bolsa de trabajo para enf...\n",
       "517      mi nombre es leticia martinez hernandez soy ...\n",
       "639     esta abierta la bolsa de trabajo para enfermeria\n",
       "715    secretaria de gobierno de cd de mexicopresente...\n",
       "930             hay bolsa de trabajo abierta en cdjuarez\n",
       "Name: uncaught_resp_9_text_mod, dtype: object"
      ]
     },
     "execution_count": 69,
     "metadata": {},
     "output_type": "execute_result"
    }
   ],
   "source": [
    "test.loc[clf.predict(features)==7]"
   ]
  },
  {
   "cell_type": "code",
   "execution_count": 310,
   "metadata": {
    "collapsed": true
   },
   "outputs": [],
   "source": [
    "terms = tfidf_vectorizer.get_feature_names()"
   ]
  }
 ],
 "metadata": {
  "kernelspec": {
   "display_name": "Python 3",
   "language": "python",
   "name": "python3"
  },
  "language_info": {
   "codemirror_mode": {
    "name": "ipython",
    "version": 3
   },
   "file_extension": ".py",
   "mimetype": "text/x-python",
   "name": "python",
   "nbconvert_exporter": "python",
   "pygments_lexer": "ipython3",
   "version": "3.6.3"
  }
 },
 "nbformat": 4,
 "nbformat_minor": 2
}

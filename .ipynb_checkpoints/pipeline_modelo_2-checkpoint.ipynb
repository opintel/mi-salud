{
 "cells": [
  {
   "cell_type": "code",
   "execution_count": 1,
   "metadata": {},
   "outputs": [
    {
     "name": "stdout",
     "output_type": "stream",
     "text": [
      "[NbConvertApp] Converting notebook script_reglas.ipynb to script\n",
      "[NbConvertApp] Writing 4295 bytes to script_reglas.py\n"
     ]
    }
   ],
   "source": [
    "import pandas as pd\n",
    "import script_reglas\n",
    "\n",
    "import nltk as nltk\n",
    "from emoji import UNICODE_EMOJI\n",
    "import unicodedata as unicodedata\n",
    "import re\n",
    "from __future__ import print_function\n",
    "from nltk.stem.snowball import SnowballStemmer\n",
    "from sklearn.feature_extraction.text import TfidfVectorizer\n",
    "import numpy as np\n",
    "\n",
    "from sklearn.naive_bayes import MultinomialNB\n",
    "from xgboost.sklearn import XGBClassifier\n",
    "from sklearn.ensemble import GradientBoostingClassifier, RandomForestClassifier\n",
    "from sklearn.svm import SVC, LinearSVC\n",
    "from sklearn.decomposition import TruncatedSVD\n",
    "\n",
    "pd.set_option('display.max_rows', 500)\n",
    "pd.set_option('display.max_columns', 500)"
   ]
  },
  {
   "cell_type": "code",
   "execution_count": 2,
   "metadata": {
    "scrolled": true
   },
   "outputs": [],
   "source": [
    "respuestas=pd.read_excel('s3://presidencia-mi-salud/processed/results_export_964.xlsx', encoding='utf-8')"
   ]
  },
  {
   "cell_type": "code",
   "execution_count": 3,
   "metadata": {
    "collapsed": true
   },
   "outputs": [],
   "source": [
    "respuestas=respuestas[['Contact UUID', 'URN', 'Name', 'Groups', 'Response 9 (Text) - uncaught']]\n",
    "respuestas.columns=['id_contacto', 'urn', 'nombre_contacto', 'listas', 'texto']"
   ]
  },
  {
   "cell_type": "code",
   "execution_count": 4,
   "metadata": {},
   "outputs": [],
   "source": [
    "#import inspect\n",
    "#print(inspect.getsource(script_reglas.procesa_reglas))\n",
    "#\n",
    "#script_reglas.procesa_reglas(str('aborto'))"
   ]
  },
  {
   "cell_type": "code",
   "execution_count": 5,
   "metadata": {
    "collapsed": true
   },
   "outputs": [],
   "source": [
    "categoria_reglas=pd.DataFrame()\n",
    "for i in range(0, respuestas.shape[0]):\n",
    "    respuesta_regla=pd.DataFrame(script_reglas.procesa_reglas(str(respuestas['texto'].iloc[i])), index=[i])\n",
    "    categoria_reglas=pd.concat([categoria_reglas, respuesta_regla])\n",
    "respuestas=pd.concat([respuestas[['id_contacto', 'urn', 'nombre_contacto', 'listas']],\n",
    "                      categoria_reglas], axis=1)"
   ]
  },
  {
   "cell_type": "code",
   "execution_count": 6,
   "metadata": {},
   "outputs": [
    {
     "name": "stdout",
     "output_type": "stream",
     "text": [
      "(3045, 9)\n",
      "(2472, 9)\n"
     ]
    }
   ],
   "source": [
    "print(respuestas.shape)\n",
    "respuestas=respuestas.loc[respuestas.texto!='nan']\n",
    "print(respuestas.shape)"
   ]
  },
  {
   "cell_type": "code",
   "execution_count": 7,
   "metadata": {
    "scrolled": true
   },
   "outputs": [
    {
     "data": {
      "text/plain": [
       "modelo           974\n",
       "like-fb          480\n",
       "si               309\n",
       "gracias          184\n",
       "hola             136\n",
       "no               114\n",
       "informacion       96\n",
       "ok                95\n",
       "emoji             36\n",
       "spam              23\n",
       "twitter-image     13\n",
       "hasta luego        6\n",
       "pregunta           4\n",
       "aborto             2\n",
       "Name: result, dtype: int64"
      ]
     },
     "execution_count": 7,
     "metadata": {},
     "output_type": "execute_result"
    }
   ],
   "source": [
    "respuestas.result.value_counts()"
   ]
  },
  {
   "cell_type": "code",
   "execution_count": 8,
   "metadata": {
    "collapsed": true
   },
   "outputs": [],
   "source": [
    "etiquetado=pd.read_csv('s3://presidencia-mi-salud/processed/clasificacion_misalud.csv')"
   ]
  },
  {
   "cell_type": "code",
   "execution_count": 9,
   "metadata": {},
   "outputs": [
    {
     "name": "stdout",
     "output_type": "stream",
     "text": [
      "(2472, 11)\n"
     ]
    }
   ],
   "source": [
    "respuestas_etiquetas=pd.merge(respuestas, etiquetado[['id_contacto', 'categ_opi', 'Clasificacion final']],how='left',\n",
    "                              on=['id_contacto'])\n",
    "print(respuestas_etiquetas.shape)"
   ]
  },
  {
   "cell_type": "code",
   "execution_count": 10,
   "metadata": {},
   "outputs": [],
   "source": [
    "respuestas_etiquetas.columns= ['id_contacto', 'urn', 'nombre_contacto', 'listas', 'cc', 'result',\n",
    "       'texto', 'texto_proc', 'wc', 'categ_opi', 'categ_final']"
   ]
  },
  {
   "cell_type": "code",
   "execution_count": 11,
   "metadata": {
    "collapsed": true
   },
   "outputs": [],
   "source": [
    "respuestas_etiquetas=respuestas_etiquetas.loc[respuestas_etiquetas.result=='modelo']"
   ]
  },
  {
   "cell_type": "code",
   "execution_count": 12,
   "metadata": {
    "scrolled": true
   },
   "outputs": [
    {
     "data": {
      "text/html": [
       "<div>\n",
       "<style>\n",
       "    .dataframe thead tr:only-child th {\n",
       "        text-align: right;\n",
       "    }\n",
       "\n",
       "    .dataframe thead th {\n",
       "        text-align: left;\n",
       "    }\n",
       "\n",
       "    .dataframe tbody tr th {\n",
       "        vertical-align: top;\n",
       "    }\n",
       "</style>\n",
       "<table border=\"1\" class=\"dataframe\">\n",
       "  <thead>\n",
       "    <tr style=\"text-align: right;\">\n",
       "      <th>categ_opi</th>\n",
       "      <th>emergencia</th>\n",
       "      <th>informacion</th>\n",
       "      <th>nacimiento</th>\n",
       "      <th>otra</th>\n",
       "      <th>otra_queja</th>\n",
       "      <th>pregunta</th>\n",
       "      <th>pregunta_busca trabajo</th>\n",
       "      <th>respuesta</th>\n",
       "      <th>All</th>\n",
       "    </tr>\n",
       "    <tr>\n",
       "      <th>categ_final</th>\n",
       "      <th></th>\n",
       "      <th></th>\n",
       "      <th></th>\n",
       "      <th></th>\n",
       "      <th></th>\n",
       "      <th></th>\n",
       "      <th></th>\n",
       "      <th></th>\n",
       "      <th></th>\n",
       "    </tr>\n",
       "  </thead>\n",
       "  <tbody>\n",
       "    <tr>\n",
       "      <th>cancelar</th>\n",
       "      <td>0</td>\n",
       "      <td>0</td>\n",
       "      <td>1</td>\n",
       "      <td>0</td>\n",
       "      <td>0</td>\n",
       "      <td>0</td>\n",
       "      <td>0</td>\n",
       "      <td>4</td>\n",
       "      <td>5</td>\n",
       "    </tr>\n",
       "    <tr>\n",
       "      <th>emergencia</th>\n",
       "      <td>5</td>\n",
       "      <td>1</td>\n",
       "      <td>0</td>\n",
       "      <td>0</td>\n",
       "      <td>1</td>\n",
       "      <td>0</td>\n",
       "      <td>0</td>\n",
       "      <td>0</td>\n",
       "      <td>7</td>\n",
       "    </tr>\n",
       "    <tr>\n",
       "      <th>informacion</th>\n",
       "      <td>0</td>\n",
       "      <td>42</td>\n",
       "      <td>0</td>\n",
       "      <td>4</td>\n",
       "      <td>0</td>\n",
       "      <td>0</td>\n",
       "      <td>0</td>\n",
       "      <td>2</td>\n",
       "      <td>48</td>\n",
       "    </tr>\n",
       "    <tr>\n",
       "      <th>nacimiento</th>\n",
       "      <td>0</td>\n",
       "      <td>0</td>\n",
       "      <td>7</td>\n",
       "      <td>0</td>\n",
       "      <td>0</td>\n",
       "      <td>0</td>\n",
       "      <td>0</td>\n",
       "      <td>0</td>\n",
       "      <td>7</td>\n",
       "    </tr>\n",
       "    <tr>\n",
       "      <th>otra</th>\n",
       "      <td>0</td>\n",
       "      <td>0</td>\n",
       "      <td>0</td>\n",
       "      <td>267</td>\n",
       "      <td>1</td>\n",
       "      <td>0</td>\n",
       "      <td>0</td>\n",
       "      <td>3</td>\n",
       "      <td>271</td>\n",
       "    </tr>\n",
       "    <tr>\n",
       "      <th>otra_queja</th>\n",
       "      <td>0</td>\n",
       "      <td>0</td>\n",
       "      <td>0</td>\n",
       "      <td>0</td>\n",
       "      <td>140</td>\n",
       "      <td>3</td>\n",
       "      <td>1</td>\n",
       "      <td>1</td>\n",
       "      <td>145</td>\n",
       "    </tr>\n",
       "    <tr>\n",
       "      <th>otra_registro</th>\n",
       "      <td>0</td>\n",
       "      <td>0</td>\n",
       "      <td>0</td>\n",
       "      <td>0</td>\n",
       "      <td>0</td>\n",
       "      <td>0</td>\n",
       "      <td>0</td>\n",
       "      <td>7</td>\n",
       "      <td>7</td>\n",
       "    </tr>\n",
       "    <tr>\n",
       "      <th>pregunta</th>\n",
       "      <td>0</td>\n",
       "      <td>21</td>\n",
       "      <td>0</td>\n",
       "      <td>2</td>\n",
       "      <td>1</td>\n",
       "      <td>309</td>\n",
       "      <td>3</td>\n",
       "      <td>1</td>\n",
       "      <td>337</td>\n",
       "    </tr>\n",
       "    <tr>\n",
       "      <th>pregunta_busca trabajo</th>\n",
       "      <td>0</td>\n",
       "      <td>0</td>\n",
       "      <td>0</td>\n",
       "      <td>1</td>\n",
       "      <td>0</td>\n",
       "      <td>0</td>\n",
       "      <td>57</td>\n",
       "      <td>0</td>\n",
       "      <td>58</td>\n",
       "    </tr>\n",
       "    <tr>\n",
       "      <th>pregunta_medica</th>\n",
       "      <td>4</td>\n",
       "      <td>3</td>\n",
       "      <td>0</td>\n",
       "      <td>1</td>\n",
       "      <td>0</td>\n",
       "      <td>9</td>\n",
       "      <td>0</td>\n",
       "      <td>1</td>\n",
       "      <td>18</td>\n",
       "    </tr>\n",
       "    <tr>\n",
       "      <th>respuesta</th>\n",
       "      <td>0</td>\n",
       "      <td>2</td>\n",
       "      <td>5</td>\n",
       "      <td>0</td>\n",
       "      <td>0</td>\n",
       "      <td>1</td>\n",
       "      <td>0</td>\n",
       "      <td>63</td>\n",
       "      <td>71</td>\n",
       "    </tr>\n",
       "    <tr>\n",
       "      <th>All</th>\n",
       "      <td>9</td>\n",
       "      <td>69</td>\n",
       "      <td>13</td>\n",
       "      <td>275</td>\n",
       "      <td>143</td>\n",
       "      <td>322</td>\n",
       "      <td>61</td>\n",
       "      <td>82</td>\n",
       "      <td>974</td>\n",
       "    </tr>\n",
       "  </tbody>\n",
       "</table>\n",
       "</div>"
      ],
      "text/plain": [
       "categ_opi               emergencia  informacion  nacimiento  otra  otra_queja  \\\n",
       "categ_final                                                                     \n",
       "cancelar                         0            0           1     0           0   \n",
       "emergencia                       5            1           0     0           1   \n",
       "informacion                      0           42           0     4           0   \n",
       "nacimiento                       0            0           7     0           0   \n",
       "otra                             0            0           0   267           1   \n",
       "otra_queja                       0            0           0     0         140   \n",
       "otra_registro                    0            0           0     0           0   \n",
       "pregunta                         0           21           0     2           1   \n",
       "pregunta_busca trabajo           0            0           0     1           0   \n",
       "pregunta_medica                  4            3           0     1           0   \n",
       "respuesta                        0            2           5     0           0   \n",
       "All                              9           69          13   275         143   \n",
       "\n",
       "categ_opi               pregunta  pregunta_busca trabajo  respuesta  All  \n",
       "categ_final                                                               \n",
       "cancelar                       0                       0          4    5  \n",
       "emergencia                     0                       0          0    7  \n",
       "informacion                    0                       0          2   48  \n",
       "nacimiento                     0                       0          0    7  \n",
       "otra                           0                       0          3  271  \n",
       "otra_queja                     3                       1          1  145  \n",
       "otra_registro                  0                       0          7    7  \n",
       "pregunta                     309                       3          1  337  \n",
       "pregunta_busca trabajo         0                      57          0   58  \n",
       "pregunta_medica                9                       0          1   18  \n",
       "respuesta                      1                       0         63   71  \n",
       "All                          322                      61         82  974  "
      ]
     },
     "execution_count": 12,
     "metadata": {},
     "output_type": "execute_result"
    }
   ],
   "source": [
    "respuestas_etiquetas.categ_final.loc[respuestas_etiquetas.categ_final.isnull()]=respuestas_etiquetas.categ_opi.loc[respuestas_etiquetas.categ_final.isnull()]\n",
    "\n",
    "pd.crosstab(respuestas_etiquetas.categ_final.fillna('missing').astype(str),\n",
    "            respuestas_etiquetas.categ_opi.fillna('missing').astype(str), margins=True).to_csv('compara_etiquetas.csv')\n",
    "\n",
    "pd.crosstab(respuestas_etiquetas.categ_final.fillna('missing').astype(str),\n",
    "            respuestas_etiquetas.categ_opi.fillna('missing').astype(str), margins=True)"
   ]
  },
  {
   "cell_type": "code",
   "execution_count": 13,
   "metadata": {},
   "outputs": [
    {
     "name": "stderr",
     "output_type": "stream",
     "text": [
      "/Users/pepe_opi/anaconda3/lib/python3.6/site-packages/pandas/core/indexing.py:179: SettingWithCopyWarning: \n",
      "A value is trying to be set on a copy of a slice from a DataFrame\n",
      "\n",
      "See the caveats in the documentation: http://pandas.pydata.org/pandas-docs/stable/indexing.html#indexing-view-versus-copy\n",
      "  self._setitem_with_indexer(indexer, value)\n"
     ]
    }
   ],
   "source": [
    "respuestas_etiquetas.categ_final.loc[(respuestas_etiquetas.categ_final=='cancelar')]='respuesta'\n",
    "respuestas_etiquetas.categ_final.loc[(respuestas_etiquetas.categ_final=='otra_registro')]='otra'\n"
   ]
  },
  {
   "cell_type": "code",
   "execution_count": 14,
   "metadata": {},
   "outputs": [
    {
     "name": "stderr",
     "output_type": "stream",
     "text": [
      "/Users/pepe_opi/anaconda3/lib/python3.6/site-packages/pandas/core/indexing.py:179: SettingWithCopyWarning: \n",
      "A value is trying to be set on a copy of a slice from a DataFrame\n",
      "\n",
      "See the caveats in the documentation: http://pandas.pydata.org/pandas-docs/stable/indexing.html#indexing-view-versus-copy\n",
      "  self._setitem_with_indexer(indexer, value)\n"
     ]
    }
   ],
   "source": [
    "respuestas_etiquetas.categ_final.loc[(respuestas_etiquetas.texto=='¿Cómo saben que estoy triste?')]='otra'\n"
   ]
  },
  {
   "cell_type": "code",
   "execution_count": 15,
   "metadata": {},
   "outputs": [
    {
     "data": {
      "text/html": [
       "<div>\n",
       "<style>\n",
       "    .dataframe thead tr:only-child th {\n",
       "        text-align: right;\n",
       "    }\n",
       "\n",
       "    .dataframe thead th {\n",
       "        text-align: left;\n",
       "    }\n",
       "\n",
       "    .dataframe tbody tr th {\n",
       "        vertical-align: top;\n",
       "    }\n",
       "</style>\n",
       "<table border=\"1\" class=\"dataframe\">\n",
       "  <thead>\n",
       "    <tr style=\"text-align: right;\">\n",
       "      <th>categ_opi</th>\n",
       "      <th>emergencia</th>\n",
       "      <th>informacion</th>\n",
       "      <th>nacimiento</th>\n",
       "      <th>otra</th>\n",
       "      <th>otra_queja</th>\n",
       "      <th>pregunta</th>\n",
       "      <th>pregunta_busca trabajo</th>\n",
       "      <th>respuesta</th>\n",
       "      <th>All</th>\n",
       "    </tr>\n",
       "    <tr>\n",
       "      <th>categ_final</th>\n",
       "      <th></th>\n",
       "      <th></th>\n",
       "      <th></th>\n",
       "      <th></th>\n",
       "      <th></th>\n",
       "      <th></th>\n",
       "      <th></th>\n",
       "      <th></th>\n",
       "      <th></th>\n",
       "    </tr>\n",
       "  </thead>\n",
       "  <tbody>\n",
       "    <tr>\n",
       "      <th>emergencia</th>\n",
       "      <td>5</td>\n",
       "      <td>0</td>\n",
       "      <td>0</td>\n",
       "      <td>0</td>\n",
       "      <td>1</td>\n",
       "      <td>0</td>\n",
       "      <td>0</td>\n",
       "      <td>0</td>\n",
       "      <td>6</td>\n",
       "    </tr>\n",
       "    <tr>\n",
       "      <th>informacion</th>\n",
       "      <td>0</td>\n",
       "      <td>42</td>\n",
       "      <td>0</td>\n",
       "      <td>4</td>\n",
       "      <td>0</td>\n",
       "      <td>0</td>\n",
       "      <td>0</td>\n",
       "      <td>2</td>\n",
       "      <td>48</td>\n",
       "    </tr>\n",
       "    <tr>\n",
       "      <th>nacimiento</th>\n",
       "      <td>0</td>\n",
       "      <td>0</td>\n",
       "      <td>7</td>\n",
       "      <td>0</td>\n",
       "      <td>0</td>\n",
       "      <td>0</td>\n",
       "      <td>0</td>\n",
       "      <td>0</td>\n",
       "      <td>7</td>\n",
       "    </tr>\n",
       "    <tr>\n",
       "      <th>otra</th>\n",
       "      <td>0</td>\n",
       "      <td>1</td>\n",
       "      <td>0</td>\n",
       "      <td>267</td>\n",
       "      <td>1</td>\n",
       "      <td>0</td>\n",
       "      <td>0</td>\n",
       "      <td>10</td>\n",
       "      <td>279</td>\n",
       "    </tr>\n",
       "    <tr>\n",
       "      <th>otra_queja</th>\n",
       "      <td>0</td>\n",
       "      <td>0</td>\n",
       "      <td>0</td>\n",
       "      <td>0</td>\n",
       "      <td>140</td>\n",
       "      <td>3</td>\n",
       "      <td>1</td>\n",
       "      <td>1</td>\n",
       "      <td>145</td>\n",
       "    </tr>\n",
       "    <tr>\n",
       "      <th>pregunta</th>\n",
       "      <td>0</td>\n",
       "      <td>21</td>\n",
       "      <td>0</td>\n",
       "      <td>2</td>\n",
       "      <td>1</td>\n",
       "      <td>309</td>\n",
       "      <td>3</td>\n",
       "      <td>1</td>\n",
       "      <td>337</td>\n",
       "    </tr>\n",
       "    <tr>\n",
       "      <th>pregunta_busca trabajo</th>\n",
       "      <td>0</td>\n",
       "      <td>0</td>\n",
       "      <td>0</td>\n",
       "      <td>1</td>\n",
       "      <td>0</td>\n",
       "      <td>0</td>\n",
       "      <td>57</td>\n",
       "      <td>0</td>\n",
       "      <td>58</td>\n",
       "    </tr>\n",
       "    <tr>\n",
       "      <th>pregunta_medica</th>\n",
       "      <td>4</td>\n",
       "      <td>3</td>\n",
       "      <td>0</td>\n",
       "      <td>1</td>\n",
       "      <td>0</td>\n",
       "      <td>9</td>\n",
       "      <td>0</td>\n",
       "      <td>1</td>\n",
       "      <td>18</td>\n",
       "    </tr>\n",
       "    <tr>\n",
       "      <th>respuesta</th>\n",
       "      <td>0</td>\n",
       "      <td>2</td>\n",
       "      <td>6</td>\n",
       "      <td>0</td>\n",
       "      <td>0</td>\n",
       "      <td>1</td>\n",
       "      <td>0</td>\n",
       "      <td>67</td>\n",
       "      <td>76</td>\n",
       "    </tr>\n",
       "    <tr>\n",
       "      <th>All</th>\n",
       "      <td>9</td>\n",
       "      <td>69</td>\n",
       "      <td>13</td>\n",
       "      <td>275</td>\n",
       "      <td>143</td>\n",
       "      <td>322</td>\n",
       "      <td>61</td>\n",
       "      <td>82</td>\n",
       "      <td>974</td>\n",
       "    </tr>\n",
       "  </tbody>\n",
       "</table>\n",
       "</div>"
      ],
      "text/plain": [
       "categ_opi               emergencia  informacion  nacimiento  otra  otra_queja  \\\n",
       "categ_final                                                                     \n",
       "emergencia                       5            0           0     0           1   \n",
       "informacion                      0           42           0     4           0   \n",
       "nacimiento                       0            0           7     0           0   \n",
       "otra                             0            1           0   267           1   \n",
       "otra_queja                       0            0           0     0         140   \n",
       "pregunta                         0           21           0     2           1   \n",
       "pregunta_busca trabajo           0            0           0     1           0   \n",
       "pregunta_medica                  4            3           0     1           0   \n",
       "respuesta                        0            2           6     0           0   \n",
       "All                              9           69          13   275         143   \n",
       "\n",
       "categ_opi               pregunta  pregunta_busca trabajo  respuesta  All  \n",
       "categ_final                                                               \n",
       "emergencia                     0                       0          0    6  \n",
       "informacion                    0                       0          2   48  \n",
       "nacimiento                     0                       0          0    7  \n",
       "otra                           0                       0         10  279  \n",
       "otra_queja                     3                       1          1  145  \n",
       "pregunta                     309                       3          1  337  \n",
       "pregunta_busca trabajo         0                      57          0   58  \n",
       "pregunta_medica                9                       0          1   18  \n",
       "respuesta                      1                       0         67   76  \n",
       "All                          322                      61         82  974  "
      ]
     },
     "execution_count": 15,
     "metadata": {},
     "output_type": "execute_result"
    }
   ],
   "source": [
    "\n",
    "pd.crosstab(respuestas_etiquetas.categ_final.fillna('missing').astype(str),\n",
    "            respuestas_etiquetas.categ_opi.fillna('missing').astype(str), margins=True)"
   ]
  },
  {
   "cell_type": "code",
   "execution_count": 16,
   "metadata": {},
   "outputs": [],
   "source": [
    "map_fac=pd.factorize(respuestas_etiquetas.categ_final)[1]\n",
    "respuestas_etiquetas.categ_final=pd.factorize(respuestas_etiquetas.categ_final)[0]\n",
    "respuestas_etiquetas.categ_opi=respuestas_etiquetas.categ_final"
   ]
  },
  {
   "cell_type": "code",
   "execution_count": 17,
   "metadata": {
    "collapsed": true
   },
   "outputs": [],
   "source": [
    "label_map={0:'otra',\n",
    "          1:'informacion',\n",
    "          2: 'nacimiento',\n",
    "          3: 'respuesta',\n",
    "          4: 'emergencia',\n",
    "          5: 'pregunta',\n",
    "          6: 'pregunta_busca trabajo',\n",
    "          7: 'otra_queja',\n",
    "          8: 'pregunta_medica'}"
   ]
  },
  {
   "cell_type": "code",
   "execution_count": 18,
   "metadata": {},
   "outputs": [],
   "source": [
    "respuestas_etiquetas.categ_opi=respuestas_etiquetas.categ_final.map(label_map)"
   ]
  },
  {
   "cell_type": "markdown",
   "metadata": {},
   "source": [
    "## preprocesamiento"
   ]
  },
  {
   "cell_type": "code",
   "execution_count": 19,
   "metadata": {
    "collapsed": true
   },
   "outputs": [],
   "source": [
    "respuestas_etiquetas['texto_proc']=respuestas_etiquetas['texto'].str.lower()"
   ]
  },
  {
   "cell_type": "markdown",
   "metadata": {},
   "source": [
    " ### Quitar leading y trailing spaces, quitar puntuacion"
   ]
  },
  {
   "cell_type": "code",
   "execution_count": 20,
   "metadata": {
    "collapsed": true
   },
   "outputs": [],
   "source": [
    "respuestas_etiquetas['texto_proc']=respuestas_etiquetas['texto_proc'].str.strip()"
   ]
  },
  {
   "cell_type": "code",
   "execution_count": 21,
   "metadata": {
    "collapsed": true
   },
   "outputs": [],
   "source": [
    "respuestas_etiquetas['n_interrogacion']=respuestas_etiquetas['texto_proc'].str.count('\\\\?')>0"
   ]
  },
  {
   "cell_type": "code",
   "execution_count": 22,
   "metadata": {
    "collapsed": true
   },
   "outputs": [],
   "source": [
    "respuestas_etiquetas['texto_proc']=respuestas_etiquetas['texto_proc'].str.replace('[^\\w\\s]','')"
   ]
  },
  {
   "cell_type": "code",
   "execution_count": 23,
   "metadata": {
    "collapsed": true
   },
   "outputs": [],
   "source": [
    "respuestas_etiquetas['texto_proc']=respuestas_etiquetas['texto_proc'].str.strip()"
   ]
  },
  {
   "cell_type": "markdown",
   "metadata": {},
   "source": [
    "### Capturar emojis"
   ]
  },
  {
   "cell_type": "code",
   "execution_count": 24,
   "metadata": {},
   "outputs": [
    {
     "name": "stdout",
     "output_type": "stream",
     "text": [
      "True\n"
     ]
    }
   ],
   "source": [
    "es_emoji=pd.DataFrame()\n",
    "for i in range(0, respuestas_etiquetas.shape[0]):\n",
    "    es=pd.DataFrame({'es':script_reglas.is_emoji(respuestas_etiquetas['texto'].iloc[i])}, index=[0])\n",
    "    es_emoji=pd.concat([es_emoji, es], ignore_index=True)\n",
    "print(es_emoji.shape[0]==respuestas_etiquetas.shape[0])"
   ]
  },
  {
   "cell_type": "code",
   "execution_count": 25,
   "metadata": {
    "collapsed": true
   },
   "outputs": [],
   "source": [
    "respuestas_etiquetas=respuestas_etiquetas.reset_index(drop=True)"
   ]
  },
  {
   "cell_type": "code",
   "execution_count": 26,
   "metadata": {
    "collapsed": true
   },
   "outputs": [],
   "source": [
    "respuestas_etiquetas=pd.concat([respuestas_etiquetas, es_emoji], axis=1)"
   ]
  },
  {
   "cell_type": "markdown",
   "metadata": {},
   "source": [
    "### Quitar emojis que quedan en el texto"
   ]
  },
  {
   "cell_type": "code",
   "execution_count": 27,
   "metadata": {
    "collapsed": true
   },
   "outputs": [],
   "source": [
    "sinemojis=pd.DataFrame()\n",
    "for i in range(0, respuestas_etiquetas.shape[0]):\n",
    "    sinemojis_i=script_reglas.give_emoji_free_text(respuestas_etiquetas.texto_proc.iloc[i])\n",
    "    sinemojis_i=pd.DataFrame({'texto':sinemojis_i}, index=[i])\n",
    "    sinemojis=pd.concat([sinemojis, sinemojis_i])\n",
    "respuestas_etiquetas['texto_proc']=sinemojis"
   ]
  },
  {
   "cell_type": "markdown",
   "metadata": {},
   "source": [
    "### Quitar  acentos"
   ]
  },
  {
   "cell_type": "code",
   "execution_count": 28,
   "metadata": {
    "collapsed": true
   },
   "outputs": [],
   "source": [
    "sinacentos=pd.DataFrame()\n",
    "for i in range(0, respuestas_etiquetas.shape[0]):\n",
    "    sinacentos_i=unicodedata.normalize('NFD', respuestas_etiquetas['texto_proc'].iloc[i]).encode('ascii', 'ignore').decode('utf-8')\n",
    "    sinacentos_i=pd.DataFrame({'texto':sinacentos_i}, index=[i])\n",
    "    sinacentos=pd.concat([sinacentos, sinacentos_i])\n",
    "respuestas_etiquetas['texto_proc']=sinacentos"
   ]
  },
  {
   "cell_type": "code",
   "execution_count": 29,
   "metadata": {
    "collapsed": true
   },
   "outputs": [],
   "source": [
    "respuestas_etiquetas.texto_proc=respuestas_etiquetas.texto_proc.str.replace('ola|\\n|buena noche|buenos dias|buenos dia|buen dia|buenas noches|buenas tardes|buenas tarde|buen dia|bien dia|buena tardes|buena tarde|saludos|hola', '')"
   ]
  },
  {
   "cell_type": "markdown",
   "metadata": {},
   "source": [
    "### Procesar dummy de  listas"
   ]
  },
  {
   "cell_type": "code",
   "execution_count": 30,
   "metadata": {
    "collapsed": true
   },
   "outputs": [],
   "source": [
    "respuestas_etiquetas.listas=respuestas_etiquetas.listas.str.lower()\n",
    "respuestas_etiquetas.listas=respuestas_etiquetas.listas.str.replace(',', '')\n",
    "respuestas_etiquetas.listas=respuestas_etiquetas.listas.str.replace('con fecha', 'con_fecha')\n",
    "respuestas_etiquetas.listas=respuestas_etiquetas.listas.str.replace('2 años', '2_anios')"
   ]
  },
  {
   "cell_type": "code",
   "execution_count": 31,
   "metadata": {
    "collapsed": true
   },
   "outputs": [],
   "source": [
    "respuestas_etiquetas.listas=respuestas_etiquetas.listas.str.lower()\n",
    "respuestas_etiquetas.listas=respuestas_etiquetas.listas.str.replace(',', '')\n",
    "respuestas_etiquetas.listas=respuestas_etiquetas.listas.str.replace('con fecha', 'con_fecha')\n",
    "respuestas_etiquetas.listas=respuestas_etiquetas.listas.str.replace('2 años', '2_anios')\n",
    "\n",
    "prueba_listas=respuestas_etiquetas.listas.str.split(expand=True)\n",
    "lista=[pd.get_dummies(prueba_listas[col]) for col in prueba_listas]\n",
    "\n",
    "for i in range(0, len(lista)):\n",
    "    lista[i]['indice'] = lista[i].index\n",
    "lista=pd.concat(lista, ignore_index=True)\n",
    "prueba_listas=lista.groupby('indice', as_index=True).agg('sum')"
   ]
  },
  {
   "cell_type": "markdown",
   "metadata": {},
   "source": [
    "Eliminar listas con pocas personas"
   ]
  },
  {
   "cell_type": "code",
   "execution_count": 32,
   "metadata": {
    "collapsed": true,
    "scrolled": true
   },
   "outputs": [],
   "source": [
    "prueba_listas=prueba_listas[prueba_listas.sum()[~(prueba_listas.sum()<=3)].keys()]"
   ]
  },
  {
   "cell_type": "markdown",
   "metadata": {},
   "source": [
    "### TF-DF"
   ]
  },
  {
   "cell_type": "code",
   "execution_count": 33,
   "metadata": {
    "collapsed": true
   },
   "outputs": [],
   "source": [
    "stop=nltk.corpus.stopwords.words(\"spanish\")"
   ]
  },
  {
   "cell_type": "code",
   "execution_count": 34,
   "metadata": {
    "collapsed": true
   },
   "outputs": [],
   "source": [
    "for i in range(0, np.shape(stop)[0]):\n",
    "    stop[i]=unicodedata.normalize('NFD', stop[i]).encode('ascii', 'ignore').decode('utf-8')"
   ]
  },
  {
   "cell_type": "code",
   "execution_count": 35,
   "metadata": {
    "collapsed": true
   },
   "outputs": [],
   "source": [
    "stemmer = SnowballStemmer(\"spanish\")\n",
    "\n",
    "def tokenize_and_stem(text):\n",
    "    # first tokenize by sentence, then by word to ensure that punctuation is caught as it's own token\n",
    "    tokens = [word for sent in nltk.sent_tokenize(text) for word in nltk.word_tokenize(sent)]\n",
    "    filtered_tokens = []\n",
    "    # filter out any tokens not containing letters (e.g., numeric tokens, raw punctuation)\n",
    "    for token in tokens:\n",
    "        if re.search('[a-zA-Z]', token):\n",
    "            filtered_tokens.append(token)\n",
    "    stems = [stemmer.stem(t) for t in filtered_tokens]\n",
    "    return stems\n",
    "\n",
    "\n",
    "def tokenize_only(text):\n",
    "    # first tokenize by sentence, then by word to ensure that punctuation is caught as it's own token\n",
    "    tokens = [word.lower() for sent in nltk.sent_tokenize(text) for word in nltk.word_tokenize(sent)]\n",
    "    filtered_tokens = []\n",
    "    # filter out any tokens not containing letters (e.g., numeric tokens, raw punctuation)\n",
    "    for token in tokens:\n",
    "        if re.search('[a-zA-Z]', token):\n",
    "            filtered_tokens.append(token)\n",
    "    return filtered_tokens"
   ]
  },
  {
   "cell_type": "code",
   "execution_count": 36,
   "metadata": {
    "collapsed": true
   },
   "outputs": [],
   "source": [
    "#stemmed=pd.DataFrame()\n",
    "#for i in range(0, respuestas_etiquetas.shape[0]):\n",
    "#    stemmed_i=' '.join(tokenize_and_stem(respuestas_etiquetas.texto_proc[i]))\n",
    "#    stemmed_i=pd.DataFrame({'texto':stemmed_i}, index=[i])\n",
    "#    stemmed=pd.concat([stemmed, stemmed_i])\n",
    "#respuestas_etiquetas.texto_proc=stemmed"
   ]
  },
  {
   "cell_type": "code",
   "execution_count": 37,
   "metadata": {
    "collapsed": true
   },
   "outputs": [],
   "source": [
    "#respuestas_etiquetas=respuestas_etiquetas.loc[respuestas_etiquetas.texto_proc.ravel()!='']"
   ]
  },
  {
   "cell_type": "code",
   "execution_count": 38,
   "metadata": {
    "scrolled": true
   },
   "outputs": [
    {
     "data": {
      "text/plain": [
       "(974, 543)"
      ]
     },
     "execution_count": 38,
     "metadata": {},
     "output_type": "execute_result"
    }
   ],
   "source": [
    "from sklearn.feature_extraction.text import TfidfVectorizer\n",
    "tfidf = TfidfVectorizer(sublinear_tf=True, min_df=5, norm='l2', encoding='utf-8', ngram_range=([1, 2]),\n",
    "                        stop_words=stop)\n",
    "features = tfidf.fit_transform(respuestas_etiquetas.texto_proc)\n",
    "labels = respuestas_etiquetas.categ_opi\n",
    "features.shape"
   ]
  },
  {
   "cell_type": "code",
   "execution_count": 39,
   "metadata": {},
   "outputs": [
    {
     "data": {
      "text/plain": [
       "<974x543 sparse matrix of type '<class 'numpy.float64'>'\n",
       "\twith 6557 stored elements in Compressed Sparse Row format>"
      ]
     },
     "execution_count": 39,
     "metadata": {},
     "output_type": "execute_result"
    }
   ],
   "source": [
    "features"
   ]
  },
  {
   "cell_type": "code",
   "execution_count": 40,
   "metadata": {
    "collapsed": true
   },
   "outputs": [],
   "source": [
    "x_target=respuestas_etiquetas.categ_opi\n",
    "x_train=respuestas_etiquetas.texto_proc"
   ]
  },
  {
   "cell_type": "code",
   "execution_count": 41,
   "metadata": {
    "collapsed": true
   },
   "outputs": [],
   "source": [
    "totalvocab_stemmed = []\n",
    "totalvocab_tokenized = []\n",
    "lista_fin=list()\n",
    "for i in x_train:\n",
    "    allwords_stemmed = tokenize_and_stem(i) #for each item in 'synopses', tokenize/stem\n",
    "    totalvocab_stemmed.extend(allwords_stemmed) #extend the 'totalvocab_stemmed' list\n",
    "    allwords_tokenized = tokenize_only(i)\n",
    "    totalvocab_tokenized.extend(allwords_tokenized)"
   ]
  },
  {
   "cell_type": "code",
   "execution_count": 42,
   "metadata": {
    "scrolled": true
   },
   "outputs": [
    {
     "name": "stdout",
     "output_type": "stream",
     "text": [
      "# 'emergencia':\n",
      "  . Most correlated unigrams:\n",
      ". quiere\n",
      ". hospital\n",
      ". bebe\n",
      ". operacion\n",
      ". nino\n",
      "  . Most correlated bigrams:\n",
      ". seguro popular\n",
      ". centro salud\n",
      ". puedo acudir\n",
      ". espero respuesta\n",
      ". hospital general\n",
      "# 'informacion':\n",
      "  . Most correlated unigrams:\n",
      ". telefono\n",
      ". is\n",
      ". what\n",
      ". your\n",
      ". mensajes\n",
      "  . Most correlated bigrams:\n",
      ". secretaria salud\n",
      ". podrian decir\n",
      ". podrian proporcionar\n",
      ". algun numero\n",
      ". numero telefonico\n",
      "# 'nacimiento':\n",
      "  . Most correlated unigrams:\n",
      ". puedo\n",
      ". salud\n",
      ". ami\n",
      ". nacio\n",
      ". bebe\n",
      "  . Most correlated bigrams:\n",
      ". seguro popular\n",
      ". gustaria saber\n",
      ". vacuna hepatitis\n",
      ". quisiera saber\n",
      ". secretaria salud\n",
      "# 'otra':\n",
      "  . Most correlated unigrams:\n",
      ". productos\n",
      ". marca\n",
      ". sms\n",
      ". alpura\n",
      ". mensaje\n",
      "  . Most correlated bigrams:\n",
      ". puede salvar\n",
      ". bacteria escasos\n",
      ". seguro popular\n",
      ". salud informa\n",
      ". productos alpura\n",
      "# 'otra_queja':\n",
      "  . Most correlated unigrams:\n",
      ". calle\n",
      ". queja\n",
      ". casa\n",
      ". denuncia\n",
      ". reportar\n",
      "  . Most correlated bigrams:\n",
      ". muchas gracias\n",
      ". dos meses\n",
      ". dia hoy\n",
      ". quiero reportar\n",
      ". puedo reportar\n",
      "# 'pregunta':\n",
      "  . Most correlated unigrams:\n",
      ". saber\n",
      ". vacuna\n",
      ". popular\n",
      ". seguro\n",
      ". hepatitis\n",
      "  . Most correlated bigrams:\n",
      ". saber puedo\n",
      ". quisiera saber\n",
      ". conseguir vacuna\n",
      ". vacuna hepatitis\n",
      ". seguro popular\n",
      "# 'pregunta_busca trabajo':\n",
      "  . Most correlated unigrams:\n",
      ". trabajar\n",
      ". enfermera\n",
      ". trabajo\n",
      ". curriculum\n",
      ". bolsa\n",
      "  . Most correlated bigrams:\n",
      ". correo electronico\n",
      ". secretaria salud\n",
      ". puedo acudir\n",
      ". trabajo enfermeria\n",
      ". bolsa trabajo\n",
      "# 'pregunta_medica':\n",
      "  . Most correlated unigrams:\n",
      ". ahora\n",
      ". is\n",
      ". tardes\n",
      ". salir\n",
      ". tarde\n",
      "  . Most correlated bigrams:\n",
      ". vacuna hepatitis\n",
      ". secretaria salud\n",
      ". podrian decir\n",
      ". puedo hacer\n",
      ". disculpe molestia\n",
      "# 'respuesta':\n",
      "  . Most correlated unigrams:\n",
      ". excelente\n",
      ". pido\n",
      ". hijos\n",
      ". llama\n",
      ". mujer\n",
      "  . Most correlated bigrams:\n",
      ". seguro popular\n",
      ". gustaria saber\n",
      ". vacuna hepatitis\n",
      ". quisiera saber\n",
      ". secretaria salud\n"
     ]
    }
   ],
   "source": [
    "from sklearn.feature_selection import chi2\n",
    "\n",
    "N = 5\n",
    "for category_id in sorted(respuestas_etiquetas.categ_opi.unique()):\n",
    "  features_chi2 = chi2(features, labels == category_id)\n",
    "  indices = np.argsort(features_chi2[0])\n",
    "  feature_names = np.array(tfidf.get_feature_names())[indices]\n",
    "  unigrams = [v for v in feature_names if len(v.split(' ')) == 1]\n",
    "  bigrams = [v for v in feature_names if len(v.split(' ')) == 2]\n",
    "  print(\"# '{}':\".format(category_id))\n",
    "  print(\"  . Most correlated unigrams:\\n. {}\".format('\\n. '.join(unigrams[-N:])))\n",
    "  print(\"  . Most correlated bigrams:\\n. {}\".format('\\n. '.join(bigrams[-N:])))"
   ]
  },
  {
   "cell_type": "code",
   "execution_count": null,
   "metadata": {
    "collapsed": true
   },
   "outputs": [],
   "source": [
    "x_target.value_counts()"
   ]
  },
  {
   "cell_type": "markdown",
   "metadata": {},
   "source": [
    "### Pruebas número de factores"
   ]
  },
  {
   "cell_type": "code",
   "execution_count": 66,
   "metadata": {
    "collapsed": true
   },
   "outputs": [],
   "source": [
    "from sklearn.random_projection import SparseRandomProjection\n",
    "from sklearn.model_selection import cross_val_predict"
   ]
  },
  {
   "cell_type": "code",
   "execution_count": 91,
   "metadata": {
    "collapsed": true
   },
   "outputs": [],
   "source": [
    "clasificador=RandomForestClassifier(random_state=1)"
   ]
  },
  {
   "cell_type": "code",
   "execution_count": 143,
   "metadata": {},
   "outputs": [
    {
     "name": "stdout",
     "output_type": "stream",
     "text": [
      "30\n",
      "    n_loadings  precision\n",
      "30          30   0.458932\n",
      "31\n",
      "    n_loadings  precision\n",
      "31          31   0.447639\n",
      "32\n",
      "    n_loadings  precision\n",
      "32          32   0.460986\n",
      "33\n",
      "    n_loadings  precision\n",
      "33          33   0.452772\n",
      "34\n",
      "    n_loadings  precision\n",
      "34          34   0.463039\n",
      "35\n",
      "    n_loadings  precision\n",
      "35          35   0.456879\n",
      "36\n",
      "    n_loadings  precision\n",
      "36          36   0.467146\n",
      "37\n",
      "    n_loadings  precision\n",
      "37          37   0.460986\n",
      "38\n",
      "    n_loadings  precision\n",
      "38          38   0.449692\n",
      "39\n",
      "    n_loadings  precision\n",
      "39          39   0.451745\n",
      "40\n",
      "    n_loadings  precision\n",
      "40          40   0.473306\n",
      "41\n",
      "    n_loadings  precision\n",
      "41          41   0.446612\n",
      "42\n",
      "    n_loadings  precision\n",
      "42          42   0.472279\n",
      "43\n",
      "    n_loadings  precision\n",
      "43          43   0.466119\n",
      "44\n",
      "    n_loadings  precision\n",
      "44          44   0.472279\n"
     ]
    }
   ],
   "source": [
    "itera=pd.DataFrame()\n",
    "for a in range(30, 45):\n",
    "    print(a)\n",
    "    pca=SparseRandomProjection(n_components=a)\n",
    "    Xall=pca.fit_transform(features)\n",
    "    Xall=pd.DataFrame(Xall.toarray())\n",
    "    loo_predict_proba=pd.DataFrame()\n",
    "    for i in Xall.index:\n",
    "        X_i=pd.DataFrame(Xall.loc[i]).transpose()\n",
    "        Xall_one_out=Xall.drop(i)\n",
    "        x_target_one_out=x_target.drop(i)\n",
    "        clasificador=clasificador.fit(X=Xall_one_out,y=x_target_one_out)\n",
    "        pred=clasificador.predict(X_i)\n",
    "        loo_predict_proba_i=pd.concat([pd.DataFrame(respuestas_etiquetas.loc[i]).transpose(),\n",
    "                                     pd.DataFrame(pred, index=[i])], axis=1)\n",
    "        loo_predict_proba=pd.concat([loo_predict_proba, loo_predict_proba_i])\n",
    "    precision=sum(loo_predict_proba[0]== loo_predict_proba['categ_opi'])/loo_predict_proba.shape[0]\n",
    "    precision=pd.DataFrame({'precision':precision, 'n_loadings':a}, index=[a])\n",
    "    itera=pd.concat([itera, precision])\n",
    "    print(precision)\n",
    "        #print(str(i)+ ' ' +\n",
    "        #      loo_predict_proba_i[[0, 1, 2, 3, 4, 5, 6, 7, 8]].idxmax(axis=1).astype(str)[i]+ ' ' +\n",
    "        #      loo_predict_proba_i.categ_final.astype(str)[i] + ' '+loo_predict_proba_i.texto.astype(str)[i])"
   ]
  },
  {
   "cell_type": "code",
   "execution_count": 144,
   "metadata": {},
   "outputs": [
    {
     "data": {
      "image/png": "[encoded data removed]",
      "text/plain": [
       "<matplotlib.figure.Figure at 0x1a24c15518>"
      ]
     },
     "metadata": {},
     "output_type": "display_data"
    }
   ],
   "source": [
    "plt.plot(itera.n_loadings, itera.precision)\n",
    "plt.show()"
   ]
  },
  {
   "cell_type": "code",
   "execution_count": 115,
   "metadata": {},
   "outputs": [],
   "source": [
    "features_df=pd.DataFrame(features.toarray())"
   ]
  },
  {
   "cell_type": "markdown",
   "metadata": {},
   "source": [
    "Prueba de error sin reducir dimensiones"
   ]
  },
  {
   "cell_type": "code",
   "execution_count": 119,
   "metadata": {
    "scrolled": true
   },
   "outputs": [
    {
     "name": "stdout",
     "output_type": "stream",
     "text": [
      "0\n",
      "1\n",
      "2\n",
      "3\n",
      "4\n",
      "5\n",
      "6\n",
      "7\n",
      "8\n",
      "9\n",
      "10\n",
      "11\n",
      "12\n",
      "13\n",
      "14\n",
      "15\n",
      "16\n",
      "17\n",
      "18\n",
      "19\n",
      "20\n",
      "21\n",
      "22\n",
      "23\n",
      "24\n",
      "25\n",
      "26\n",
      "27\n",
      "28\n",
      "29\n",
      "30\n",
      "31\n",
      "32\n",
      "33\n",
      "34\n",
      "35\n",
      "36\n",
      "37\n",
      "38\n",
      "39\n",
      "40\n",
      "41\n",
      "42\n",
      "43\n",
      "44\n",
      "45\n",
      "46\n",
      "47\n",
      "48\n",
      "49\n",
      "50\n",
      "51\n",
      "52\n",
      "53\n",
      "54\n",
      "55\n",
      "56\n",
      "57\n",
      "58\n",
      "59\n",
      "60\n",
      "61\n",
      "62\n",
      "63\n",
      "64\n",
      "65\n",
      "66\n",
      "67\n",
      "68\n",
      "69\n",
      "70\n",
      "71\n",
      "72\n",
      "73\n",
      "74\n",
      "75\n",
      "76\n",
      "77\n",
      "78\n",
      "79\n",
      "80\n",
      "81\n",
      "82\n",
      "83\n",
      "84\n",
      "85\n",
      "86\n",
      "87\n",
      "88\n",
      "89\n",
      "90\n",
      "91\n",
      "92\n",
      "93\n",
      "94\n",
      "95\n",
      "96\n",
      "97\n",
      "98\n",
      "99\n",
      "100\n",
      "101\n",
      "102\n",
      "103\n",
      "104\n",
      "105\n",
      "106\n",
      "107\n",
      "108\n",
      "109\n",
      "110\n",
      "111\n",
      "112\n",
      "113\n",
      "114\n",
      "115\n",
      "116\n",
      "117\n",
      "118\n",
      "119\n",
      "120\n",
      "121\n",
      "122\n",
      "123\n",
      "124\n",
      "125\n",
      "126\n",
      "127\n",
      "128\n",
      "129\n",
      "130\n",
      "131\n",
      "132\n",
      "133\n",
      "134\n",
      "135\n",
      "136\n",
      "137\n",
      "138\n",
      "139\n",
      "140\n",
      "141\n",
      "142\n",
      "143\n",
      "144\n",
      "145\n",
      "146\n",
      "147\n",
      "148\n",
      "149\n",
      "150\n",
      "151\n",
      "152\n",
      "153\n",
      "154\n",
      "155\n",
      "156\n",
      "157\n",
      "158\n",
      "159\n",
      "160\n",
      "161\n",
      "162\n",
      "163\n",
      "164\n",
      "165\n",
      "166\n",
      "167\n",
      "168\n",
      "169\n",
      "170\n",
      "171\n",
      "172\n",
      "173\n",
      "174\n",
      "175\n",
      "176\n",
      "177\n",
      "178\n",
      "179\n",
      "180\n",
      "181\n",
      "182\n",
      "183\n",
      "184\n",
      "185\n",
      "186\n",
      "187\n",
      "188\n",
      "189\n",
      "190\n",
      "191\n",
      "192\n",
      "193\n",
      "194\n",
      "195\n",
      "196\n",
      "197\n",
      "198\n",
      "199\n",
      "200\n",
      "201\n",
      "202\n",
      "203\n",
      "204\n",
      "205\n",
      "206\n",
      "207\n",
      "208\n",
      "209\n",
      "210\n",
      "211\n",
      "212\n",
      "213\n",
      "214\n",
      "215\n",
      "216\n",
      "217\n",
      "218\n",
      "219\n",
      "220\n",
      "221\n",
      "222\n",
      "223\n",
      "224\n",
      "225\n",
      "226\n",
      "227\n",
      "228\n",
      "229\n",
      "230\n",
      "231\n",
      "232\n",
      "233\n",
      "234\n",
      "235\n",
      "236\n",
      "237\n",
      "238\n",
      "239\n",
      "240\n",
      "241\n",
      "242\n",
      "243\n",
      "244\n",
      "245\n",
      "246\n",
      "247\n",
      "248\n",
      "249\n",
      "250\n",
      "251\n",
      "252\n",
      "253\n",
      "254\n",
      "255\n",
      "256\n",
      "257\n",
      "258\n",
      "259\n",
      "260\n",
      "261\n",
      "262\n",
      "263\n",
      "264\n",
      "265\n",
      "266\n",
      "267\n",
      "268\n",
      "269\n",
      "270\n",
      "271\n",
      "272\n",
      "273\n",
      "274\n",
      "275\n",
      "276\n",
      "277\n",
      "278\n",
      "279\n",
      "280\n",
      "281\n",
      "282\n",
      "283\n",
      "284\n",
      "285\n",
      "286\n",
      "287\n",
      "288\n",
      "289\n",
      "290\n",
      "291\n",
      "292\n",
      "293\n",
      "294\n",
      "295\n",
      "296\n",
      "297\n",
      "298\n",
      "299\n",
      "300\n",
      "301\n",
      "302\n",
      "303\n",
      "304\n",
      "305\n",
      "306\n",
      "307\n",
      "308\n",
      "309\n",
      "310\n",
      "311\n",
      "312\n",
      "313\n",
      "314\n",
      "315\n",
      "316\n",
      "317\n",
      "318\n",
      "319\n",
      "320\n",
      "321\n",
      "322\n",
      "323\n",
      "324\n",
      "325\n",
      "326\n",
      "327\n",
      "328\n",
      "329\n",
      "330\n",
      "331\n",
      "332\n",
      "333\n",
      "334\n",
      "335\n",
      "336\n",
      "337\n",
      "338\n",
      "339\n",
      "340\n",
      "341\n",
      "342\n",
      "343\n",
      "344\n",
      "345\n",
      "346\n",
      "347\n",
      "348\n",
      "349\n",
      "350\n",
      "351\n",
      "352\n",
      "353\n",
      "354\n",
      "355\n",
      "356\n",
      "357\n",
      "358\n",
      "359\n",
      "360\n",
      "361\n",
      "362\n",
      "363\n",
      "364\n",
      "365\n",
      "366\n",
      "367\n",
      "368\n",
      "369\n",
      "370\n",
      "371\n",
      "372\n",
      "373\n",
      "374\n",
      "375\n",
      "376\n",
      "377\n",
      "378\n",
      "379\n",
      "380\n",
      "381\n",
      "382\n",
      "383\n",
      "384\n",
      "385\n",
      "386\n",
      "387\n",
      "388\n",
      "389\n",
      "390\n",
      "391\n",
      "392\n",
      "393\n",
      "394\n",
      "395\n",
      "396\n",
      "397\n",
      "398\n",
      "399\n",
      "400\n",
      "401\n",
      "402\n",
      "403\n",
      "404\n",
      "405\n",
      "406\n",
      "407\n",
      "408\n",
      "409\n",
      "410\n",
      "411\n",
      "412\n",
      "413\n",
      "414\n",
      "415\n",
      "416\n",
      "417\n",
      "418\n",
      "419\n",
      "420\n",
      "421\n",
      "422\n",
      "423\n",
      "424\n",
      "425\n",
      "426\n",
      "427\n",
      "428\n",
      "429\n",
      "430\n",
      "431\n",
      "432\n",
      "433\n",
      "434\n",
      "435\n",
      "436\n",
      "437\n",
      "438\n",
      "439\n",
      "440\n",
      "441\n",
      "442\n",
      "443\n",
      "444\n",
      "445\n",
      "446\n",
      "447\n",
      "448\n",
      "449\n",
      "450\n",
      "451\n",
      "452\n",
      "453\n",
      "454\n",
      "455\n",
      "456\n",
      "457\n",
      "458\n",
      "459\n",
      "460\n",
      "461\n",
      "462\n",
      "463\n",
      "464\n",
      "465\n",
      "466\n",
      "467\n",
      "468\n",
      "469\n",
      "470\n",
      "471\n",
      "472\n",
      "473\n",
      "474\n",
      "475\n",
      "476\n",
      "477\n",
      "478\n",
      "479\n",
      "480\n",
      "481\n",
      "482\n",
      "483\n",
      "484\n",
      "485\n",
      "486\n",
      "487\n",
      "488\n",
      "489\n",
      "490\n",
      "491\n",
      "492\n",
      "493\n",
      "494\n",
      "495\n",
      "496\n",
      "497\n",
      "498\n",
      "499\n",
      "500\n",
      "501\n",
      "502\n",
      "503\n",
      "504\n",
      "505\n",
      "506\n",
      "507\n",
      "508\n",
      "509\n",
      "510\n",
      "511\n",
      "512\n",
      "513\n",
      "514\n",
      "515\n",
      "516\n",
      "517\n",
      "518\n",
      "519\n",
      "520\n",
      "521\n",
      "522\n",
      "523\n",
      "524\n",
      "525\n",
      "526\n",
      "527\n",
      "528\n",
      "529\n",
      "530\n",
      "531\n",
      "532\n",
      "533\n",
      "534\n",
      "535\n",
      "536\n",
      "537\n",
      "538\n",
      "539\n",
      "540\n",
      "541\n",
      "542\n",
      "543\n",
      "544\n",
      "545\n",
      "546\n",
      "547\n",
      "548\n",
      "549\n",
      "550\n",
      "551\n",
      "552\n",
      "553\n",
      "554\n",
      "555\n",
      "556\n",
      "557\n",
      "558\n",
      "559\n",
      "560\n",
      "561\n",
      "562\n",
      "563\n",
      "564\n",
      "565\n",
      "566\n",
      "567\n",
      "568\n",
      "569\n",
      "570\n",
      "571\n",
      "572\n",
      "573\n",
      "574\n",
      "575\n",
      "576\n",
      "577\n",
      "578\n",
      "579\n",
      "580\n",
      "581\n",
      "582\n",
      "583\n",
      "584\n",
      "585\n",
      "586\n",
      "587\n",
      "588\n",
      "589\n",
      "590\n",
      "591\n",
      "592\n",
      "593\n",
      "594\n",
      "595\n",
      "596\n",
      "597\n",
      "598\n",
      "599\n",
      "600\n",
      "601\n",
      "602\n",
      "603\n",
      "604\n",
      "605\n",
      "606\n",
      "607\n",
      "608\n",
      "609\n",
      "610\n",
      "611\n",
      "612\n",
      "613\n",
      "614\n",
      "615\n",
      "616\n",
      "617\n",
      "618\n",
      "619\n",
      "620\n",
      "621\n",
      "622\n",
      "623\n",
      "624\n",
      "625\n",
      "626\n",
      "627\n",
      "628\n",
      "629\n",
      "630\n",
      "631\n",
      "632\n",
      "633\n",
      "634\n",
      "635\n",
      "636\n",
      "637\n",
      "638\n",
      "639\n",
      "640\n",
      "641\n",
      "642\n",
      "643\n",
      "644\n",
      "645\n",
      "646\n",
      "647\n",
      "648\n",
      "649\n",
      "650\n",
      "651\n",
      "652\n",
      "653\n",
      "654\n",
      "655\n",
      "656\n",
      "657\n",
      "658\n",
      "659\n",
      "660\n",
      "661\n",
      "662\n",
      "663\n",
      "664\n",
      "665\n",
      "666\n",
      "667\n",
      "668\n",
      "669\n",
      "670\n",
      "671\n",
      "672\n",
      "673\n",
      "674\n",
      "675\n",
      "676\n",
      "677\n",
      "678\n",
      "679\n",
      "680\n",
      "681\n",
      "682\n",
      "683\n",
      "684\n",
      "685\n",
      "686\n",
      "687\n",
      "688\n",
      "689\n",
      "690\n",
      "691\n",
      "692\n",
      "693\n",
      "694\n",
      "695\n",
      "696\n",
      "697\n",
      "698\n",
      "699\n",
      "700\n",
      "701\n",
      "702\n",
      "703\n",
      "704\n",
      "705\n",
      "706\n",
      "707\n",
      "708\n",
      "709\n",
      "710\n",
      "711\n",
      "712\n",
      "713\n",
      "714\n",
      "715\n",
      "716\n",
      "717\n",
      "718\n",
      "719\n",
      "720\n",
      "721\n",
      "722\n",
      "723\n",
      "724\n",
      "725\n",
      "726\n",
      "727\n",
      "728\n",
      "729\n",
      "730\n",
      "731\n",
      "732\n",
      "733\n",
      "734\n",
      "735\n",
      "736\n",
      "737\n",
      "738\n",
      "739\n",
      "740\n",
      "741\n",
      "742\n",
      "743\n",
      "744\n",
      "745\n",
      "746\n",
      "747\n",
      "748\n",
      "749\n",
      "750\n",
      "751\n",
      "752\n",
      "753\n",
      "754\n",
      "755\n",
      "756\n",
      "757\n",
      "758\n",
      "759\n",
      "760\n",
      "761\n",
      "762\n",
      "763\n",
      "764\n",
      "765\n",
      "766\n",
      "767\n",
      "768\n",
      "769\n",
      "770\n",
      "771\n",
      "772\n",
      "773\n",
      "774\n",
      "775\n",
      "776\n",
      "777\n",
      "778\n",
      "779\n",
      "780\n",
      "781\n",
      "782\n",
      "783\n",
      "784\n",
      "785\n",
      "786\n",
      "787\n",
      "788\n",
      "789\n",
      "790\n",
      "791\n",
      "792\n",
      "793\n",
      "794\n",
      "795\n",
      "796\n",
      "797\n",
      "798\n",
      "799\n",
      "800\n",
      "801\n",
      "802\n",
      "803\n",
      "804\n",
      "805\n",
      "806\n",
      "807\n",
      "808\n",
      "809\n",
      "810\n",
      "811\n",
      "812\n",
      "813\n",
      "814\n",
      "815\n",
      "816\n",
      "817\n",
      "818\n",
      "819\n",
      "820\n",
      "821\n",
      "822\n",
      "823\n",
      "824\n",
      "825\n",
      "826\n",
      "827\n",
      "828\n",
      "829\n",
      "830\n",
      "831\n",
      "832\n",
      "833\n",
      "834\n",
      "835\n",
      "836\n",
      "837\n",
      "838\n",
      "839\n",
      "840\n",
      "841\n",
      "842\n",
      "843\n",
      "844\n",
      "845\n",
      "846\n",
      "847\n",
      "848\n",
      "849\n",
      "850\n",
      "851\n",
      "852\n",
      "853\n",
      "854\n",
      "855\n",
      "856\n",
      "857\n",
      "858\n",
      "859\n",
      "860\n",
      "861\n",
      "862\n",
      "863\n",
      "864\n",
      "865\n",
      "866\n",
      "867\n",
      "868\n",
      "869\n",
      "870\n",
      "871\n",
      "872\n",
      "873\n",
      "874\n",
      "875\n",
      "876\n",
      "877\n",
      "878\n",
      "879\n",
      "880\n",
      "881\n",
      "882\n",
      "883\n",
      "884\n",
      "885\n",
      "886\n",
      "887\n",
      "888\n",
      "889\n",
      "890\n",
      "891\n",
      "892\n",
      "893\n",
      "894\n",
      "895\n",
      "896\n",
      "897\n",
      "898\n",
      "899\n",
      "900\n",
      "901\n",
      "902\n",
      "903\n",
      "904\n",
      "905\n",
      "906\n",
      "907\n",
      "908\n",
      "909\n",
      "910\n",
      "911\n",
      "912\n",
      "913\n",
      "914\n",
      "915\n",
      "916\n",
      "917\n",
      "918\n",
      "919\n",
      "920\n",
      "921\n",
      "922\n",
      "923\n",
      "924\n",
      "925\n",
      "926\n",
      "927\n",
      "928\n",
      "929\n",
      "930\n",
      "931\n",
      "932\n",
      "933\n",
      "934\n",
      "935\n",
      "936\n",
      "937\n",
      "938\n",
      "939\n",
      "940\n",
      "941\n",
      "942\n",
      "943\n",
      "944\n",
      "945\n",
      "946\n",
      "947\n",
      "948\n",
      "949\n",
      "950\n",
      "951\n",
      "952\n",
      "953\n",
      "954\n",
      "955\n",
      "956\n",
      "957\n",
      "958\n",
      "959\n",
      "960\n",
      "961\n",
      "962\n",
      "963\n",
      "964\n",
      "965\n",
      "966\n",
      "967\n",
      "968\n",
      "969\n",
      "970\n",
      "971\n",
      "972\n",
      "973\n"
     ]
    }
   ],
   "source": [
    "for i in features_df.index:\n",
    "    X_i=pd.DataFrame(features_df.loc[i]).transpose()\n",
    "    Xall_one_out=features_df.drop(i)\n",
    "    x_target_one_out=x_target.drop(i)\n",
    "    clasificador=clasificador.fit(X=Xall_one_out,y=x_target_one_out)\n",
    "    clasificador.predict(X_i)\n",
    "    loo_predict_proba_i=pd.concat([pd.DataFrame(respuestas_etiquetas.loc[i]).transpose(),\n",
    "                                 pd.DataFrame(pred, index=[i])], axis=1)\n",
    "    loo_predict_proba=pd.concat([loo_predict_proba, loo_predict_proba_i])\n",
    "    print(i)\n",
    "precision=sum(loo_predict_proba[0]== loo_predict_proba['categ_opi'])/loo_predict_proba.shape[0]\n"
   ]
  },
  {
   "cell_type": "markdown",
   "metadata": {},
   "source": [
    "Benchmark entrenando con todo el espacio de features"
   ]
  },
  {
   "cell_type": "code",
   "execution_count": 125,
   "metadata": {},
   "outputs": [
    {
     "data": {
      "text/plain": [
       "0.33191940615058324"
      ]
     },
     "execution_count": 125,
     "metadata": {},
     "output_type": "execute_result"
    }
   ],
   "source": [
    "precision"
   ]
  },
  {
   "cell_type": "code",
   "execution_count": 176,
   "metadata": {
    "collapsed": true
   },
   "outputs": [],
   "source": [
    "clasificador=XGBClassifier(random_state=2)"
   ]
  },
  {
   "cell_type": "code",
   "execution_count": 194,
   "metadata": {},
   "outputs": [],
   "source": [
    "pca=SparseRandomProjection(n_components=36)\n",
    "Xall=pca.fit_transform(features)\n",
    "Xall=pd.DataFrame(Xall.toarray())\n",
    "loo_predict_proba=pd.DataFrame()\n",
    "for i in Xall.index:\n",
    "    X_i=pd.DataFrame(Xall.loc[i]).transpose()\n",
    "    Xall_one_out=Xall.drop(i)\n",
    "    x_target_one_out=x_target.drop(i)\n",
    "    clasificador=clasificador.fit(X=Xall_one_out,y=x_target_one_out)\n",
    "    pred=clasificador.predict(X_i)\n",
    "    pred_proba=clasificador.predict_proba(X_i)\n",
    "    loo_predict_proba_i=pd.concat([pd.DataFrame(respuestas_etiquetas.loc[i]).transpose(),\n",
    "                                   pd.DataFrame(pred, index=[i]), pd.DataFrame(pred_proba, index=[i]),\n",
    "                                  ], axis=1)\n",
    "    loo_predict_proba=pd.concat([loo_predict_proba, loo_predict_proba_i])\n",
    "\n",
    "   # print(str(i)+ ' ' +\n",
    "   #       loo_predict_proba_i[[0, 1, 2, 3, 4, 5, 6, 7, 8]].idxmax(axis=1).astype(str)[i]+ ' ' +\n",
    "   #       loo_predict_proba_i.categ_final.astype(str)[i] + ' '+loo_predict_proba_i.texto.astype(str)[i])"
   ]
  },
  {
   "cell_type": "code",
   "execution_count": 195,
   "metadata": {},
   "outputs": [
    {
     "data": {
      "text/plain": [
       "(974, 24)"
      ]
     },
     "execution_count": 195,
     "metadata": {},
     "output_type": "execute_result"
    }
   ],
   "source": [
    "loo_predict_proba.shape"
   ]
  },
  {
   "cell_type": "code",
   "execution_count": 196,
   "metadata": {},
   "outputs": [],
   "source": [
    "loo_predict_proba.to_csv('./datos/loo_test.csv')"
   ]
  },
  {
   "cell_type": "code",
   "execution_count": 186,
   "metadata": {},
   "outputs": [],
   "source": [
    "clasificador=clasificador.fit(X=Xall_one_out,y=x_target_one_out)\n",
    "pred=clasificador.predict(X_i)"
   ]
  },
  {
   "cell_type": "code",
   "execution_count": 188,
   "metadata": {
    "collapsed": true
   },
   "outputs": [],
   "source": [
    "pred_1=clasificador.predict_proba(X_i)"
   ]
  },
  {
   "cell_type": "code",
   "execution_count": 189,
   "metadata": {},
   "outputs": [
    {
     "data": {
      "text/plain": [
       "array([[ 0.00276072,  0.10338373,  0.00288315,  0.32967028,  0.07740906,\n",
       "         0.34206253,  0.02752585,  0.02134727,  0.09295739]], dtype=float32)"
      ]
     },
     "execution_count": 189,
     "metadata": {},
     "output_type": "execute_result"
    }
   ],
   "source": [
    "pred_1"
   ]
  },
  {
   "cell_type": "code",
   "execution_count": 190,
   "metadata": {},
   "outputs": [
    {
     "data": {
      "text/plain": [
       "Index(['otra', 'informacion', 'nacimiento', 'respuesta', 'emergencia',\n",
       "       'pregunta', 'pregunta_busca trabajo', 'otra_queja', 'pregunta_medica'],\n",
       "      dtype='object')"
      ]
     },
     "execution_count": 190,
     "metadata": {},
     "output_type": "execute_result"
    }
   ],
   "source": [
    "map_fac"
   ]
  },
  {
   "cell_type": "markdown",
   "metadata": {},
   "source": []
  },
  {
   "cell_type": "code",
   "execution_count": 187,
   "metadata": {},
   "outputs": [
    {
     "data": {
      "text/plain": [
       "array(['pregunta'], dtype=object)"
      ]
     },
     "execution_count": 187,
     "metadata": {},
     "output_type": "execute_result"
    }
   ],
   "source": [
    "pred"
   ]
  },
  {
   "cell_type": "code",
   "execution_count": 178,
   "metadata": {},
   "outputs": [
    {
     "data": {
      "text/plain": [
       "0.48459958932238195"
      ]
     },
     "execution_count": 178,
     "metadata": {},
     "output_type": "execute_result"
    }
   ],
   "source": [
    "sum(loo_predict_proba[0]==loo_predict_proba['categ_opi'])/loo_predict_proba.shape[0]"
   ]
  },
  {
   "cell_type": "code",
   "execution_count": 170,
   "metadata": {},
   "outputs": [
    {
     "data": {
      "text/plain": [
       "0.30698151950718688"
      ]
     },
     "execution_count": 170,
     "metadata": {},
     "output_type": "execute_result"
    }
   ],
   "source": [
    "sum(loo_predict_proba[[0, 1, 2, 3, 4, 5, 6, 7, 8]].idxmax(axis=1)==loo_predict_proba['categ_final'])/loo_predict_proba.shape[0]"
   ]
  },
  {
   "cell_type": "code",
   "execution_count": null,
   "metadata": {},
   "outputs": [],
   "source": [
    "pca = TruncatedSVD(n_components = 36)\n",
    "pca=pca.fit(features)\n",
    "Xall = pca.transform(features)\n",
    "\n",
    "Xall_df=pd.DataFrame(Xall)\n",
    "\n",
    "pd.concat([respuestas_etiquetas[['categ_opi', 'texto', 'texto_proc']],  Xall_df],axis=1).to_csv('./datos/explora_loadings.csv')"
   ]
  },
  {
   "cell_type": "code",
   "execution_count": null,
   "metadata": {},
   "outputs": [],
   "source": [
    "loo_predict_proba=pd.DataFrame()\n",
    "for i in Xall_df.index:\n",
    "    X_i=pd.DataFrame(Xall_df.loc[i]).transpose()\n",
    "    Xall_one_out=Xall_df.drop(i)\n",
    "    x_target_one_out=x_target.drop(i)\n",
    "    clasificador=clasificador.fit(X=Xall_one_out,y=x_target_one_out)\n",
    "    pred=clasificador.predict_proba(X_i)\n",
    "    loo_predict_proba_i=pd.concat([pd.DataFrame(respuestas_etiquetas.loc[i]).transpose(),\n",
    "                                 pd.DataFrame(pred, index=[i])], axis=1)\n",
    "    loo_predict_proba=pd.concat([loo_predict_proba, loo_predict_proba_i])\n",
    "    print(str(i)+ ' ' +\n",
    "          loo_predict_proba_i[[0, 1, 2, 3, 4, 5, 6, 7, 8]].idxmax(axis=1).astype(str)[i]+ ' ' +\n",
    "          loo_predict_proba_i.categ_final.astype(str)[i] + ' '+loo_predict_proba_i.texto.astype(str)[i])"
   ]
  },
  {
   "cell_type": "code",
   "execution_count": null,
   "metadata": {},
   "outputs": [],
   "source": [
    "pd.crosstab(loo_predict_proba.categ_final, loo_predict_proba[[0, 1, 2, 3, 4, 5, 6, 7, 8]].idxmax(axis=1))\n",
    "\n",
    "sum(np.diag(pd.crosstab(loo_predict_proba.categ_final, loo_predict_proba[[0, 1, 2, 3, 4, 5, 6, 7, 8]].idxmax(axis=1), normalize=True)))"
   ]
  },
  {
   "cell_type": "code",
   "execution_count": null,
   "metadata": {},
   "outputs": [],
   "source": [
    "#loo_predict_proba['pred_cval_loo']=loo_predict_proba[[0, 1, 2, 3, 4, 5,6, 7, 8]].idxmax(axis=1).map(label_map)\n",
    "#loo_predict_proba.to_csv('./datos/loo_test.csv')\n"
   ]
  },
  {
   "cell_type": "code",
   "execution_count": null,
   "metadata": {
    "collapsed": true
   },
   "outputs": [],
   "source": [
    "itera=pd.DataFrame()\n",
    "for i in range(33, 48):\n",
    "    print(i)\n",
    "    pca = TruncatedSVD(n_components = i)\n",
    "    pca=pca.fit(features)\n",
    "    Xall = pca.transform(features)\n",
    "    \n",
    "    Xall=pd.DataFrame(Xall)\n",
    "    \n",
    "    \n",
    "    from sklearn.preprocessing import MinMaxScaler\n",
    "    scaler=MinMaxScaler().fit(Xall)\n",
    "    Xall=scaler.transform(Xall)\n",
    "    \n",
    "    clf =XGBClassifier()\n",
    "    \n",
    "    \n",
    "    cval=respuestas_etiquetas\n",
    "    pred_cval=cross_val_predict(clf, Xall, x_target, cv=6)\n",
    "    cval['pred_cval']=pred_cval\n",
    "    precision=sum(np.diagonal(pd.crosstab(cval.categ_opi,  cval.pred_cval, normalize=True)))\n",
    "    precision=pd.DataFrame({'precision':precision, 'n_loadings':i}, index=[i])\n",
    "    itera=pd.concat([itera, precision])"
   ]
  },
  {
   "cell_type": "code",
   "execution_count": null,
   "metadata": {
    "collapsed": true
   },
   "outputs": [],
   "source": []
  },
  {
   "cell_type": "code",
   "execution_count": null,
   "metadata": {
    "collapsed": true
   },
   "outputs": [],
   "source": []
  },
  {
   "cell_type": "code",
   "execution_count": null,
   "metadata": {
    "collapsed": true
   },
   "outputs": [],
   "source": []
  },
  {
   "cell_type": "code",
   "execution_count": null,
   "metadata": {
    "collapsed": true
   },
   "outputs": [],
   "source": []
  },
  {
   "cell_type": "code",
   "execution_count": null,
   "metadata": {
    "collapsed": true
   },
   "outputs": [],
   "source": []
  },
  {
   "cell_type": "code",
   "execution_count": null,
   "metadata": {
    "collapsed": true
   },
   "outputs": [],
   "source": []
  },
  {
   "cell_type": "code",
   "execution_count": null,
   "metadata": {},
   "outputs": [],
   "source": [
    "prueba_listas"
   ]
  },
  {
   "cell_type": "markdown",
   "metadata": {},
   "source": [
    "### Modelo con pura metadata"
   ]
  },
  {
   "cell_type": "markdown",
   "metadata": {},
   "source": [
    "#### Listas"
   ]
  },
  {
   "cell_type": "code",
   "execution_count": null,
   "metadata": {},
   "outputs": [],
   "source": [
    "#pca = TruncatedSVD(n_components = 40)\n",
    "#pca=pca.fit(features)\n",
    "#Xall = pca.transform(features)\n",
    "#\n",
    "#Xall=pd.DataFrame(Xall)\n",
    "\n",
    "\n",
    "#from sklearn.preprocessing import MinMaxScaler\n",
    "#scaler=MinMaxScaler().fit(Xall)\n",
    "#Xall=scaler.transform(Xall)\n",
    "\n",
    "clf =XGBClassifier(random_state=1003410)\n",
    "\n",
    "\n",
    "cval=respuestas_etiquetas\n",
    "pred_cval=cross_val_predict(clf, prueba_listas, x_target, cv=6)\n",
    "cval['pred_cval']=pred_cval\n"
   ]
  },
  {
   "cell_type": "code",
   "execution_count": null,
   "metadata": {},
   "outputs": [],
   "source": [
    "pd.crosstab(cval.categ_opi,cval.pred_cval, normalize=False)"
   ]
  },
  {
   "cell_type": "code",
   "execution_count": null,
   "metadata": {},
   "outputs": [],
   "source": [
    "sum(np.diagonal(pd.crosstab(cval.categ_opi,cval.pred_cval, normalize=True)))"
   ]
  },
  {
   "cell_type": "markdown",
   "metadata": {},
   "source": [
    "#### WC"
   ]
  },
  {
   "cell_type": "code",
   "execution_count": null,
   "metadata": {},
   "outputs": [],
   "source": [
    "clf =XGBClassifier(random_state=10542344)\n",
    "\n",
    "\n",
    "cval=respuestas_etiquetas\n",
    "pred_cval=cross_val_predict(clf, respuestas_etiquetas[['wc', 'es', 'n_interrogacion']], x_target, cv=6)\n",
    "cval['pred_cval']=pred_cval"
   ]
  },
  {
   "cell_type": "code",
   "execution_count": null,
   "metadata": {},
   "outputs": [],
   "source": [
    "print(sum(np.diagonal(pd.crosstab(cval.categ_opi,cval.pred_cval, normalize=True))))\n",
    "pd.crosstab(cval.categ_opi,cval.pred_cval, normalize=False)\n"
   ]
  },
  {
   "cell_type": "markdown",
   "metadata": {},
   "source": [
    "#### wc + emojis + interrogacion + listas"
   ]
  },
  {
   "cell_type": "code",
   "execution_count": null,
   "metadata": {
    "collapsed": true
   },
   "outputs": [],
   "source": [
    "prueba_meta=pd.concat([respuestas_etiquetas[['wc', 'es', 'n_interrogacion']], prueba_listas], axis=1)"
   ]
  },
  {
   "cell_type": "code",
   "execution_count": null,
   "metadata": {
    "scrolled": true
   },
   "outputs": [],
   "source": [
    "clf =XGBClassifier(random_state=102254256)\n",
    "\n",
    "\n",
    "cval=respuestas_etiquetas\n",
    "pred_cval=cross_val_predict(clf, prueba_meta, x_target, cv=6)\n",
    "cval['pred_cval']=pred_cval\n",
    "\n",
    "print(sum(np.diagonal(pd.crosstab(cval.categ_opi,cval.pred_cval, normalize=True))))\n",
    "pd.crosstab(cval.categ_opi,cval.pred_cval, normalize=False)"
   ]
  },
  {
   "cell_type": "code",
   "execution_count": null,
   "metadata": {},
   "outputs": [],
   "source": [
    "pca = TruncatedSVD(n_components = 34)\n",
    "pca=pca.fit(features)\n",
    "Xall = pca.transform(features)\n",
    "\n",
    "Xall_df=pd.DataFrame(Xall)\n",
    "#respuestas_etiquetas[['wc', 'es', 'n_interrogacion']].columns\n",
    "Xall_df=pd.concat([Xall_df, respuestas_etiquetas[[[34, 35, 36]]]], axis=1)\n",
    "respuestas_etiquetas.wc=respuestas_etiquetas.wc.astype('double')\n",
    "respuestas_etiquetas.es=respuestas_etiquetas.es.astype('double')"
   ]
  },
  {
   "cell_type": "code",
   "execution_count": null,
   "metadata": {},
   "outputs": [],
   "source": [
    "respuestas_etiquetas[['wc', 'es', 'n_interrogacion']]"
   ]
  },
  {
   "cell_type": "code",
   "execution_count": null,
   "metadata": {},
   "outputs": [],
   "source": [
    "Xall_df.head()"
   ]
  },
  {
   "cell_type": "code",
   "execution_count": null,
   "metadata": {
    "collapsed": true
   },
   "outputs": [],
   "source": [
    "X_i=pd.DataFrame(Xall_df.loc[i]).transpose()\n",
    "Xall_one_out=Xall_df.drop(i)\n",
    "x_target_one_out=x_target.drop(i)\n",
    "\n",
    "clasificador.fit(X=Xall_one_out,y=x_target_one_out)\n",
    "clasificador=clasificador.fit(X=Xall_one_out,y=x_target_one_out)\n",
    "\n"
   ]
  },
  {
   "cell_type": "code",
   "execution_count": null,
   "metadata": {},
   "outputs": [],
   "source": [
    "X_i"
   ]
  },
  {
   "cell_type": "code",
   "execution_count": null,
   "metadata": {},
   "outputs": [],
   "source": [
    "loo_predict_proba=pd.DataFrame()\n",
    "for i in Xall_df.index:\n",
    "    X_i=pd.DataFrame(Xall_df.loc[i]).transpose()\n",
    "    Xall_one_out=Xall_df.drop(i)\n",
    "    x_target_one_out=x_target.drop(i)\n",
    "    clasificador=clasificador.fit(X=Xall_one_out,y=x_target_one_out)\n",
    "    pred=clasificador.predict_proba(X_i)\n",
    "    loo_predict_proba_i=pd.concat([pd.DataFrame(respuestas_etiquetas.loc[i]).transpose(),\n",
    "                                 pd.DataFrame(pred, index=[i])], axis=1)\n",
    "    loo_predict_proba=pd.concat([loo_predict_proba, loo_predict_proba_i])\n",
    "    print(str(i)+ ' ' +\n",
    "          loo_predict_proba_i[[0, 1, 2, 3, 4, 5, 6, 7, 8]].idxmax(axis=1).astype(str)[i]+ ' ' +\n",
    "          loo_predict_proba_i.categ_final.astype(str)[i] + ' '+loo_predict_proba_i.texto.astype(str)[i])"
   ]
  },
  {
   "cell_type": "code",
   "execution_count": null,
   "metadata": {
    "collapsed": true
   },
   "outputs": [],
   "source": []
  },
  {
   "cell_type": "code",
   "execution_count": null,
   "metadata": {
    "collapsed": true
   },
   "outputs": [],
   "source": []
  },
  {
   "cell_type": "code",
   "execution_count": null,
   "metadata": {
    "collapsed": true
   },
   "outputs": [],
   "source": []
  },
  {
   "cell_type": "code",
   "execution_count": null,
   "metadata": {
    "collapsed": true
   },
   "outputs": [],
   "source": []
  },
  {
   "cell_type": "code",
   "execution_count": null,
   "metadata": {
    "collapsed": true
   },
   "outputs": [],
   "source": []
  },
  {
   "cell_type": "code",
   "execution_count": null,
   "metadata": {
    "collapsed": true
   },
   "outputs": [],
   "source": []
  },
  {
   "cell_type": "code",
   "execution_count": null,
   "metadata": {
    "collapsed": true
   },
   "outputs": [],
   "source": []
  },
  {
   "cell_type": "code",
   "execution_count": null,
   "metadata": {
    "collapsed": true
   },
   "outputs": [],
   "source": []
  },
  {
   "cell_type": "code",
   "execution_count": null,
   "metadata": {
    "collapsed": true
   },
   "outputs": [],
   "source": []
  },
  {
   "cell_type": "code",
   "execution_count": null,
   "metadata": {
    "collapsed": true
   },
   "outputs": [],
   "source": []
  },
  {
   "cell_type": "code",
   "execution_count": null,
   "metadata": {
    "collapsed": true
   },
   "outputs": [],
   "source": [
    "tfidf_matrix_test = tfidf.transform(test)\n",
    "\n"
   ]
  },
  {
   "cell_type": "code",
   "execution_count": null,
   "metadata": {},
   "outputs": [],
   "source": [
    "print(clf.predict(tfidf.transform([' '.join(tokenize_and_stem('busco trabajo adjunto mi cv estudie enfermeria hay vacantes'))])))"
   ]
  },
  {
   "cell_type": "code",
   "execution_count": null,
   "metadata": {},
   "outputs": [],
   "source": [
    "pd.DataFrame(clf.predict(features))[0].value_counts()\n",
    "\n"
   ]
  },
  {
   "cell_type": "code",
   "execution_count": null,
   "metadata": {},
   "outputs": [],
   "source": [
    "test.loc[clf.predict(features)=='informacion']"
   ]
  },
  {
   "cell_type": "code",
   "execution_count": null,
   "metadata": {
    "collapsed": true
   },
   "outputs": [],
   "source": [
    "terms = tfidf_vectorizer.get_feature_names()"
   ]
  }
 ],
 "metadata": {
  "kernelspec": {
   "display_name": "Python 3",
   "language": "python",
   "name": "python3"
  },
  "language_info": {
   "codemirror_mode": {
    "name": "ipython",
    "version": 3
   },
   "file_extension": ".py",
   "mimetype": "text/x-python",
   "name": "python",
   "nbconvert_exporter": "python",
   "pygments_lexer": "ipython3",
   "version": "3.6.3"
  }
 },
 "nbformat": 4,
 "nbformat_minor": 2
}

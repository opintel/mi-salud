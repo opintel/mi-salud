{
 "cells": [
  {
   "cell_type": "code",
   "execution_count": 1,
   "metadata": {},
   "outputs": [],
   "source": [
    "from emoji import UNICODE_EMOJI\n",
    "from unicodedata import normalize\n",
    "import re"
   ]
  },
  {
   "cell_type": "code",
   "execution_count": 2,
   "metadata": {},
   "outputs": [],
   "source": [
    "texto='a'\n"
   ]
  },
  {
   "cell_type": "code",
   "execution_count": 3,
   "metadata": {},
   "outputs": [],
   "source": [
    "def is_emoji(s):\n",
    "    count = 0\n",
    "    for emoji in range(1, len(UNICODE_EMOJI)):\n",
    "        count += s.count(list(UNICODE_EMOJI.keys())[emoji])\n",
    "    return count"
   ]
  },
  {
   "cell_type": "code",
   "execution_count": 4,
   "metadata": {},
   "outputs": [],
   "source": [
    "def give_emoji_free_text(text):\n",
    "    allchars = [str for str in text]\n",
    "    emoji_list = [c for c in allchars if c in UNICODE_EMOJI]\n",
    "    clean_text = ' '.join([str for str in text.split() if not any(i in str for i in emoji_list)])\n",
    "    return clean_text"
   ]
  },
  {
   "cell_type": "code",
   "execution_count": 5,
   "metadata": {},
   "outputs": [],
   "source": [
    "def procesa_reglas(texto):\n",
    "    result=[]\n",
    "    out=[]\n",
    "    texto_orig=texto\n",
    "    texto=texto.lower()\n",
    "    #print('pasando a minusculas')\n",
    "    #print(texto)\n",
    "    texto=re.sub('^[ \\t]+|[ \\t]+$', '', texto) \n",
    "    #print('quitar trailing leading')\n",
    "    #print(texto)\n",
    "    if (bool(re.search('aborto', texto))) & (len(out)==0):\n",
    "       # print('es hasta luego')\n",
    "        out='aborto'\n",
    "    if (bool(re.search('hasta luego', texto))) & (len(out)==0):\n",
    "       # print('es hasta luego')\n",
    "        out='hasta luego'\n",
    "    if (bool(re.search('https://scontent', texto)))  & (len(out)==0):\n",
    "      #  print('es like')\n",
    "        out='like-fb'\n",
    "    wc=len(str(texto).split(\" \"))\n",
    "    cc_1=cc=len(str(texto))\n",
    "    if bool(re.search('t.co', texto)) & (wc==1) :\n",
    "       # print('es twitter')\n",
    "        out='twitter-image'\n",
    "    #print('nchar:'+ str(cc))\n",
    "    #print('wc:'+ str(wc))\n",
    "    \n",
    "    if (len(re.findall(\"\\?\", texto))==cc)  & (len(out)==0):\n",
    "       # print('puros ?')\n",
    "        out='pregunta'\n",
    "    \n",
    "    texto=re.sub('[^\\w\\s]','', texto) #Quitar puntuacion\n",
    "    #print('quitar punct '+texto)\n",
    "\n",
    "    texto=re.sub('^[ \\t]+|[ \\t]+$', '', texto) #Otra vez quitar leading y trailing\n",
    "    #print('quitar leading y trailing '+texto)\n",
    "    \n",
    "    #Contar palabras y caracteres otra vez\n",
    "    wc=len(str(texto).split(\" \"))\n",
    "    cc=len(str(texto))\n",
    "    \n",
    "    #print('nchar: '+ str(cc))\n",
    "    #print('wc: '+ str(wc))\n",
    "    \n",
    "    emojis=is_emoji(texto) #Conteo de emojis\n",
    "    #print('conteo de emojis: '+ str(emojis))\n",
    "    \n",
    "    if (emojis==cc) & (cc_1>0)  & (len(out)==0):\n",
    "        #print('puros emojis')\n",
    "        out='emoji'\n",
    "    if (cc_1==1)  & (len(out)==0) &  bool(re.search('[a-z]|[A-Z]', texto)):\n",
    "       # print('es twitter')\n",
    "        out='otra'\n",
    "    texto=give_emoji_free_text(texto)#Elimina emojis\n",
    "    #print('quitar emojis:'+ texto)\n",
    "    \n",
    "    if (wc==1) & (bool(re.search('https|http', texto)))  & (len(out)==0):\n",
    "        #print('es spam')\n",
    "        out='spam'\n",
    "    \n",
    "    texto=normalize('NFD', texto).encode('ascii', 'ignore').decode('utf-8') # quitar acentos\n",
    "    #print('quitar acentos '+texto)\n",
    "    \n",
    "    \n",
    "    if (cc==2) & (bool(re.search('si|sii|ssi', texto))) & (len(out)==0):\n",
    "        #print('es: sí')\n",
    "        out='si'\n",
    "    if (cc==2) & (bool(re.search('no|noo|nno', texto))) & (len(out)==0):\n",
    "        #print('es: no')\n",
    "        out='no'\n",
    "    if (wc==1) & (bool(re.search('salu', texto))) & (len(out)==0) & ~(bool(re.search('mi', texto))) & ~(bool(re.search('secret', texto))):\n",
    "       # print('es: gracias')\n",
    "        out='hola'\n",
    "    if (wc==1) & (bool(re.search('gracias|graicas|gracia|graciad|graciaa', texto))) & (len(out)==0):\n",
    "       # print('es: gracias')\n",
    "        out='gracias'\n",
    "    if (wc<=3) & (bool(re.search('ok|ook|okk', texto))) & (len(out)==0):\n",
    "        #print('es: ok')\n",
    "        out='ok'\n",
    "    if (wc<=2) & (bool(re.search('hola|holaa|hhola|hoola|holi|bonjour|ola', texto))) & (len(out)==0):\n",
    "        #print('es: hola')\n",
    "        out='hola'\n",
    "    if (wc<=4) & (bool(re.search('ola|bien dia|que tal|bn dia|hola|buenad tardes|buena tarde|buen dia|buena noche|buenas tardea|buenas tardes|buenas noches|buenos dias', texto))) & (len(out)==0):\n",
    "            #print('es: hola')\n",
    "            out='hola'\n",
    "    if (wc<=5) & (bool(re.search('gracias|graicas|gracia|graciad|graciaa|gracaias', texto))) & (len(out)==0):\n",
    "        #print('es: gracias')\n",
    "        out='gracias'\n",
    "    if (bool(re.search('horario', texto))) & (bool(re.search('atencion', texto))) & (len(out)==0):\n",
    "        #print('es: informacion (horario atencion)')\n",
    "        out='pregunta'\n",
    "    if (bool(re.search('telefono', texto)))& (bool(re.search('numero', texto))) & (wc<10) & (len(out)==0):\n",
    "        #print('es: informacion (telefono)')\n",
    "        out='pregunta'\n",
    "    if (bool(re.search('what ', texto)))& (bool(re.search('number', texto))) & (len(out)==0):\n",
    "        #print('es: informacion (telefono)')\n",
    "        out='pregunta'\n",
    "    if (bool(re.search('added', texto))) & (len(out)==0):\n",
    "       # print('es: like (added)')\n",
    "        out='like-fb'\n",
    "    if len(out)==0:\n",
    "        out='modelo'\n",
    "    else:\n",
    "        out=out\n",
    "        #print('ninguna 4')\n",
    "    \n",
    "    out={'result':out, 'texto':texto_orig,'texto_proc':texto, 'wc':wc, 'cc':cc}\n",
    "    \n",
    "    return(out)"
   ]
  },
  {
   "cell_type": "code",
   "execution_count": null,
   "metadata": {},
   "outputs": [],
   "source": []
  },
  {
   "cell_type": "code",
   "execution_count": null,
   "metadata": {},
   "outputs": [],
   "source": []
  },
  {
   "cell_type": "code",
   "execution_count": 6,
   "metadata": {},
   "outputs": [
    {
     "data": {
      "text/plain": [
       "{'result': 'otra', 'texto': 'a', 'texto_proc': 'a', 'wc': 1, 'cc': 1}"
      ]
     },
     "execution_count": 6,
     "metadata": {},
     "output_type": "execute_result"
    }
   ],
   "source": [
    "procesa_reglas(texto)"
   ]
  },
  {
   "cell_type": "code",
   "execution_count": 7,
   "metadata": {},
   "outputs": [
    {
     "name": "stdout",
     "output_type": "stream",
     "text": [
      "[NbConvertApp] Converting notebook script_reglas.ipynb to script\n",
      "[NbConvertApp] Writing 4809 bytes to script_reglas.py\n"
     ]
    }
   ],
   "source": [
    "!jupyter nbconvert --to script script_reglas.ipynb"
   ]
  }
 ],
 "metadata": {
  "kernelspec": {
   "display_name": "Python 3",
   "language": "python",
   "name": "python3"
  },
  "language_info": {
   "codemirror_mode": {
    "name": "ipython",
    "version": 3
   },
   "file_extension": ".py",
   "mimetype": "text/x-python",
   "name": "python",
   "nbconvert_exporter": "python",
   "pygments_lexer": "ipython3",
   "version": "3.6.5"
  }
 },
 "nbformat": 4,
 "nbformat_minor": 2
}

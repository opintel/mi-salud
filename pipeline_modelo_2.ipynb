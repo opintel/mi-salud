{
 "cells": [
  {
   "cell_type": "code",
   "execution_count": 1,
   "metadata": {
    "collapsed": true
   },
   "outputs": [],
   "source": [
    "import pandas as pd\n",
    "import script_reglas\n",
    "\n",
    "import nltk as nltk\n",
    "from emoji import UNICODE_EMOJI\n",
    "import unicodedata as unicodedata\n",
    "import re\n",
    "from __future__ import print_function\n",
    "import os  # for os.path.basename\n",
    "from nltk.stem.snowball import SnowballStemmer\n",
    "from sklearn.feature_extraction.text import TfidfVectorizer\n",
    "import numpy as np\n",
    "import matplotlib.pyplot as plt\n",
    "import matplotlib as mpl\n",
    "\n",
    "from sklearn.manifold import MDS\n",
    "\n",
    "pd.set_option('display.max_rows', 500)\n",
    "pd.set_option('display.max_columns', 500)"
   ]
  },
  {
   "cell_type": "code",
   "execution_count": 2,
   "metadata": {},
   "outputs": [
    {
     "name": "stdout",
     "output_type": "stream",
     "text": [
      "comparacion.csv         etiquetado_pepe.csv     flujos_peticiones.csv\r\n",
      "etiquetado.csv          exploracion             results_export_964.xlsx\r\n"
     ]
    }
   ],
   "source": [
    "! ls ./datos/\n"
   ]
  },
  {
   "cell_type": "code",
   "execution_count": 8,
   "metadata": {
    "collapsed": true,
    "scrolled": true
   },
   "outputs": [],
   "source": [
    "respuestas=pd.read_excel('./datos/results_export_964.xlsx', encoding='utf-8')"
   ]
  },
  {
   "cell_type": "code",
   "execution_count": 9,
   "metadata": {
    "collapsed": true
   },
   "outputs": [],
   "source": [
    "respuestas=respuestas[['Contact UUID', 'URN', 'Name', 'Groups', 'Response 9 (Text) - uncaught']]\n",
    "respuestas.columns=['id_contacto', 'urn', 'nombre_contacto', 'listas', 'texto']"
   ]
  },
  {
   "cell_type": "code",
   "execution_count": 10,
   "metadata": {},
   "outputs": [],
   "source": [
    "categoria_reglas=pd.DataFrame()\n",
    "for i in range(0, respuestas.shape[0]):\n",
    "    respuesta_regla=pd.DataFrame(script_reglas.procesa_reglas(str(respuestas['texto'].iloc[i])), index=[i])\n",
    "    categoria_reglas=pd.concat([categoria_reglas, respuesta_regla])\n",
    "respuestas=pd.concat([respuestas[['id_contacto', 'urn', 'nombre_contacto', 'listas']],\n",
    "                      categoria_reglas], axis=1)"
   ]
  },
  {
   "cell_type": "code",
   "execution_count": 11,
   "metadata": {},
   "outputs": [
    {
     "name": "stdout",
     "output_type": "stream",
     "text": [
      "(3045, 9)\n",
      "(2472, 9)\n"
     ]
    }
   ],
   "source": [
    "print(respuestas.shape)\n",
    "respuestas=respuestas.loc[respuestas.texto!='nan']\n",
    "print(respuestas.shape)"
   ]
  },
  {
   "cell_type": "code",
   "execution_count": 12,
   "metadata": {
    "scrolled": true
   },
   "outputs": [
    {
     "data": {
      "text/plain": [
       "modelo           1012\n",
       "like-fb           480\n",
       "si                309\n",
       "gracias           184\n",
       "hola              136\n",
       "no                114\n",
       "informacion        96\n",
       "ok                 95\n",
       "spam               23\n",
       "twitter-image      13\n",
       "hasta luego         6\n",
       "pregunta            4\n",
       "Name: result, dtype: int64"
      ]
     },
     "execution_count": 12,
     "metadata": {},
     "output_type": "execute_result"
    }
   ],
   "source": [
    "respuestas.result.value_counts()"
   ]
  },
  {
   "cell_type": "code",
   "execution_count": 24,
   "metadata": {},
   "outputs": [
    {
     "data": {
      "text/plain": [
       "???????    1\n",
       "???        1\n",
       "??         1\n",
       "?          1\n",
       "Name: texto, dtype: int64"
      ]
     },
     "execution_count": 24,
     "metadata": {},
     "output_type": "execute_result"
    }
   ],
   "source": [
    "respuestas.texto.loc[respuestas.result=='pregunta'].value_counts()"
   ]
  },
  {
   "cell_type": "code",
   "execution_count": 26,
   "metadata": {
    "scrolled": true
   },
   "outputs": [
    {
     "data": {
      "text/plain": [
       "1       La solicitud de enviar el SMS por Cobrar a 552...\n",
       "2                                                       🙅\n",
       "22      Te llame y no pude localizarte. Tramita en lin...\n",
       "45                                                  59508\n",
       "47                                                Mi bebe\n",
       "70      Hola si ya cada integrante tenemos fotos con l...\n",
       "105     El usuario 2471032511 te envio un mensaje pero...\n",
       "133     Te llame y no pude localizarte. ¡Ultima oportu...\n",
       "134     Te llame y no pude localizarte. 3,000 MXN en M...\n",
       "135                            Mi bebé esta deshidratado \n",
       "142                                mensaje fuera de flujo\n",
       "150                                        En 5m llegamos\n",
       "157     Tienes saldo congelado, recuperalo recargando ...\n",
       "160                     ¿Por que mi bebe estornuda mucho?\n",
       "215                                         Si ya me dijo\n",
       "227                                               Mi bebe\n",
       "238                                Ya no estoy embarazada\n",
       "239                                          Ya no quiero\n",
       "262                                                     😦\n",
       "265                                                Lizzie\n",
       "276                                             1 materno\n",
       "282                   No hay vacunas desde hace dos meses\n",
       "292                                                     😞\n",
       "305                                    Pero estoy enferma\n",
       "356                                       Demasiado tarde\n",
       "368     Es cierto que con un coraje, susto o preocupac...\n",
       "369                                          Heidi Monroy\n",
       "418                                        Ya tive ami bb\n",
       "422                                              2 vacuna\n",
       "434                                                Aún no\n",
       "445                             No hay vacuna hepatitis b\n",
       "456                                                     😒\n",
       "469                                       Que puedo hacer\n",
       "470                                    Refuerzo hepatitis\n",
       "476                 Ya no me llegan sus mensajes. Porque?\n",
       "477     Si quieres pagarle a este usuario su proximo m...\n",
       "481                                      Mi bebe ya nació\n",
       "492     Hola he notado que el ombligo de mi bebé tiene...\n",
       "504                       Es normal que mi hijo no duerma\n",
       "505                                               Todos 😊\n",
       "529      En Hgo no hay vacuna de hepatitis ni de varicela\n",
       "546     Q tal cuando empieza la campaña contra la polio ?\n",
       "574     NO HE RECIBIDO MENSAJES QUE PUEDA CONTRIBUIR P...\n",
       "601            Ustedes no mandan mensajes vía SMS,o RCS!!\n",
       "630     Buenas tardes. Disculpen la molestia: la escas...\n",
       "633     El numero 2481593893 desea contarte algo y te ...\n",
       "652     Es normal q dejen de comer mi bebe hay dias q ...\n",
       "663     No hay vacunas he estado visitando el centro d...\n",
       "675     Hols como están pregunta si soy de las segunda...\n",
       "676                                                     N\n",
       "680           Se puede tener una respuesta de su parte ??\n",
       "681     Tu Paquete Rollover ha vencido. Recarga desde ...\n",
       "705                                               Pues si\n",
       "727     ¡Doble Timepo Aire! Solo por hoy, recarga $60 ...\n",
       "729           Bien hermanito. Y tú? Vi que andas de paseo\n",
       "752                    Ni para orientar, gracias por nada\n",
       "766                                        Quien Eres...?\n",
       "779     Hace falta más empleos para los nutriólogos, c...\n",
       "782     Buen dia alguna propuesta en que me puedan apo...\n",
       "787                                                  Algo\n",
       "790     A QUIEN RECURRO POR FALTA DE MEDICAMENTO ANTIR...\n",
       "791     No podremos encontrar personas interesadas en ...\n",
       "793     Buenas noches,\\nDisculpen tendrán algún calend...\n",
       "794     Por favor atiendan a nuesros hermanos para que...\n",
       "795     me gustaría saber como me puedo inscribir al d...\n",
       "796     Ya hablamos con ella y no entiende y en la cal...\n",
       "797                  Buen día quisiera hacer una pregu tA\n",
       "800     quien puede atender este daño ambiental y foco...\n",
       "801     Hola buenos dias estoy un tanto alarmada por l...\n",
       "802     Hola me gustaría saber en dónde puedo poner un...\n",
       "803     Me gustaría saber mas Dr la vacuna del cáncer ...\n",
       "804     @[173076059407762:274:Secretaría de Salud] no ...\n",
       "805     Buen día, esperando que todo marche por buen c...\n",
       "806     Buenas tardes soy de cd Juárez Chihuahua a mi ...\n",
       "807     Hola buenas tardes disculpe la molestia mi nom...\n",
       "809     En el VIPS DE PLAZA LAS AMERICAS HABÍA UNA MPS...\n",
       "812     Soy de Juárez Nl quisiera saber a donde puedo ...\n",
       "818     En nuevo León donde consigo l vacuna contra la...\n",
       "819     Buenas tardes, quisiera decir que sus Centros ...\n",
       "821     Buenas noches solo para saber soy trabajadora ...\n",
       "824     Buenos dias. Recomiendan vacunar pero la tripl...\n",
       "827     Buenos días solo para expresar mi inconformida...\n",
       "828     Buenos día disculpe en donde están aplicando l...\n",
       "829     Buen dia, mi hijo tiene 12 años y no le puse e...\n",
       "831     Hay vacunas de sarampión disponibles en centro...\n",
       "832                                     Me podran agregar\n",
       "834           Visita mi sitio web https://t.co/mx746Wrza3\n",
       "835     Hola yo recibí mis vacunas de niño, hoy a mis ...\n",
       "838     Campaña de vacunacion antirravica necesito ubi...\n",
       "839     Una pregunta el seguro popular anpara a una pe...\n",
       "840     En el balneario \"El OASIS\" de comonfort nos pr...\n",
       "841                                             Gracaias!\n",
       "842       Gracias!! Sus consejos me han sido muy utiles 😚\n",
       "845     Disculpe' quiero saber si mañana abra consulta...\n",
       "846                                                   oye\n",
       "849     Tuxtla Gutiérrez Chiapas, a 16 de Marzo del 20...\n",
       "850     Buen dos.  Cómo puedo obtener un ejemplar del ...\n",
       "851     hola, buenos dias, me pueden informar como pue...\n",
       "852     Hola, oye, dónde puedo reimprimir mipóliza del...\n",
       "853     Buenas Tardes ayer llevamos a urgencias a un f...\n",
       "855                hola donde puedo vacunar a mi perrita?\n",
       "857     buen día\\n\\nTengo dudas sobre una denuncia per...\n",
       "863                                   Necesito saber algo\n",
       "865                                       Aversi hay algo\n",
       "866                                      No he desayunado\n",
       "867     EN DÓNDE SE UBICA EL OIC DE LA https://t.co/g5...\n",
       "868     Es bueno tener relaciones sexuales durante el ...\n",
       "869     Hola quería preguntar algo mi mascota sufrió d...\n",
       "871     Buenos Días!! Mi hijo tiene 5 años en Agosto 8...\n",
       "872     Hola buenos dias, para informarles de la epide...\n",
       "873                                              Embarazo\n",
       "875     Hola! Soy de cd juarez.soy Nutriologa y me.gus...\n",
       "877     buenas tardes, me podrian decir los horarios d...\n",
       "879                            Enfermedades x infecciones\n",
       "880     Hola buen dia, disculpe aun no se abre la conv...\n",
       "881                                      BOLSA DE TRABAJO\n",
       "882              cuál es el númerode comunicación social?\n",
       "884     Hola buenas tardes esperó pueda orientar tengo...\n",
       "885     Buenas tardes, me solicitaron un certificado m...\n",
       "886     Puede una prueba de vih de laboratorio Elisa A...\n",
       "887                                 Causas del tabaquismo\n",
       "888     queria preguntar una cosa nose si me puedan re...\n",
       "889     En la foto se mira claramente como el doctor e...\n",
       "890     Mil disculpas quisiera saber soy de Tehuacán P...\n",
       "891     ALERTA AMBER: Alerta Amber solicita tu apoyo p...\n",
       "892     Buen  día  desde cuando un  radiofarmaco no es...\n",
       "893     Buen dia quiero reportar ami vecino tiene marr...\n",
       "895     hola muy buenos dias a la secretaria de salud ...\n",
       "896     Hola, buen día.\\nDisculpen me podrían informar...\n",
       "897     ¡Hoy es Lucky Day! Donde solo por ser cliente ...\n",
       "900     Buena tarde disculpe todavia está la campaña c...\n",
       "901           K es bueno para la toz para un niña de 1añ0\n",
       "902     Buenas tardes.\\nUna pregunta para ver la bolsa...\n",
       "903     Hola buenas tarde disculpe soi de reynosa pero...\n",
       "906                             Pastillas anticonceptivas\n",
       "907                                                  saul\n",
       "909     Hola buenas noches me gustaria saber  cuanto c...\n",
       "912                                                     😊\n",
       "913              Está en el hospital general de homeopata\n",
       "914     Hola buen día, escribo a través de este medio ...\n",
       "916                                      Denuncia anónima\n",
       "917     Hola, quisiera saber dónde puedo encontrar la ...\n",
       "918                                                 Amira\n",
       "919     Que tal buena tardes \\nCuando habrá vacunas pa...\n",
       "922     Buenas tardes, tengo una duda sobre la vacuna ...\n",
       "926     X k a mi bebe le salen granitos alrededor de s...\n",
       "927     Que tal buena tarde disculpe tengo unas dudas ...\n",
       "930          Pregunta por que a mi esposo le guele suuuup\n",
       "931     ESPERO Y LO PUBLIQUEN EN SU COLAGE. SALUDOS CO...\n",
       "936     Hola buenas tardes quisiera saber en dónde est...\n",
       "937     Buenas noches, soy de Tijuana, me interesa sab...\n",
       "946     Buenas tardes disculpas\\r\\nSi quiero hacer un ...\n",
       "947     Hola buenas tardes! Mi nombre es Elvis Solarte...\n",
       "949     Buenas noches como se podría solicitar ayuda p...\n",
       "953     Buen día una pregunta el día de hoy laboran en...\n",
       "955     Hola buenos días !! Tengo problemas para consu...\n",
       "956     Buen día ...  Sólo para preguntar a qué instan...\n",
       "957     Ola Buenos dias disculpe me podría dar informa...\n",
       "959                           O donde envío mi currículum\n",
       "963     Me causa conflicto que los restaurantes locale...\n",
       "964     Saben donde la aplican a los niños?!! Ya que l...\n",
       "965     Buen dia, quisiera preguntar si me pueden apoy...\n",
       "966     Hola..! Yo trabajo en la Sria. De Salud. De Vi...\n",
       "967                              Hola qué tal buenos dias\n",
       "969                 estan ocupando vacantes para limpieza\n",
       "970     Buenas tardes, estoy intentando comunicarme co...\n",
       "971     cuando me pagan las licencias envie los certif...\n",
       "972                                 Para otra información\n",
       "974     hola buen dia me podria mandar temas de salud ...\n",
       "975     buenos dias disculpe la molestia pero si la se...\n",
       "976     Hola buenos dias. El seguro popular atiende ta...\n",
       "977     como para cuando tendremos en mexico el equipo...\n",
       "978     Buenas tardes, solicito me indiquen con quien ...\n",
       "980     hola buenas tardes podrian decirme donde puedo...\n",
       "987     ¿Es cierto que no hay vacunas para la Hepatiti...\n",
       "988     Quisiera saber si me pueden dar información so...\n",
       "991     Buenos días sólo para reportar que el centro d...\n",
       "994                                            04.06.2018\n",
       "995     YA NO VAN A RECIBIR DOCUMENTACION PARA ENFERME...\n",
       "996                                                    ja\n",
       "997     En el ejido Veracruz uno es un olor horrible p...\n",
       "999                                                    ❤️\n",
       "1002                                               Oh Wow\n",
       "1008    Buenas tardes, estoy interesada en la convocat...\n",
       "1009    Gracias estaré esperado resultados opondre a t...\n",
       "1010    Buenas noches soy de Perú tenemos una niña por...\n",
       "1014    Hola, buenos días \\nQuisiera saber si hay algu...\n",
       "1015    HOLA BUENOS DÍAS SOLO PARA PONERME EN CONTACTO...\n",
       "1018    Buenas tardes.\\nMe pueden informar en qué fech...\n",
       "1023    Buenas tardes hasta que horas reciben oficios ...\n",
       "1024    quiero trabajar de limpieza en el hospital met...\n",
       "1025                        ¿Cómo saben que estoy triste?\n",
       "1026    Prevención de las lesiones no intencionales en...\n",
       "1027    Buenas noches, podria darme información hacerc...\n",
       "1028    Hola que tal estara abierta la bolsa de trabaj...\n",
       "1029    estoy tratando de registrable para ego examen ...\n",
       "1031                                             Bien día\n",
       "1032    Buen dia,  soy cotizante y desde el mes de ago...\n",
       "1033                                              honduAS\n",
       "1034                   Y en los estados de la república??\n",
       "1035                                                 salu\n",
       "1037                            No se si me puedan apoyar\n",
       "1038    Buenas tardes me pongo a sus órdenes para ofre...\n",
       "1040       ALGUN NUM ERO PARA HABLAR OCUPO HABLAR A CIFHS\n",
       "1045    Buenas noches\\nPara conocer el número de   fra...\n",
       "1049                                                    😍\n",
       "1052    Hola buenas tardes me podría decir si está hab...\n",
       "1053    Ya de esto tiene mas de dos meses y diario des...\n",
       "1054    Hola quiero reportar un drenaje que esta salie...\n",
       "1055    Promobolsa.  Impactos publicitarios\\n\\nSomos P...\n",
       "1056    Hola, respecto a la basificacion de medicos ev...\n",
       "1057                               Guardias con celulares\n",
       "1058    Buenas tardes me gustaria obtener alguna infor...\n",
       "1059    Hace ya casi 3 semanas que nació mi hijo, y es...\n",
       "1060    Muy buenas noches. Me comunico con ustedes por...\n",
       "1062                                                Altad\n",
       "1063    Hola buen día ,  quisiera saber si aún siguen ...\n",
       "1064                       El dolor en la ingle es normal\n",
       "1065                     ¿Qué se conmemora el día de hoy?\n",
       "1066       tengo exnovias y ex amante les paso el nombre!\n",
       "1067    Espero de todo corazón ayuden a todos nosotros...\n",
       "1068    Cómo puedo rechazar en vida ser donador de órg...\n",
       "1070    buenas tardes, me enteré que se dará un curso ...\n",
       "1071    Buenas tardes quisiera saber en q lugar me pod...\n",
       "1072      Me podrían proporcionar el número de salubridad\n",
       "1076    información programa de esterilizaciones gratu...\n",
       "1078    para su informacion haber si algun dia mejoran...\n",
       "1079    me gustaría me pudiera  decir que hay de ciert...\n",
       "1081    Buenas noches!\\nDisculpe como es que puedo obt...\n",
       "1083    Jajajajaja jajajajaja...\\n“Si se puede”\\nSe la...\n",
       "1084    Por favor pedimos de su ayuda o algún número d...\n",
       "1087    Greetings. Please, how can I place my brother’...\n",
       "1088    Y el equipo y material escaso en hospitales en...\n",
       "1089                                                norte\n",
       "1090    Oaxaca de Juárez a 8 de  abril del 2018\\n\\nDr....\n",
       "1091    Buenas tardes\\nDisculpen tengo una pregunta \\n...\n",
       "1092    Hola, es necesario su opinión respecto al tema...\n",
       "1095    Mi celular es 999687640, por favor les ruego n...\n",
       "1097    buenas tardes quisiera preguntar hasta cuando ...\n",
       "1099                                     Y me pregunto yo\n",
       "1102    Buenas tardes, próximamente será la carrera or...\n",
       "1103    Quisiera saber si tienen algun programa contra...\n",
       "1104    Buena tarde, disculpe la pregunta ¿el seguro p...\n",
       "1105    Imagen: Distribuirá Secretaría de Salud más de...\n",
       "1107                               Alguien q me oriente??\n",
       "1108    No me podrian proporcionar un correo para yo p...\n",
       "1111    Hola \\nMe podrían decir de favor su acronimo y...\n",
       "1112    Hola buenos días oye donde puedo denunciar mal...\n",
       "1113    De Médico a Médico:  Por favor háganlo llegar ...\n",
       "1114    Hola su número de teléfono y extensiones para ...\n",
       "                              ...                        \n",
       "2472    Hola, buenas tardes. Quisiera saber si ahora q...\n",
       "2474                                    Me pico una araña\n",
       "2475              Disculpen es malo consumir nootrópicos.\n",
       "2477    BUENOS DIAS MI NOMBRE ES MARIO VILLA MARTINEZ ...\n",
       "2478    Buenas tardes. Sobre la campaña de Vasectomía,...\n",
       "2479             Que puedo tomar para dolor de garganta ?\n",
       "2481                                        Darme de baja\n",
       "2483    Si tengo una hija de 2 años pero yo lo que qui...\n",
       "2486                                Si me pudieran ayudar\n",
       "2487            Dónde podré poner una queja de salubridad\n",
       "2488                    Si número de folio es :1111147870\n",
       "2490    Buenas tardes disculpe quien me puede ayudar p...\n",
       "2496    Hola me podrían decir si también se hace campa...\n",
       "2498    Buena noche presento dolor de cabeza desde la ...\n",
       "2500                   la prueba de densidad mineral osea\n",
       "2502    Señor Presidente Enrique Peña Nieto, de la man...\n",
       "2503                 Buen dia disculpe tengo una pregunta\n",
       "2504    Buenas tarde es para preguntar ...\\nLo que pas...\n",
       "2505    buen dia, me puede orientar en que oficina pue...\n",
       "2506    Buenas tardes\\nUna pregunta donde puedo imprim...\n",
       "2508    Buenas noches quisiera saber como puedo conseg...\n",
       "2509                perdon era registrarme en la opcion 2\n",
       "2513    Buenos días, disculpen la molestia quería pedi...\n",
       "2514    Aka..en mi rancho el sentro de salud no tienes...\n",
       "2517          Hola que necesito para pedir una vasectomia\n",
       "2519                 Hola cómo le ago para sacar una cita\n",
       "2520    Buenas tardes nececito reportar a unos vecinos...\n",
       "2522           Por favor cuáles son sus consejos de salud\n",
       "2523    Buenas tardes, disculpen, esta campaña es de u...\n",
       "2524    Hola, me gustaría pedir información respecto a...\n",
       "2525    Tengo una pregunta esk tengo una semana con as...\n",
       "2526    Buenas tardes disculpe con quién me puedo diri...\n",
       "2527    Buenas tardes, quisiera checar la información ...\n",
       "2529    Hola me gustaría localizar a dr. Efrén Rodrígu...\n",
       "2531    buenas tardes, no se puede comunicar via telef...\n",
       "2534    Buenos días me llamo Israel Cruz Rosas, quisie...\n",
       "2535    Buenas tardes, solo para poner una denuncia an...\n",
       "2536    pedimos su apoyo despotismo discriminacion mie...\n",
       "2537    Hola. Deseo saber la fecha de la carrera del D...\n",
       "2539                                                    H\n",
       "2540                                                    P\n",
       "2541    hola! por internet no puedo sacar la copia de ...\n",
       "2542    Hola buenos días, me podría proporcionar algún...\n",
       "2543    Hola en el Instituto Nacional de perinatología...\n",
       "2546    En la calle jose a costa ribera tienen una alb...\n",
       "2548    Me pudieran decir si existe algo que ayude a u...\n",
       "2549    Hola buenas tardes. Me podrían orientar ke deb...\n",
       "2551    Hola buenas tardes, ayer en un restaurante me ...\n",
       "2552                              Puntos rojos en el pene\n",
       "2555    Tengo una pregunta avrñer si mepueden sacar de...\n",
       "2556            Como se puede pegar una infección vajinal\n",
       "2557    Hola me podrían proporcionar un teléfono de as...\n",
       "2559            Hay que detener a todos estos charlatanes\n",
       "2560    Cuantas veces debo comer al dia si tengo 17 añ...\n",
       "2562    Buenos dias, ¿Donde realizo el tramite para un...\n",
       "2563    Hola buenas tarde como le hago para poner una ...\n",
       "2564    Excelente día, soy estudiante de nutrición y v...\n",
       "2565    Buenas tardes una pregunta que puedo hacer par...\n",
       "2566    Ola.buen dia disculpa quisiera saber si tengo ...\n",
       "2568    Hola buenas tardes quiero reportar que en la p...\n",
       "2570    En grupos de WhatsApp están pasando un anuncio...\n",
       "2572                         Remedio para flujo vaginal..\n",
       "2573                                      Es real esto???\n",
       "2574    Disculpe quería saber si era cierto Secretaria...\n",
       "2575                                       Qué debo hacer\n",
       "2576    Hola buen día, disculpe la molestia, que este ...\n",
       "2577    Hola! Es posible que en INER no haya medicamen...\n",
       "2578    Hola. \\n¿Como se determina cual es una comida ...\n",
       "2580    Buenos días, disculpen no sé si aquí me puedan...\n",
       "2582    Ola disculpen que ria saber si es sierto el co...\n",
       "2583    Buen día. Están enviando un mensaje en WhatsAp...\n",
       "2584    Circula un whatsapp que dice, que la Secretarí...\n",
       "2587    Buen dia, me pueden informar que hay de cierto...\n",
       "2588    buen dia, me puden ayudar a confirmar si este ...\n",
       "2589              Buena tarde, gracias por la corrección.\n",
       "2591    Cuando estará disponible la vacuna para la hep...\n",
       "2592    Secretaria de Salud informa: que NO se debe co...\n",
       "2593    Hola buenas tardes\\nMe gustaría saber un poco ...\n",
       "2594    Buenas tardes alguien me envió un texto atribu...\n",
       "2597    Esq tuve relaciones en el último Día de mestru...\n",
       "2601    Buenas tardes\\n¿Ha habido algún hallazgo recie...\n",
       "2603    Quisiera saber cuales son las mejores pastilla...\n",
       "2604    Disculpen es con ustedes el levantamiento del ...\n",
       "2608            Alguna vacante de enfermero para yucatan?\n",
       "2609    Hoy estoy triste llevo ya 7 años trabajando pa...\n",
       "2612    Disculpe donde pueden aplicarme el refuerzo de...\n",
       "2613    Secretaria de Salud informa: que NO se debe co...\n",
       "2614                       Cancer https://t.co/40UWLbqbbG\n",
       "2616      Buenos días como ayudar alguien es drogadicción\n",
       "2617    MUY BUENOS DIAS, EN WHATS APP ESTA CIRCULANDO ...\n",
       "2618    Buenos días. Se ha difundido en las redes acer...\n",
       "2619    Hola me gustaria me pudieran corroborar si est...\n",
       "2620    Quiero verificar una noticia sobre los Product...\n",
       "2623    Buen día, anda circulando en la aplicación Wha...\n",
       "2624                                                  Fiz\n",
       "2625    Hola, Buenas tardes. \\nMe comunico atentamente...\n",
       "2626    Hola buenas tardes! Me llegó está información ...\n",
       "2627    Secretaria de Salud informa: que NO se debe co...\n",
       "2629    Es verdad que ustedes dicen que no hay que con...\n",
       "2631    Secretaria de Salud informa: que NO se debe co...\n",
       "2634    Hola buenos dias disculpen me podrian informar...\n",
       "2637    Buenas tardes.. Me podrían informar si hay cam...\n",
       "2638    Requisitos para una revisión por parte de CONA...\n",
       "2639                                                    V\n",
       "2640    Buenas noches esto anda circulando en algunas ...\n",
       "2641               Q es bueno para las úlceras en la boca\n",
       "2642                                               ELUZAI\n",
       "2644    Buenas noches disculpe para saber mi numero de...\n",
       "2647    Buen día, por favor podrían hacer un comunicad...\n",
       "2648    Tengo varios días de querer sacar cita para el...\n",
       "2649                                         what do I do\n",
       "2650    DISCULPE estoy en playas del Carmen y quisiera...\n",
       "2651                                        Buenaa tardes\n",
       "2652                                              Pendeja\n",
       "2655             Hola\\nQuisiera que me orientaran en algo\n",
       "2656    Me puede apoyar con información para tramitar ...\n",
       "2658                                           20.12.2015\n",
       "2659    Hola, kisiera hacer un reporte de una farmacia...\n",
       "2660    Secretaria de Salud informa: que NO se debe co...\n",
       "2662    Hola mucho gusto mi pregunta era que si puedo ...\n",
       "2663    Hola buen dia.\\nHe escuchado hablar sobre la n...\n",
       "2664    Buenos días, es cierto el rumor de que la lech...\n",
       "2669    Hola buenas tardes me interesa reportar un gra...\n",
       "2676                                        Buenas tarded\n",
       "2678    Hola buenas tardes aquí puedo reportar una doc...\n",
       "2680    V   https://www.youtube.com/watch?v=mr2N3M2s-w...\n",
       "2684    .I. No mamen ignorantes porque no se fuman un ...\n",
       "2685    Buenos días.  Me pueden apoyar con su direcció...\n",
       "2689                   No hay vacunas en el sector Salud😟\n",
       "2691    Disculpé no habra guardias para cubrir soy pas...\n",
       "2694    una pregunta donde se lleba los papeles para t...\n",
       "2696                                                    🙂\n",
       "2699    Disculpe me podrían dar información adonde pue...\n",
       "2701                                                    😊\n",
       "2703    Buena tarde Secretaría de Salud. Tengo una pre...\n",
       "2704                  Pueden salir espinillas en el pene?\n",
       "2715    Yno tengo otro número para reportarlo yo soy d...\n",
       "2716    Hola buenos dias quisiera hacer un reporte de ...\n",
       "2719    Buenas Noches quería preguntar si no es peligr...\n",
       "2726    Hola, muy buenas tardes me dejaron una tarea e...\n",
       "2730                                                    😐\n",
       "2732    Buenos días disculpen la.molestia....kiero m a...\n",
       "2733    Hola. Quisiera reportar anormalias en tienda d...\n",
       "2735    Hola buenas tardes me podrian decir a que doct...\n",
       "2739                                                    😬\n",
       "2742    Buenas tardes, requiero sacar cita en el hospi...\n",
       "2744                      Hola Quiero denunciar Ami Madre\n",
       "2745    Me pueden ayudar con alguna información?.. Mi ...\n",
       "2751    Buena noche disculpe si me podría dar el númer...\n",
       "2754    Buenos días!\\nAyer fui a ponerme la antitetani...\n",
       "2755            Buenos días me podrían pasar su dirección\n",
       "2760    Buenas tardes quisiera saber si si podrían dar...\n",
       "2764                                                    😱\n",
       "2766    Buenas tardes, en mi centro de salud los santo...\n",
       "2769    Buenos días una pregunta soy profesional técni...\n",
       "2773    Muy buen día,quisiera saber por que motivo no ...\n",
       "2775    Hola buen dia solo para reportar a unos vecino...\n",
       "2776                Ya paso eso. Ahora esta blanqueciendo\n",
       "2782    Saludos, el aeropuerto de Guadalajara está lle...\n",
       "2784    Hola secretaria de salud\\nMe hacerco a ustedes...\n",
       "2793    Hola ¿Dónde puedo obtener la aplicación de la ...\n",
       "2798    hola buen día, me gustaria entrar a trabajar e...\n",
       "2800    Antes q nada muy buenos días a todos ustedes.....\n",
       "2802                                           15.06.2018\n",
       "2803    Donde puedo descargar  su Spot sobre las droga...\n",
       "2804    A la vista que no le interesa pagar a su perso...\n",
       "2807    Hola, buenas tardes, me gustaría saber si en e...\n",
       "2814    De qué manera puedo conseguir apoyo para una p...\n",
       "2816                                            Excelente\n",
       "2819    como ago para inscribirme en educats para real...\n",
       "2824                                            Eso lo sé\n",
       "2829    Buenas tardes, ¿donde puedo poner la denuncia ...\n",
       "2832    SE SOLICITA PERMUTA\\nPOR CAMBIO DE DOMICILIO\\n...\n",
       "2834                           What is your phone number?\n",
       "2835    Hola buen día\\nDisculpe mi atrevimiento por en...\n",
       "2836    Hola. Quiero reportar a una medico interno que...\n",
       "2839    EN LAS PREGUNTAS ANTERIORES ME PREGUNTASTE EI ...\n",
       "2842    Buenas tardes, mi hija acaba de salir de la pr...\n",
       "2843    Buena tarde, disculpen donde puedo checar la n...\n",
       "2847                                            (DM) ALTA\n",
       "2848    Hola que tal Buendía soy Edgar Uriel Cruz More...\n",
       "2849    o sea q uds mo prestan servicios cuando se nec...\n",
       "2851                                            (DM) ALTA\n",
       "2854            Hay bolsa de trabajo abierta en cd.juarez\n",
       "2855    Hola que tal Muy buenas tardes el motivo de mi...\n",
       "2856    Las carnes tambien las puedo comer o hay una r...\n",
       "2867    Hola. En IMSS no hay vacunas contra el tétanos...\n",
       "2872    También quisiera saber si colocan el implante ...\n",
       "2873                                               Aborto\n",
       "2879    Buenas tardes donde hay que llamar para pedir ...\n",
       "2882    Buen día estoy solicitando ayuda urgente está ...\n",
       "2883    buena noche, cuando surtirán la vacuna SRP (sa...\n",
       "2889    Hola, urge atención para un adulto mayor con p...\n",
       "2890    Buenas Tardes quisiera pedir informes sobre la...\n",
       "2891    Por favor ayuden a este niño en México su fami...\n",
       "2892    Hola buen di, me gustaría saber algo sobre el ...\n",
       "2897    Existe todavia el convenio de descuento en bla...\n",
       "2899                                                    😃\n",
       "2904                                                 1.68\n",
       "2910                     Si, no le agrego sal ni al huevo\n",
       "2912      Que vengan a ver el rastro de Cuitzeo michoacan\n",
       "2914                                              Saludos\n",
       "2916    ¡Buenos días!\\n\\nSi uno va a Ecuador, ¿es requ...\n",
       "2918    Hago de su conocimiento q cada vez está en dec...\n",
       "2920            Hola buenas tardes quiero aser un reporte\n",
       "2922    Buenas tardes vi una publicación de donación d...\n",
       "2923                  La influenza es una epidemia ahora?\n",
       "2927    Hola buenas tardes ya hay vacuna del hepatitis...\n",
       "2928    Buen día, me presento para proponerme para hac...\n",
       "2930    Buena tarde aquien corresponda me podrían deci...\n",
       "2933    Buenas tardes disculpe alguien q pueda ayudarn...\n",
       "2934    Me podrian brindar el numero para reportar un ...\n",
       "2936                                                   👍🏻\n",
       "2937    Buena noche. Cómo podría saber que trabajador ...\n",
       "2938    Buenos días ! Me gustaría oponer información d...\n",
       "2941                                                    😐\n",
       "2942    Hola buena tarde. El día de miércoles (tercer ...\n",
       "2956    Hola el motivo de mi mensaje es para ayuda de ...\n",
       "2958    Buenos días, una consulta si traté todo el emb...\n",
       "2959    Medicina personalizada: Nuevas oportunidades p...\n",
       "2970    Hola cm puedo reportar alguna situación anonim...\n",
       "2972    @Tu_IMSS ayer le pusieron la diálisis a mi her...\n",
       "2973                                                    🙂\n",
       "2974    Hola me gustaría saber, si aún está vigente mi...\n",
       "2975    Hola, vi un tweet suyo y tengo una duda; ojalá...\n",
       "2985                                    Mi nro 3413951224\n",
       "2988    Hola yo kiero trabajare p puedes dar info rmacion\n",
       "2990    Buenas tardes, agradeceré me informe si la sec...\n",
       "2992    Buenas tatdes disculpe la molestia me dijeron ...\n",
       "2994    Tengo un niño que convulsionó en el hospital R...\n",
       "2995    Hola, soy estudiante de la Universidad de Mont...\n",
       "2998    Soy del está de Hidalgo y me tengo que reafili...\n",
       "3000    Una pregunta la leche entera de vaca es perjud...\n",
       "3004    Buenas noches .. Disculpe ustedes saben en don...\n",
       "3005                            Puedp aser una pregunta ?\n",
       "3008                           Buen día me interesa saber\n",
       "3011    Buenas tardes, soy reportera de 24 HORAS. ¿Hay...\n",
       "3012                           efectos del cristal??? xfa\n",
       "3013    Buena tarde espero me hagan el favor de leerme...\n",
       "3017    Buenas tardes. Me he estado comunicando a dive...\n",
       "3018    Hola buenas tardes  quisiera comentarles un ca...\n",
       "3023    Buena noche. Últimamente mi hija menor de 7 añ...\n",
       "3026    Ojalá Contestes...es muy lindo\\nDios se ha ent...\n",
       "3029    Donde puedo pedir informes para liberar mi car...\n",
       "3030    Polleria tira sus residuos de grasa al drenaje...\n",
       "3033    Buena tarde, quisiera saber en que número se p...\n",
       "3035    Tengo diabetes, cuando tendre las amputaciones...\n",
       "3038    Hola buenas tardes algún numero donde me pueda...\n",
       "3041    felicidades amigo y mil bendiciones https://t....\n",
       "3044    Buenos días disculpe para información de insem...\n",
       "Name: texto, Length: 1012, dtype: object"
      ]
     },
     "execution_count": 26,
     "metadata": {},
     "output_type": "execute_result"
    }
   ],
   "source": [
    "respuestas.loc[respuestas.result=='modelo', 'texto']"
   ]
  },
  {
   "cell_type": "code",
   "execution_count": 66,
   "metadata": {},
   "outputs": [
    {
     "data": {
      "text/plain": [
       "array(['modelo', 'nan', 'nan', '1', '3',\n",
       "       'f60ed04c-49af-4d7a-82e2-9a0c7d08fe8e', '+525529070118', 'ALTOPD'],\n",
       "      dtype='<U36')"
      ]
     },
     "execution_count": 66,
     "metadata": {},
     "output_type": "execute_result"
    }
   ],
   "source": [
    "\n",
    "resultado_reglas=np.array([resultado_reglas[i] for i in nombres])"
   ]
  },
  {
   "cell_type": "code",
   "execution_count": 58,
   "metadata": {},
   "outputs": [
    {
     "data": {
      "text/plain": [
       "array({'result': 'modelo', 'texto': 'nan', 'texto_proc': 'nan', 'wc': 1, 'cc': 3, 'id_contacto': 'f60ed04c-49af-4d7a-82e2-9a0c7d08fe8e', 'urn': '+525529070118', 'listas': 'ALTOPD'}, dtype=object)"
      ]
     },
     "execution_count": 58,
     "metadata": {},
     "output_type": "execute_result"
    }
   ],
   "source": [
    "resultado_reglas"
   ]
  },
  {
   "cell_type": "code",
   "execution_count": 36,
   "metadata": {},
   "outputs": [
    {
     "ename": "KeyboardInterrupt",
     "evalue": "",
     "output_type": "error",
     "traceback": [
      "\u001b[0;31m---------------------------------------------------------------------------\u001b[0m",
      "\u001b[0;31mKeyboardInterrupt\u001b[0m                         Traceback (most recent call last)",
      "\u001b[0;32m<ipython-input-36-1b737c4f5814>\u001b[0m in \u001b[0;36m<module>\u001b[0;34m()\u001b[0m\n\u001b[1;32m      1\u001b[0m \u001b[0;32mfor\u001b[0m \u001b[0mi\u001b[0m \u001b[0;32min\u001b[0m \u001b[0mrespuestas\u001b[0m\u001b[0;34m:\u001b[0m\u001b[0;34m\u001b[0m\u001b[0m\n\u001b[0;32m----> 2\u001b[0;31m     \u001b[0mresultado_reglas\u001b[0m\u001b[0;34m=\u001b[0m\u001b[0mscript_reglas\u001b[0m\u001b[0;34m.\u001b[0m\u001b[0mprocesa_reglas\u001b[0m\u001b[0;34m(\u001b[0m\u001b[0mstr\u001b[0m\u001b[0;34m(\u001b[0m\u001b[0mi\u001b[0m\u001b[0;34m[\u001b[0m\u001b[0;36m4\u001b[0m\u001b[0;34m]\u001b[0m\u001b[0;34m)\u001b[0m\u001b[0;34m)\u001b[0m\u001b[0;34m\u001b[0m\u001b[0m\n\u001b[0m\u001b[1;32m      3\u001b[0m     resultado_reglas=resultado_reglas.update({'id_contacto':i[0],\n\u001b[1;32m      4\u001b[0m                              \u001b[0;34m'urn'\u001b[0m\u001b[0;34m:\u001b[0m\u001b[0mi\u001b[0m\u001b[0;34m[\u001b[0m\u001b[0;36m1\u001b[0m\u001b[0;34m]\u001b[0m\u001b[0;34m,\u001b[0m\u001b[0;34m\u001b[0m\u001b[0m\n\u001b[1;32m      5\u001b[0m                             'listas':i[3]})\n",
      "\u001b[0;32m~/Documents/GIT/mi-salud/script_reglas.py\u001b[0m in \u001b[0;36mprocesa_reglas\u001b[0;34m(texto)\u001b[0m\n\u001b[1;32m     79\u001b[0m     \u001b[0;31m#print('wc: '+ str(wc))\u001b[0m\u001b[0;34m\u001b[0m\u001b[0;34m\u001b[0m\u001b[0m\n\u001b[1;32m     80\u001b[0m \u001b[0;34m\u001b[0m\u001b[0m\n\u001b[0;32m---> 81\u001b[0;31m     \u001b[0memojis\u001b[0m\u001b[0;34m=\u001b[0m\u001b[0mis_emoji\u001b[0m\u001b[0;34m(\u001b[0m\u001b[0mtexto\u001b[0m\u001b[0;34m)\u001b[0m \u001b[0;31m#Conteo de emojis\u001b[0m\u001b[0;34m\u001b[0m\u001b[0m\n\u001b[0m\u001b[1;32m     82\u001b[0m     \u001b[0;31m#print('conteo de emojis: '+ str(emojis))\u001b[0m\u001b[0;34m\u001b[0m\u001b[0;34m\u001b[0m\u001b[0m\n\u001b[1;32m     83\u001b[0m \u001b[0;34m\u001b[0m\u001b[0m\n",
      "\u001b[0;32m~/Documents/GIT/mi-salud/script_reglas.py\u001b[0m in \u001b[0;36mis_emoji\u001b[0;34m(s)\u001b[0m\n\u001b[1;32m     22\u001b[0m     \u001b[0mcount\u001b[0m \u001b[0;34m=\u001b[0m \u001b[0;36m0\u001b[0m\u001b[0;34m\u001b[0m\u001b[0m\n\u001b[1;32m     23\u001b[0m     \u001b[0;32mfor\u001b[0m \u001b[0memoji\u001b[0m \u001b[0;32min\u001b[0m \u001b[0mrange\u001b[0m\u001b[0;34m(\u001b[0m\u001b[0;36m1\u001b[0m\u001b[0;34m,\u001b[0m \u001b[0mlen\u001b[0m\u001b[0;34m(\u001b[0m\u001b[0mUNICODE_EMOJI\u001b[0m\u001b[0;34m)\u001b[0m\u001b[0;34m)\u001b[0m\u001b[0;34m:\u001b[0m\u001b[0;34m\u001b[0m\u001b[0m\n\u001b[0;32m---> 24\u001b[0;31m         \u001b[0mcount\u001b[0m \u001b[0;34m+=\u001b[0m \u001b[0ms\u001b[0m\u001b[0;34m.\u001b[0m\u001b[0mcount\u001b[0m\u001b[0;34m(\u001b[0m\u001b[0mlist\u001b[0m\u001b[0;34m(\u001b[0m\u001b[0mUNICODE_EMOJI\u001b[0m\u001b[0;34m.\u001b[0m\u001b[0mkeys\u001b[0m\u001b[0;34m(\u001b[0m\u001b[0;34m)\u001b[0m\u001b[0;34m)\u001b[0m\u001b[0;34m[\u001b[0m\u001b[0memoji\u001b[0m\u001b[0;34m]\u001b[0m\u001b[0;34m)\u001b[0m\u001b[0;34m\u001b[0m\u001b[0m\n\u001b[0m\u001b[1;32m     25\u001b[0m     \u001b[0;32mreturn\u001b[0m \u001b[0mcount\u001b[0m\u001b[0;34m\u001b[0m\u001b[0m\n\u001b[1;32m     26\u001b[0m \u001b[0;34m\u001b[0m\u001b[0m\n",
      "\u001b[0;31mKeyboardInterrupt\u001b[0m: "
     ]
    }
   ],
   "source": [
    "for i in respuestas:\n",
    "    resultado_reglas=script_reglas.procesa_reglas(str(i[4]))\n",
    "    resultado_reglas.update({'id_contacto':i[0],\n",
    "                             'urn':i[1], \n",
    "                            'listas':i[3]})\n",
    "    "
   ]
  },
  {
   "cell_type": "code",
   "execution_count": 40,
   "metadata": {},
   "outputs": [
    {
     "name": "stdout",
     "output_type": "stream",
     "text": [
      "None\n"
     ]
    }
   ],
   "source": [
    "print(resultado_reglas)"
   ]
  },
  {
   "cell_type": "code",
   "execution_count": null,
   "metadata": {
    "collapsed": true
   },
   "outputs": [],
   "source": []
  },
  {
   "cell_type": "code",
   "execution_count": null,
   "metadata": {
    "collapsed": true
   },
   "outputs": [],
   "source": []
  },
  {
   "cell_type": "code",
   "execution_count": null,
   "metadata": {
    "collapsed": true
   },
   "outputs": [],
   "source": []
  },
  {
   "cell_type": "code",
   "execution_count": null,
   "metadata": {
    "collapsed": true
   },
   "outputs": [],
   "source": []
  },
  {
   "cell_type": "code",
   "execution_count": null,
   "metadata": {
    "collapsed": true
   },
   "outputs": [],
   "source": []
  },
  {
   "cell_type": "code",
   "execution_count": null,
   "metadata": {
    "collapsed": true
   },
   "outputs": [],
   "source": []
  },
  {
   "cell_type": "code",
   "execution_count": null,
   "metadata": {
    "collapsed": true
   },
   "outputs": [],
   "source": []
  },
  {
   "cell_type": "code",
   "execution_count": 5,
   "metadata": {
    "collapsed": true
   },
   "outputs": [],
   "source": [
    "label_map={1:'emergencia',\n",
    "          2:'informacion',\n",
    "          3: 'nacimiento',\n",
    "          4: 'respuesta',\n",
    "          5: 'pregunta',\n",
    "          6: 'otra',\n",
    "          7: 'pregunta_busca trabajo',\n",
    "          8: 'otra_queja'}"
   ]
  },
  {
   "cell_type": "code",
   "execution_count": 21,
   "metadata": {
    "collapsed": true
   },
   "outputs": [],
   "source": [
    "#compara[['uncaught_resp_9_text', 'Clasificacion', 'categ_opi']]"
   ]
  },
  {
   "cell_type": "code",
   "execution_count": 9,
   "metadata": {
    "scrolled": true
   },
   "outputs": [
    {
     "data": {
      "text/html": [
       "<div>\n",
       "<style>\n",
       "    .dataframe thead tr:only-child th {\n",
       "        text-align: right;\n",
       "    }\n",
       "\n",
       "    .dataframe thead th {\n",
       "        text-align: left;\n",
       "    }\n",
       "\n",
       "    .dataframe tbody tr th {\n",
       "        vertical-align: top;\n",
       "    }\n",
       "</style>\n",
       "<table border=\"1\" class=\"dataframe\">\n",
       "  <thead>\n",
       "    <tr style=\"text-align: right;\">\n",
       "      <th>categ_opi</th>\n",
       "      <th>emergencia</th>\n",
       "      <th>informacion</th>\n",
       "      <th>nacimiento</th>\n",
       "      <th>otra</th>\n",
       "      <th>otra_queja</th>\n",
       "      <th>pregunta</th>\n",
       "      <th>pregunta_busca trabajo</th>\n",
       "      <th>respuesta</th>\n",
       "      <th>All</th>\n",
       "    </tr>\n",
       "    <tr>\n",
       "      <th>Clasificacion</th>\n",
       "      <th></th>\n",
       "      <th></th>\n",
       "      <th></th>\n",
       "      <th></th>\n",
       "      <th></th>\n",
       "      <th></th>\n",
       "      <th></th>\n",
       "      <th></th>\n",
       "      <th></th>\n",
       "    </tr>\n",
       "  </thead>\n",
       "  <tbody>\n",
       "    <tr>\n",
       "      <th>emergencia</th>\n",
       "      <td>5</td>\n",
       "      <td>0</td>\n",
       "      <td>0</td>\n",
       "      <td>0</td>\n",
       "      <td>0</td>\n",
       "      <td>0</td>\n",
       "      <td>0</td>\n",
       "      <td>0</td>\n",
       "      <td>5</td>\n",
       "    </tr>\n",
       "    <tr>\n",
       "      <th>informacion</th>\n",
       "      <td>0</td>\n",
       "      <td>37</td>\n",
       "      <td>0</td>\n",
       "      <td>4</td>\n",
       "      <td>0</td>\n",
       "      <td>0</td>\n",
       "      <td>0</td>\n",
       "      <td>4</td>\n",
       "      <td>45</td>\n",
       "    </tr>\n",
       "    <tr>\n",
       "      <th>nacimiento</th>\n",
       "      <td>0</td>\n",
       "      <td>0</td>\n",
       "      <td>3</td>\n",
       "      <td>0</td>\n",
       "      <td>0</td>\n",
       "      <td>0</td>\n",
       "      <td>0</td>\n",
       "      <td>0</td>\n",
       "      <td>3</td>\n",
       "    </tr>\n",
       "    <tr>\n",
       "      <th>otra</th>\n",
       "      <td>1</td>\n",
       "      <td>29</td>\n",
       "      <td>10</td>\n",
       "      <td>269</td>\n",
       "      <td>126</td>\n",
       "      <td>17</td>\n",
       "      <td>8</td>\n",
       "      <td>78</td>\n",
       "      <td>538</td>\n",
       "    </tr>\n",
       "    <tr>\n",
       "      <th>pregunta</th>\n",
       "      <td>4</td>\n",
       "      <td>3</td>\n",
       "      <td>0</td>\n",
       "      <td>4</td>\n",
       "      <td>16</td>\n",
       "      <td>303</td>\n",
       "      <td>53</td>\n",
       "      <td>0</td>\n",
       "      <td>383</td>\n",
       "    </tr>\n",
       "    <tr>\n",
       "      <th>All</th>\n",
       "      <td>10</td>\n",
       "      <td>69</td>\n",
       "      <td>13</td>\n",
       "      <td>277</td>\n",
       "      <td>142</td>\n",
       "      <td>320</td>\n",
       "      <td>61</td>\n",
       "      <td>82</td>\n",
       "      <td>974</td>\n",
       "    </tr>\n",
       "  </tbody>\n",
       "</table>\n",
       "</div>"
      ],
      "text/plain": [
       "categ_opi      emergencia  informacion  nacimiento  otra  otra_queja  \\\n",
       "Clasificacion                                                          \n",
       "emergencia              5            0           0     0           0   \n",
       "informacion             0           37           0     4           0   \n",
       "nacimiento              0            0           3     0           0   \n",
       "otra                    1           29          10   269         126   \n",
       "pregunta                4            3           0     4          16   \n",
       "All                    10           69          13   277         142   \n",
       "\n",
       "categ_opi      pregunta  pregunta_busca trabajo  respuesta  All  \n",
       "Clasificacion                                                    \n",
       "emergencia            0                       0          0    5  \n",
       "informacion           0                       0          4   45  \n",
       "nacimiento            0                       0          0    3  \n",
       "otra                 17                       8         78  538  \n",
       "pregunta            303                      53          0  383  \n",
       "All                 320                      61         82  974  "
      ]
     },
     "execution_count": 9,
     "metadata": {},
     "output_type": "execute_result"
    }
   ],
   "source": [
    "pd.crosstab(compara.Clasificacion, compara.categ_opi, margins=True)\n",
    "\n"
   ]
  },
  {
   "cell_type": "code",
   "execution_count": 177,
   "metadata": {
    "collapsed": true
   },
   "outputs": [],
   "source": [
    "#compara.uncaught_resp_9_text.loc[(compara.Clasificacion=='pregunta')].ravel()"
   ]
  },
  {
   "cell_type": "code",
   "execution_count": 194,
   "metadata": {},
   "outputs": [
    {
     "data": {
      "text/plain": [
       "array([ 'hola me gustaría saber en dónde puedo poner una queda, ya que se le negó el servicio de atención a mi mamá en dos hospitales',\n",
       "       '@[173076059407762:274:secretaría de salud] no has respondido a mi pregunta respecto a  porque si hay actualmente una problemática y riesgo de sarampión existe carencia de las vacunas para prevención???',\n",
       "       'buen día\\n\\ntengo dudas sobre una denuncia pertinente. \\n\\nmis vecinos tienen aves de corral sin los debidos requerimientos sobre salubridad, generan cucarachas y otras plagas, además de que el ruido es insoportable. \\nquisiera hacer una denuncia pero desconozco dónde o cómo hacer el trámite para que los revise salubridad, ya que de igual forma, utilizan el domicilio como bodega de desechos de verdulería y el aroma es insoportable.',\n",
       "       'buenas noches, soy de tijuana, me interesa saber en donde puedo reportar a una persona  con tuberculosis, el está conciente de su enfermedad y sin importarle se encuentra todos los días en la salida del transporte público, donde siempre hay personas y niños, incluso personas vendiendo comida, y si me preocupa esta situación  espero una respuesta gracias.',\n",
       "       'buen día ...  sólo para preguntar a qué instancia puedo acudir ya que tengo un problema de salud  con mi niña  a  causa de unos gatos que vienen a ser sus necesidades a mi casa y ya se le platico ala dueña y pues hasta malas palabras recibí sabiendo que los gatos son de ellos y no se hacen cargo de los destrozos que viene. hacer igual con la basura y sinabro la puerta se meten a comer lo que encuentran ya no sé qué hacer porque hasta este punto de tener enfermedades infecciosas tiene mi niña xk no puede ni jugar fuera debido ala popo que estos animales a dieron dejan ojalá me pudieran orientar para poder hacer algo',\n",
       "       'ya de esto tiene mas de dos meses y diario desde temprano es la misma situación y nosotros ya tenemos cefaleas, nauseas, ojos irritados... y la mercancia ya con olor ahumado.',\n",
       "       'hola buenos días oye donde puedo denunciar malos manejos ijienicos',\n",
       "       'buenos dias disculpe donde puedo reportar un estabelcimiento donde venden comida pero tiene una plaga de ratas y de vario tipo de insectos. es que es un riesgo para los que consumen los productos de ese lugar de echo es una casa particular \\nles dejo los datos de el lugar \\ncalle guadalajara # 104 col. nuevo milenio conocida como el ranchito 2 en guadalupe nuevo león \\nhay venden tacos gorditas y burritos y la vdd la higiene no es la adecuadad',\n",
       "       'buenas noches. vender sangre es un delito, cierto? en donde se puede denunciar?',\n",
       "       'buenos dias por que se esta obligando alas personas con prospera aque se le agan el papanicolao por que no dejan  que lo yraigan de otra parte',\n",
       "       'dónde podré poner una queja de salubridad',\n",
       "       'buenos días, disculpen no sé si aquí me puedan ayudar o hacer algo. llevo dos días tratando de que me atiendan en un centro de salud, porque estoy embarazada y el vigilante me ha negado el servicio que porque \"ya no tienen fichas\", no puedo creer que a las 7 am ya no puedan atenderme. \\nnecesito la atención para mí, y mi bebé y el señor que no me quiso dar su nombre sólo se burlaba de mi, diciendo que fuera más temprano. lamentablemente no tengo quien me acompañe y debo ir sola, las calles son demasiado riesgosas a muy temprana hora. \\n¿qué sugerencia me dan? ¿a dónde puedo acudir y que sí me brinden el servicio?',\n",
       "       'hola buenas tardes aquí puedo reportar una doctora q me está negando el servicio medici',\n",
       "       'buenas noches quería preguntar si no es peligroso que vendan las pastillitas acxion que es un medicamento controlado por facebook?',\n",
       "       'buenas tardes, ¿donde puedo poner la denuncia de la falta de higiene en un restaurant?',\n",
       "       'hola buenas tardes  quisiera comentarles un caso que le acabó de pasar a mi mamá aquí en san jose de ure bueno acá la eps comfacor  en convenio con la clínica bijao y el hospital de ure tienen una sola disputa y los pacientes son los mas afectados mi mamá sufre del azúcar y por lo tanto necesitaba realizarse la prueba para ver en cuanto la tenía en la clínica no hay los recursos para realizar dicha prueba y la enviaron al hospital y obviamente se negaron a realizarsela porque esta afiliada a confacor nos toco vivir un momento muy incómodo porque fueron muy groceros y no atendieron a mi mamá ni en la secretaria de salud de acá no nos'], dtype=object)"
      ]
     },
     "execution_count": 194,
     "metadata": {},
     "output_type": "execute_result"
    }
   ],
   "source": [
    "compara.uncaught_resp_9_text.loc[(compara.Clasificacion=='pregunta') &\n",
    "                                 (compara.categ_opi==8)].ravel()"
   ]
  },
  {
   "cell_type": "code",
   "execution_count": 4,
   "metadata": {
    "scrolled": true
   },
   "outputs": [
    {
     "data": {
      "text/html": [
       "<div>\n",
       "<style>\n",
       "    .dataframe thead tr:only-child th {\n",
       "        text-align: right;\n",
       "    }\n",
       "\n",
       "    .dataframe thead th {\n",
       "        text-align: left;\n",
       "    }\n",
       "\n",
       "    .dataframe tbody tr th {\n",
       "        vertical-align: top;\n",
       "    }\n",
       "</style>\n",
       "<table border=\"1\" class=\"dataframe\">\n",
       "  <thead>\n",
       "    <tr style=\"text-align: right;\">\n",
       "      <th></th>\n",
       "      <th>id_contacto</th>\n",
       "      <th>urn</th>\n",
       "      <th>nombre</th>\n",
       "      <th>listas</th>\n",
       "      <th>uncaught_resp_9_cat</th>\n",
       "      <th>uncaught_resp_9_val</th>\n",
       "      <th>uncaught_resp_9_text</th>\n",
       "      <th>categ_opi</th>\n",
       "      <th>uncaught_resp_9_text_wc</th>\n",
       "      <th>uncaught_resp_9_text_nchar</th>\n",
       "      <th>uncaught_resp_9_text_mod</th>\n",
       "      <th>es</th>\n",
       "    </tr>\n",
       "  </thead>\n",
       "  <tbody>\n",
       "    <tr>\n",
       "      <th>0</th>\n",
       "      <td>e7e51622-a160-4bb4-9b7d-785c0c2bfbc7</td>\n",
       "      <td>20999</td>\n",
       "      <td>NaN</td>\n",
       "      <td>NaN</td>\n",
       "      <td>Other</td>\n",
       "      <td>La solicitud de enviar el SMS por Cobrar a 552...</td>\n",
       "      <td>la solicitud de enviar el sms por cobrar a 552...</td>\n",
       "      <td>6</td>\n",
       "      <td>24</td>\n",
       "      <td>144</td>\n",
       "      <td>la solicitud de enviar el sms por cobrar a 552...</td>\n",
       "      <td>0</td>\n",
       "    </tr>\n",
       "    <tr>\n",
       "      <th>1</th>\n",
       "      <td>313822ff-7541-4db6-8fe1-a252363000ab</td>\n",
       "      <td>522461582793</td>\n",
       "      <td>sarahi</td>\n",
       "      <td>ALL, ALTOPD</td>\n",
       "      <td>no</td>\n",
       "      <td>no</td>\n",
       "      <td>te llame y no pude localizarte. tramita en lin...</td>\n",
       "      <td>6</td>\n",
       "      <td>24</td>\n",
       "      <td>135</td>\n",
       "      <td>te llame y no pude localizarte tramita en line...</td>\n",
       "      <td>0</td>\n",
       "    </tr>\n",
       "    <tr>\n",
       "      <th>2</th>\n",
       "      <td>86962a26-c021-4606-8986-893834ad83bd</td>\n",
       "      <td>524271210385</td>\n",
       "      <td>NaN</td>\n",
       "      <td>ALL, ALTOPD</td>\n",
       "      <td>Other</td>\n",
       "      <td>59508</td>\n",
       "      <td>59508</td>\n",
       "      <td>4</td>\n",
       "      <td>1</td>\n",
       "      <td>5</td>\n",
       "      <td>59508</td>\n",
       "      <td>0</td>\n",
       "    </tr>\n",
       "    <tr>\n",
       "      <th>3</th>\n",
       "      <td>84b7624f-261d-44b4-83ba-6fade1a44c3a</td>\n",
       "      <td>524271654479</td>\n",
       "      <td>NaN</td>\n",
       "      <td>ALL, ALTOPD</td>\n",
       "      <td>Other</td>\n",
       "      <td>Mi bebe</td>\n",
       "      <td>mi bebe</td>\n",
       "      <td>3</td>\n",
       "      <td>2</td>\n",
       "      <td>7</td>\n",
       "      <td>mi bebe</td>\n",
       "      <td>0</td>\n",
       "    </tr>\n",
       "    <tr>\n",
       "      <th>4</th>\n",
       "      <td>e083b2ea-6e2d-410c-b5a4-8067a818d485</td>\n",
       "      <td>522411259330</td>\n",
       "      <td>NaN</td>\n",
       "      <td>ALL, ALTOPD</td>\n",
       "      <td>Gracias</td>\n",
       "      <td>gracias</td>\n",
       "      <td>hola si ya cada integrante tenemos fotos con l...</td>\n",
       "      <td>3</td>\n",
       "      <td>18</td>\n",
       "      <td>99</td>\n",
       "      <td>hola si ya cada integrante tenemos fotos con l...</td>\n",
       "      <td>0</td>\n",
       "    </tr>\n",
       "  </tbody>\n",
       "</table>\n",
       "</div>"
      ],
      "text/plain": [
       "                            id_contacto           urn  nombre       listas  \\\n",
       "0  e7e51622-a160-4bb4-9b7d-785c0c2bfbc7         20999     NaN          NaN   \n",
       "1  313822ff-7541-4db6-8fe1-a252363000ab  522461582793  sarahi  ALL, ALTOPD   \n",
       "2  86962a26-c021-4606-8986-893834ad83bd  524271210385     NaN  ALL, ALTOPD   \n",
       "3  84b7624f-261d-44b4-83ba-6fade1a44c3a  524271654479     NaN  ALL, ALTOPD   \n",
       "4  e083b2ea-6e2d-410c-b5a4-8067a818d485  522411259330     NaN  ALL, ALTOPD   \n",
       "\n",
       "  uncaught_resp_9_cat                                uncaught_resp_9_val  \\\n",
       "0               Other  La solicitud de enviar el SMS por Cobrar a 552...   \n",
       "1                  no                                                 no   \n",
       "2               Other                                              59508   \n",
       "3               Other                                            Mi bebe   \n",
       "4             Gracias                                            gracias   \n",
       "\n",
       "                                uncaught_resp_9_text  categ_opi  \\\n",
       "0  la solicitud de enviar el sms por cobrar a 552...          6   \n",
       "1  te llame y no pude localizarte. tramita en lin...          6   \n",
       "2                                              59508          4   \n",
       "3                                            mi bebe          3   \n",
       "4  hola si ya cada integrante tenemos fotos con l...          3   \n",
       "\n",
       "   uncaught_resp_9_text_wc  uncaught_resp_9_text_nchar  \\\n",
       "0                       24                         144   \n",
       "1                       24                         135   \n",
       "2                        1                           5   \n",
       "3                        2                           7   \n",
       "4                       18                          99   \n",
       "\n",
       "                            uncaught_resp_9_text_mod  es  \n",
       "0  la solicitud de enviar el sms por cobrar a 552...   0  \n",
       "1  te llame y no pude localizarte tramita en line...   0  \n",
       "2                                              59508   0  \n",
       "3                                            mi bebe   0  \n",
       "4  hola si ya cada integrante tenemos fotos con l...   0  "
      ]
     },
     "execution_count": 4,
     "metadata": {},
     "output_type": "execute_result"
    }
   ],
   "source": [
    "respuestas.head()"
   ]
  },
  {
   "cell_type": "code",
   "execution_count": 5,
   "metadata": {},
   "outputs": [
    {
     "data": {
      "text/plain": [
       "5    458\n",
       "6    201\n",
       "8    139\n",
       "4     84\n",
       "7     60\n",
       "1     26\n",
       "3     13\n",
       "2     12\n",
       "Name: categ_opi, dtype: int64"
      ]
     },
     "execution_count": 5,
     "metadata": {},
     "output_type": "execute_result"
    }
   ],
   "source": [
    "respuestas.categ_opi.value_counts()"
   ]
  },
  {
   "cell_type": "markdown",
   "metadata": {},
   "source": [
    "## preprocesamiento"
   ]
  },
  {
   "cell_type": "code",
   "execution_count": 6,
   "metadata": {
    "collapsed": true
   },
   "outputs": [],
   "source": [
    "respuestas['uncaught_resp_9_text_mod']=respuestas['uncaught_resp_9_text'].str.lower()"
   ]
  },
  {
   "cell_type": "markdown",
   "metadata": {},
   "source": [
    " ### Quitar leading y trailing spaces, quitar puntuacion"
   ]
  },
  {
   "cell_type": "code",
   "execution_count": 7,
   "metadata": {
    "collapsed": true
   },
   "outputs": [],
   "source": [
    "respuestas['uncaught_resp_9_text_mod']=respuestas['uncaught_resp_9_text_mod'].str.strip()"
   ]
  },
  {
   "cell_type": "code",
   "execution_count": 8,
   "metadata": {
    "collapsed": true
   },
   "outputs": [],
   "source": [
    "respuestas['uncaught_resp_9_text_wc'] = respuestas['uncaught_resp_9_text_mod'].apply(lambda x: len(str(x).split(\" \")))\n",
    "respuestas['uncaught_resp_9_text_nchar'] = respuestas['uncaught_resp_9_text_mod'].apply(lambda x: len(str(x)))"
   ]
  },
  {
   "cell_type": "code",
   "execution_count": 9,
   "metadata": {
    "collapsed": true
   },
   "outputs": [],
   "source": [
    "respuestas['uncaught_resp_9_interrogacion']=respuestas['uncaught_resp_9_text'].str.count('\\\\?')>0"
   ]
  },
  {
   "cell_type": "code",
   "execution_count": 10,
   "metadata": {
    "collapsed": true
   },
   "outputs": [],
   "source": [
    "respuestas['uncaught_resp_9_text_mod']=respuestas['uncaught_resp_9_text_mod'].str.replace('[^\\w\\s]','')"
   ]
  },
  {
   "cell_type": "code",
   "execution_count": 11,
   "metadata": {
    "collapsed": true
   },
   "outputs": [],
   "source": [
    "respuestas['uncaught_resp_9_text_mod']=respuestas['uncaught_resp_9_text_mod'].str.strip()"
   ]
  },
  {
   "cell_type": "markdown",
   "metadata": {},
   "source": [
    "### Capturar emojis"
   ]
  },
  {
   "cell_type": "markdown",
   "metadata": {},
   "source": [
    "Actualmente, si el mensaje contiene un emoji, es canalizado a la categoría Emoji. Este filtro debe ser más estricto, pues usualmente ese emoji es usado en un mensaje real"
   ]
  },
  {
   "cell_type": "code",
   "execution_count": 12,
   "metadata": {
    "collapsed": true
   },
   "outputs": [],
   "source": [
    "def is_emoji(s):\n",
    "    count = 0\n",
    "    for emoji in range(1, len(UNICODE_EMOJI)):\n",
    "        count += s.count(list(UNICODE_EMOJI.keys())[emoji])\n",
    "    return count"
   ]
  },
  {
   "cell_type": "code",
   "execution_count": 13,
   "metadata": {
    "collapsed": true
   },
   "outputs": [],
   "source": [
    "es_emoji=pd.DataFrame()\n",
    "for i in range(0, respuestas.shape[0]):\n",
    "    es=pd.DataFrame({'es':is_emoji(respuestas['uncaught_resp_9_text'].iloc[i])}, index=[0])\n",
    "    es_emoji=pd.concat([es_emoji, es], ignore_index=True)"
   ]
  },
  {
   "cell_type": "code",
   "execution_count": 14,
   "metadata": {
    "collapsed": true
   },
   "outputs": [],
   "source": [
    "respuestas=respuestas.reset_index(drop=True)"
   ]
  },
  {
   "cell_type": "code",
   "execution_count": 15,
   "metadata": {
    "collapsed": true
   },
   "outputs": [],
   "source": [
    "respuestas=pd.concat([respuestas, es_emoji], axis=1)"
   ]
  },
  {
   "cell_type": "markdown",
   "metadata": {},
   "source": [
    "### Quitar emojis que quedan en el texto"
   ]
  },
  {
   "cell_type": "code",
   "execution_count": 16,
   "metadata": {
    "collapsed": true
   },
   "outputs": [],
   "source": [
    "def give_emoji_free_text(text):\n",
    "    allchars = [str for str in text]\n",
    "    emoji_list = [c for c in allchars if c in UNICODE_EMOJI]\n",
    "    clean_text = ' '.join([str for str in text.split() if not any(i in str for i in emoji_list)])\n",
    "    return clean_text"
   ]
  },
  {
   "cell_type": "code",
   "execution_count": 17,
   "metadata": {
    "collapsed": true
   },
   "outputs": [],
   "source": [
    "for i in range(0, respuestas.shape[0]):\n",
    "    respuestas['uncaught_resp_9_text_mod'].iloc[i]=give_emoji_free_text(respuestas.uncaught_resp_9_text_mod.iloc[i])"
   ]
  },
  {
   "cell_type": "markdown",
   "metadata": {},
   "source": [
    "### Quitar  acentos"
   ]
  },
  {
   "cell_type": "code",
   "execution_count": 18,
   "metadata": {
    "collapsed": true
   },
   "outputs": [],
   "source": [
    "sinacentos=pd.DataFrame()\n",
    "for i in range(0, respuestas.shape[0]):\n",
    "    sinacentos_i=unicodedata.normalize('NFD', respuestas['uncaught_resp_9_text_mod'].iloc[i]).encode('ascii', 'ignore').decode('utf-8')\n",
    "    sinacentos_i=pd.DataFrame({'texto':sinacentos_i}, index=[i])\n",
    "    sinacentos=pd.concat([sinacentos, sinacentos_i])"
   ]
  },
  {
   "cell_type": "code",
   "execution_count": 19,
   "metadata": {
    "collapsed": true
   },
   "outputs": [],
   "source": [
    "respuestas['uncaught_resp_9_text_mod']=sinacentos"
   ]
  },
  {
   "cell_type": "code",
   "execution_count": 20,
   "metadata": {
    "collapsed": true
   },
   "outputs": [],
   "source": [
    "respuestas.uncaught_resp_9_text_mod=respuestas.uncaught_resp_9_text_mod.str.replace('ola|\\n|buena noche|buenos dias|buen dia|buenas noches|buenas tardes|buen dia|buena tardes|hola', '')"
   ]
  },
  {
   "cell_type": "markdown",
   "metadata": {},
   "source": [
    "### Procesar dummy de  listas"
   ]
  },
  {
   "cell_type": "code",
   "execution_count": 21,
   "metadata": {
    "collapsed": true
   },
   "outputs": [],
   "source": [
    "respuestas.listas=respuestas.listas.str.lower()\n",
    "respuestas.listas=respuestas.listas.str.replace(',', '')\n",
    "respuestas.listas=respuestas.listas.str.replace('con fecha', 'con_fecha')\n",
    "respuestas.listas=respuestas.listas.str.replace('2 años', '2_anios')"
   ]
  },
  {
   "cell_type": "code",
   "execution_count": 23,
   "metadata": {
    "collapsed": true
   },
   "outputs": [],
   "source": [
    "respuestas.listas=respuestas.listas.str.lower()\n",
    "respuestas.listas=respuestas.listas.str.replace(',', '')\n",
    "respuestas.listas=respuestas.listas.str.replace('con fecha', 'con_fecha')\n",
    "respuestas.listas=respuestas.listas.str.replace('2 años', '2_anios')\n",
    "\n",
    "prueba_listas=respuestas.listas.str.split(expand=True)\n",
    "lista=[pd.get_dummies(prueba_listas[col]) for col in prueba_listas]\n",
    "\n",
    "for i in range(0, len(lista)):\n",
    "    lista[i]['indice'] = lista[i].index\n",
    "lista=pd.concat(lista, ignore_index=True)\n",
    "prueba_listas=lista.groupby('indice', as_index=True).agg('sum')"
   ]
  },
  {
   "cell_type": "markdown",
   "metadata": {},
   "source": [
    "### TF-DF"
   ]
  },
  {
   "cell_type": "code",
   "execution_count": 26,
   "metadata": {
    "collapsed": true
   },
   "outputs": [],
   "source": [
    "stop=nltk.corpus.stopwords.words(\"spanish\")"
   ]
  },
  {
   "cell_type": "code",
   "execution_count": 27,
   "metadata": {
    "collapsed": true
   },
   "outputs": [],
   "source": [
    "for i in range(0, np.shape(stop)[0]):\n",
    "    stop[i]=unicodedata.normalize('NFD', stop[i]).encode('ascii', 'ignore').decode('utf-8')"
   ]
  },
  {
   "cell_type": "code",
   "execution_count": null,
   "metadata": {
    "collapsed": true
   },
   "outputs": [],
   "source": [
    "stemmer = SnowballStemmer(\"spanish\")\n",
    "\n",
    "def tokenize_and_stem(text):\n",
    "    # first tokenize by sentence, then by word to ensure that punctuation is caught as it's own token\n",
    "    tokens = [word for sent in nltk.sent_tokenize(text) for word in nltk.word_tokenize(sent)]\n",
    "    filtered_tokens = []\n",
    "    # filter out any tokens not containing letters (e.g., numeric tokens, raw punctuation)\n",
    "    for token in tokens:\n",
    "        if re.search('[a-zA-Z]', token):\n",
    "            filtered_tokens.append(token)\n",
    "    stems = [stemmer.stem(t) for t in filtered_tokens]\n",
    "    return stems\n",
    "\n",
    "\n",
    "def tokenize_only(text):\n",
    "    # first tokenize by sentence, then by word to ensure that punctuation is caught as it's own token\n",
    "    tokens = [word.lower() for sent in nltk.sent_tokenize(text) for word in nltk.word_tokenize(sent)]\n",
    "    filtered_tokens = []\n",
    "    # filter out any tokens not containing letters (e.g., numeric tokens, raw punctuation)\n",
    "    for token in tokens:\n",
    "        if re.search('[a-zA-Z]', token):\n",
    "            filtered_tokens.append(token)\n",
    "    return filtered_tokens"
   ]
  },
  {
   "cell_type": "code",
   "execution_count": 28,
   "metadata": {},
   "outputs": [
    {
     "data": {
      "text/plain": [
       "(993, 540)"
      ]
     },
     "execution_count": 28,
     "metadata": {},
     "output_type": "execute_result"
    }
   ],
   "source": [
    "from sklearn.feature_extraction.text import TfidfVectorizer\n",
    "tfidf = TfidfVectorizer(sublinear_tf=True, min_df=5, norm='l2', encoding='utf-8', ngram_range=([1, 2]),\n",
    "                        stop_words=stop)\n",
    "features = tfidf.fit_transform(respuestas.uncaught_resp_9_text_mod).toarray()\n",
    "labels = respuestas.categ_opi\n",
    "features.shape"
   ]
  },
  {
   "cell_type": "code",
   "execution_count": 56,
   "metadata": {
    "collapsed": true
   },
   "outputs": [],
   "source": [
    "raros=prueba_listas.sum().loc[prueba_listas.sum()<3].index"
   ]
  },
  {
   "cell_type": "code",
   "execution_count": 54,
   "metadata": {},
   "outputs": [
    {
     "data": {
      "text/plain": [
       "indice\n",
       "0      0.0\n",
       "1      0.0\n",
       "2      0.0\n",
       "3      0.0\n",
       "4      0.0\n",
       "5      0.0\n",
       "6      0.0\n",
       "7      0.0\n",
       "8      0.0\n",
       "9      0.0\n",
       "10     0.0\n",
       "11     0.0\n",
       "12     0.0\n",
       "13     0.0\n",
       "14     0.0\n",
       "15     1.0\n",
       "16     2.0\n",
       "17     0.0\n",
       "18     0.0\n",
       "19     0.0\n",
       "20     0.0\n",
       "21     0.0\n",
       "22     0.0\n",
       "23     0.0\n",
       "24     0.0\n",
       "25     0.0\n",
       "26     0.0\n",
       "27     0.0\n",
       "28     1.0\n",
       "29     0.0\n",
       "30     0.0\n",
       "31     0.0\n",
       "32     0.0\n",
       "33     0.0\n",
       "34     0.0\n",
       "35     1.0\n",
       "36     0.0\n",
       "37     1.0\n",
       "38     0.0\n",
       "39     0.0\n",
       "40     0.0\n",
       "41     0.0\n",
       "42     0.0\n",
       "43     0.0\n",
       "44     1.0\n",
       "45     0.0\n",
       "46     0.0\n",
       "47     0.0\n",
       "48     0.0\n",
       "49     0.0\n",
       "50     0.0\n",
       "51     0.0\n",
       "52     0.0\n",
       "53     0.0\n",
       "54     0.0\n",
       "55     0.0\n",
       "56     0.0\n",
       "57     0.0\n",
       "58     0.0\n",
       "59     0.0\n",
       "60     0.0\n",
       "61     0.0\n",
       "62     0.0\n",
       "63     0.0\n",
       "64     0.0\n",
       "65     0.0\n",
       "66     0.0\n",
       "67     0.0\n",
       "68     0.0\n",
       "69     0.0\n",
       "70     0.0\n",
       "71     0.0\n",
       "72     0.0\n",
       "73     0.0\n",
       "74     0.0\n",
       "75     0.0\n",
       "76     0.0\n",
       "77     0.0\n",
       "78     0.0\n",
       "79     0.0\n",
       "80     0.0\n",
       "81     0.0\n",
       "82     0.0\n",
       "83     0.0\n",
       "84     0.0\n",
       "85     0.0\n",
       "86     0.0\n",
       "87     0.0\n",
       "88     0.0\n",
       "89     0.0\n",
       "90     0.0\n",
       "91     0.0\n",
       "92     0.0\n",
       "93     0.0\n",
       "94     0.0\n",
       "95     0.0\n",
       "96     0.0\n",
       "97     0.0\n",
       "98     0.0\n",
       "99     0.0\n",
       "100    0.0\n",
       "101    0.0\n",
       "102    0.0\n",
       "103    0.0\n",
       "104    0.0\n",
       "105    0.0\n",
       "106    0.0\n",
       "107    0.0\n",
       "108    0.0\n",
       "109    0.0\n",
       "110    0.0\n",
       "111    0.0\n",
       "112    0.0\n",
       "113    0.0\n",
       "114    0.0\n",
       "115    0.0\n",
       "116    0.0\n",
       "117    0.0\n",
       "118    0.0\n",
       "119    0.0\n",
       "120    0.0\n",
       "121    0.0\n",
       "122    0.0\n",
       "123    0.0\n",
       "124    0.0\n",
       "125    0.0\n",
       "126    0.0\n",
       "127    0.0\n",
       "128    1.0\n",
       "129    0.0\n",
       "130    0.0\n",
       "131    0.0\n",
       "132    0.0\n",
       "133    0.0\n",
       "134    0.0\n",
       "135    0.0\n",
       "136    0.0\n",
       "137    0.0\n",
       "138    0.0\n",
       "139    0.0\n",
       "140    0.0\n",
       "141    0.0\n",
       "142    0.0\n",
       "143    0.0\n",
       "144    0.0\n",
       "145    0.0\n",
       "146    0.0\n",
       "147    0.0\n",
       "148    0.0\n",
       "149    0.0\n",
       "150    0.0\n",
       "151    0.0\n",
       "152    0.0\n",
       "153    0.0\n",
       "154    0.0\n",
       "155    0.0\n",
       "156    0.0\n",
       "157    0.0\n",
       "158    0.0\n",
       "159    0.0\n",
       "160    0.0\n",
       "161    0.0\n",
       "162    0.0\n",
       "163    0.0\n",
       "164    0.0\n",
       "165    0.0\n",
       "166    0.0\n",
       "167    0.0\n",
       "168    0.0\n",
       "169    0.0\n",
       "170    0.0\n",
       "171    0.0\n",
       "172    0.0\n",
       "173    0.0\n",
       "174    0.0\n",
       "175    0.0\n",
       "176    0.0\n",
       "177    0.0\n",
       "178    0.0\n",
       "179    1.0\n",
       "180    0.0\n",
       "181    0.0\n",
       "182    0.0\n",
       "183    0.0\n",
       "184    0.0\n",
       "185    0.0\n",
       "186    0.0\n",
       "187    0.0\n",
       "188    0.0\n",
       "189    0.0\n",
       "190    0.0\n",
       "191    0.0\n",
       "192    0.0\n",
       "193    0.0\n",
       "194    0.0\n",
       "195    0.0\n",
       "196    0.0\n",
       "197    0.0\n",
       "198    0.0\n",
       "199    0.0\n",
       "200    0.0\n",
       "201    0.0\n",
       "202    0.0\n",
       "203    0.0\n",
       "204    0.0\n",
       "205    0.0\n",
       "206    0.0\n",
       "207    0.0\n",
       "208    0.0\n",
       "209    0.0\n",
       "210    0.0\n",
       "211    0.0\n",
       "212    0.0\n",
       "213    0.0\n",
       "214    0.0\n",
       "215    0.0\n",
       "216    0.0\n",
       "217    0.0\n",
       "218    0.0\n",
       "219    0.0\n",
       "220    0.0\n",
       "221    0.0\n",
       "222    0.0\n",
       "223    0.0\n",
       "224    0.0\n",
       "225    0.0\n",
       "226    0.0\n",
       "227    0.0\n",
       "228    0.0\n",
       "229    0.0\n",
       "230    0.0\n",
       "231    0.0\n",
       "232    0.0\n",
       "233    0.0\n",
       "234    0.0\n",
       "235    0.0\n",
       "236    0.0\n",
       "237    0.0\n",
       "238    0.0\n",
       "239    0.0\n",
       "240    0.0\n",
       "241    0.0\n",
       "242    0.0\n",
       "243    0.0\n",
       "244    0.0\n",
       "245    0.0\n",
       "246    0.0\n",
       "247    0.0\n",
       "248    0.0\n",
       "249    0.0\n",
       "      ... \n",
       "743    0.0\n",
       "744    0.0\n",
       "745    0.0\n",
       "746    0.0\n",
       "747    0.0\n",
       "748    0.0\n",
       "749    0.0\n",
       "750    0.0\n",
       "751    0.0\n",
       "752    0.0\n",
       "753    0.0\n",
       "754    0.0\n",
       "755    0.0\n",
       "756    0.0\n",
       "757    0.0\n",
       "758    0.0\n",
       "759    0.0\n",
       "760    0.0\n",
       "761    0.0\n",
       "762    0.0\n",
       "763    0.0\n",
       "764    0.0\n",
       "765    0.0\n",
       "766    0.0\n",
       "767    0.0\n",
       "768    0.0\n",
       "769    0.0\n",
       "770    0.0\n",
       "771    0.0\n",
       "772    0.0\n",
       "773    0.0\n",
       "774    0.0\n",
       "775    0.0\n",
       "776    0.0\n",
       "777    0.0\n",
       "778    0.0\n",
       "779    0.0\n",
       "780    0.0\n",
       "781    0.0\n",
       "782    0.0\n",
       "783    0.0\n",
       "784    0.0\n",
       "785    0.0\n",
       "786    0.0\n",
       "787    0.0\n",
       "788    0.0\n",
       "789    0.0\n",
       "790    0.0\n",
       "791    0.0\n",
       "792    0.0\n",
       "793    0.0\n",
       "794    0.0\n",
       "795    0.0\n",
       "796    0.0\n",
       "797    0.0\n",
       "798    0.0\n",
       "799    0.0\n",
       "800    0.0\n",
       "801    0.0\n",
       "802    0.0\n",
       "803    0.0\n",
       "804    0.0\n",
       "805    0.0\n",
       "806    0.0\n",
       "807    0.0\n",
       "808    0.0\n",
       "809    0.0\n",
       "810    0.0\n",
       "811    0.0\n",
       "812    0.0\n",
       "813    0.0\n",
       "814    0.0\n",
       "815    0.0\n",
       "816    0.0\n",
       "817    0.0\n",
       "818    0.0\n",
       "819    0.0\n",
       "820    0.0\n",
       "821    0.0\n",
       "822    0.0\n",
       "823    0.0\n",
       "824    0.0\n",
       "825    0.0\n",
       "826    0.0\n",
       "827    0.0\n",
       "828    0.0\n",
       "829    0.0\n",
       "830    0.0\n",
       "831    0.0\n",
       "832    0.0\n",
       "833    0.0\n",
       "834    0.0\n",
       "835    0.0\n",
       "836    0.0\n",
       "837    0.0\n",
       "838    0.0\n",
       "839    0.0\n",
       "840    0.0\n",
       "841    0.0\n",
       "842    0.0\n",
       "843    0.0\n",
       "844    0.0\n",
       "845    0.0\n",
       "846    0.0\n",
       "847    0.0\n",
       "848    0.0\n",
       "849    0.0\n",
       "850    0.0\n",
       "851    0.0\n",
       "852    0.0\n",
       "853    0.0\n",
       "854    0.0\n",
       "855    0.0\n",
       "856    0.0\n",
       "857    0.0\n",
       "858    0.0\n",
       "859    0.0\n",
       "860    0.0\n",
       "861    0.0\n",
       "862    0.0\n",
       "863    0.0\n",
       "864    0.0\n",
       "865    0.0\n",
       "866    0.0\n",
       "867    0.0\n",
       "868    0.0\n",
       "869    0.0\n",
       "870    0.0\n",
       "871    0.0\n",
       "872    0.0\n",
       "873    0.0\n",
       "874    0.0\n",
       "875    0.0\n",
       "876    0.0\n",
       "877    0.0\n",
       "878    0.0\n",
       "879    0.0\n",
       "880    0.0\n",
       "881    0.0\n",
       "882    0.0\n",
       "883    0.0\n",
       "884    0.0\n",
       "885    0.0\n",
       "886    0.0\n",
       "887    0.0\n",
       "888    0.0\n",
       "889    0.0\n",
       "890    0.0\n",
       "891    0.0\n",
       "892    0.0\n",
       "893    0.0\n",
       "894    0.0\n",
       "895    0.0\n",
       "896    0.0\n",
       "897    0.0\n",
       "898    0.0\n",
       "899    0.0\n",
       "900    0.0\n",
       "901    0.0\n",
       "902    0.0\n",
       "903    0.0\n",
       "904    0.0\n",
       "905    0.0\n",
       "906    0.0\n",
       "907    0.0\n",
       "908    0.0\n",
       "909    0.0\n",
       "910    0.0\n",
       "911    0.0\n",
       "912    0.0\n",
       "913    0.0\n",
       "914    0.0\n",
       "915    0.0\n",
       "916    0.0\n",
       "917    0.0\n",
       "918    0.0\n",
       "919    0.0\n",
       "920    0.0\n",
       "921    0.0\n",
       "922    0.0\n",
       "923    0.0\n",
       "924    0.0\n",
       "925    0.0\n",
       "926    0.0\n",
       "927    0.0\n",
       "928    0.0\n",
       "929    0.0\n",
       "930    0.0\n",
       "931    0.0\n",
       "932    0.0\n",
       "933    0.0\n",
       "934    0.0\n",
       "935    0.0\n",
       "936    0.0\n",
       "937    0.0\n",
       "938    0.0\n",
       "939    0.0\n",
       "940    0.0\n",
       "941    0.0\n",
       "942    0.0\n",
       "943    0.0\n",
       "944    0.0\n",
       "945    0.0\n",
       "946    0.0\n",
       "947    0.0\n",
       "948    0.0\n",
       "949    0.0\n",
       "950    0.0\n",
       "951    0.0\n",
       "952    0.0\n",
       "953    0.0\n",
       "954    0.0\n",
       "955    0.0\n",
       "956    0.0\n",
       "957    0.0\n",
       "958    0.0\n",
       "959    0.0\n",
       "960    0.0\n",
       "961    0.0\n",
       "962    0.0\n",
       "963    0.0\n",
       "964    0.0\n",
       "965    0.0\n",
       "966    0.0\n",
       "967    0.0\n",
       "968    0.0\n",
       "969    0.0\n",
       "970    0.0\n",
       "971    0.0\n",
       "972    0.0\n",
       "973    0.0\n",
       "974    0.0\n",
       "975    0.0\n",
       "976    0.0\n",
       "977    0.0\n",
       "978    0.0\n",
       "979    0.0\n",
       "980    0.0\n",
       "981    0.0\n",
       "982    0.0\n",
       "983    0.0\n",
       "984    0.0\n",
       "985    0.0\n",
       "986    0.0\n",
       "987    0.0\n",
       "988    0.0\n",
       "989    0.0\n",
       "990    0.0\n",
       "991    0.0\n",
       "992    0.0\n",
       "Length: 993, dtype: float64"
      ]
     },
     "execution_count": 54,
     "metadata": {},
     "output_type": "execute_result"
    }
   ],
   "source": [
    "#prueba_listas['otros']=prueba_listas[prueba_listas.sum().loc[prueba_listas.sum()<3].index].sum(axis=1)\n",
    "prueba_listas[raros3].index].sum(axis=1)"
   ]
  },
  {
   "cell_type": "code",
   "execution_count": 33,
   "metadata": {},
   "outputs": [
    {
     "data": {
      "text/plain": [
       "array([ 0.        ,  0.        ,  0.        ,  0.        ,  0.        ,\n",
       "        0.        ,  0.        ,  0.        ,  0.        ,  0.        ,\n",
       "        0.        ,  0.        ,  0.        ,  0.        ,  0.        ,\n",
       "        0.        ,  0.        ,  0.        ,  0.        ,  0.        ,\n",
       "        0.        ,  0.        ,  0.        ,  0.        ,  0.        ,\n",
       "        0.        ,  0.        ,  0.        ,  0.        ,  0.        ,\n",
       "        0.        ,  0.        ,  0.        ,  0.        ,  0.        ,\n",
       "        0.        ,  0.        ,  0.        ,  0.        ,  0.        ,\n",
       "        0.        ,  0.        ,  0.        ,  0.6260965 ,  0.        ,\n",
       "        0.        ,  0.        ,  0.        ,  0.        ,  0.        ,\n",
       "        0.        ,  0.        ,  0.        ,  0.        ,  0.        ,\n",
       "        0.        ,  0.        ,  0.        ,  0.        ,  0.        ,\n",
       "        0.        ,  0.        ,  0.        ,  0.        ,  0.        ,\n",
       "        0.        ,  0.        ,  0.        ,  0.        ,  0.        ,\n",
       "        0.        ,  0.        ,  0.        ,  0.        ,  0.        ,\n",
       "        0.        ,  0.        ,  0.        ,  0.        ,  0.        ,\n",
       "        0.        ,  0.        ,  0.        ,  0.        ,  0.        ,\n",
       "        0.        ,  0.        ,  0.        ,  0.        ,  0.        ,\n",
       "        0.        ,  0.        ,  0.        ,  0.        ,  0.        ,\n",
       "        0.        ,  0.        ,  0.        ,  0.        ,  0.        ,\n",
       "        0.        ,  0.        ,  0.        ,  0.        ,  0.        ,\n",
       "        0.        ,  0.        ,  0.        ,  0.        ,  0.        ,\n",
       "        0.        ,  0.        ,  0.        ,  0.        ,  0.        ,\n",
       "        0.        ,  0.        ,  0.        ,  0.        ,  0.        ,\n",
       "        0.        ,  0.        ,  0.        ,  0.        ,  0.        ,\n",
       "        0.        ,  0.        ,  0.        ,  0.        ,  0.        ,\n",
       "        0.        ,  0.        ,  0.        ,  0.        ,  0.        ,\n",
       "        0.        ,  0.        ,  0.        ,  0.        ,  0.        ,\n",
       "        0.        ,  0.        ,  0.        ,  0.        ,  0.        ,\n",
       "        0.        ,  0.        ,  0.        ,  0.        ,  0.        ,\n",
       "        0.        ,  0.        ,  0.        ,  0.        ,  0.        ,\n",
       "        0.        ,  0.        ,  0.        ,  0.        ,  0.        ,\n",
       "        0.        ,  0.        ,  0.        ,  0.        ,  0.        ,\n",
       "        0.        ,  0.        ,  0.        ,  0.        ,  0.        ,\n",
       "        0.        ,  0.        ,  0.        ,  0.        ,  0.        ,\n",
       "        0.        ,  0.        ,  0.        ,  0.        ,  0.        ,\n",
       "        0.        ,  0.        ,  0.        ,  0.        ,  0.        ,\n",
       "        0.        ,  0.        ,  0.        ,  0.        ,  0.        ,\n",
       "        0.        ,  0.        ,  0.        ,  0.        ,  0.        ,\n",
       "        0.        ,  0.        ,  0.        ,  0.        ,  0.        ,\n",
       "        0.        ,  0.        ,  0.        ,  0.        ,  0.        ,\n",
       "        0.        ,  0.        ,  0.        ,  0.        ,  0.        ,\n",
       "        0.        ,  0.        ,  0.        ,  0.        ,  0.        ,\n",
       "        0.        ,  0.        ,  0.        ,  0.        ,  0.        ,\n",
       "        0.        ,  0.        ,  0.        ,  0.        ,  0.        ,\n",
       "        0.        ,  0.        ,  0.        ,  0.        ,  0.        ,\n",
       "        0.        ,  0.        ,  0.        ,  0.        ,  0.        ,\n",
       "        0.        ,  0.        ,  0.        ,  0.        ,  0.        ,\n",
       "        0.        ,  0.        ,  0.        ,  0.        ,  0.        ,\n",
       "        0.        ,  0.        ,  0.        ,  0.        ,  0.        ,\n",
       "        0.        ,  0.        ,  0.        ,  0.        ,  0.        ,\n",
       "        0.        ,  0.        ,  0.        ,  0.        ,  0.        ,\n",
       "        0.        ,  0.        ,  0.        ,  0.        ,  0.        ,\n",
       "        0.        ,  0.        ,  0.        ,  0.        ,  0.        ,\n",
       "        0.        ,  0.        ,  0.        ,  0.        ,  0.        ,\n",
       "        0.        ,  0.        ,  0.        ,  0.        ,  0.        ,\n",
       "        0.        ,  0.        ,  0.        ,  0.        ,  0.        ,\n",
       "        0.        ,  0.        ,  0.        ,  0.        ,  0.        ,\n",
       "        0.        ,  0.        ,  0.        ,  0.        ,  0.        ,\n",
       "        0.        ,  0.        ,  0.        ,  0.        ,  0.        ,\n",
       "        0.        ,  0.        ,  0.        ,  0.        ,  0.        ,\n",
       "        0.        ,  0.        ,  0.        ,  0.        ,  0.        ,\n",
       "        0.        ,  0.        ,  0.        ,  0.        ,  0.        ,\n",
       "        0.        ,  0.        ,  0.        ,  0.        ,  0.        ,\n",
       "        0.        ,  0.        ,  0.        ,  0.        ,  0.        ,\n",
       "        0.        ,  0.        ,  0.        ,  0.        ,  0.        ,\n",
       "        0.        ,  0.        ,  0.        ,  0.        ,  0.        ,\n",
       "        0.        ,  0.        ,  0.        ,  0.        ,  0.        ,\n",
       "        0.        ,  0.        ,  0.        ,  0.        ,  0.        ,\n",
       "        0.        ,  0.        ,  0.        ,  0.        ,  0.        ,\n",
       "        0.        ,  0.        ,  0.        ,  0.        ,  0.        ,\n",
       "        0.        ,  0.        ,  0.        ,  0.        ,  0.        ,\n",
       "        0.        ,  0.        ,  0.        ,  0.        ,  0.        ,\n",
       "        0.        ,  0.        ,  0.        ,  0.        ,  0.        ,\n",
       "        0.        ,  0.        ,  0.        ,  0.        ,  0.        ,\n",
       "        0.        ,  0.        ,  0.        ,  0.        ,  0.        ,\n",
       "        0.        ,  0.        ,  0.        ,  0.        ,  0.        ,\n",
       "        0.        ,  0.        ,  0.        ,  0.        ,  0.77974558,\n",
       "        0.        ,  0.        ,  0.        ,  0.        ,  0.        ,\n",
       "        0.        ,  0.        ,  0.        ,  0.        ,  0.        ,\n",
       "        0.        ,  0.        ,  0.        ,  0.        ,  0.        ,\n",
       "        0.        ,  0.        ,  0.        ,  0.        ,  0.        ,\n",
       "        0.        ,  0.        ,  0.        ,  0.        ,  0.        ,\n",
       "        0.        ,  0.        ,  0.        ,  0.        ,  0.        ,\n",
       "        0.        ,  0.        ,  0.        ,  0.        ,  0.        ,\n",
       "        0.        ,  0.        ,  0.        ,  0.        ,  0.        ,\n",
       "        0.        ,  0.        ,  0.        ,  0.        ,  0.        ,\n",
       "        0.        ,  0.        ,  0.        ,  0.        ,  0.        ,\n",
       "        0.        ,  0.        ,  0.        ,  0.        ,  0.        ,\n",
       "        0.        ,  0.        ,  0.        ,  0.        ,  0.        ,\n",
       "        0.        ,  0.        ,  0.        ,  0.        ,  0.        ,\n",
       "        0.        ,  0.        ,  0.        ,  0.        ,  0.        ,\n",
       "        0.        ,  0.        ,  0.        ,  0.        ,  0.        ,\n",
       "        0.        ,  0.        ,  0.        ,  0.        ,  0.        ,\n",
       "        0.        ,  0.        ,  0.        ,  0.        ,  0.        ,\n",
       "        0.        ,  0.        ,  0.        ,  0.        ,  0.        ,\n",
       "        0.        ,  0.        ,  0.        ,  0.        ,  0.        ,\n",
       "        0.        ,  0.        ,  0.        ,  0.        ,  0.        ,\n",
       "        0.        ,  0.        ,  0.        ,  0.        ,  0.        ,\n",
       "        0.        ,  0.        ,  0.        ,  0.        ,  0.        ,\n",
       "        0.        ,  0.        ,  0.        ,  0.        ,  0.        ,\n",
       "        0.        ,  0.        ,  0.        ,  0.        ,  0.        ,\n",
       "        0.        ,  0.        ,  0.        ,  0.        ,  0.        ,\n",
       "        0.        ,  0.        ,  0.        ,  0.        ,  0.        ,\n",
       "        0.        ,  0.        ,  0.        ,  0.        ,  0.        ,\n",
       "        0.        ,  0.        ,  0.        ,  0.        ,  0.        ,\n",
       "        0.        ,  0.        ,  0.        ,  0.        ,  0.        ,\n",
       "        0.        ,  0.        ,  0.        ,  0.        ,  0.        ])"
      ]
     },
     "execution_count": 33,
     "metadata": {},
     "output_type": "execute_result"
    }
   ],
   "source": [
    "features[1]"
   ]
  },
  {
   "cell_type": "code",
   "execution_count": null,
   "metadata": {
    "collapsed": true
   },
   "outputs": [],
   "source": []
  },
  {
   "cell_type": "code",
   "execution_count": 23,
   "metadata": {
    "collapsed": true
   },
   "outputs": [],
   "source": [
    "x_target=respuestas.categ_opi\n",
    "x_train=respuestas.uncaught_resp_9_text_mod"
   ]
  },
  {
   "cell_type": "code",
   "execution_count": 28,
   "metadata": {
    "collapsed": true
   },
   "outputs": [],
   "source": []
  },
  {
   "cell_type": "code",
   "execution_count": 29,
   "metadata": {
    "collapsed": true
   },
   "outputs": [],
   "source": [
    "totalvocab_stemmed = []\n",
    "totalvocab_tokenized = []\n",
    "lista_fin=list()\n",
    "for i in x_train:\n",
    "    allwords_stemmed = tokenize_and_stem(i) #for each item in 'synopses', tokenize/stem\n",
    "    totalvocab_stemmed.extend(allwords_stemmed) #extend the 'totalvocab_stemmed' list\n",
    "    allwords_tokenized = tokenize_only(i)\n",
    "    totalvocab_tokenized.extend(allwords_tokenized)"
   ]
  },
  {
   "cell_type": "code",
   "execution_count": 63,
   "metadata": {},
   "outputs": [
    {
     "data": {
      "text/plain": [
       "(993, 540)"
      ]
     },
     "execution_count": 63,
     "metadata": {},
     "output_type": "execute_result"
    }
   ],
   "source": []
  },
  {
   "cell_type": "code",
   "execution_count": 64,
   "metadata": {},
   "outputs": [
    {
     "name": "stdout",
     "output_type": "stream",
     "text": [
      "# '1':\n",
      "  . Most correlated unigrams:\n",
      ". sangre\n",
      ". cirugia\n",
      ". urgente\n",
      ". normal\n",
      ". bebe\n",
      "  . Most correlated bigrams:\n",
      ". seguro popular\n",
      ". podrian decir\n",
      ". hospital general\n",
      ". puedo hacer\n",
      ". espero respuesta\n",
      "# '2':\n",
      "  . Most correlated unigrams:\n",
      ". via\n",
      ". registro\n",
      ". saben\n",
      ". pido\n",
      ". mensajes\n",
      "  . Most correlated bigrams:\n",
      ". seguro popular\n",
      ". gustaria saber\n",
      ". vacuna hepatitis\n",
      ". quisiera saber\n",
      ". secretaria salud\n",
      "# '3':\n",
      "  . Most correlated unigrams:\n",
      ". llama\n",
      ". hijos\n",
      ". ami\n",
      ". nacio\n",
      ". bebe\n",
      "  . Most correlated bigrams:\n",
      ". seguro popular\n",
      ". gustaria saber\n",
      ". vacuna hepatitis\n",
      ". quisiera saber\n",
      ". secretaria salud\n",
      "# '4':\n",
      "  . Most correlated unigrams:\n",
      ". darme\n",
      ". voy\n",
      ". excelente\n",
      ". mujer\n",
      ". alta\n",
      "  . Most correlated bigrams:\n",
      ". seguro popular\n",
      ". gustaria saber\n",
      ". vacuna hepatitis\n",
      ". quisiera saber\n",
      ". secretaria salud\n",
      "# '5':\n",
      "  . Most correlated unigrams:\n",
      ". vacunacion\n",
      ". vacunas\n",
      ". saber\n",
      ". vacuna\n",
      ". hepatitis\n",
      "  . Most correlated bigrams:\n",
      ". bolsa trabajo\n",
      ". seguro popular\n",
      ". puedo conseguir\n",
      ". quisiera saber\n",
      ". vacuna hepatitis\n",
      "# '6':\n",
      "  . Most correlated unigrams:\n",
      ". what\n",
      ". marca\n",
      ". sms\n",
      ". is\n",
      ". mensaje\n",
      "  . Most correlated bigrams:\n",
      ". informacion antibioticos\n",
      ". jugos yogures\n",
      ". hecho analisis\n",
      ". leches hecho\n",
      ". salud informa\n",
      "# '7':\n",
      "  . Most correlated unigrams:\n",
      ". enfermera\n",
      ". enfermeria\n",
      ". curriculum\n",
      ". trabajo\n",
      ". bolsa\n",
      "  . Most correlated bigrams:\n",
      ". secretaria salud\n",
      ". puedo acudir\n",
      ". dar informacion\n",
      ". correo electronico\n",
      ". bolsa trabajo\n",
      "# '8':\n",
      "  . Most correlated unigrams:\n",
      ". casa\n",
      ". queja\n",
      ". calle\n",
      ". denuncia\n",
      ". reportar\n",
      "  . Most correlated bigrams:\n",
      ". dos meses\n",
      ". vacuna hepatitis\n",
      ". dia hoy\n",
      ". quiero reportar\n",
      ". puedo reportar\n"
     ]
    }
   ],
   "source": [
    "from sklearn.feature_selection import chi2\n",
    "\n",
    "N = 5\n",
    "for category_id in sorted(respuestas.categ_opi.unique()):\n",
    "  features_chi2 = chi2(features, labels == category_id)\n",
    "  indices = np.argsort(features_chi2[0])\n",
    "  feature_names = np.array(tfidf.get_feature_names())[indices]\n",
    "  unigrams = [v for v in feature_names if len(v.split(' ')) == 1]\n",
    "  bigrams = [v for v in feature_names if len(v.split(' ')) == 2]\n",
    "  print(\"# '{}':\".format(category_id))\n",
    "  print(\"  . Most correlated unigrams:\\n. {}\".format('\\n. '.join(unigrams[-N:])))\n",
    "  print(\"  . Most correlated bigrams:\\n. {}\".format('\\n. '.join(bigrams[-N:])))"
   ]
  },
  {
   "cell_type": "code",
   "execution_count": 100,
   "metadata": {
    "collapsed": true
   },
   "outputs": [],
   "source": [
    "from sklearn.decomposition import TruncatedSVD\n",
    "\n",
    "pca = TruncatedSVD(n_components = 20)\n",
    "Xall = pca.fit_transform(features)\n",
    "\n",
    "Xall=pd.DataFrame(Xall)"
   ]
  },
  {
   "cell_type": "code",
   "execution_count": 104,
   "metadata": {
    "collapsed": true
   },
   "outputs": [],
   "source": [
    "pd.concat([Xall, respuestas[['uncaught_resp_9_text', 'uncaught_resp_9_text_wc',\n",
    "                            'listas', 'es', 'uncaught_resp_9_interrogacion', 'categ_opi']]], axis=1).to_csv('./datos/exploracion')"
   ]
  },
  {
   "cell_type": "code",
   "execution_count": 65,
   "metadata": {
    "collapsed": true
   },
   "outputs": [],
   "source": [
    "from sklearn.naive_bayes import MultinomialNB\n",
    "clf = MultinomialNB().fit(features, x_target)\n",
    "\n"
   ]
  },
  {
   "cell_type": "code",
   "execution_count": 66,
   "metadata": {
    "collapsed": true
   },
   "outputs": [],
   "source": [
    "test=respuestas.uncaught_resp_9_text_mod"
   ]
  },
  {
   "cell_type": "code",
   "execution_count": 67,
   "metadata": {
    "collapsed": true
   },
   "outputs": [],
   "source": [
    "tfidf_matrix_test = tfidf.transform(test)\n",
    "\n"
   ]
  },
  {
   "cell_type": "code",
   "execution_count": 82,
   "metadata": {},
   "outputs": [
    {
     "name": "stdout",
     "output_type": "stream",
     "text": [
      "[5]\n"
     ]
    }
   ],
   "source": [
    "print(clf.predict(tfidf.transform(['mi bebe ya nacio se llama sebastiana'])))"
   ]
  },
  {
   "cell_type": "code",
   "execution_count": 68,
   "metadata": {},
   "outputs": [
    {
     "data": {
      "text/plain": [
       "5    823\n",
       "6     85\n",
       "8     71\n",
       "7     14\n",
       "Name: 0, dtype: int64"
      ]
     },
     "execution_count": 68,
     "metadata": {},
     "output_type": "execute_result"
    }
   ],
   "source": [
    "pd.DataFrame(clf.predict(features))[0].value_counts()\n",
    "\n"
   ]
  },
  {
   "cell_type": "code",
   "execution_count": 69,
   "metadata": {},
   "outputs": [
    {
     "data": {
      "text/plain": [
       "109     soy de cd juarezsoy nutriologa y megustaria a...\n",
       "113                                     bolsa de trabajo\n",
       "130    una pregunta para ver la bolsa de trabajo que ...\n",
       "185      quisiera saber si hay alguna bolsa de trabaj...\n",
       "193     que tal estara abierta la bolsa de trabajo en...\n",
       "204      me podria decir si esta habierta la bolsa de...\n",
       "276     tienen vacantes de enfermeria para mexicali o...\n",
       "398    buena tarde licenciad es un gusto poder saluda...\n",
       "440        tienen abierta bolsa de trabajo soy enfermero\n",
       "451     para informacion de bolsa de trabajo para enf...\n",
       "517      mi nombre es leticia martinez hernandez soy ...\n",
       "639     esta abierta la bolsa de trabajo para enfermeria\n",
       "715    secretaria de gobierno de cd de mexicopresente...\n",
       "930             hay bolsa de trabajo abierta en cdjuarez\n",
       "Name: uncaught_resp_9_text_mod, dtype: object"
      ]
     },
     "execution_count": 69,
     "metadata": {},
     "output_type": "execute_result"
    }
   ],
   "source": [
    "test.loc[clf.predict(features)==7]"
   ]
  },
  {
   "cell_type": "code",
   "execution_count": 310,
   "metadata": {
    "collapsed": true
   },
   "outputs": [],
   "source": [
    "terms = tfidf_vectorizer.get_feature_names()"
   ]
  }
 ],
 "metadata": {
  "kernelspec": {
   "display_name": "Python 3",
   "language": "python",
   "name": "python3"
  },
  "language_info": {
   "codemirror_mode": {
    "name": "ipython",
    "version": 3
   },
   "file_extension": ".py",
   "mimetype": "text/x-python",
   "name": "python",
   "nbconvert_exporter": "python",
   "pygments_lexer": "ipython3",
   "version": "3.6.3"
  }
 },
 "nbformat": 4,
 "nbformat_minor": 2
}
